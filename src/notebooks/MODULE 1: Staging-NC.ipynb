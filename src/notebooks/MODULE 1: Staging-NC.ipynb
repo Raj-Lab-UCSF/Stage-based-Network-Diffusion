{
 "cells": [
  {
   "cell_type": "markdown",
   "id": "278a25e2",
   "metadata": {},
   "source": [
    "It seems was have both patients (Diagnosis = 1) and controls (Diagnosis = 0) in this dataset. Let's quickly look how many we have of each"
   ]
  },
  {
   "cell_type": "code",
   "execution_count": 2,
   "id": "1f4fd780-36a5-4148-8f8c-a832a73ad641",
   "metadata": {},
   "outputs": [
    {
     "name": "stderr",
     "output_type": "stream",
     "text": [
      "/Users/robinsandell/Desktop/Raj Lab/EBM + Nexis/CODE EBM + Nexis/.venv/lib/python3.9/site-packages/tqdm/auto.py:21: TqdmWarning: IProgress not found. Please update jupyter and ipywidgets. See https://ipywidgets.readthedocs.io/en/stable/user_install.html\n",
      "  from .autonotebook import tqdm as notebook_tqdm\n"
     ]
    }
   ],
   "source": [
    "# Load libraries\n",
    "\n",
    "import os\n",
    "import pandas\n",
    "import numpy as np\n",
    "import matplotlib.pyplot as plt\n",
    "import seaborn as sns\n",
    "import pySuStaIn\n",
    "import statsmodels.formula.api as smf\n",
    "from scipy import stats\n",
    "import sklearn.model_selection\n",
    "from scipy.interpolate import interp1d\n",
    "import os\n",
    "import shutil\n",
    "from sklearn.linear_model import LinearRegression"
   ]
  },
  {
   "cell_type": "markdown",
   "id": "21906848",
   "metadata": {},
   "source": [
    "## Settings"
   ]
  },
  {
   "cell_type": "code",
   "execution_count": 112,
   "id": "a1f24685",
   "metadata": {},
   "outputs": [],
   "source": [
    "# Define biomarkers to input to staging module (make sure they correspond to column titles in the csv)\n",
    "selected_biomarkers = ['ADAS11','HIPPOCAMPUS_VOLUME','META_TEMPORAL_SUVR']"
   ]
  },
  {
   "cell_type": "code",
   "execution_count": 167,
   "id": "be8e6d0a",
   "metadata": {},
   "outputs": [],
   "source": [
    "# Define functions (later move to separate script) and color palettes (later move to plotting function script)\n",
    "\n",
    "#  Age regression\n",
    "def age_regression(biomarker_data, age_data):\n",
    "\n",
    "    # Reshape age data for sklearn\n",
    "    X = age_data.values.reshape(-1, 1)\n",
    "    \n",
    "    # Initialize model\n",
    "    model = LinearRegression()\n",
    "    \n",
    "    # Container for residuals\n",
    "    residuals_dict = {}\n",
    "    \n",
    "    # Perform regression for each biomarker\n",
    "    for col in biomarker_data.columns:\n",
    "        # Get target values, dropping NaN\n",
    "        y = biomarker_data[col]\n",
    "        mask = ~(y.isna() | age_data.isna())\n",
    "        \n",
    "        if mask.sum() > 0:  # Only perform regression if we have valid data\n",
    "            # Fit model\n",
    "            model.fit(X[mask], y[mask])\n",
    "            \n",
    "            # Predict for all points\n",
    "            y_pred = pandas.Series(index=y.index, data=np.nan)\n",
    "            y_pred[mask] = model.predict(X[mask])\n",
    "            \n",
    "            # Calculate residuals\n",
    "            residuals_dict[col] = y - y_pred\n",
    "        else:\n",
    "            residuals_dict[col] = pandas.Series(np.nan, index=y.index)\n",
    "    \n",
    "    # Create DataFrame with residuals\n",
    "    biomarker_data_residuals = pandas.DataFrame(residuals_dict)\n",
    "    \n",
    "    return biomarker_data_residuals\n",
    "\n",
    "# Z-scoring\n",
    "def z_scoring(biomarker_data, diagnosis_data):\n",
    "\n",
    "    biomarker_data['DIAGNOSIS'] = diagnosis_data\n",
    "    \n",
    "    # extract data for control subjects\n",
    "    biomarker_data_control = biomarker_data[biomarker_data['DIAGNOSIS'] == 'CN']\n",
    "\n",
    "    for col in [col for col in biomarker_data.columns if col != 'DIAGNOSIS']:        \n",
    "        # compute the mean and standard deviation of the control population\n",
    "        mean_control = biomarker_data_control[[col]].mean()\n",
    "        std_control = biomarker_data_control[[col]].std()\n",
    "\n",
    "        # z-score the data\n",
    "        biomarker_data[[col]] = (biomarker_data[[col]]-mean_control)/std_control\n",
    "\n",
    "    biomarker_data = biomarker_data.drop('DIAGNOSIS', axis=1)\n",
    "    return biomarker_data\n",
    "\n",
    "# For diagnoses \n",
    "diagnosis_palette = {\n",
    "    'AD': '#145A32',  # Deep evergreen\n",
    "    'MCI': '#9ACD32',       # Yellow-green\n",
    "    'CN': '#FFFACD'}        # Light yellow/cream"
   ]
  },
  {
   "cell_type": "markdown",
   "id": "fa2b748e",
   "metadata": {},
   "source": [
    "## Pre-Processing Data"
   ]
  },
  {
   "cell_type": "code",
   "execution_count": 168,
   "id": "43b99793-ef1a-4deb-854d-31d3bb774cfd",
   "metadata": {},
   "outputs": [],
   "source": [
    "# Load data\n",
    "data = pandas.read_csv('/Users/robinsandell/Desktop/Raj Lab/EBM + Nexis/CODE EBM + Nexis/sustaln/SuStaIn/raw data/ADNI4/Tau_ADAS_paired_withAgeDX.csv')\n",
    "data = data.drop(columns=['Unnamed: 0'])"
   ]
  },
  {
   "cell_type": "code",
   "execution_count": 175,
   "id": "8fdf6bef",
   "metadata": {},
   "outputs": [],
   "source": [
    "# Identify biomarker data from meta data\n",
    "meta_data = data.iloc[:, :30] # MAKE SURE YOU ARE USING THE RIGHT INDEX\n",
    "biomarker_data = data.iloc[:, 30:] \n",
    "\n",
    "# First, perform age regression\n",
    "age_data = meta_data['AGE_AT_SCAN']\n",
    "biomarker_data_age_regressed = age_regression(biomarker_data, age_data)\n",
    "\n",
    "# For the tau data, correct by cerebellum tau \n",
    "tau_columns = biomarker_data_age_regressed.columns.str.contains('SUVR')\n",
    "tau_data = biomarker_data_age_regressed.loc[:, tau_columns]\n",
    "tau_data = tau_data.div(tau_data['CEREBELLUM_CORTEX_SUVR'], axis=0)\n",
    "# Put the normalized tau data back into biomarker_data_age_regressed\n",
    "biomarker_data_age_regressed.loc[:, tau_columns] = tau_data\n",
    "\n",
    "# Now do z-scoring \n",
    "diagnosis_data = meta_data['DIAGNOSIS']\n",
    "biomarker_data_z_scored = z_scoring(biomarker_data_age_regressed, diagnosis_data)\n",
    "\n",
    "# For regional volume data, take the negative\n",
    "regional_volume_data = biomarker_data_z_scored.loc[:, biomarker_data_z_scored.columns.str.contains('VOLUME')]\n",
    "regional_volume_data = -1 * regional_volume_data\n",
    "\n",
    "# Grab cognitive score data\n",
    "cognitive_score_data = biomarker_data_z_scored.loc[:, biomarker_data_z_scored.columns.str.contains('ADAS')]\n",
    "\n",
    "# Combine all data\n",
    "combined_data = pandas.concat([meta_data, biomarker_data_z_scored], axis=1)\n",
    "\n",
    "# Take only data for the selected biomarkers\n",
    "processed_data = combined_data[list(meta_data.columns) + list(selected_biomarkers)]"
   ]
  },
  {
   "cell_type": "code",
   "execution_count": null,
   "id": "c0322033",
   "metadata": {},
   "outputs": [],
   "source": [
    "processed_data"
   ]
  },
  {
   "cell_type": "markdown",
   "id": "297b1971-b6ad-4bc8-9500-9197c30cea0b",
   "metadata": {},
   "source": [
    "## Visualize Biomarker Inputs"
   ]
  },
  {
   "cell_type": "code",
   "execution_count": 172,
   "id": "b89dca92-8581-487a-95ce-3451bd97f877",
   "metadata": {},
   "outputs": [
    {
     "name": "stderr",
     "output_type": "stream",
     "text": [
      "/var/folders/s8/x9wmskq97fv12b1hfqdfvybh0000gn/T/ipykernel_59504/3336109719.py:11: UserWarning: No artists with labels found to put in legend.  Note that artists whose label start with an underscore are ignored when legend() is called with no argument.\n",
      "  plt.legend(title='Diagnosis')\n"
     ]
    },
    {
     "data": {
      "image/png": "[encoded data removed]",
      "text/plain": [
       "<Figure size 640x480 with 1 Axes>"
      ]
     },
     "metadata": {},
     "output_type": "display_data"
    },
    {
     "name": "stderr",
     "output_type": "stream",
     "text": [
      "/var/folders/s8/x9wmskq97fv12b1hfqdfvybh0000gn/T/ipykernel_59504/3336109719.py:11: UserWarning: No artists with labels found to put in legend.  Note that artists whose label start with an underscore are ignored when legend() is called with no argument.\n",
      "  plt.legend(title='Diagnosis')\n"
     ]
    },
    {
     "data": {
      "image/png": "[encoded data removed]",
      "text/plain": [
       "<Figure size 640x480 with 1 Axes>"
      ]
     },
     "metadata": {},
     "output_type": "display_data"
    },
    {
     "name": "stderr",
     "output_type": "stream",
     "text": [
      "/var/folders/s8/x9wmskq97fv12b1hfqdfvybh0000gn/T/ipykernel_59504/3336109719.py:11: UserWarning: No artists with labels found to put in legend.  Note that artists whose label start with an underscore are ignored when legend() is called with no argument.\n",
      "  plt.legend(title='Diagnosis')\n"
     ]
    },
    {
     "data": {
      "image/png": "[encoded data removed]",
      "text/plain": [
       "<Figure size 640x480 with 1 Axes>"
      ]
     },
     "metadata": {},
     "output_type": "display_data"
    }
   ],
   "source": [
    "# Plot biomarker histograms check their distributions\n",
    "\n",
    "for biomarker in selected_biomarkers:\n",
    "    plt.figure()  # Creates a new figure for each plot\n",
    "    sns.histplot(data=processed_data, x=biomarker, hue='DIAGNOSIS', bins=30, \n",
    "                multiple='stack', palette=diagnosis_palette)\n",
    "    plt.title(f'Stacked Histogram for {biomarker}')\n",
    "    plt.xlabel(f'{biomarker} Value')\n",
    "    plt.ylabel('Count')\n",
    "    plt.xlim(-6, 6)\n",
    "    plt.legend(title='Diagnosis')\n",
    "    plt.show()"
   ]
  },
  {
   "cell_type": "code",
   "execution_count": 107,
   "id": "ce0138c3",
   "metadata": {},
   "outputs": [
    {
     "data": {
      "image/png": "[encoded data removed]",
      "text/plain": [
       "<Figure size 588.611x500 with 1 Axes>"
      ]
     },
     "metadata": {},
     "output_type": "display_data"
    }
   ],
   "source": [
    "# First a quick look at the patient and control distribution for one of our biomarkers\n",
    "\n",
    "# make a copy of our dataframe (we don't want to overwrite our original data)\n",
    "zdata = pandas.DataFrame(processed_data,copy=True)\n",
    "\n",
    "biomarker = selected_biomarkers[0]\n",
    "sns.displot(data=zdata,x=biomarker,hue='DIAGNOSIS',kind='kde',palette=diagnosis_palette)\n",
    "plt.title(biomarker)\n",
    "plt.axvline(0,ls='--',c='black') # the 0 line *should* be the mean of the control distribution\n",
    "plt.show()"
   ]
  },
  {
   "cell_type": "markdown",
   "id": "fa2a8a32",
   "metadata": {},
   "source": [
    "# Prepare SuStaIn inputs"
   ]
  },
  {
   "cell_type": "code",
   "execution_count": 116,
   "id": "f2d80c48",
   "metadata": {},
   "outputs": [],
   "source": [
    "N = len(selected_biomarkers) # Number of biomarkers\n",
    "\n",
    "SuStaInLabels = selected_biomarkers\n",
    "\n",
    "Z_vals = np.array([[1,2,3] for _ in range(N)])     # Z-scores for each biomarker \n",
    "Z_max = np.array([5] * N)  # maximum z-score - set to 5 for each biomarker"
   ]
  },
  {
   "cell_type": "code",
   "execution_count": 140,
   "id": "b54d7634",
   "metadata": {},
   "outputs": [
    {
     "name": "stdout",
     "output_type": "stream",
     "text": [
      "Number of missing values per biomarker:\n",
      "ADAS11                0\n",
      "HIPPOCAMPUS_VOLUME    0\n",
      "META_TEMPORAL_SUVR    0\n",
      "dtype: int64\n",
      "\n",
      "Shape after removing missing values: (1486, 33)\n",
      "Data ranges:\n",
      "            ADAS11  HIPPOCAMPUS_VOLUME  META_TEMPORAL_SUVR\n",
      "count  1486.000000         1486.000000         1486.000000\n",
      "mean      1.198340            0.378699            6.022607\n",
      "std       2.412804            1.270982          195.944558\n",
      "min      -2.169489           -4.954199        -2147.652116\n",
      "25%      -0.380983           -0.416184           -0.653656\n",
      "50%       0.507046            0.282357            0.294934\n",
      "75%       2.038114            1.156795            1.534672\n",
      "max      18.059758            6.541805         4214.755972\n"
     ]
    }
   ],
   "source": [
    "# Prepare data for input to SuStaIn\n",
    "\n",
    "# # First, let's see how many missing values we have in each biomarker\n",
    "print(\"Number of missing values per biomarker:\")\n",
    "print(zdata[list(selected_biomarkers)].isnull().sum())\n",
    "\n",
    "# Remove rows with any missing values in our biomarkers of interest\n",
    "zdata = zdata.dropna(subset=list(selected_biomarkers))\n",
    "\n",
    "print(\"\\nShape after removing missing values:\", zdata.shape)\n",
    "\n",
    "# 1. First clean the data\n",
    "zdata_clean = zdata.dropna(subset=list(selected_biomarkers))\n",
    "\n",
    "# 2. Check the range of values\n",
    "print(\"Data ranges:\")\n",
    "print(zdata_clean[list(selected_biomarkers)].describe())\n",
    "\n",
    "# 3. Normalize the data to a reasonable range (e.g., z-scores)\n",
    "\n",
    "# Create normalized version of the data\n",
    "normalized_data = zdata_clean.copy()\n",
    "for col in selected_biomarkers:\n",
    "    normalized_data[col] = stats.zscore(zdata_clean[col])\n",
    "\n",
    "# Add a small epsilon to prevent zeros\n",
    "epsilon = 1e-10\n",
    "normalized_data[list(selected_biomarkers)] = normalized_data[list(selected_biomarkers)].clip(lower=epsilon)"
   ]
  },
  {
   "cell_type": "code",
   "execution_count": 141,
   "id": "48653367",
   "metadata": {},
   "outputs": [],
   "source": [
    "# Input the settings for SuStaIn (the subtyping and staging algorithm)\n",
    "N_startpoints = 25 # Recomended: 25\n",
    "N_S_max = 1 # Number of subtypes\n",
    "N_iterations_MCMC = int(1e4) # To start use int(1e4), increase this to 1e5 or 1e6\n",
    "output_folder = os.path.join(os.getcwd(), 'WorkshopOutput')\n",
    "dataset_name = 'WorkshopOutput'\n",
    "\n",
    "# Initiate the SuStaIn object\n",
    "sustain_input = pySuStaIn.ZscoreSustain(\n",
    "                              normalized_data[selected_biomarkers].values,\n",
    "                              Z_vals,\n",
    "                              Z_max,\n",
    "                              SuStaInLabels,\n",
    "                              N_startpoints,\n",
    "                              N_S_max, \n",
    "                              N_iterations_MCMC, \n",
    "                              output_folder, \n",
    "                              dataset_name, \n",
    "                              False)"
   ]
  },
  {
   "cell_type": "markdown",
   "id": "28dc4a46",
   "metadata": {},
   "source": [
    "# Run SuStaIn!"
   ]
  },
  {
   "cell_type": "code",
   "execution_count": 142,
   "id": "c98677d6-38ad-4939-b3e3-d2d2fcdae00b",
   "metadata": {},
   "outputs": [],
   "source": [
    "# Delete pickle file (SAVE ANY SIGNIFICANT RESULTS FIRST!)\n",
    "if os.path.exists(output_folder):\n",
    "    shutil.rmtree(output_folder)"
   ]
  },
  {
   "cell_type": "code",
   "execution_count": 143,
   "id": "92f5252e",
   "metadata": {},
   "outputs": [],
   "source": [
    "# make the output directory if it's not already created\n",
    "if not os.path.isdir(output_folder):\n",
    "    os.mkdir(output_folder)"
   ]
  },
  {
   "cell_type": "code",
   "execution_count": 144,
   "id": "99704057",
   "metadata": {},
   "outputs": [
    {
     "name": "stdout",
     "output_type": "stream",
     "text": [
      "Failed to find pickle file: /Users/robinsandell/Desktop/Raj Lab/EBM + Nexis/CODE EBM + Nexis/sustaln/SuStaIn/notebooks/WorkshopOutput/pickle_files/WorkshopOutput_subtype0.pickle. Running SuStaIn model for 0 subtype.\n",
      "Finding ML solution to 1 cluster problem\n",
      "Overall ML likelihood is -7307.435664753967\n"
     ]
    },
    {
     "name": "stderr",
     "output_type": "stream",
     "text": [
      "MCMC Iteration: 100%|██████████| 10000/10000 [00:03<00:00, 2915.36it/s]\n",
      "MCMC Iteration: 100%|██████████| 10000/10000 [00:03<00:00, 3039.34it/s]\n",
      "MCMC Iteration: 100%|██████████| 10000/10000 [00:03<00:00, 2915.20it/s]\n",
      "MCMC Iteration: 100%|██████████| 10000/10000 [00:03<00:00, 2897.88it/s]\n"
     ]
    }
   ],
   "source": [
    "samples_sequence,   \\\n",
    "samples_f,          \\\n",
    "ml_subtype,         \\\n",
    "prob_ml_subtype,    \\\n",
    "ml_stage,           \\\n",
    "prob_ml_stage,      \\\n",
    "prob_subtype_stage  = sustain_input.run_sustain_algorithm()"
   ]
  },
  {
   "cell_type": "code",
   "execution_count": 145,
   "id": "b14a7db0-2b4e-4edd-90e9-3b901649f1eb",
   "metadata": {},
   "outputs": [],
   "source": [
    "# Get model output from pickle file\n",
    "s = N_S_max - 1 # Which subtype\n",
    "pickle_filename_s = output_folder + '/pickle_files/' + dataset_name + '_subtype' + str(s) + '.pickle'\n",
    "pk = pandas.read_pickle(pickle_filename_s)"
   ]
  },
  {
   "cell_type": "markdown",
   "id": "97c49f92-0718-43b8-9f34-fdc6a0609308",
   "metadata": {},
   "source": [
    "# Assess likelihood across MCMC samples\n",
    "Use to assess the selections of z_vals for each biomarker. Use whichever combination of z_vals maximizes likelihood."
   ]
  },
  {
   "cell_type": "code",
   "execution_count": 146,
   "id": "81c6334f-f33c-4e49-82c1-3ceedc3e3eca",
   "metadata": {},
   "outputs": [
    {
     "data": {
      "image/png": "[encoded data removed]",
      "text/plain": [
       "<Figure size 640x480 with 1 Axes>"
      ]
     },
     "metadata": {},
     "output_type": "display_data"
    },
    {
     "data": {
      "image/png": "[encoded data removed]",
      "text/plain": [
       "<Figure size 640x480 with 1 Axes>"
      ]
     },
     "metadata": {},
     "output_type": "display_data"
    }
   ],
   "source": [
    "for s in range(N_S_max):\n",
    "    # load pickle file (SuStaIn output) and get the sample log likelihood values\n",
    "    pickle_filename_s = output_folder + '/pickle_files/' + dataset_name + '_subtype' + str(s) + '.pickle'\n",
    "    pk = pandas.read_pickle(pickle_filename_s)\n",
    "    samples_likelihood = pk[\"samples_likelihood\"]\n",
    "    \n",
    "    # plot the values as a line plot\n",
    "    plt.figure(0)\n",
    "    plt.plot(range(N_iterations_MCMC), samples_likelihood, label=\"subtype\" + str(s))\n",
    "    #plt.legend(loc='upper right')\n",
    "    plt.xlabel('MCMC samples')\n",
    "    plt.ylabel('Log likelihood')\n",
    "    plt.title('MCMC trace')\n",
    "    \n",
    "    # plot the values as a histogramp plot\n",
    "    plt.figure(1)\n",
    "    plt.hist(samples_likelihood, label=\"subtype\" + str(s))\n",
    "    #plt.legend(loc='upper right')\n",
    "    plt.xlabel('Log likelihood')  \n",
    "    plt.ylabel('Number of samples')  \n",
    "    plt.title('Histograms of model likelihood')"
   ]
  },
  {
   "cell_type": "markdown",
   "id": "0a5bc343",
   "metadata": {},
   "source": [
    "# Stage individuals"
   ]
  },
  {
   "cell_type": "code",
   "execution_count": 147,
   "id": "3f97ab64",
   "metadata": {},
   "outputs": [
    {
     "data": {
      "text/html": [
       "<div>\n",
       "<style scoped>\n",
       "    .dataframe tbody tr th:only-of-type {\n",
       "        vertical-align: middle;\n",
       "    }\n",
       "\n",
       "    .dataframe tbody tr th {\n",
       "        vertical-align: top;\n",
       "    }\n",
       "\n",
       "    .dataframe thead th {\n",
       "        text-align: right;\n",
       "    }\n",
       "</style>\n",
       "<table border=\"1\" class=\"dataframe\">\n",
       "  <thead>\n",
       "    <tr style=\"text-align: right;\">\n",
       "      <th></th>\n",
       "      <th>LONIUID</th>\n",
       "      <th>RID</th>\n",
       "      <th>VISCODE_x</th>\n",
       "      <th>SCANDATE</th>\n",
       "      <th>PROCESSDATE</th>\n",
       "      <th>IMAGE_RESOLUTION</th>\n",
       "      <th>qc_flag</th>\n",
       "      <th>TRACER</th>\n",
       "      <th>TRACER_SUVR_WARNING</th>\n",
       "      <th>update_stamp</th>\n",
       "      <th>...</th>\n",
       "      <th>PTETHCAT</th>\n",
       "      <th>PTRACCAT</th>\n",
       "      <th>AGE_AT_SCAN</th>\n",
       "      <th>ADAS11</th>\n",
       "      <th>HIPPOCAMPUS_VOLUME</th>\n",
       "      <th>META_TEMPORAL_SUVR</th>\n",
       "      <th>ml_subtype</th>\n",
       "      <th>prob_ml_subtype</th>\n",
       "      <th>ml_stage</th>\n",
       "      <th>prob_ml_stage</th>\n",
       "    </tr>\n",
       "  </thead>\n",
       "  <tbody>\n",
       "    <tr>\n",
       "      <th>0</th>\n",
       "      <td>I1594604</td>\n",
       "      <td>21</td>\n",
       "      <td>init</td>\n",
       "      <td>2018-02-02</td>\n",
       "      <td>2022-09-02</td>\n",
       "      <td>6mm</td>\n",
       "      <td>2</td>\n",
       "      <td>FTP</td>\n",
       "      <td>DO NOT COMPARE SUVRs ACROSS TRACERS</td>\n",
       "      <td>2024-04-03 12:57:55.0</td>\n",
       "      <td>...</td>\n",
       "      <td>2.0</td>\n",
       "      <td>4</td>\n",
       "      <td>85.002053</td>\n",
       "      <td>-0.158089</td>\n",
       "      <td>-0.333452</td>\n",
       "      <td>1.215956</td>\n",
       "      <td>0.0</td>\n",
       "      <td>1.0</td>\n",
       "      <td>0.0</td>\n",
       "      <td>0.603624</td>\n",
       "    </tr>\n",
       "    <tr>\n",
       "      <th>1</th>\n",
       "      <td>I1596177</td>\n",
       "      <td>31</td>\n",
       "      <td>init</td>\n",
       "      <td>2018-04-24</td>\n",
       "      <td>2022-09-02</td>\n",
       "      <td>6mm</td>\n",
       "      <td>2</td>\n",
       "      <td>FTP</td>\n",
       "      <td>DO NOT COMPARE SUVRs ACROSS TRACERS</td>\n",
       "      <td>2024-04-03 12:57:55.0</td>\n",
       "      <td>...</td>\n",
       "      <td>2.0</td>\n",
       "      <td>5</td>\n",
       "      <td>90.310746</td>\n",
       "      <td>-1.594868</td>\n",
       "      <td>0.677056</td>\n",
       "      <td>-0.239392</td>\n",
       "      <td>0.0</td>\n",
       "      <td>1.0</td>\n",
       "      <td>0.0</td>\n",
       "      <td>0.568582</td>\n",
       "    </tr>\n",
       "    <tr>\n",
       "      <th>2</th>\n",
       "      <td>I1596172</td>\n",
       "      <td>31</td>\n",
       "      <td>y1</td>\n",
       "      <td>2019-04-23</td>\n",
       "      <td>2022-09-02</td>\n",
       "      <td>6mm</td>\n",
       "      <td>2</td>\n",
       "      <td>FTP</td>\n",
       "      <td>DO NOT COMPARE SUVRs ACROSS TRACERS</td>\n",
       "      <td>2024-04-03 12:57:55.0</td>\n",
       "      <td>...</td>\n",
       "      <td>2.0</td>\n",
       "      <td>5</td>\n",
       "      <td>91.307324</td>\n",
       "      <td>-1.639684</td>\n",
       "      <td>0.896525</td>\n",
       "      <td>-0.876995</td>\n",
       "      <td>0.0</td>\n",
       "      <td>1.0</td>\n",
       "      <td>0.0</td>\n",
       "      <td>0.542287</td>\n",
       "    </tr>\n",
       "    <tr>\n",
       "      <th>3</th>\n",
       "      <td>I1598898</td>\n",
       "      <td>56</td>\n",
       "      <td>init</td>\n",
       "      <td>2018-02-20</td>\n",
       "      <td>2022-09-02</td>\n",
       "      <td>6mm</td>\n",
       "      <td>2</td>\n",
       "      <td>FTP</td>\n",
       "      <td>DO NOT COMPARE SUVRs ACROSS TRACERS</td>\n",
       "      <td>2024-04-03 12:57:55.0</td>\n",
       "      <td>...</td>\n",
       "      <td>2.0</td>\n",
       "      <td>4</td>\n",
       "      <td>81.973990</td>\n",
       "      <td>-1.579745</td>\n",
       "      <td>0.257640</td>\n",
       "      <td>0.965635</td>\n",
       "      <td>0.0</td>\n",
       "      <td>1.0</td>\n",
       "      <td>0.0</td>\n",
       "      <td>0.603624</td>\n",
       "    </tr>\n",
       "    <tr>\n",
       "      <th>4</th>\n",
       "      <td>I1598985</td>\n",
       "      <td>56</td>\n",
       "      <td>y1</td>\n",
       "      <td>2019-01-10</td>\n",
       "      <td>2022-09-02</td>\n",
       "      <td>6mm</td>\n",
       "      <td>2</td>\n",
       "      <td>FTP</td>\n",
       "      <td>DO NOT COMPARE SUVRs ACROSS TRACERS</td>\n",
       "      <td>2024-04-03 12:57:55.0</td>\n",
       "      <td>...</td>\n",
       "      <td>2.0</td>\n",
       "      <td>4</td>\n",
       "      <td>82.861054</td>\n",
       "      <td>0.179240</td>\n",
       "      <td>0.041200</td>\n",
       "      <td>6.010554</td>\n",
       "      <td>0.0</td>\n",
       "      <td>1.0</td>\n",
       "      <td>0.0</td>\n",
       "      <td>0.603624</td>\n",
       "    </tr>\n",
       "    <tr>\n",
       "      <th>...</th>\n",
       "      <td>...</td>\n",
       "      <td>...</td>\n",
       "      <td>...</td>\n",
       "      <td>...</td>\n",
       "      <td>...</td>\n",
       "      <td>...</td>\n",
       "      <td>...</td>\n",
       "      <td>...</td>\n",
       "      <td>...</td>\n",
       "      <td>...</td>\n",
       "      <td>...</td>\n",
       "      <td>...</td>\n",
       "      <td>...</td>\n",
       "      <td>...</td>\n",
       "      <td>...</td>\n",
       "      <td>...</td>\n",
       "      <td>...</td>\n",
       "      <td>...</td>\n",
       "      <td>...</td>\n",
       "      <td>...</td>\n",
       "      <td>...</td>\n",
       "    </tr>\n",
       "    <tr>\n",
       "      <th>1512</th>\n",
       "      <td>I1648618</td>\n",
       "      <td>7114</td>\n",
       "      <td>bl</td>\n",
       "      <td>2022-12-06</td>\n",
       "      <td>2023-05-26</td>\n",
       "      <td>6mm</td>\n",
       "      <td>2</td>\n",
       "      <td>FTP</td>\n",
       "      <td>DO NOT COMPARE SUVRs ACROSS TRACERS</td>\n",
       "      <td>2024-04-03 12:57:55.0</td>\n",
       "      <td>...</td>\n",
       "      <td>2.0</td>\n",
       "      <td>4</td>\n",
       "      <td>65.842574</td>\n",
       "      <td>-1.332827</td>\n",
       "      <td>0.476783</td>\n",
       "      <td>0.422115</td>\n",
       "      <td>0.0</td>\n",
       "      <td>1.0</td>\n",
       "      <td>0.0</td>\n",
       "      <td>0.592211</td>\n",
       "    </tr>\n",
       "    <tr>\n",
       "      <th>1513</th>\n",
       "      <td>I10279040</td>\n",
       "      <td>7117</td>\n",
       "      <td>bl</td>\n",
       "      <td>2023-02-07</td>\n",
       "      <td>2023-12-08</td>\n",
       "      <td>6mm</td>\n",
       "      <td>2</td>\n",
       "      <td>FTP</td>\n",
       "      <td>DO NOT COMPARE SUVRs ACROSS TRACERS</td>\n",
       "      <td>2024-04-03 12:57:55.0</td>\n",
       "      <td>...</td>\n",
       "      <td>2.0</td>\n",
       "      <td>4</td>\n",
       "      <td>69.267625</td>\n",
       "      <td>0.070977</td>\n",
       "      <td>0.326873</td>\n",
       "      <td>1.163861</td>\n",
       "      <td>0.0</td>\n",
       "      <td>1.0</td>\n",
       "      <td>0.0</td>\n",
       "      <td>0.603624</td>\n",
       "    </tr>\n",
       "    <tr>\n",
       "      <th>1514</th>\n",
       "      <td>I10239398</td>\n",
       "      <td>7121</td>\n",
       "      <td>bl</td>\n",
       "      <td>2023-05-10</td>\n",
       "      <td>2023-09-28</td>\n",
       "      <td>6mm</td>\n",
       "      <td>2</td>\n",
       "      <td>FTP</td>\n",
       "      <td>DO NOT COMPARE SUVRs ACROSS TRACERS</td>\n",
       "      <td>2024-04-03 12:57:55.0</td>\n",
       "      <td>...</td>\n",
       "      <td>2.0</td>\n",
       "      <td>5</td>\n",
       "      <td>62.436687</td>\n",
       "      <td>0.259434</td>\n",
       "      <td>1.458200</td>\n",
       "      <td>-1.108785</td>\n",
       "      <td>0.0</td>\n",
       "      <td>1.0</td>\n",
       "      <td>0.0</td>\n",
       "      <td>0.474055</td>\n",
       "    </tr>\n",
       "    <tr>\n",
       "      <th>1515</th>\n",
       "      <td>I10298377</td>\n",
       "      <td>7123</td>\n",
       "      <td>bl</td>\n",
       "      <td>2023-05-18</td>\n",
       "      <td>2024-01-03</td>\n",
       "      <td>6mm</td>\n",
       "      <td>2</td>\n",
       "      <td>FTP</td>\n",
       "      <td>DO NOT COMPARE SUVRs ACROSS TRACERS</td>\n",
       "      <td>2024-04-03 12:57:55.0</td>\n",
       "      <td>...</td>\n",
       "      <td>1.0</td>\n",
       "      <td>6</td>\n",
       "      <td>80.459959</td>\n",
       "      <td>0.405942</td>\n",
       "      <td>1.429477</td>\n",
       "      <td>-1.464372</td>\n",
       "      <td>0.0</td>\n",
       "      <td>1.0</td>\n",
       "      <td>0.0</td>\n",
       "      <td>0.477550</td>\n",
       "    </tr>\n",
       "    <tr>\n",
       "      <th>1603</th>\n",
       "      <td>I10275717</td>\n",
       "      <td>6927</td>\n",
       "      <td>y2</td>\n",
       "      <td>2023-08-02</td>\n",
       "      <td>2023-12-13</td>\n",
       "      <td>6mm</td>\n",
       "      <td>2</td>\n",
       "      <td>FTP</td>\n",
       "      <td>DO NOT COMPARE SUVRs ACROSS TRACERS</td>\n",
       "      <td>2024-04-03 12:57:55.0</td>\n",
       "      <td>...</td>\n",
       "      <td>2.0</td>\n",
       "      <td>5</td>\n",
       "      <td>61.834360</td>\n",
       "      <td>7.122249</td>\n",
       "      <td>2.404694</td>\n",
       "      <td>2.311605</td>\n",
       "      <td>0.0</td>\n",
       "      <td>1.0</td>\n",
       "      <td>3.0</td>\n",
       "      <td>0.338780</td>\n",
       "    </tr>\n",
       "  </tbody>\n",
       "</table>\n",
       "<p>1486 rows × 37 columns</p>\n",
       "</div>"
      ],
      "text/plain": [
       "        LONIUID   RID VISCODE_x    SCANDATE PROCESSDATE IMAGE_RESOLUTION  \\\n",
       "0      I1594604    21      init  2018-02-02  2022-09-02              6mm   \n",
       "1      I1596177    31      init  2018-04-24  2022-09-02              6mm   \n",
       "2      I1596172    31        y1  2019-04-23  2022-09-02              6mm   \n",
       "3      I1598898    56      init  2018-02-20  2022-09-02              6mm   \n",
       "4      I1598985    56        y1  2019-01-10  2022-09-02              6mm   \n",
       "...         ...   ...       ...         ...         ...              ...   \n",
       "1512   I1648618  7114        bl  2022-12-06  2023-05-26              6mm   \n",
       "1513  I10279040  7117        bl  2023-02-07  2023-12-08              6mm   \n",
       "1514  I10239398  7121        bl  2023-05-10  2023-09-28              6mm   \n",
       "1515  I10298377  7123        bl  2023-05-18  2024-01-03              6mm   \n",
       "1603  I10275717  6927        y2  2023-08-02  2023-12-13              6mm   \n",
       "\n",
       "      qc_flag TRACER                  TRACER_SUVR_WARNING  \\\n",
       "0           2    FTP  DO NOT COMPARE SUVRs ACROSS TRACERS   \n",
       "1           2    FTP  DO NOT COMPARE SUVRs ACROSS TRACERS   \n",
       "2           2    FTP  DO NOT COMPARE SUVRs ACROSS TRACERS   \n",
       "3           2    FTP  DO NOT COMPARE SUVRs ACROSS TRACERS   \n",
       "4           2    FTP  DO NOT COMPARE SUVRs ACROSS TRACERS   \n",
       "...       ...    ...                                  ...   \n",
       "1512        2    FTP  DO NOT COMPARE SUVRs ACROSS TRACERS   \n",
       "1513        2    FTP  DO NOT COMPARE SUVRs ACROSS TRACERS   \n",
       "1514        2    FTP  DO NOT COMPARE SUVRs ACROSS TRACERS   \n",
       "1515        2    FTP  DO NOT COMPARE SUVRs ACROSS TRACERS   \n",
       "1603        2    FTP  DO NOT COMPARE SUVRs ACROSS TRACERS   \n",
       "\n",
       "               update_stamp  ... PTETHCAT PTRACCAT AGE_AT_SCAN    ADAS11  \\\n",
       "0     2024-04-03 12:57:55.0  ...      2.0        4   85.002053 -0.158089   \n",
       "1     2024-04-03 12:57:55.0  ...      2.0        5   90.310746 -1.594868   \n",
       "2     2024-04-03 12:57:55.0  ...      2.0        5   91.307324 -1.639684   \n",
       "3     2024-04-03 12:57:55.0  ...      2.0        4   81.973990 -1.579745   \n",
       "4     2024-04-03 12:57:55.0  ...      2.0        4   82.861054  0.179240   \n",
       "...                     ...  ...      ...      ...         ...       ...   \n",
       "1512  2024-04-03 12:57:55.0  ...      2.0        4   65.842574 -1.332827   \n",
       "1513  2024-04-03 12:57:55.0  ...      2.0        4   69.267625  0.070977   \n",
       "1514  2024-04-03 12:57:55.0  ...      2.0        5   62.436687  0.259434   \n",
       "1515  2024-04-03 12:57:55.0  ...      1.0        6   80.459959  0.405942   \n",
       "1603  2024-04-03 12:57:55.0  ...      2.0        5   61.834360  7.122249   \n",
       "\n",
       "      HIPPOCAMPUS_VOLUME  META_TEMPORAL_SUVR ml_subtype prob_ml_subtype  \\\n",
       "0              -0.333452            1.215956        0.0             1.0   \n",
       "1               0.677056           -0.239392        0.0             1.0   \n",
       "2               0.896525           -0.876995        0.0             1.0   \n",
       "3               0.257640            0.965635        0.0             1.0   \n",
       "4               0.041200            6.010554        0.0             1.0   \n",
       "...                  ...                 ...        ...             ...   \n",
       "1512            0.476783            0.422115        0.0             1.0   \n",
       "1513            0.326873            1.163861        0.0             1.0   \n",
       "1514            1.458200           -1.108785        0.0             1.0   \n",
       "1515            1.429477           -1.464372        0.0             1.0   \n",
       "1603            2.404694            2.311605        0.0             1.0   \n",
       "\n",
       "     ml_stage prob_ml_stage  \n",
       "0         0.0      0.603624  \n",
       "1         0.0      0.568582  \n",
       "2         0.0      0.542287  \n",
       "3         0.0      0.603624  \n",
       "4         0.0      0.603624  \n",
       "...       ...           ...  \n",
       "1512      0.0      0.592211  \n",
       "1513      0.0      0.603624  \n",
       "1514      0.0      0.474055  \n",
       "1515      0.0      0.477550  \n",
       "1603      3.0      0.338780  \n",
       "\n",
       "[1486 rows x 37 columns]"
      ]
     },
     "execution_count": 147,
     "metadata": {},
     "output_type": "execute_result"
    }
   ],
   "source": [
    "# The SuStaIn output has everything we need. We'll use it to populate our dataframe.\n",
    "\n",
    "pickle_filename_s = output_folder + '/pickle_files/' + dataset_name + '_subtype' + str(s) + '.pickle'\n",
    "pk = pandas.read_pickle(pickle_filename_s)\n",
    "\n",
    "for variable in ['ml_subtype', # the assigned subtype\n",
    "                 'prob_ml_subtype', # the probability of the assigned subtype\n",
    "                 'ml_stage', # the assigned stage \n",
    "                 'prob_ml_stage',]: # the probability of the assigned stage\n",
    "    \n",
    "    # add SuStaIn output to dataframe\n",
    "    zdata.loc[:,variable] = pk[variable] \n",
    "\n",
    "for i in range(s):\n",
    "    zdata.loc[:,'prob_S%s'%i] = pk['prob_subtype'][:,i]\n",
    "\n",
    "zdata"
   ]
  },
  {
   "cell_type": "code",
   "execution_count": 148,
   "id": "1a2f0aac-0cf3-489f-9b5a-a08713bfdb70",
   "metadata": {},
   "outputs": [],
   "source": [
    "# Save zdata to a new file for analysis (GO TO PROCESSING MODEL OUTPUT)\n",
    "zdata.to_csv('/Users/robinsandell/Desktop/Raj Lab/EBM + Nexis/CODE EBM + Nexis/sustaln/SuStaIn/zdata/StaND + DNN/zdata-hippo,meta_roi_tau,adas11.csv')"
   ]
  },
  {
   "cell_type": "code",
   "execution_count": 150,
   "id": "ef6b84ea",
   "metadata": {
    "scrolled": true
   },
   "outputs": [
    {
     "data": {
      "text/plain": [
       "ml_stage\n",
       "0.0    1194\n",
       "1.0     146\n",
       "2.0      79\n",
       "3.0      36\n",
       "4.0      24\n",
       "5.0       4\n",
       "9.0       3\n",
       "Name: count, dtype: int64"
      ]
     },
     "execution_count": 150,
     "metadata": {},
     "output_type": "execute_result"
    }
   ],
   "source": [
    "zdata.ml_subtype.value_counts()\n",
    "zdata.ml_stage.value_counts()"
   ]
  },
  {
   "cell_type": "markdown",
   "id": "aad38760",
   "metadata": {},
   "source": [
    "As a sanity check, let's make sure all the \"controls\" were given assigned to low stages by SuStaIn"
   ]
  },
  {
   "cell_type": "code",
   "execution_count": 152,
   "id": "edcda23a",
   "metadata": {},
   "outputs": [
    {
     "data": {
      "image/png": "[encoded data removed]",
      "text/plain": [
       "<Figure size 640x480 with 1 Axes>"
      ]
     },
     "metadata": {},
     "output_type": "display_data"
    }
   ],
   "source": [
    "# Use clincial diagnostic categories as a rough way to assess the sucess of the model's stage assignments\n",
    "\n",
    "sns.histplot(data=zdata, x='ml_stage', hue='DIAGNOSIS', bins=15, multiple='stack', palette=diagnosis_palette)\n",
    "plt.show()"
   ]
  }
 ],
 "metadata": {
  "kernelspec": {
   "display_name": "Python 3 (ipykernel)",
   "language": "python",
   "name": "python3"
  },
  "language_info": {
   "codemirror_mode": {
    "name": "ipython",
    "version": 3
   },
   "file_extension": ".py",
   "mimetype": "text/x-python",
   "name": "python",
   "nbconvert_exporter": "python",
   "pygments_lexer": "ipython3",
   "version": "3.9.6"
  },
  "widgets": {
   "application/vnd.jupyter.widget-state+json": {
    "state": {
     "002f31e485d04ce2a17a1842fac5cc14": {
      "model_module": "@jupyter-widgets/controls",
      "model_module_version": "1.5.0",
      "model_name": "HTMLModel",
      "state": {
       "layout": "IPY_MODEL_e09b955bbab84972baad5c9540237a08",
       "style": "IPY_MODEL_1e9071bda6ec44e7b35e5ecaeb835729",
       "value": "MCMC Iteration: 100%"
      }
     },
     "007e661853d04d14907c4f3f793d7be7": {
      "model_module": "@jupyter-widgets/controls",
      "model_module_version": "1.5.0",
      "model_name": "DescriptionStyleModel",
      "state": {
       "description_width": ""
      }
     },
     "00cc76952bdc471484a4a4a6f9039cf3": {
      "model_module": "@jupyter-widgets/controls",
      "model_module_version": "1.5.0",
      "model_name": "HTMLModel",
      "state": {
       "layout": "IPY_MODEL_76937d60b99c489598d0c407bb4a372c",
       "style": "IPY_MODEL_03e43e82410a41128b6d6116e5f644d9",
       "value": "MCMC Iteration: 100%"
      }
     },
     "014d34851f4e41e586c43a879e673d57": {
      "model_module": "@jupyter-widgets/controls",
      "model_module_version": "1.5.0",
      "model_name": "HTMLModel",
      "state": {
       "layout": "IPY_MODEL_4e3c183c3cb74ad09b3dd2bf4299a93e",
       "style": "IPY_MODEL_d3802923245b4f069496393a81f6b39e",
       "value": " 10000/10000 [00:27&lt;00:00, 385.43it/s]"
      }
     },
     "017119ee75dc4d65adb539a9d49f1e43": {
      "model_module": "@jupyter-widgets/controls",
      "model_module_version": "1.5.0",
      "model_name": "DescriptionStyleModel",
      "state": {
       "description_width": ""
      }
     },
     "01a0495cf7044fc2b5da934452d7386f": {
      "model_module": "@jupyter-widgets/controls",
      "model_module_version": "1.5.0",
      "model_name": "HBoxModel",
      "state": {
       "children": [
        "IPY_MODEL_e7ab9d4d12b54921b7351678859ab174",
        "IPY_MODEL_d96dc533339342d4ab4cd0bd3b38e83c",
        "IPY_MODEL_a76018e973994c43b2c5aac59df633fc"
       ],
       "layout": "IPY_MODEL_7575b343a5924742ab6f804d1704264e"
      }
     },
     "01d7270552d24b2b8f421cf12feb7966": {
      "model_module": "@jupyter-widgets/base",
      "model_module_version": "1.2.0",
      "model_name": "LayoutModel",
      "state": {}
     },
     "01e46e3caba34744b0b85c22c0d58d29": {
      "model_module": "@jupyter-widgets/controls",
      "model_module_version": "1.5.0",
      "model_name": "DescriptionStyleModel",
      "state": {
       "description_width": ""
      }
     },
     "0205d7e36bd74b1caf7d8b28a2810090": {
      "model_module": "@jupyter-widgets/controls",
      "model_module_version": "1.5.0",
      "model_name": "HTMLModel",
      "state": {
       "layout": "IPY_MODEL_2b4a701078a3475a9ca537bb072d7f06",
       "style": "IPY_MODEL_6460a34cd7fd445a8c1eb60b89e9276c",
       "value": " 3/3 [14:05&lt;00:00, 279.48s/it]"
      }
     },
     "022354bb3e97472eaeac0991d5f29bd6": {
      "model_module": "@jupyter-widgets/controls",
      "model_module_version": "1.5.0",
      "model_name": "HBoxModel",
      "state": {
       "children": [
        "IPY_MODEL_74f5a7e8da784f0dac32f284193e4b3d",
        "IPY_MODEL_ab06fc2e792249e491899e5d2d029e42",
        "IPY_MODEL_1be01c1410f14145a502acad9f7a0519"
       ],
       "layout": "IPY_MODEL_a57dd46d498549f08ec0dca08e0c1e72"
      }
     },
     "027031087a0641879a1056efb89e8e18": {
      "model_module": "@jupyter-widgets/controls",
      "model_module_version": "1.5.0",
      "model_name": "DescriptionStyleModel",
      "state": {
       "description_width": ""
      }
     },
     "027fd8f8238a4cfa8e3770b011561815": {
      "model_module": "@jupyter-widgets/controls",
      "model_module_version": "1.5.0",
      "model_name": "DescriptionStyleModel",
      "state": {
       "description_width": ""
      }
     },
     "02af7fcace1f4cfba220c28484bfb2e8": {
      "model_module": "@jupyter-widgets/controls",
      "model_module_version": "1.5.0",
      "model_name": "HBoxModel",
      "state": {
       "children": [
        "IPY_MODEL_74ab71fbb2674f2fb059ca55e2365084",
        "IPY_MODEL_16f194d7c90c4ff7985abfac9a2e5be8",
        "IPY_MODEL_9ffa01c03dbf49769afa65b1ecb3e9e7"
       ],
       "layout": "IPY_MODEL_5db151505a84498aaf907d03a66f0e8e"
      }
     },
     "02b60af8b7ed403c818bd627fcad8d97": {
      "model_module": "@jupyter-widgets/controls",
      "model_module_version": "1.5.0",
      "model_name": "ProgressStyleModel",
      "state": {
       "description_width": ""
      }
     },
     "033a28ca3ec74a9d8f44a43e85bc470d": {
      "model_module": "@jupyter-widgets/controls",
      "model_module_version": "1.5.0",
      "model_name": "HTMLModel",
      "state": {
       "layout": "IPY_MODEL_553fc9015fee4c2d9ce8b5fdbcb8d541",
       "style": "IPY_MODEL_88e4489e3f9d4d50b9242eb82f1bc8fa",
       "value": "MCMC Iteration: 100%"
      }
     },
     "0353ecb5a5114e90ba0db7831e0f692b": {
      "model_module": "@jupyter-widgets/controls",
      "model_module_version": "1.5.0",
      "model_name": "DescriptionStyleModel",
      "state": {
       "description_width": ""
      }
     },
     "0381b9982a0c48ff9d4c4bd34ba48e9a": {
      "model_module": "@jupyter-widgets/controls",
      "model_module_version": "1.5.0",
      "model_name": "DescriptionStyleModel",
      "state": {
       "description_width": ""
      }
     },
     "039ac81d3b58436eb509db4272396086": {
      "model_module": "@jupyter-widgets/controls",
      "model_module_version": "1.5.0",
      "model_name": "DescriptionStyleModel",
      "state": {
       "description_width": ""
      }
     },
     "03afc6388a784088b00c106a473a5283": {
      "model_module": "@jupyter-widgets/controls",
      "model_module_version": "1.5.0",
      "model_name": "DescriptionStyleModel",
      "state": {
       "description_width": ""
      }
     },
     "03e43e82410a41128b6d6116e5f644d9": {
      "model_module": "@jupyter-widgets/controls",
      "model_module_version": "1.5.0",
      "model_name": "DescriptionStyleModel",
      "state": {
       "description_width": ""
      }
     },
     "03eb745e61664aa2842478860ef8994c": {
      "model_module": "@jupyter-widgets/controls",
      "model_module_version": "1.5.0",
      "model_name": "DescriptionStyleModel",
      "state": {
       "description_width": ""
      }
     },
     "03ff4e6022f14a34b404aec3eed12ff5": {
      "model_module": "@jupyter-widgets/controls",
      "model_module_version": "1.5.0",
      "model_name": "HTMLModel",
      "state": {
       "layout": "IPY_MODEL_4b1f74e2e95f486d843761e65f709c4d",
       "style": "IPY_MODEL_451a84c4b9bc4ae1a7275783437ad30c",
       "value": "MCMC Iteration: 100%"
      }
     },
     "04112cf2a9434173a1645349362c366b": {
      "model_module": "@jupyter-widgets/controls",
      "model_module_version": "1.5.0",
      "model_name": "ProgressStyleModel",
      "state": {
       "description_width": ""
      }
     },
     "0430bf48d44d44fd8f50627357d703ee": {
      "model_module": "@jupyter-widgets/controls",
      "model_module_version": "1.5.0",
      "model_name": "HBoxModel",
      "state": {
       "children": [
        "IPY_MODEL_1c22a1135ebe478b9090c32835951734",
        "IPY_MODEL_9785ce50c170408e8839a438a0b3014d",
        "IPY_MODEL_c57b11d7bb554a7cab8aa3c171a2ab5c"
       ],
       "layout": "IPY_MODEL_0ec270963d3349d7b9a0691402498045"
      }
     },
     "043a74e863db4e0cb878953578bf0259": {
      "model_module": "@jupyter-widgets/controls",
      "model_module_version": "1.5.0",
      "model_name": "HBoxModel",
      "state": {
       "children": [
        "IPY_MODEL_a376b666ad4a4c7d8015168cdc69710e",
        "IPY_MODEL_f0c4dc1e3e4043ad9952b2dad46bffec",
        "IPY_MODEL_9c6d9572d5ec4e7cbe82700de9e4d5db"
       ],
       "layout": "IPY_MODEL_ca3ff5dad3cd481f999171d39f4dd0b1"
      }
     },
     "04766dcaba234213b344f1d9ac4d4e47": {
      "model_module": "@jupyter-widgets/base",
      "model_module_version": "1.2.0",
      "model_name": "LayoutModel",
      "state": {}
     },
     "048097bc81544f96a5df2efc488372d6": {
      "model_module": "@jupyter-widgets/controls",
      "model_module_version": "1.5.0",
      "model_name": "HBoxModel",
      "state": {
       "children": [
        "IPY_MODEL_ef688c7a8bbc43a7b73bef58a69b0674",
        "IPY_MODEL_9c5f1f8f4b574eb289b9036b365b6d61",
        "IPY_MODEL_f3e23b84476e4c5ab66787e35a10421e"
       ],
       "layout": "IPY_MODEL_906031b06dff41e782a7f4d7c9f798e9"
      }
     },
     "04f47ee5dd8c4de4888ee9b006fc61d6": {
      "model_module": "@jupyter-widgets/base",
      "model_module_version": "1.2.0",
      "model_name": "LayoutModel",
      "state": {}
     },
     "05333ca29fc04212bc7765a0e108ade2": {
      "model_module": "@jupyter-widgets/controls",
      "model_module_version": "1.5.0",
      "model_name": "HTMLModel",
      "state": {
       "layout": "IPY_MODEL_47d36a1cc4e446c089b178f8a161abdf",
       "style": "IPY_MODEL_72ecfa5b3b06466384cc6dd4745bc24d",
       "value": "MCMC Iteration: 100%"
      }
     },
     "05535e0d006248559cb1476d51f9e284": {
      "model_module": "@jupyter-widgets/base",
      "model_module_version": "1.2.0",
      "model_name": "LayoutModel",
      "state": {}
     },
     "0583eccbd91d484097e34baf87cd6950": {
      "model_module": "@jupyter-widgets/controls",
      "model_module_version": "1.5.0",
      "model_name": "FloatProgressModel",
      "state": {
       "bar_style": "success",
       "layout": "IPY_MODEL_0c2bef0dfcc34ca0844f6dce25ef5fc2",
       "max": 10000,
       "style": "IPY_MODEL_a20d6ed0000f433d9f7632e9b2be947f",
       "value": 10000
      }
     },
     "059184cd7f924bfa8a00655171188d55": {
      "model_module": "@jupyter-widgets/controls",
      "model_module_version": "1.5.0",
      "model_name": "DescriptionStyleModel",
      "state": {
       "description_width": ""
      }
     },
     "059b93e33df3404282c1778354cae04a": {
      "model_module": "@jupyter-widgets/controls",
      "model_module_version": "1.5.0",
      "model_name": "ProgressStyleModel",
      "state": {
       "description_width": ""
      }
     },
     "05f79eafba8d403aafb19ba44bc5d0ad": {
      "model_module": "@jupyter-widgets/controls",
      "model_module_version": "1.5.0",
      "model_name": "DescriptionStyleModel",
      "state": {
       "description_width": ""
      }
     },
     "05fa7703324e47878bf19a76fc042146": {
      "model_module": "@jupyter-widgets/base",
      "model_module_version": "1.2.0",
      "model_name": "LayoutModel",
      "state": {}
     },
     "062e820063904721923d7b34e566eaf8": {
      "model_module": "@jupyter-widgets/base",
      "model_module_version": "1.2.0",
      "model_name": "LayoutModel",
      "state": {}
     },
     "06467242444540e99c0ee60fd156566d": {
      "model_module": "@jupyter-widgets/base",
      "model_module_version": "1.2.0",
      "model_name": "LayoutModel",
      "state": {}
     },
     "06567f5e3a534f82b14ac7772ef2d783": {
      "model_module": "@jupyter-widgets/controls",
      "model_module_version": "1.5.0",
      "model_name": "ProgressStyleModel",
      "state": {
       "description_width": ""
      }
     },
     "0688183116ac4cd89f364300a0eb0ea8": {
      "model_module": "@jupyter-widgets/controls",
      "model_module_version": "1.5.0",
      "model_name": "HBoxModel",
      "state": {
       "children": [
        "IPY_MODEL_be9bf39f922e47e8b61120276d27e9e6",
        "IPY_MODEL_3109a6b6ec984a60a8d566b892a6db8b",
        "IPY_MODEL_7cc39a949d994d6aba73082863c03623"
       ],
       "layout": "IPY_MODEL_dd34e97d794649ada6ff9a6d9a77a89d"
      }
     },
     "068e9ded25aa4b70b224a42fdb29107a": {
      "model_module": "@jupyter-widgets/controls",
      "model_module_version": "1.5.0",
      "model_name": "DescriptionStyleModel",
      "state": {
       "description_width": ""
      }
     },
     "06bcbe1649d245589e67d89479cecdc8": {
      "model_module": "@jupyter-widgets/controls",
      "model_module_version": "1.5.0",
      "model_name": "HTMLModel",
      "state": {
       "layout": "IPY_MODEL_70a8e5bd95544430bb20d59cb5d4fca3",
       "style": "IPY_MODEL_7f8fb587399947cfbeab4e0cac4e7056",
       "value": "Folds:   0%"
      }
     },
     "06fe7074c7ed4355b33647f4cf5e9e83": {
      "model_module": "@jupyter-widgets/base",
      "model_module_version": "1.2.0",
      "model_name": "LayoutModel",
      "state": {}
     },
     "07406be46f3d449d9a39a7b9b3c56c16": {
      "model_module": "@jupyter-widgets/controls",
      "model_module_version": "1.5.0",
      "model_name": "DescriptionStyleModel",
      "state": {
       "description_width": ""
      }
     },
     "075817bbf9a3486981a8ae9e3efc0716": {
      "model_module": "@jupyter-widgets/controls",
      "model_module_version": "1.5.0",
      "model_name": "DescriptionStyleModel",
      "state": {
       "description_width": ""
      }
     },
     "0795fc9770cc4bffbc01591a4ec1fb5a": {
      "model_module": "@jupyter-widgets/controls",
      "model_module_version": "1.5.0",
      "model_name": "ProgressStyleModel",
      "state": {
       "description_width": ""
      }
     },
     "07a9955384044016b84211d62b296962": {
      "model_module": "@jupyter-widgets/controls",
      "model_module_version": "1.5.0",
      "model_name": "HTMLModel",
      "state": {
       "layout": "IPY_MODEL_99a7539277d44260838a6de7d0109037",
       "style": "IPY_MODEL_d395275234d443d0b501ef69565b79f0",
       "value": "MCMC Iteration: 100%"
      }
     },
     "07b9dbda9a4c4457b00f05035834738a": {
      "model_module": "@jupyter-widgets/base",
      "model_module_version": "1.2.0",
      "model_name": "LayoutModel",
      "state": {}
     },
     "07f48c82d8fc40548e6b66280cd870c4": {
      "model_module": "@jupyter-widgets/controls",
      "model_module_version": "1.5.0",
      "model_name": "ProgressStyleModel",
      "state": {
       "description_width": ""
      }
     },
     "07fd4ef5c2aa4bc08b406980ad7cf4f7": {
      "model_module": "@jupyter-widgets/controls",
      "model_module_version": "1.5.0",
      "model_name": "HBoxModel",
      "state": {
       "children": [
        "IPY_MODEL_5af5bd8b290a4b73bceebb593efbe964",
        "IPY_MODEL_f95ec013db94494fb76e5156d1409bdc",
        "IPY_MODEL_ce7a8bdd58f44d879255f7b5a5b754d3"
       ],
       "layout": "IPY_MODEL_86780cad45bb46fe8b236961011de356"
      }
     },
     "0809abe40bee4031a1c2da8ff83104e4": {
      "model_module": "@jupyter-widgets/controls",
      "model_module_version": "1.5.0",
      "model_name": "HTMLModel",
      "state": {
       "layout": "IPY_MODEL_8ea3a18c30d34e548ee4cf8bdb4522a3",
       "style": "IPY_MODEL_b68f1fc5e0ec4a50b14ef59aac9fef7c",
       "value": "MCMC Iteration: 100%"
      }
     },
     "0821149108d54fc69a70133231205158": {
      "model_module": "@jupyter-widgets/controls",
      "model_module_version": "1.5.0",
      "model_name": "ProgressStyleModel",
      "state": {
       "description_width": ""
      }
     },
     "0824f657163e43179eae029c46025da3": {
      "model_module": "@jupyter-widgets/base",
      "model_module_version": "1.2.0",
      "model_name": "LayoutModel",
      "state": {}
     },
     "088a5b4069a24260b02a28f8323bed7a": {
      "model_module": "@jupyter-widgets/base",
      "model_module_version": "1.2.0",
      "model_name": "LayoutModel",
      "state": {}
     },
     "08fcd59c18f64cdfbfd6230c5cdb1437": {
      "model_module": "@jupyter-widgets/controls",
      "model_module_version": "1.5.0",
      "model_name": "HBoxModel",
      "state": {
       "children": [
        "IPY_MODEL_52197386b22b42b8a9470ffbbf8e1593",
        "IPY_MODEL_919967020eaf4d51ace1fb14e6508c98",
        "IPY_MODEL_a917195cbdf940bb9da0107a215c2970"
       ],
       "layout": "IPY_MODEL_8151a719a4764f48b4e7b4fc0c2e3d60"
      }
     },
     "092bb493a73b4c78a3c14e8c9235951b": {
      "model_module": "@jupyter-widgets/controls",
      "model_module_version": "1.5.0",
      "model_name": "ProgressStyleModel",
      "state": {
       "description_width": ""
      }
     },
     "092e0eb7816242d5be1d3fa8664aa138": {
      "model_module": "@jupyter-widgets/controls",
      "model_module_version": "1.5.0",
      "model_name": "HBoxModel",
      "state": {
       "children": [
        "IPY_MODEL_b93702c0ce534f558d2500e2a6156781",
        "IPY_MODEL_94ccdd37161d4c0a9078fd856867386b",
        "IPY_MODEL_8db2491c6fdb4a609f2755e920dc8f27"
       ],
       "layout": "IPY_MODEL_842ea41b59434c13b284304586620a47"
      }
     },
     "09989bab189d4dde92179c9e85e34301": {
      "model_module": "@jupyter-widgets/base",
      "model_module_version": "1.2.0",
      "model_name": "LayoutModel",
      "state": {}
     },
     "099dee3154f948159e0fc40e3493d4ee": {
      "model_module": "@jupyter-widgets/controls",
      "model_module_version": "1.5.0",
      "model_name": "HTMLModel",
      "state": {
       "layout": "IPY_MODEL_db78abc52671439db604d3e58d5c8dbd",
       "style": "IPY_MODEL_07406be46f3d449d9a39a7b9b3c56c16",
       "value": " 10000/10000 [00:07&lt;00:00, 1318.11it/s]"
      }
     },
     "09af6cce31f94fb992221ecdda94259e": {
      "model_module": "@jupyter-widgets/base",
      "model_module_version": "1.2.0",
      "model_name": "LayoutModel",
      "state": {}
     },
     "09da826f615446db89b92eb308caeda4": {
      "model_module": "@jupyter-widgets/base",
      "model_module_version": "1.2.0",
      "model_name": "LayoutModel",
      "state": {}
     },
     "0a0e52036d7240e480fea82c164f52ab": {
      "model_module": "@jupyter-widgets/controls",
      "model_module_version": "1.5.0",
      "model_name": "FloatProgressModel",
      "state": {
       "bar_style": "success",
       "layout": "IPY_MODEL_cd978add50b34ff591c13bc6d95544e3",
       "max": 10000,
       "style": "IPY_MODEL_0a82cb60d98a46e3b2f5b942d404d352",
       "value": 10000
      }
     },
     "0a1918412f5344cd83e8fd5dbcf8f326": {
      "model_module": "@jupyter-widgets/base",
      "model_module_version": "1.2.0",
      "model_name": "LayoutModel",
      "state": {}
     },
     "0a2bc8846e1d40a3b230e36564c6e3e9": {
      "model_module": "@jupyter-widgets/controls",
      "model_module_version": "1.5.0",
      "model_name": "DescriptionStyleModel",
      "state": {
       "description_width": ""
      }
     },
     "0a76eaa4dd844447943a6bf78f285523": {
      "model_module": "@jupyter-widgets/controls",
      "model_module_version": "1.5.0",
      "model_name": "HBoxModel",
      "state": {
       "children": [
        "IPY_MODEL_0b8184bdd9b34e1eb1add507dec4b3bb",
        "IPY_MODEL_78a4ff5b80e54e0dac774ba13fac2bf5",
        "IPY_MODEL_9c61ff9c62c4442ca5e45ad5cad7a69f"
       ],
       "layout": "IPY_MODEL_8a5643b5e14446eab6cb9606a398fc7f"
      }
     },
     "0a82cb60d98a46e3b2f5b942d404d352": {
      "model_module": "@jupyter-widgets/controls",
      "model_module_version": "1.5.0",
      "model_name": "ProgressStyleModel",
      "state": {
       "description_width": ""
      }
     },
     "0ac8632aad344195ab4810b4490d8746": {
      "model_module": "@jupyter-widgets/controls",
      "model_module_version": "1.5.0",
      "model_name": "FloatProgressModel",
      "state": {
       "bar_style": "success",
       "layout": "IPY_MODEL_bbdbbdcc74094b8b80871d4d1d3890cc",
       "max": 10000,
       "style": "IPY_MODEL_7a7a2697a35e4b82b8a6f9120b363eec",
       "value": 10000
      }
     },
     "0ad3d0cb3f094b7587038a761c93f43e": {
      "model_module": "@jupyter-widgets/base",
      "model_module_version": "1.2.0",
      "model_name": "LayoutModel",
      "state": {}
     },
     "0b3cdebd96f845d5aed4005c1abad7d7": {
      "model_module": "@jupyter-widgets/base",
      "model_module_version": "1.2.0",
      "model_name": "LayoutModel",
      "state": {}
     },
     "0b50589027a24a63b3e9e88c57927eb1": {
      "model_module": "@jupyter-widgets/base",
      "model_module_version": "1.2.0",
      "model_name": "LayoutModel",
      "state": {}
     },
     "0b8184bdd9b34e1eb1add507dec4b3bb": {
      "model_module": "@jupyter-widgets/controls",
      "model_module_version": "1.5.0",
      "model_name": "HTMLModel",
      "state": {
       "layout": "IPY_MODEL_cc9302b72cca4840b3b2ca37b718eb84",
       "style": "IPY_MODEL_636018a057804c4e919729bca81d21b5",
       "value": "MCMC Iteration: 100%"
      }
     },
     "0b81d7f474f14ac3abd950979a825b23": {
      "model_module": "@jupyter-widgets/base",
      "model_module_version": "1.2.0",
      "model_name": "LayoutModel",
      "state": {}
     },
     "0b9217194dae4d6a9bf07762717af243": {
      "model_module": "@jupyter-widgets/controls",
      "model_module_version": "1.5.0",
      "model_name": "DescriptionStyleModel",
      "state": {
       "description_width": ""
      }
     },
     "0b95db70efae49338a625ac8761dbcf6": {
      "model_module": "@jupyter-widgets/base",
      "model_module_version": "1.2.0",
      "model_name": "LayoutModel",
      "state": {}
     },
     "0bc8a9b47ee24d6f903d89636fcdc0d0": {
      "model_module": "@jupyter-widgets/controls",
      "model_module_version": "1.5.0",
      "model_name": "HBoxModel",
      "state": {
       "children": [
        "IPY_MODEL_2b0583465c424d9ca70a55da1ee2aca7",
        "IPY_MODEL_53c8ec043b284481b9f31582522627de",
        "IPY_MODEL_2833db0d73c744bab247542db61c789f"
       ],
       "layout": "IPY_MODEL_2e59a74312cb45afa3abb314e9a16df4"
      }
     },
     "0bf94178b82646bba4e95228239d0059": {
      "model_module": "@jupyter-widgets/controls",
      "model_module_version": "1.5.0",
      "model_name": "DescriptionStyleModel",
      "state": {
       "description_width": ""
      }
     },
     "0c2bef0dfcc34ca0844f6dce25ef5fc2": {
      "model_module": "@jupyter-widgets/base",
      "model_module_version": "1.2.0",
      "model_name": "LayoutModel",
      "state": {}
     },
     "0c72bf1fd1ac42f8b033fd77514c6d75": {
      "model_module": "@jupyter-widgets/base",
      "model_module_version": "1.2.0",
      "model_name": "LayoutModel",
      "state": {}
     },
     "0c998aaac9f7482e801e8ef1cedfa33c": {
      "model_module": "@jupyter-widgets/controls",
      "model_module_version": "1.5.0",
      "model_name": "DescriptionStyleModel",
      "state": {
       "description_width": ""
      }
     },
     "0d62d1ca35c94e4ca04902a03e0886fe": {
      "model_module": "@jupyter-widgets/controls",
      "model_module_version": "1.5.0",
      "model_name": "HBoxModel",
      "state": {
       "children": [
        "IPY_MODEL_6035d263e4314e91b8d4d915cf7cacf6",
        "IPY_MODEL_c619a333d4b04400862211e4047bf0c5",
        "IPY_MODEL_9fb8a3785f284483969baeacb77ecd6a"
       ],
       "layout": "IPY_MODEL_f3c617727ce0426880736aa991c7e14c"
      }
     },
     "0d7b9406fab045ccaba5b808153d96d8": {
      "model_module": "@jupyter-widgets/controls",
      "model_module_version": "1.5.0",
      "model_name": "FloatProgressModel",
      "state": {
       "bar_style": "success",
       "layout": "IPY_MODEL_f71d0601d07a4e0bb0491b5a724e5ca3",
       "max": 10000,
       "style": "IPY_MODEL_70d0ba3240384f6fa43362d7eaf26ab3",
       "value": 10000
      }
     },
     "0d912b92115142368fb07996079b5151": {
      "model_module": "@jupyter-widgets/controls",
      "model_module_version": "1.5.0",
      "model_name": "HTMLModel",
      "state": {
       "layout": "IPY_MODEL_32e91e2509da42d8a5c82b1b16438d3a",
       "style": "IPY_MODEL_7e34cccb62e64ab9917bf6437f006e8d",
       "value": " 10000/10000 [00:07&lt;00:00, 1415.77it/s]"
      }
     },
     "0da28547fbdb41168261bc8d42667412": {
      "model_module": "@jupyter-widgets/controls",
      "model_module_version": "1.5.0",
      "model_name": "DescriptionStyleModel",
      "state": {
       "description_width": ""
      }
     },
     "0de03f7c86234f55aa89695de44913b2": {
      "model_module": "@jupyter-widgets/controls",
      "model_module_version": "1.5.0",
      "model_name": "HTMLModel",
      "state": {
       "layout": "IPY_MODEL_47bb38439045425b800df8df4caf58a8",
       "style": "IPY_MODEL_0b9217194dae4d6a9bf07762717af243",
       "value": " 10000/10000 [00:20&lt;00:00, 511.70it/s]"
      }
     },
     "0e01d8daddb947afadc504beef7a7660": {
      "model_module": "@jupyter-widgets/controls",
      "model_module_version": "1.5.0",
      "model_name": "ProgressStyleModel",
      "state": {
       "description_width": ""
      }
     },
     "0e2183fe6c484b3a80b641f8c778ea95": {
      "model_module": "@jupyter-widgets/controls",
      "model_module_version": "1.5.0",
      "model_name": "DescriptionStyleModel",
      "state": {
       "description_width": ""
      }
     },
     "0e2fffb212824a94b6d7e3c2310342e3": {
      "model_module": "@jupyter-widgets/controls",
      "model_module_version": "1.5.0",
      "model_name": "ProgressStyleModel",
      "state": {
       "description_width": ""
      }
     },
     "0e37b7c4f59347c79f949c84562f6211": {
      "model_module": "@jupyter-widgets/controls",
      "model_module_version": "1.5.0",
      "model_name": "HBoxModel",
      "state": {
       "children": [
        "IPY_MODEL_92361488cc6e46f2951623630454d9fb",
        "IPY_MODEL_c778aad3ba49478fb036955c40b861cd",
        "IPY_MODEL_8e07c3b9ffc74c82869efac8932ce7e7"
       ],
       "layout": "IPY_MODEL_f133ca7423f042adb1ed36743fbaf64c"
      }
     },
     "0e605bacdc264a57bcd3174973ffee44": {
      "model_module": "@jupyter-widgets/controls",
      "model_module_version": "1.5.0",
      "model_name": "HTMLModel",
      "state": {
       "layout": "IPY_MODEL_9f0b4642ab4444ba8ecd5abf87bd21b0",
       "style": "IPY_MODEL_fc80f8c0d2e54ce4b5a1bf9ac4e6665c",
       "value": " 10000/10000 [00:22&lt;00:00, 301.08it/s]"
      }
     },
     "0e7053093afd46a58b3131b992dfd618": {
      "model_module": "@jupyter-widgets/base",
      "model_module_version": "1.2.0",
      "model_name": "LayoutModel",
      "state": {}
     },
     "0ec270963d3349d7b9a0691402498045": {
      "model_module": "@jupyter-widgets/base",
      "model_module_version": "1.2.0",
      "model_name": "LayoutModel",
      "state": {}
     },
     "0eddaca8058b49f5aff75b503a2064fb": {
      "model_module": "@jupyter-widgets/controls",
      "model_module_version": "1.5.0",
      "model_name": "HTMLModel",
      "state": {
       "layout": "IPY_MODEL_ed38522480444f6c8ad0be286165a4e8",
       "style": "IPY_MODEL_124280dd041c4fd1911f34f3e819a476",
       "value": " 0/3 [00:49&lt;?, ?it/s]"
      }
     },
     "0edf049169284b998b58946c325bad67": {
      "model_module": "@jupyter-widgets/base",
      "model_module_version": "1.2.0",
      "model_name": "LayoutModel",
      "state": {}
     },
     "0ef7d1f0a7b14dfcac22399649aecfbe": {
      "model_module": "@jupyter-widgets/controls",
      "model_module_version": "1.5.0",
      "model_name": "DescriptionStyleModel",
      "state": {
       "description_width": ""
      }
     },
     "0f224daf87624735bae027ba5167780f": {
      "model_module": "@jupyter-widgets/base",
      "model_module_version": "1.2.0",
      "model_name": "LayoutModel",
      "state": {}
     },
     "0f2dd51561fa45e0bcc882608184a3da": {
      "model_module": "@jupyter-widgets/controls",
      "model_module_version": "1.5.0",
      "model_name": "HTMLModel",
      "state": {
       "layout": "IPY_MODEL_ab15b0f630a6450f88a15eb14b13ea69",
       "style": "IPY_MODEL_86897c4b2b394677bc89fd0016883754",
       "value": " 10000/10000 [00:19&lt;00:00, 520.33it/s]"
      }
     },
     "0f57af7a54d7441d95f7d831476979cf": {
      "model_module": "@jupyter-widgets/controls",
      "model_module_version": "1.5.0",
      "model_name": "HBoxModel",
      "state": {
       "children": [
        "IPY_MODEL_3651e1e3e89b4a19943f1c2adc7e088b",
        "IPY_MODEL_5508abbd91494db8b52d03d4a23ae8b1",
        "IPY_MODEL_871e4fe261a041ddb4f81682bef49599"
       ],
       "layout": "IPY_MODEL_1ad02e7c2bcd42c48aebdb6c3efdfa8e"
      }
     },
     "0f6cc33c747b403baf42197546469197": {
      "model_module": "@jupyter-widgets/controls",
      "model_module_version": "1.5.0",
      "model_name": "DescriptionStyleModel",
      "state": {
       "description_width": ""
      }
     },
     "0f7e4409887d472aab2eb0db3eada63f": {
      "model_module": "@jupyter-widgets/controls",
      "model_module_version": "1.5.0",
      "model_name": "HTMLModel",
      "state": {
       "layout": "IPY_MODEL_6aebea4064664705829c9117abb533a5",
       "style": "IPY_MODEL_b90b212b4d8847bd9cfcfb8c75e6bd36",
       "value": " 10000/10000 [00:21&lt;00:00, 478.29it/s]"
      }
     },
     "0fb34c6b2c5c417285bd0d60d1081a18": {
      "model_module": "@jupyter-widgets/controls",
      "model_module_version": "1.5.0",
      "model_name": "HBoxModel",
      "state": {
       "children": [
        "IPY_MODEL_36aa9b6293a9453d9094a4d19a73d952",
        "IPY_MODEL_74a229c331ec4a659751eb777ccd64d2",
        "IPY_MODEL_0205d7e36bd74b1caf7d8b28a2810090"
       ],
       "layout": "IPY_MODEL_528d806df02b440c8f787c8463c46cda"
      }
     },
     "0ff4e020da504c4ba4e36e824ea25bb0": {
      "model_module": "@jupyter-widgets/controls",
      "model_module_version": "1.5.0",
      "model_name": "DescriptionStyleModel",
      "state": {
       "description_width": ""
      }
     },
     "1006b8e2e36d4c828b1cfb9809de661c": {
      "model_module": "@jupyter-widgets/controls",
      "model_module_version": "1.5.0",
      "model_name": "HTMLModel",
      "state": {
       "layout": "IPY_MODEL_5fbfe8fb7ad646dcba5db580ac912e1c",
       "style": "IPY_MODEL_d88551889eea4777ad00693b71e8d1d0",
       "value": " 10000/10000 [00:09&lt;00:00, 1107.33it/s]"
      }
     },
     "102b454c52e44eb6807a7644b8979f9c": {
      "model_module": "@jupyter-widgets/controls",
      "model_module_version": "1.5.0",
      "model_name": "ProgressStyleModel",
      "state": {
       "description_width": ""
      }
     },
     "103399ca7c0b4cb5b1d339ec2f7a8021": {
      "model_module": "@jupyter-widgets/base",
      "model_module_version": "1.2.0",
      "model_name": "LayoutModel",
      "state": {}
     },
     "1039cae60601486aafb8d653d21480d1": {
      "model_module": "@jupyter-widgets/controls",
      "model_module_version": "1.5.0",
      "model_name": "DescriptionStyleModel",
      "state": {
       "description_width": ""
      }
     },
     "105cdbad27b9478cbb25c787bf9db1b9": {
      "model_module": "@jupyter-widgets/controls",
      "model_module_version": "1.5.0",
      "model_name": "HTMLModel",
      "state": {
       "layout": "IPY_MODEL_be46db478a5d4066ad210b8fa39dbc1a",
       "style": "IPY_MODEL_0a2bc8846e1d40a3b230e36564c6e3e9",
       "value": "MCMC Iteration: 100%"
      }
     },
     "10704904f28147e197afc68512892e28": {
      "model_module": "@jupyter-widgets/base",
      "model_module_version": "1.2.0",
      "model_name": "LayoutModel",
      "state": {}
     },
     "1088ac28ee384993a82d2823f651a866": {
      "model_module": "@jupyter-widgets/base",
      "model_module_version": "1.2.0",
      "model_name": "LayoutModel",
      "state": {}
     },
     "109ea1601a7443adb534ef25263c6ee2": {
      "model_module": "@jupyter-widgets/controls",
      "model_module_version": "1.5.0",
      "model_name": "HTMLModel",
      "state": {
       "layout": "IPY_MODEL_a9f3b9a7168f420984dc104c76d4cda4",
       "style": "IPY_MODEL_40ab74c8b2e14081be9c62d00a2ae1ce",
       "value": "MCMC Iteration: 100%"
      }
     },
     "10a946ea511c47be8a28eedb730ddeaa": {
      "model_module": "@jupyter-widgets/controls",
      "model_module_version": "1.5.0",
      "model_name": "HTMLModel",
      "state": {
       "layout": "IPY_MODEL_2f90d66eb84d40b09712052c0760e015",
       "style": "IPY_MODEL_9f73d70e7ca348098f0d7ca77cad42d5",
       "value": "MCMC Iteration: 100%"
      }
     },
     "10f2649fedf94c6f816da8b4819ece98": {
      "model_module": "@jupyter-widgets/controls",
      "model_module_version": "1.5.0",
      "model_name": "HBoxModel",
      "state": {
       "children": [
        "IPY_MODEL_8db697e31e4349a6b39d9fa4575d17d3",
        "IPY_MODEL_b6e394060a8b43e6aaab63bbfa7be746",
        "IPY_MODEL_311118db0d434a7cbf4c06e0cd1960ec"
       ],
       "layout": "IPY_MODEL_17d7a4236fe6454fb382bb7a7978f841"
      }
     },
     "1156665bec714f2e9b7a3dd275d9daee": {
      "model_module": "@jupyter-widgets/controls",
      "model_module_version": "1.5.0",
      "model_name": "HTMLModel",
      "state": {
       "layout": "IPY_MODEL_b8cbdd6ac41343349baeeade8aa201fd",
       "style": "IPY_MODEL_a61414d94635436087eadf7010635b5b",
       "value": "MCMC Iteration: 100%"
      }
     },
     "11595c177826479ab2308f88aeb90e01": {
      "model_module": "@jupyter-widgets/controls",
      "model_module_version": "1.5.0",
      "model_name": "ProgressStyleModel",
      "state": {
       "description_width": ""
      }
     },
     "11859bb9a5d74469a577bd12fb961db7": {
      "model_module": "@jupyter-widgets/base",
      "model_module_version": "1.2.0",
      "model_name": "LayoutModel",
      "state": {}
     },
     "1195ab74838e462c8df6805afefacaeb": {
      "model_module": "@jupyter-widgets/controls",
      "model_module_version": "1.5.0",
      "model_name": "DescriptionStyleModel",
      "state": {
       "description_width": ""
      }
     },
     "11c064c494bc4bc495ff175c3c0685c1": {
      "model_module": "@jupyter-widgets/base",
      "model_module_version": "1.2.0",
      "model_name": "LayoutModel",
      "state": {}
     },
     "1201d2574b58461baa6fa93d2233e9e6": {
      "model_module": "@jupyter-widgets/controls",
      "model_module_version": "1.5.0",
      "model_name": "DescriptionStyleModel",
      "state": {
       "description_width": ""
      }
     },
     "1235ba36d1684329879f64ed9697c4f9": {
      "model_module": "@jupyter-widgets/base",
      "model_module_version": "1.2.0",
      "model_name": "LayoutModel",
      "state": {}
     },
     "124280dd041c4fd1911f34f3e819a476": {
      "model_module": "@jupyter-widgets/controls",
      "model_module_version": "1.5.0",
      "model_name": "DescriptionStyleModel",
      "state": {
       "description_width": ""
      }
     },
     "1262eacfba644971984f23434b5d3e79": {
      "model_module": "@jupyter-widgets/controls",
      "model_module_version": "1.5.0",
      "model_name": "HTMLModel",
      "state": {
       "layout": "IPY_MODEL_1cfc3e546ef1408badf32dafec69caa2",
       "style": "IPY_MODEL_9e36c6a2c2dc4d64848f4e59bf8a9f0b",
       "value": " 10000/10000 [00:20&lt;00:00, 487.70it/s]"
      }
     },
     "1281b012fb7b4de7a2b88a6edd083210": {
      "model_module": "@jupyter-widgets/base",
      "model_module_version": "1.2.0",
      "model_name": "LayoutModel",
      "state": {}
     },
     "12a51b4717a84e7cbdf3f319e5ce8a96": {
      "model_module": "@jupyter-widgets/controls",
      "model_module_version": "1.5.0",
      "model_name": "DescriptionStyleModel",
      "state": {
       "description_width": ""
      }
     },
     "137f367258784ef9910fad9ea2fcc053": {
      "model_module": "@jupyter-widgets/controls",
      "model_module_version": "1.5.0",
      "model_name": "ProgressStyleModel",
      "state": {
       "description_width": ""
      }
     },
     "13ab6845b0e34dbeae943a9ee33160ff": {
      "model_module": "@jupyter-widgets/controls",
      "model_module_version": "1.5.0",
      "model_name": "HTMLModel",
      "state": {
       "layout": "IPY_MODEL_997af25d035a4b8aa1d49216911a778c",
       "style": "IPY_MODEL_ea9de88082f34feea8d84bf86de4c76c",
       "value": " 10000/10000 [00:22&lt;00:00, 513.47it/s]"
      }
     },
     "13f59c0fe8a04316a9d3cb103b5beaf2": {
      "model_module": "@jupyter-widgets/controls",
      "model_module_version": "1.5.0",
      "model_name": "HTMLModel",
      "state": {
       "layout": "IPY_MODEL_ccf1ba3379ba49f69cefb39ade47439f",
       "style": "IPY_MODEL_f43ea7c9fe5a48d7ad156733d809b00e",
       "value": "MCMC Iteration: 100%"
      }
     },
     "1403ba3289824a0a9013df1f101f60c5": {
      "model_module": "@jupyter-widgets/controls",
      "model_module_version": "1.5.0",
      "model_name": "FloatProgressModel",
      "state": {
       "bar_style": "danger",
       "layout": "IPY_MODEL_95b65d1707e946deb1e8ee3ee40d0739",
       "max": 3,
       "style": "IPY_MODEL_7ce4c7222bb44cdfbd75d25d9ff85970"
      }
     },
     "14097ad30da74975afe42df965a26447": {
      "model_module": "@jupyter-widgets/controls",
      "model_module_version": "1.5.0",
      "model_name": "ProgressStyleModel",
      "state": {
       "description_width": ""
      }
     },
     "14274dff6c1e4fa18b2e857dd591fae8": {
      "model_module": "@jupyter-widgets/base",
      "model_module_version": "1.2.0",
      "model_name": "LayoutModel",
      "state": {}
     },
     "143773f131454e4ba9cfc2271373481b": {
      "model_module": "@jupyter-widgets/controls",
      "model_module_version": "1.5.0",
      "model_name": "HBoxModel",
      "state": {
       "children": [
        "IPY_MODEL_dadd3e608a3d44d2a5d4825c49bd1fca",
        "IPY_MODEL_0d7b9406fab045ccaba5b808153d96d8",
        "IPY_MODEL_be5b146037de4f37b872c5e3d6ab9c68"
       ],
       "layout": "IPY_MODEL_f755bb14f89a49a88b5cb942a25522f8"
      }
     },
     "1450f88519e7477eaac807cf8ecbfdf7": {
      "model_module": "@jupyter-widgets/controls",
      "model_module_version": "1.5.0",
      "model_name": "HTMLModel",
      "state": {
       "layout": "IPY_MODEL_94ff407185d2489ebfae64cfba1cacd7",
       "style": "IPY_MODEL_db96e8d16cdc4c6dab37b8deb4fba01d",
       "value": "MCMC Iteration: 100%"
      }
     },
     "14547e96e9a14f0b92f41eeedce46bd5": {
      "model_module": "@jupyter-widgets/base",
      "model_module_version": "1.2.0",
      "model_name": "LayoutModel",
      "state": {}
     },
     "14620aaae29348f6816131ffbea3bcfe": {
      "model_module": "@jupyter-widgets/base",
      "model_module_version": "1.2.0",
      "model_name": "LayoutModel",
      "state": {}
     },
     "14c9c1cddb52457cb7c56a54947d58bd": {
      "model_module": "@jupyter-widgets/base",
      "model_module_version": "1.2.0",
      "model_name": "LayoutModel",
      "state": {}
     },
     "14d658fd7e3d4f2981c89432b879eb90": {
      "model_module": "@jupyter-widgets/base",
      "model_module_version": "1.2.0",
      "model_name": "LayoutModel",
      "state": {}
     },
     "15a595ca9a4d4012a8bda221e5d5f7b7": {
      "model_module": "@jupyter-widgets/base",
      "model_module_version": "1.2.0",
      "model_name": "LayoutModel",
      "state": {}
     },
     "15ed12adcf284710b4a51b55b60d1932": {
      "model_module": "@jupyter-widgets/base",
      "model_module_version": "1.2.0",
      "model_name": "LayoutModel",
      "state": {}
     },
     "1622441e68b140b2b1249553a4bd09eb": {
      "model_module": "@jupyter-widgets/base",
      "model_module_version": "1.2.0",
      "model_name": "LayoutModel",
      "state": {}
     },
     "16319e50aebb42699a6ddd325f343596": {
      "model_module": "@jupyter-widgets/base",
      "model_module_version": "1.2.0",
      "model_name": "LayoutModel",
      "state": {}
     },
     "169a152105554214a6df5096fe04d469": {
      "model_module": "@jupyter-widgets/controls",
      "model_module_version": "1.5.0",
      "model_name": "ProgressStyleModel",
      "state": {
       "description_width": ""
      }
     },
     "16bd52e2e5344491a118a583515caade": {
      "model_module": "@jupyter-widgets/base",
      "model_module_version": "1.2.0",
      "model_name": "LayoutModel",
      "state": {}
     },
     "16f194d7c90c4ff7985abfac9a2e5be8": {
      "model_module": "@jupyter-widgets/controls",
      "model_module_version": "1.5.0",
      "model_name": "FloatProgressModel",
      "state": {
       "bar_style": "success",
       "layout": "IPY_MODEL_9e2ac815589141168e126e2705f3c7a0",
       "max": 10000,
       "style": "IPY_MODEL_875601b2d9224a1fb47e11d55308b6ca",
       "value": 10000
      }
     },
     "16fa820b43a64787952ee2402d8dd497": {
      "model_module": "@jupyter-widgets/controls",
      "model_module_version": "1.5.0",
      "model_name": "HBoxModel",
      "state": {
       "children": [
        "IPY_MODEL_70fa0f2d14f5494e962b91b94399bbfb",
        "IPY_MODEL_397cc3227c7f47be9a234d3cc0448968",
        "IPY_MODEL_f74f1f5f0b6b4deeb4427f3995ba6942"
       ],
       "layout": "IPY_MODEL_980145a7b575470d88f9eec631462e8c"
      }
     },
     "178c7394300d4ce4b90f13f74ca8f7ff": {
      "model_module": "@jupyter-widgets/controls",
      "model_module_version": "1.5.0",
      "model_name": "FloatProgressModel",
      "state": {
       "bar_style": "success",
       "layout": "IPY_MODEL_8e441bf84b6e479bb70ab4d3ad5ba8c7",
       "max": 10000,
       "style": "IPY_MODEL_28293816d27848b0aed2d028a487c4c0",
       "value": 10000
      }
     },
     "17c32571dc014a448bc913c90b3f9a4f": {
      "model_module": "@jupyter-widgets/base",
      "model_module_version": "1.2.0",
      "model_name": "LayoutModel",
      "state": {}
     },
     "17c7396510394464adec2497226dafea": {
      "model_module": "@jupyter-widgets/base",
      "model_module_version": "1.2.0",
      "model_name": "LayoutModel",
      "state": {}
     },
     "17d7a4236fe6454fb382bb7a7978f841": {
      "model_module": "@jupyter-widgets/base",
      "model_module_version": "1.2.0",
      "model_name": "LayoutModel",
      "state": {}
     },
     "17d9e60e1668428d817fb199dd2ae18b": {
      "model_module": "@jupyter-widgets/controls",
      "model_module_version": "1.5.0",
      "model_name": "DescriptionStyleModel",
      "state": {
       "description_width": ""
      }
     },
     "1815e99fa81e42a891f1acab5cb3f1e7": {
      "model_module": "@jupyter-widgets/base",
      "model_module_version": "1.2.0",
      "model_name": "LayoutModel",
      "state": {}
     },
     "1842de4fac884303b15723b9f4d62868": {
      "model_module": "@jupyter-widgets/controls",
      "model_module_version": "1.5.0",
      "model_name": "HTMLModel",
      "state": {
       "layout": "IPY_MODEL_4b406a1997624f0cbaca1b862889f805",
       "style": "IPY_MODEL_c7da1bf96c5b42639940d34cd1531a26",
       "value": " 10000/10000 [00:16&lt;00:00, 677.92it/s]"
      }
     },
     "185a91fe928e4cb59d3618362a560603": {
      "model_module": "@jupyter-widgets/controls",
      "model_module_version": "1.5.0",
      "model_name": "HTMLModel",
      "state": {
       "layout": "IPY_MODEL_b5d3f0f65b0b4543a719c7df2eb0207e",
       "style": "IPY_MODEL_e18dcf4753f448a395a97c53fa8cc03c",
       "value": " 10000/10000 [00:21&lt;00:00, 428.53it/s]"
      }
     },
     "18bfd98fd346458f98cc7ef328cfea14": {
      "model_module": "@jupyter-widgets/controls",
      "model_module_version": "1.5.0",
      "model_name": "FloatProgressModel",
      "state": {
       "bar_style": "success",
       "layout": "IPY_MODEL_60d4b540997541fcbe340523e7f3dca4",
       "max": 10000,
       "style": "IPY_MODEL_0821149108d54fc69a70133231205158",
       "value": 10000
      }
     },
     "190b13a4a7b049e69c856ca35d9cf5fa": {
      "model_module": "@jupyter-widgets/controls",
      "model_module_version": "1.5.0",
      "model_name": "ProgressStyleModel",
      "state": {
       "description_width": ""
      }
     },
     "19616b5fe21d4f9581ea2754e553558c": {
      "model_module": "@jupyter-widgets/controls",
      "model_module_version": "1.5.0",
      "model_name": "ProgressStyleModel",
      "state": {
       "description_width": ""
      }
     },
     "196716a6fd3c4d0aa973add1875a28c8": {
      "model_module": "@jupyter-widgets/controls",
      "model_module_version": "1.5.0",
      "model_name": "HBoxModel",
      "state": {
       "children": [
        "IPY_MODEL_13f59c0fe8a04316a9d3cb103b5beaf2",
        "IPY_MODEL_3095f5f586a6495fb6c7629aad39f3a7",
        "IPY_MODEL_93c16ba8e0d14a6cb01fa4f842a5154e"
       ],
       "layout": "IPY_MODEL_d31479404551471db591eb9acd9b9f1b"
      }
     },
     "199fae2d28684ca4a0120a866047bbac": {
      "model_module": "@jupyter-widgets/controls",
      "model_module_version": "1.5.0",
      "model_name": "HBoxModel",
      "state": {
       "children": [
        "IPY_MODEL_22b679d7e9ab472b9ac6e656b15e45c5",
        "IPY_MODEL_34c2f5f8a2bb4034b48a0b1598c9dd4f",
        "IPY_MODEL_de8f6f87be554a7d962fcb4b651c999c"
       ],
       "layout": "IPY_MODEL_a32638f8ed08490ba988d30277da31e9"
      }
     },
     "19dfcad7b1de49808f4bf0750807088c": {
      "model_module": "@jupyter-widgets/controls",
      "model_module_version": "1.5.0",
      "model_name": "HBoxModel",
      "state": {
       "children": [
        "IPY_MODEL_1e28fba23e42402abfe12abe47d2ae78",
        "IPY_MODEL_abdae6dc7f534ca595260ff8f343344e",
        "IPY_MODEL_ac6f39fbb98044d5acd20b0392432ecb"
       ],
       "layout": "IPY_MODEL_cd30d062a62c49399ada604851c2ff25"
      }
     },
     "19e72b2967ee45079815cf5511e5e0d4": {
      "model_module": "@jupyter-widgets/controls",
      "model_module_version": "1.5.0",
      "model_name": "HTMLModel",
      "state": {
       "layout": "IPY_MODEL_f19eb426c134491bb74477074416a5cf",
       "style": "IPY_MODEL_2ca426ba596b42038e2cb19717f2182f",
       "value": "MCMC Iteration: 100%"
      }
     },
     "19eb6596263e453483c4ddf0b0396a81": {
      "model_module": "@jupyter-widgets/controls",
      "model_module_version": "1.5.0",
      "model_name": "ProgressStyleModel",
      "state": {
       "description_width": ""
      }
     },
     "1a58d55d9ec344c49272b60e49dd96c0": {
      "model_module": "@jupyter-widgets/controls",
      "model_module_version": "1.5.0",
      "model_name": "HTMLModel",
      "state": {
       "layout": "IPY_MODEL_9c251c67cd6e44a8881c480ae5f4df80",
       "style": "IPY_MODEL_97f2e74bda6d4f6a8a0cd40516abcd01",
       "value": "MCMC Iteration: 100%"
      }
     },
     "1a6fe863ab5c4c9b91a130961dddbbf8": {
      "model_module": "@jupyter-widgets/controls",
      "model_module_version": "1.5.0",
      "model_name": "DescriptionStyleModel",
      "state": {
       "description_width": ""
      }
     },
     "1a91c54a550c4d96a6de5be49a829477": {
      "model_module": "@jupyter-widgets/base",
      "model_module_version": "1.2.0",
      "model_name": "LayoutModel",
      "state": {}
     },
     "1abe20e22ed44dd09507087e1d3650fd": {
      "model_module": "@jupyter-widgets/base",
      "model_module_version": "1.2.0",
      "model_name": "LayoutModel",
      "state": {}
     },
     "1ad02e7c2bcd42c48aebdb6c3efdfa8e": {
      "model_module": "@jupyter-widgets/base",
      "model_module_version": "1.2.0",
      "model_name": "LayoutModel",
      "state": {}
     },
     "1af42fcabd8e462992bdbe21ca044c08": {
      "model_module": "@jupyter-widgets/base",
      "model_module_version": "1.2.0",
      "model_name": "LayoutModel",
      "state": {}
     },
     "1b254d66c81a4e2cb667696957401c36": {
      "model_module": "@jupyter-widgets/controls",
      "model_module_version": "1.5.0",
      "model_name": "DescriptionStyleModel",
      "state": {
       "description_width": ""
      }
     },
     "1b379a9dede748f19bbd5cf5e16c03a8": {
      "model_module": "@jupyter-widgets/controls",
      "model_module_version": "1.5.0",
      "model_name": "ProgressStyleModel",
      "state": {
       "description_width": ""
      }
     },
     "1b561e831eaf4a6f88594c211890bde5": {
      "model_module": "@jupyter-widgets/controls",
      "model_module_version": "1.5.0",
      "model_name": "HTMLModel",
      "state": {
       "layout": "IPY_MODEL_f44bb9487c764c5c927712fd43d7fdcd",
       "style": "IPY_MODEL_007e661853d04d14907c4f3f793d7be7",
       "value": "MCMC Iteration: 100%"
      }
     },
     "1b761454596749039646b7ba663a70eb": {
      "model_module": "@jupyter-widgets/base",
      "model_module_version": "1.2.0",
      "model_name": "LayoutModel",
      "state": {}
     },
     "1b9738deddd147b7b6013c3724850f10": {
      "model_module": "@jupyter-widgets/controls",
      "model_module_version": "1.5.0",
      "model_name": "FloatProgressModel",
      "state": {
       "bar_style": "success",
       "layout": "IPY_MODEL_754538d994f541efaff8c7329a546a8e",
       "max": 10000,
       "style": "IPY_MODEL_8372472408e7449eafd8d96cf1ce467a",
       "value": 10000
      }
     },
     "1bad87bea6b54abba66f841e693719ee": {
      "model_module": "@jupyter-widgets/base",
      "model_module_version": "1.2.0",
      "model_name": "LayoutModel",
      "state": {}
     },
     "1bd25f50e2b748359edd3eeb08ef2619": {
      "model_module": "@jupyter-widgets/controls",
      "model_module_version": "1.5.0",
      "model_name": "DescriptionStyleModel",
      "state": {
       "description_width": ""
      }
     },
     "1be01c1410f14145a502acad9f7a0519": {
      "model_module": "@jupyter-widgets/controls",
      "model_module_version": "1.5.0",
      "model_name": "HTMLModel",
      "state": {
       "layout": "IPY_MODEL_ec18ba73f04e4cffb3fe3824f0b6eb1c",
       "style": "IPY_MODEL_af6499e010664ba3adf6dc4ff0e15ed1",
       "value": " 10000/10000 [00:09&lt;00:00, 1148.56it/s]"
      }
     },
     "1c22a1135ebe478b9090c32835951734": {
      "model_module": "@jupyter-widgets/controls",
      "model_module_version": "1.5.0",
      "model_name": "HTMLModel",
      "state": {
       "layout": "IPY_MODEL_1af42fcabd8e462992bdbe21ca044c08",
       "style": "IPY_MODEL_7e31a0cc0f4f4d3cb0b7979b94e3893d",
       "value": "MCMC Iteration: 100%"
      }
     },
     "1c6ea5db7bd84a2bbb186208b55bb736": {
      "model_module": "@jupyter-widgets/base",
      "model_module_version": "1.2.0",
      "model_name": "LayoutModel",
      "state": {}
     },
     "1c8fb47a4858409c861cab5c46e5dd99": {
      "model_module": "@jupyter-widgets/controls",
      "model_module_version": "1.5.0",
      "model_name": "ProgressStyleModel",
      "state": {
       "description_width": ""
      }
     },
     "1ccb61f441e140c8b42e26972be0f23b": {
      "model_module": "@jupyter-widgets/controls",
      "model_module_version": "1.5.0",
      "model_name": "DescriptionStyleModel",
      "state": {
       "description_width": ""
      }
     },
     "1cfc3e546ef1408badf32dafec69caa2": {
      "model_module": "@jupyter-widgets/base",
      "model_module_version": "1.2.0",
      "model_name": "LayoutModel",
      "state": {}
     },
     "1d18857fbe9e4fe9b3341e64a79a794c": {
      "model_module": "@jupyter-widgets/base",
      "model_module_version": "1.2.0",
      "model_name": "LayoutModel",
      "state": {}
     },
     "1d1bba96e1b648cd832d7af4489b4267": {
      "model_module": "@jupyter-widgets/base",
      "model_module_version": "1.2.0",
      "model_name": "LayoutModel",
      "state": {}
     },
     "1d46691b1f3f40e685a891d0e5b80320": {
      "model_module": "@jupyter-widgets/base",
      "model_module_version": "1.2.0",
      "model_name": "LayoutModel",
      "state": {}
     },
     "1d4cc273461c438383d5cc5691219437": {
      "model_module": "@jupyter-widgets/base",
      "model_module_version": "1.2.0",
      "model_name": "LayoutModel",
      "state": {}
     },
     "1d6c7a13314d4d2ab2e85e8a2ae9177f": {
      "model_module": "@jupyter-widgets/controls",
      "model_module_version": "1.5.0",
      "model_name": "ProgressStyleModel",
      "state": {
       "description_width": ""
      }
     },
     "1d77d92684594965bac6812a533bdb35": {
      "model_module": "@jupyter-widgets/controls",
      "model_module_version": "1.5.0",
      "model_name": "ProgressStyleModel",
      "state": {
       "description_width": ""
      }
     },
     "1d963d4b90624af7a793a933f771b6ab": {
      "model_module": "@jupyter-widgets/controls",
      "model_module_version": "1.5.0",
      "model_name": "FloatProgressModel",
      "state": {
       "bar_style": "success",
       "layout": "IPY_MODEL_d60f2876d7fa4119a81ed8e455b493c3",
       "max": 10000,
       "style": "IPY_MODEL_6843b698f73f420a98f286b6799eb06c",
       "value": 10000
      }
     },
     "1dd29ca583cc4d06993a7f15d2a6d6a2": {
      "model_module": "@jupyter-widgets/controls",
      "model_module_version": "1.5.0",
      "model_name": "HTMLModel",
      "state": {
       "layout": "IPY_MODEL_ba91591c016145d791d5f06280bc0e2a",
       "style": "IPY_MODEL_6a0500b3248e499bbeaed37f3244fffe",
       "value": " 10000/10000 [00:09&lt;00:00, 1114.69it/s]"
      }
     },
     "1dde227e60944a03ba9f8b1d664c76a2": {
      "model_module": "@jupyter-widgets/controls",
      "model_module_version": "1.5.0",
      "model_name": "DescriptionStyleModel",
      "state": {
       "description_width": ""
      }
     },
     "1e28fba23e42402abfe12abe47d2ae78": {
      "model_module": "@jupyter-widgets/controls",
      "model_module_version": "1.5.0",
      "model_name": "HTMLModel",
      "state": {
       "layout": "IPY_MODEL_7672327be7834472bfeed3c964f8898a",
       "style": "IPY_MODEL_847041d37b7b497596e955fc291930b9",
       "value": "MCMC Iteration: 100%"
      }
     },
     "1e5562f7071248e4b06810378a764d46": {
      "model_module": "@jupyter-widgets/base",
      "model_module_version": "1.2.0",
      "model_name": "LayoutModel",
      "state": {}
     },
     "1e76c21ac5e745bb85f82d88d44b1678": {
      "model_module": "@jupyter-widgets/controls",
      "model_module_version": "1.5.0",
      "model_name": "HTMLModel",
      "state": {
       "layout": "IPY_MODEL_dbe161f59e15409da4d070c21480bf4a",
       "style": "IPY_MODEL_1195ab74838e462c8df6805afefacaeb",
       "value": "MCMC Iteration: 100%"
      }
     },
     "1e9071bda6ec44e7b35e5ecaeb835729": {
      "model_module": "@jupyter-widgets/controls",
      "model_module_version": "1.5.0",
      "model_name": "DescriptionStyleModel",
      "state": {
       "description_width": ""
      }
     },
     "1eca22761be6449ab7630581f377bb5b": {
      "model_module": "@jupyter-widgets/controls",
      "model_module_version": "1.5.0",
      "model_name": "HTMLModel",
      "state": {
       "layout": "IPY_MODEL_b4494de14623458e97d5e241a1d25737",
       "style": "IPY_MODEL_5463b67a9c974b52812b6607b5f90284",
       "value": "MCMC Iteration: 100%"
      }
     },
     "1ed712db8c3245eeacc5c168d545c89d": {
      "model_module": "@jupyter-widgets/controls",
      "model_module_version": "1.5.0",
      "model_name": "HTMLModel",
      "state": {
       "layout": "IPY_MODEL_1d1bba96e1b648cd832d7af4489b4267",
       "style": "IPY_MODEL_3727ef5a33054144ab6617fa853de70b",
       "value": "MCMC Iteration: 100%"
      }
     },
     "1eddedd2d89b492a85d31f9c7d220c97": {
      "model_module": "@jupyter-widgets/controls",
      "model_module_version": "1.5.0",
      "model_name": "DescriptionStyleModel",
      "state": {
       "description_width": ""
      }
     },
     "1efc2e3478c446d9b5ae80763e2a1840": {
      "model_module": "@jupyter-widgets/controls",
      "model_module_version": "1.5.0",
      "model_name": "DescriptionStyleModel",
      "state": {
       "description_width": ""
      }
     },
     "1f48eb5f6088447da0e08266e0720405": {
      "model_module": "@jupyter-widgets/controls",
      "model_module_version": "1.5.0",
      "model_name": "HBoxModel",
      "state": {
       "children": [
        "IPY_MODEL_a6030349ea014569a3fa36f3543e92a5",
        "IPY_MODEL_b806c07abee042ddb0eeb85fea1900fd",
        "IPY_MODEL_31982da0b387498681131689a898596a"
       ],
       "layout": "IPY_MODEL_eb4d2961317d45c08f5117f8e470974f"
      }
     },
     "1f5e1d177e3c4eb199f47a9f1b337458": {
      "model_module": "@jupyter-widgets/controls",
      "model_module_version": "1.5.0",
      "model_name": "ProgressStyleModel",
      "state": {
       "description_width": ""
      }
     },
     "1f6c6e012bf34dafbecccd5c4ddef848": {
      "model_module": "@jupyter-widgets/controls",
      "model_module_version": "1.5.0",
      "model_name": "ProgressStyleModel",
      "state": {
       "description_width": ""
      }
     },
     "1f82fb9a88c349239c073a7ebf0fdd36": {
      "model_module": "@jupyter-widgets/base",
      "model_module_version": "1.2.0",
      "model_name": "LayoutModel",
      "state": {}
     },
     "1fd49f8fcd984cc291ec9468b6d407f6": {
      "model_module": "@jupyter-widgets/base",
      "model_module_version": "1.2.0",
      "model_name": "LayoutModel",
      "state": {}
     },
     "1fd8a65bd746428e93fe1977f78b26a1": {
      "model_module": "@jupyter-widgets/base",
      "model_module_version": "1.2.0",
      "model_name": "LayoutModel",
      "state": {}
     },
     "1feb3ae5521a412681d5cc69db67b817": {
      "model_module": "@jupyter-widgets/controls",
      "model_module_version": "1.5.0",
      "model_name": "HTMLModel",
      "state": {
       "layout": "IPY_MODEL_09af6cce31f94fb992221ecdda94259e",
       "style": "IPY_MODEL_027fd8f8238a4cfa8e3770b011561815",
       "value": " 10000/10000 [00:27&lt;00:00, 373.10it/s]"
      }
     },
     "1ff4cf95e2d947b1ae1372fb1cc1e527": {
      "model_module": "@jupyter-widgets/controls",
      "model_module_version": "1.5.0",
      "model_name": "FloatProgressModel",
      "state": {
       "bar_style": "success",
       "layout": "IPY_MODEL_25d5bfcb6c5842efab78141036f7447f",
       "max": 10000,
       "style": "IPY_MODEL_c0b7b35252694227bfc2d61fb60b2b6e",
       "value": 10000
      }
     },
     "207233594ffa45baaf3087a0478a7eea": {
      "model_module": "@jupyter-widgets/controls",
      "model_module_version": "1.5.0",
      "model_name": "FloatProgressModel",
      "state": {
       "bar_style": "success",
       "layout": "IPY_MODEL_7545ac080b7e4973aa5e74b336e0e150",
       "max": 10000,
       "style": "IPY_MODEL_e2a4fe4c3e09442981ef961f2a0cea70",
       "value": 10000
      }
     },
     "20ca005149da4670b03a77a5a60668b7": {
      "model_module": "@jupyter-widgets/base",
      "model_module_version": "1.2.0",
      "model_name": "LayoutModel",
      "state": {}
     },
     "20e7e0f3f5f54793902dd0768af0f3be": {
      "model_module": "@jupyter-widgets/controls",
      "model_module_version": "1.5.0",
      "model_name": "DescriptionStyleModel",
      "state": {
       "description_width": ""
      }
     },
     "20ee26e04a874a7484dfef58484b5a33": {
      "model_module": "@jupyter-widgets/controls",
      "model_module_version": "1.5.0",
      "model_name": "HBoxModel",
      "state": {
       "children": [
        "IPY_MODEL_30bfe8dc321541c0a6518e675f922a01",
        "IPY_MODEL_49d8a29ba419411db49819c2a4dd2aea",
        "IPY_MODEL_cab36423edcb43eaa39f19043cbb35ba"
       ],
       "layout": "IPY_MODEL_468a74bd509d4aa29a390922c8aee912"
      }
     },
     "20f5ec6c7952411ab19d5f8d2c686201": {
      "model_module": "@jupyter-widgets/controls",
      "model_module_version": "1.5.0",
      "model_name": "FloatProgressModel",
      "state": {
       "bar_style": "success",
       "layout": "IPY_MODEL_1f82fb9a88c349239c073a7ebf0fdd36",
       "max": 10000,
       "style": "IPY_MODEL_fe6686ada73c4ec78a9cb3454b07ae06",
       "value": 10000
      }
     },
     "212aea2fb4cf4f9e8d4a9c100b6fb425": {
      "model_module": "@jupyter-widgets/base",
      "model_module_version": "1.2.0",
      "model_name": "LayoutModel",
      "state": {}
     },
     "2133442b0d2c468aafa0aa65d9c51a10": {
      "model_module": "@jupyter-widgets/controls",
      "model_module_version": "1.5.0",
      "model_name": "HTMLModel",
      "state": {
       "layout": "IPY_MODEL_d46c4f9a6bce422ca6dc3787efea0fc6",
       "style": "IPY_MODEL_894e2d5b237145468a0962f42bd3a745",
       "value": " 10000/10000 [00:07&lt;00:00, 1267.28it/s]"
      }
     },
     "215319039a0a4702985a9fb6ee5174f3": {
      "model_module": "@jupyter-widgets/base",
      "model_module_version": "1.2.0",
      "model_name": "LayoutModel",
      "state": {}
     },
     "2168ac1bf71240e1a16a0d1001bd638e": {
      "model_module": "@jupyter-widgets/base",
      "model_module_version": "1.2.0",
      "model_name": "LayoutModel",
      "state": {}
     },
     "2245e0fa1a1f4e13a1a2ddac1598aaae": {
      "model_module": "@jupyter-widgets/controls",
      "model_module_version": "1.5.0",
      "model_name": "DescriptionStyleModel",
      "state": {
       "description_width": ""
      }
     },
     "227929995c0444e488ca19cb27ff6548": {
      "model_module": "@jupyter-widgets/controls",
      "model_module_version": "1.5.0",
      "model_name": "DescriptionStyleModel",
      "state": {
       "description_width": ""
      }
     },
     "2290910ca73e49afa11cb84b2c04c2b6": {
      "model_module": "@jupyter-widgets/controls",
      "model_module_version": "1.5.0",
      "model_name": "FloatProgressModel",
      "state": {
       "bar_style": "success",
       "layout": "IPY_MODEL_71a93d5010084468bdf48a9eadacac71",
       "max": 10000,
       "style": "IPY_MODEL_c6315cfa656f4ccb8b40d0a09ed85793",
       "value": 10000
      }
     },
     "229243f1f2744cad8d1ed41df5cb1586": {
      "model_module": "@jupyter-widgets/controls",
      "model_module_version": "1.5.0",
      "model_name": "HTMLModel",
      "state": {
       "layout": "IPY_MODEL_ec2c002f29404fcd9449033d669a769b",
       "style": "IPY_MODEL_bd4b918e262a41bcacdde1f32dcf2499",
       "value": "MCMC Iteration: 100%"
      }
     },
     "229deff77a67453eaea1ff6e2ee32b2e": {
      "model_module": "@jupyter-widgets/controls",
      "model_module_version": "1.5.0",
      "model_name": "HBoxModel",
      "state": {
       "children": [
        "IPY_MODEL_68b650128ccf418fa806800a6395c8fc",
        "IPY_MODEL_88c7140dfdce42b7aed932e3a0b814f0",
        "IPY_MODEL_75217de26d564a80b6ae7dac1da5c469"
       ],
       "layout": "IPY_MODEL_cfdbae50598646caa957445321be05c6"
      }
     },
     "22b679d7e9ab472b9ac6e656b15e45c5": {
      "model_module": "@jupyter-widgets/controls",
      "model_module_version": "1.5.0",
      "model_name": "HTMLModel",
      "state": {
       "layout": "IPY_MODEL_a55d9e6b562c4814b964fcb6f35e03e6",
       "style": "IPY_MODEL_f550acc5e7bd43b3bbffc422c2201f64",
       "value": "MCMC Iteration: 100%"
      }
     },
     "230c9afbcca246c1a69e971d8fcde17b": {
      "model_module": "@jupyter-widgets/controls",
      "model_module_version": "1.5.0",
      "model_name": "ProgressStyleModel",
      "state": {
       "description_width": ""
      }
     },
     "23216da6faa34d889e1a02e4f33b1686": {
      "model_module": "@jupyter-widgets/controls",
      "model_module_version": "1.5.0",
      "model_name": "ProgressStyleModel",
      "state": {
       "description_width": ""
      }
     },
     "235ec15b3fae4e72a832c99d8a574021": {
      "model_module": "@jupyter-widgets/controls",
      "model_module_version": "1.5.0",
      "model_name": "FloatProgressModel",
      "state": {
       "bar_style": "success",
       "layout": "IPY_MODEL_20ca005149da4670b03a77a5a60668b7",
       "max": 10000,
       "style": "IPY_MODEL_1d77d92684594965bac6812a533bdb35",
       "value": 10000
      }
     },
     "239e05b2cbae4f9ca4f8d9252f0ea359": {
      "model_module": "@jupyter-widgets/base",
      "model_module_version": "1.2.0",
      "model_name": "LayoutModel",
      "state": {}
     },
     "23a145ef403d4b3eb1c7bf549584df6d": {
      "model_module": "@jupyter-widgets/controls",
      "model_module_version": "1.5.0",
      "model_name": "HTMLModel",
      "state": {
       "layout": "IPY_MODEL_0b3cdebd96f845d5aed4005c1abad7d7",
       "style": "IPY_MODEL_86ecf73c7c2a405889a5bf7873785325",
       "value": "MCMC Iteration: 100%"
      }
     },
     "23a38b6a26a04b6da7c92e9722be1833": {
      "model_module": "@jupyter-widgets/controls",
      "model_module_version": "1.5.0",
      "model_name": "HBoxModel",
      "state": {
       "children": [
        "IPY_MODEL_2e4808e29a8d486fa738ff7419e1e9e4",
        "IPY_MODEL_8417f1a5beed42249c62307867ce4db8",
        "IPY_MODEL_ca09c54aadc44ee7b88a17043be76b1b"
       ],
       "layout": "IPY_MODEL_86e3d4227b5b4882a70bb91e644c9596"
      }
     },
     "23c0861779254be495ed7e7b49a4eb0c": {
      "model_module": "@jupyter-widgets/base",
      "model_module_version": "1.2.0",
      "model_name": "LayoutModel",
      "state": {}
     },
     "23d854d7bc2747d8bc763d47bb2e82b5": {
      "model_module": "@jupyter-widgets/controls",
      "model_module_version": "1.5.0",
      "model_name": "DescriptionStyleModel",
      "state": {
       "description_width": ""
      }
     },
     "23df9443c5074a17bd1c9d90aaa39164": {
      "model_module": "@jupyter-widgets/base",
      "model_module_version": "1.2.0",
      "model_name": "LayoutModel",
      "state": {}
     },
     "2447b91bd85648c39cf812e7559ebcb5": {
      "model_module": "@jupyter-widgets/base",
      "model_module_version": "1.2.0",
      "model_name": "LayoutModel",
      "state": {}
     },
     "247386f7ea5840ad814e1042f39b9b60": {
      "model_module": "@jupyter-widgets/base",
      "model_module_version": "1.2.0",
      "model_name": "LayoutModel",
      "state": {}
     },
     "2481d5e6316b4ac39af947cc2659fe5b": {
      "model_module": "@jupyter-widgets/base",
      "model_module_version": "1.2.0",
      "model_name": "LayoutModel",
      "state": {}
     },
     "2484b9c41a1b4b3785e99098a49852f4": {
      "model_module": "@jupyter-widgets/controls",
      "model_module_version": "1.5.0",
      "model_name": "ProgressStyleModel",
      "state": {
       "description_width": ""
      }
     },
     "24c0b60cca23418c8bf8cd734ef16786": {
      "model_module": "@jupyter-widgets/controls",
      "model_module_version": "1.5.0",
      "model_name": "DescriptionStyleModel",
      "state": {
       "description_width": ""
      }
     },
     "24f7e7d2bd6c4034a4c08cd418c57951": {
      "model_module": "@jupyter-widgets/base",
      "model_module_version": "1.2.0",
      "model_name": "LayoutModel",
      "state": {}
     },
     "25018fc1dde5464b9bdb70fd43e3c02d": {
      "model_module": "@jupyter-widgets/controls",
      "model_module_version": "1.5.0",
      "model_name": "HTMLModel",
      "state": {
       "layout": "IPY_MODEL_4c6d1adf639a4bb4832630f43b9dbdbc",
       "style": "IPY_MODEL_0ef7d1f0a7b14dfcac22399649aecfbe",
       "value": "MCMC Iteration: 100%"
      }
     },
     "2520396d0e8148fea3846fa3a879c9d3": {
      "model_module": "@jupyter-widgets/base",
      "model_module_version": "1.2.0",
      "model_name": "LayoutModel",
      "state": {}
     },
     "25685473122d40939a83892d59a3ab38": {
      "model_module": "@jupyter-widgets/base",
      "model_module_version": "1.2.0",
      "model_name": "LayoutModel",
      "state": {}
     },
     "256ca6cf72894fd3b590895a2be99049": {
      "model_module": "@jupyter-widgets/base",
      "model_module_version": "1.2.0",
      "model_name": "LayoutModel",
      "state": {}
     },
     "25835a538b53401781f9c23504395a2a": {
      "model_module": "@jupyter-widgets/base",
      "model_module_version": "1.2.0",
      "model_name": "LayoutModel",
      "state": {}
     },
     "25d5bfcb6c5842efab78141036f7447f": {
      "model_module": "@jupyter-widgets/base",
      "model_module_version": "1.2.0",
      "model_name": "LayoutModel",
      "state": {}
     },
     "2634efe4ac334286b6709375cd555b21": {
      "model_module": "@jupyter-widgets/controls",
      "model_module_version": "1.5.0",
      "model_name": "FloatProgressModel",
      "state": {
       "bar_style": "success",
       "layout": "IPY_MODEL_4800dfe949f64d41abc0e3565b2d9cc0",
       "max": 10000,
       "style": "IPY_MODEL_8a61e7fa07de444fa5b8ce8d3ecc690d",
       "value": 10000
      }
     },
     "2643d566136245d39d3b2fef35d5903a": {
      "model_module": "@jupyter-widgets/base",
      "model_module_version": "1.2.0",
      "model_name": "LayoutModel",
      "state": {}
     },
     "264ac1de26d348d1be37157b90a07e65": {
      "model_module": "@jupyter-widgets/base",
      "model_module_version": "1.2.0",
      "model_name": "LayoutModel",
      "state": {}
     },
     "2650ab19f48c4216a23c31ae00be0c6e": {
      "model_module": "@jupyter-widgets/base",
      "model_module_version": "1.2.0",
      "model_name": "LayoutModel",
      "state": {}
     },
     "266e66ccdc4c4ae89f175fdaf89057ad": {
      "model_module": "@jupyter-widgets/base",
      "model_module_version": "1.2.0",
      "model_name": "LayoutModel",
      "state": {}
     },
     "26b4674731c44ee99069477669857a20": {
      "model_module": "@jupyter-widgets/controls",
      "model_module_version": "1.5.0",
      "model_name": "ProgressStyleModel",
      "state": {
       "description_width": ""
      }
     },
     "26b9086d0aaa49949827afb1db53580e": {
      "model_module": "@jupyter-widgets/base",
      "model_module_version": "1.2.0",
      "model_name": "LayoutModel",
      "state": {}
     },
     "270ad9161c324a4282a45e7826a06848": {
      "model_module": "@jupyter-widgets/base",
      "model_module_version": "1.2.0",
      "model_name": "LayoutModel",
      "state": {}
     },
     "2737930f0d934d97abf369a927097bf1": {
      "model_module": "@jupyter-widgets/base",
      "model_module_version": "1.2.0",
      "model_name": "LayoutModel",
      "state": {}
     },
     "2754620a34094974a7a2fb1dbd4e0d5d": {
      "model_module": "@jupyter-widgets/base",
      "model_module_version": "1.2.0",
      "model_name": "LayoutModel",
      "state": {}
     },
     "2764ba9c99204dada756a8163da51080": {
      "model_module": "@jupyter-widgets/controls",
      "model_module_version": "1.5.0",
      "model_name": "DescriptionStyleModel",
      "state": {
       "description_width": ""
      }
     },
     "27b7c2f0b1204db58b1077cc25a63ec0": {
      "model_module": "@jupyter-widgets/controls",
      "model_module_version": "1.5.0",
      "model_name": "HTMLModel",
      "state": {
       "layout": "IPY_MODEL_482790133e4f4dd7b7fb843c91e665a6",
       "style": "IPY_MODEL_978be0a1e3d84cbcb543bc915c1cc3f0",
       "value": " 10000/10000 [00:07&lt;00:00, 1365.78it/s]"
      }
     },
     "28066a6f50774f32a37da8b090f3e81d": {
      "model_module": "@jupyter-widgets/base",
      "model_module_version": "1.2.0",
      "model_name": "LayoutModel",
      "state": {}
     },
     "280e378e1cd9412ba8221a12ccfe1aca": {
      "model_module": "@jupyter-widgets/controls",
      "model_module_version": "1.5.0",
      "model_name": "DescriptionStyleModel",
      "state": {
       "description_width": ""
      }
     },
     "28293816d27848b0aed2d028a487c4c0": {
      "model_module": "@jupyter-widgets/controls",
      "model_module_version": "1.5.0",
      "model_name": "ProgressStyleModel",
      "state": {
       "description_width": ""
      }
     },
     "2833db0d73c744bab247542db61c789f": {
      "model_module": "@jupyter-widgets/controls",
      "model_module_version": "1.5.0",
      "model_name": "HTMLModel",
      "state": {
       "layout": "IPY_MODEL_a8658542125849678b3aab66cb663e72",
       "style": "IPY_MODEL_068e9ded25aa4b70b224a42fdb29107a",
       "value": " 10000/10000 [00:07&lt;00:00, 1359.77it/s]"
      }
     },
     "289ccabba4164d40b853d37ffb287df9": {
      "model_module": "@jupyter-widgets/base",
      "model_module_version": "1.2.0",
      "model_name": "LayoutModel",
      "state": {}
     },
     "28c2bdddc04744b2934f0b4527c0d251": {
      "model_module": "@jupyter-widgets/controls",
      "model_module_version": "1.5.0",
      "model_name": "HBoxModel",
      "state": {
       "children": [
        "IPY_MODEL_356854b5ce4b4015aed062e817f278bd",
        "IPY_MODEL_e5c9efd4c72543518fd43ae939313dc6",
        "IPY_MODEL_82c80cad8697478da7bbe1c1fcc59173"
       ],
       "layout": "IPY_MODEL_09989bab189d4dde92179c9e85e34301"
      }
     },
     "2918a10f33784688a6438832baf0230c": {
      "model_module": "@jupyter-widgets/base",
      "model_module_version": "1.2.0",
      "model_name": "LayoutModel",
      "state": {}
     },
     "2945a3314be744aab7a9e295ac7c1648": {
      "model_module": "@jupyter-widgets/controls",
      "model_module_version": "1.5.0",
      "model_name": "DescriptionStyleModel",
      "state": {
       "description_width": ""
      }
     },
     "296b2b2a4ddd455da4bbff64a5f2dfa6": {
      "model_module": "@jupyter-widgets/controls",
      "model_module_version": "1.5.0",
      "model_name": "HBoxModel",
      "state": {
       "children": [
        "IPY_MODEL_62bcc7e129f34727b962b93fb6cae6f1",
        "IPY_MODEL_2634efe4ac334286b6709375cd555b21",
        "IPY_MODEL_fd55341600c24729bf8663030e7d3875"
       ],
       "layout": "IPY_MODEL_6da30207070e4e25a329fd2d6277b00f"
      }
     },
     "296d98a9d7e14b49a8c9c6ea47d2999d": {
      "model_module": "@jupyter-widgets/controls",
      "model_module_version": "1.5.0",
      "model_name": "DescriptionStyleModel",
      "state": {
       "description_width": ""
      }
     },
     "297aa59ca6884a28807116be6be9caa7": {
      "model_module": "@jupyter-widgets/controls",
      "model_module_version": "1.5.0",
      "model_name": "ProgressStyleModel",
      "state": {
       "description_width": ""
      }
     },
     "299a432e8a4b43e0b653ce0484e59b4b": {
      "model_module": "@jupyter-widgets/base",
      "model_module_version": "1.2.0",
      "model_name": "LayoutModel",
      "state": {}
     },
     "29b36f4778b846d2b8d806df1e57378c": {
      "model_module": "@jupyter-widgets/controls",
      "model_module_version": "1.5.0",
      "model_name": "DescriptionStyleModel",
      "state": {
       "description_width": ""
      }
     },
     "2a5629aba1444393b5cf9cc6df616b6a": {
      "model_module": "@jupyter-widgets/base",
      "model_module_version": "1.2.0",
      "model_name": "LayoutModel",
      "state": {}
     },
     "2a5aa45344214ec6955602ae0d6a8e13": {
      "model_module": "@jupyter-widgets/controls",
      "model_module_version": "1.5.0",
      "model_name": "FloatProgressModel",
      "state": {
       "bar_style": "success",
       "layout": "IPY_MODEL_264ac1de26d348d1be37157b90a07e65",
       "max": 10000,
       "style": "IPY_MODEL_3750d3d77f93453eac00dfcf0b97f9ef",
       "value": 10000
      }
     },
     "2ab9720b0a154f89b42863af0d756bde": {
      "model_module": "@jupyter-widgets/controls",
      "model_module_version": "1.5.0",
      "model_name": "DescriptionStyleModel",
      "state": {
       "description_width": ""
      }
     },
     "2aba5c0dd5b9422495018b818d3ed072": {
      "model_module": "@jupyter-widgets/controls",
      "model_module_version": "1.5.0",
      "model_name": "FloatProgressModel",
      "state": {
       "bar_style": "success",
       "layout": "IPY_MODEL_59ddf051ea3a4365afc8ea4cc7851c75",
       "max": 10000,
       "style": "IPY_MODEL_d41976392b1a484b91297c8cdb399571",
       "value": 10000
      }
     },
     "2b0583465c424d9ca70a55da1ee2aca7": {
      "model_module": "@jupyter-widgets/controls",
      "model_module_version": "1.5.0",
      "model_name": "HTMLModel",
      "state": {
       "layout": "IPY_MODEL_f7e442f647f34e1fb2cc706abe799279",
       "style": "IPY_MODEL_1039cae60601486aafb8d653d21480d1",
       "value": "MCMC Iteration: 100%"
      }
     },
     "2b4a701078a3475a9ca537bb072d7f06": {
      "model_module": "@jupyter-widgets/base",
      "model_module_version": "1.2.0",
      "model_name": "LayoutModel",
      "state": {}
     },
     "2b4b7d060adb482c9fe66a8d8b5b52da": {
      "model_module": "@jupyter-widgets/controls",
      "model_module_version": "1.5.0",
      "model_name": "ProgressStyleModel",
      "state": {
       "description_width": ""
      }
     },
     "2b9fd8449bea4e2b8f27e4ad2be49c2f": {
      "model_module": "@jupyter-widgets/base",
      "model_module_version": "1.2.0",
      "model_name": "LayoutModel",
      "state": {}
     },
     "2bb61d1e3a1a472bb4085acfdfd70e7d": {
      "model_module": "@jupyter-widgets/base",
      "model_module_version": "1.2.0",
      "model_name": "LayoutModel",
      "state": {}
     },
     "2ca426ba596b42038e2cb19717f2182f": {
      "model_module": "@jupyter-widgets/controls",
      "model_module_version": "1.5.0",
      "model_name": "DescriptionStyleModel",
      "state": {
       "description_width": ""
      }
     },
     "2d4be8cc5aab44f0b30843378d0460cb": {
      "model_module": "@jupyter-widgets/base",
      "model_module_version": "1.2.0",
      "model_name": "LayoutModel",
      "state": {}
     },
     "2d5fc699e3e94ffc9b343c61289dddfd": {
      "model_module": "@jupyter-widgets/base",
      "model_module_version": "1.2.0",
      "model_name": "LayoutModel",
      "state": {}
     },
     "2dacf4cecce64d59bbd6390388939db6": {
      "model_module": "@jupyter-widgets/base",
      "model_module_version": "1.2.0",
      "model_name": "LayoutModel",
      "state": {}
     },
     "2dacfa52f9674c5b965381f2ebc5df2a": {
      "model_module": "@jupyter-widgets/controls",
      "model_module_version": "1.5.0",
      "model_name": "DescriptionStyleModel",
      "state": {
       "description_width": ""
      }
     },
     "2de8806f55854f8c8be1a6e5401019e5": {
      "model_module": "@jupyter-widgets/controls",
      "model_module_version": "1.5.0",
      "model_name": "ProgressStyleModel",
      "state": {
       "description_width": ""
      }
     },
     "2e4808e29a8d486fa738ff7419e1e9e4": {
      "model_module": "@jupyter-widgets/controls",
      "model_module_version": "1.5.0",
      "model_name": "HTMLModel",
      "state": {
       "layout": "IPY_MODEL_6dfc93704e684f17b642887bd2f50219",
       "style": "IPY_MODEL_974050a56bf6410abb985120c84332fb",
       "value": "MCMC Iteration: 100%"
      }
     },
     "2e59a74312cb45afa3abb314e9a16df4": {
      "model_module": "@jupyter-widgets/base",
      "model_module_version": "1.2.0",
      "model_name": "LayoutModel",
      "state": {}
     },
     "2eab1f6dee0143339b1f01d2385eabed": {
      "model_module": "@jupyter-widgets/controls",
      "model_module_version": "1.5.0",
      "model_name": "DescriptionStyleModel",
      "state": {
       "description_width": ""
      }
     },
     "2f323b97bae24dee8585992afebcd18b": {
      "model_module": "@jupyter-widgets/controls",
      "model_module_version": "1.5.0",
      "model_name": "DescriptionStyleModel",
      "state": {
       "description_width": ""
      }
     },
     "2f90d66eb84d40b09712052c0760e015": {
      "model_module": "@jupyter-widgets/base",
      "model_module_version": "1.2.0",
      "model_name": "LayoutModel",
      "state": {}
     },
     "2fa3c0fe6cce454097201e5b12eefb48": {
      "model_module": "@jupyter-widgets/controls",
      "model_module_version": "1.5.0",
      "model_name": "ProgressStyleModel",
      "state": {
       "description_width": ""
      }
     },
     "2fc2a54f0bd542189285869edb76791c": {
      "model_module": "@jupyter-widgets/base",
      "model_module_version": "1.2.0",
      "model_name": "LayoutModel",
      "state": {}
     },
     "2fd121923c234e57bcce11586428a95f": {
      "model_module": "@jupyter-widgets/controls",
      "model_module_version": "1.5.0",
      "model_name": "DescriptionStyleModel",
      "state": {
       "description_width": ""
      }
     },
     "304ce7879af3402f8a1d7c31fb6f2a0d": {
      "model_module": "@jupyter-widgets/controls",
      "model_module_version": "1.5.0",
      "model_name": "DescriptionStyleModel",
      "state": {
       "description_width": ""
      }
     },
     "305b7c3b241d4c42a199831b342a6082": {
      "model_module": "@jupyter-widgets/base",
      "model_module_version": "1.2.0",
      "model_name": "LayoutModel",
      "state": {}
     },
     "3068c95aa9704022a48faf65acffbddb": {
      "model_module": "@jupyter-widgets/controls",
      "model_module_version": "1.5.0",
      "model_name": "FloatProgressModel",
      "state": {
       "bar_style": "success",
       "layout": "IPY_MODEL_b7de6d3ad61242f0b6cf07aa5e396bc6",
       "max": 10000,
       "style": "IPY_MODEL_b01566c4ff7641109166c0c9be40807d",
       "value": 10000
      }
     },
     "3081e2bc959e4428ac87a06bfaaf9053": {
      "model_module": "@jupyter-widgets/controls",
      "model_module_version": "1.5.0",
      "model_name": "FloatProgressModel",
      "state": {
       "bar_style": "success",
       "layout": "IPY_MODEL_5b6a0b69c4d849d784a483c540e937d0",
       "max": 10000,
       "style": "IPY_MODEL_14097ad30da74975afe42df965a26447",
       "value": 10000
      }
     },
     "3095f5f586a6495fb6c7629aad39f3a7": {
      "model_module": "@jupyter-widgets/controls",
      "model_module_version": "1.5.0",
      "model_name": "FloatProgressModel",
      "state": {
       "bar_style": "success",
       "layout": "IPY_MODEL_2fc2a54f0bd542189285869edb76791c",
       "max": 10000,
       "style": "IPY_MODEL_1b379a9dede748f19bbd5cf5e16c03a8",
       "value": 10000
      }
     },
     "3096049b53fc498092844d0939eb56a6": {
      "model_module": "@jupyter-widgets/controls",
      "model_module_version": "1.5.0",
      "model_name": "HTMLModel",
      "state": {
       "layout": "IPY_MODEL_f46a416c4f0f41698508a3fa21923560",
       "style": "IPY_MODEL_c73580a173ba4b399cc1c05d3d9f9d76",
       "value": " 10000/10000 [00:08&lt;00:00, 1204.73it/s]"
      }
     },
     "30aa82453ca2406f9ef083dd7f816d4a": {
      "model_module": "@jupyter-widgets/controls",
      "model_module_version": "1.5.0",
      "model_name": "DescriptionStyleModel",
      "state": {
       "description_width": ""
      }
     },
     "30bef877d7e4464882fa9772308584c4": {
      "model_module": "@jupyter-widgets/controls",
      "model_module_version": "1.5.0",
      "model_name": "DescriptionStyleModel",
      "state": {
       "description_width": ""
      }
     },
     "30bfe8dc321541c0a6518e675f922a01": {
      "model_module": "@jupyter-widgets/controls",
      "model_module_version": "1.5.0",
      "model_name": "HTMLModel",
      "state": {
       "layout": "IPY_MODEL_e029500baf864033a6126ed898f74132",
       "style": "IPY_MODEL_fbaaff533b5c4044a10a6e731e2549e4",
       "value": "MCMC Iteration: 100%"
      }
     },
     "30e2d5facd2e454fa9b20ca9e210bed5": {
      "model_module": "@jupyter-widgets/controls",
      "model_module_version": "1.5.0",
      "model_name": "HTMLModel",
      "state": {
       "layout": "IPY_MODEL_5310ce8ee16047d4a4a364d91bdd67e5",
       "style": "IPY_MODEL_1a6fe863ab5c4c9b91a130961dddbbf8",
       "value": "MCMC Iteration: 100%"
      }
     },
     "3109a6b6ec984a60a8d566b892a6db8b": {
      "model_module": "@jupyter-widgets/controls",
      "model_module_version": "1.5.0",
      "model_name": "FloatProgressModel",
      "state": {
       "bar_style": "success",
       "layout": "IPY_MODEL_df58333952504c1995b25c5fc206c882",
       "max": 10000,
       "style": "IPY_MODEL_5bea1b33b2024ce090dd394509ba9c37",
       "value": 10000
      }
     },
     "311118db0d434a7cbf4c06e0cd1960ec": {
      "model_module": "@jupyter-widgets/controls",
      "model_module_version": "1.5.0",
      "model_name": "HTMLModel",
      "state": {
       "layout": "IPY_MODEL_3233310d93a0484d91e8ab4b5906e5c1",
       "style": "IPY_MODEL_4afebdcee4d940a0b04d79d2844c3f03",
       "value": " 10000/10000 [00:26&lt;00:00, 380.33it/s]"
      }
     },
     "3129df2f5eae453080c2155e2f01620e": {
      "model_module": "@jupyter-widgets/base",
      "model_module_version": "1.2.0",
      "model_name": "LayoutModel",
      "state": {}
     },
     "3139647c74d5449ca36e554b31f1ec70": {
      "model_module": "@jupyter-widgets/controls",
      "model_module_version": "1.5.0",
      "model_name": "DescriptionStyleModel",
      "state": {
       "description_width": ""
      }
     },
     "314529bfaf9548669340a80cc729be85": {
      "model_module": "@jupyter-widgets/controls",
      "model_module_version": "1.5.0",
      "model_name": "HTMLModel",
      "state": {
       "layout": "IPY_MODEL_bbb39e58c43e483aa9e07f5aa51b48f2",
       "style": "IPY_MODEL_059184cd7f924bfa8a00655171188d55",
       "value": " 10000/10000 [00:10&lt;00:00, 1044.32it/s]"
      }
     },
     "314afe0ad6b24b86926739fbcb5eb6b9": {
      "model_module": "@jupyter-widgets/controls",
      "model_module_version": "1.5.0",
      "model_name": "HTMLModel",
      "state": {
       "layout": "IPY_MODEL_594b87719c8f48b2a13715851acc86ec",
       "style": "IPY_MODEL_2fd121923c234e57bcce11586428a95f",
       "value": " 10000/10000 [00:27&lt;00:00, 367.52it/s]"
      }
     },
     "317807a1c09046cf88ba45f8c250e5a5": {
      "model_module": "@jupyter-widgets/base",
      "model_module_version": "1.2.0",
      "model_name": "LayoutModel",
      "state": {}
     },
     "31982da0b387498681131689a898596a": {
      "model_module": "@jupyter-widgets/controls",
      "model_module_version": "1.5.0",
      "model_name": "HTMLModel",
      "state": {
       "layout": "IPY_MODEL_321c7075b381465ca7b848820cb7204b",
       "style": "IPY_MODEL_0bf94178b82646bba4e95228239d0059",
       "value": " 10000/10000 [00:28&lt;00:00, 364.58it/s]"
      }
     },
     "31a140f380984391af9f3342cd5ce155": {
      "model_module": "@jupyter-widgets/controls",
      "model_module_version": "1.5.0",
      "model_name": "HBoxModel",
      "state": {
       "children": [
        "IPY_MODEL_a8ca1448c81c4a2ca193a5c0c7b5cba4",
        "IPY_MODEL_57d668f454b44fa0a281a9cdc97cb6d0",
        "IPY_MODEL_fc9285149c5d4c2da0d3343728ef9ba7"
       ],
       "layout": "IPY_MODEL_ae02fd5c72a94c8bb1891e178c84eea0"
      }
     },
     "31c6ec2157c64e56a445a45c8160165d": {
      "model_module": "@jupyter-widgets/controls",
      "model_module_version": "1.5.0",
      "model_name": "DescriptionStyleModel",
      "state": {
       "description_width": ""
      }
     },
     "31fcc9b3e22b4d91bc1548700c31ad6f": {
      "model_module": "@jupyter-widgets/controls",
      "model_module_version": "1.5.0",
      "model_name": "HTMLModel",
      "state": {
       "layout": "IPY_MODEL_b64fdf5c958f48828a75d0ad46e672e2",
       "style": "IPY_MODEL_20e7e0f3f5f54793902dd0768af0f3be",
       "value": "MCMC Iteration: 100%"
      }
     },
     "321c7075b381465ca7b848820cb7204b": {
      "model_module": "@jupyter-widgets/base",
      "model_module_version": "1.2.0",
      "model_name": "LayoutModel",
      "state": {}
     },
     "3233310d93a0484d91e8ab4b5906e5c1": {
      "model_module": "@jupyter-widgets/base",
      "model_module_version": "1.2.0",
      "model_name": "LayoutModel",
      "state": {}
     },
     "3287de0ce5ff4241b2f880b23d8318b0": {
      "model_module": "@jupyter-widgets/base",
      "model_module_version": "1.2.0",
      "model_name": "LayoutModel",
      "state": {}
     },
     "32e91e2509da42d8a5c82b1b16438d3a": {
      "model_module": "@jupyter-widgets/base",
      "model_module_version": "1.2.0",
      "model_name": "LayoutModel",
      "state": {}
     },
     "3352d8c56052461883ae75d35e71059c": {
      "model_module": "@jupyter-widgets/controls",
      "model_module_version": "1.5.0",
      "model_name": "ProgressStyleModel",
      "state": {
       "description_width": ""
      }
     },
     "33a4aaf29f394094bc72ea3a17110957": {
      "model_module": "@jupyter-widgets/base",
      "model_module_version": "1.2.0",
      "model_name": "LayoutModel",
      "state": {}
     },
     "33da29c9b32a425da79dc4eb43b4a1a3": {
      "model_module": "@jupyter-widgets/controls",
      "model_module_version": "1.5.0",
      "model_name": "HBoxModel",
      "state": {
       "children": [
        "IPY_MODEL_fbb863f99c334392ac498d4f4b3b6679",
        "IPY_MODEL_375a2c3e1d3e4b79bdbb46da9daa7191",
        "IPY_MODEL_c067f8e6d25c4f9dbc4daaaee7877ddc"
       ],
       "layout": "IPY_MODEL_9832cd5747a144d8b45759458f82a346"
      }
     },
     "33f98ac8d2be48fd8b4efe744e344877": {
      "model_module": "@jupyter-widgets/controls",
      "model_module_version": "1.5.0",
      "model_name": "ProgressStyleModel",
      "state": {
       "description_width": ""
      }
     },
     "3420236602c047e2aa6c2a204b63bc76": {
      "model_module": "@jupyter-widgets/base",
      "model_module_version": "1.2.0",
      "model_name": "LayoutModel",
      "state": {}
     },
     "343f2851686a45fc966cb6721c1a6e5c": {
      "model_module": "@jupyter-widgets/base",
      "model_module_version": "1.2.0",
      "model_name": "LayoutModel",
      "state": {}
     },
     "344f7e10eca2491ba1663bfb7dc71baa": {
      "model_module": "@jupyter-widgets/base",
      "model_module_version": "1.2.0",
      "model_name": "LayoutModel",
      "state": {}
     },
     "34587663cca64e89ad2421233404a7fc": {
      "model_module": "@jupyter-widgets/base",
      "model_module_version": "1.2.0",
      "model_name": "LayoutModel",
      "state": {}
     },
     "34be5ea6f04442b1869ea0089ea98440": {
      "model_module": "@jupyter-widgets/base",
      "model_module_version": "1.2.0",
      "model_name": "LayoutModel",
      "state": {}
     },
     "34c2f5f8a2bb4034b48a0b1598c9dd4f": {
      "model_module": "@jupyter-widgets/controls",
      "model_module_version": "1.5.0",
      "model_name": "FloatProgressModel",
      "state": {
       "bar_style": "success",
       "layout": "IPY_MODEL_e5e4638295b34acbb051f9b3a8511384",
       "max": 10000,
       "style": "IPY_MODEL_169a152105554214a6df5096fe04d469",
       "value": 10000
      }
     },
     "351c52a329864faabcd46d778e3b19ef": {
      "model_module": "@jupyter-widgets/base",
      "model_module_version": "1.2.0",
      "model_name": "LayoutModel",
      "state": {}
     },
     "3548aea75161413b89fd368b7b21da33": {
      "model_module": "@jupyter-widgets/controls",
      "model_module_version": "1.5.0",
      "model_name": "ProgressStyleModel",
      "state": {
       "description_width": ""
      }
     },
     "355a4104bddd442c8e261b6c917e76c6": {
      "model_module": "@jupyter-widgets/controls",
      "model_module_version": "1.5.0",
      "model_name": "DescriptionStyleModel",
      "state": {
       "description_width": ""
      }
     },
     "356854b5ce4b4015aed062e817f278bd": {
      "model_module": "@jupyter-widgets/controls",
      "model_module_version": "1.5.0",
      "model_name": "HTMLModel",
      "state": {
       "layout": "IPY_MODEL_4ee9fbcba2b74a54b282e38a0f36d67f",
       "style": "IPY_MODEL_8c85273f6f9e4bfb8ce50e5e084b7391",
       "value": "MCMC Iteration: 100%"
      }
     },
     "35cff58cd5524957b85a794dbbe8fb6d": {
      "model_module": "@jupyter-widgets/controls",
      "model_module_version": "1.5.0",
      "model_name": "ProgressStyleModel",
      "state": {
       "description_width": ""
      }
     },
     "35dca6a5f5704258aa4f394237382826": {
      "model_module": "@jupyter-widgets/base",
      "model_module_version": "1.2.0",
      "model_name": "LayoutModel",
      "state": {}
     },
     "35f735163f5e4b77b315b128b99bcbdd": {
      "model_module": "@jupyter-widgets/base",
      "model_module_version": "1.2.0",
      "model_name": "LayoutModel",
      "state": {}
     },
     "361f5ffadf414d4caa551bb0fe8704c1": {
      "model_module": "@jupyter-widgets/controls",
      "model_module_version": "1.5.0",
      "model_name": "HBoxModel",
      "state": {
       "children": [
        "IPY_MODEL_6a768aedaf9544d09858eef82cef3457",
        "IPY_MODEL_d6c56bb3523e4efcbcd7c0ced1fefd92",
        "IPY_MODEL_933d526d8a974abc8e75c828da584a88"
       ],
       "layout": "IPY_MODEL_239e05b2cbae4f9ca4f8d9252f0ea359"
      }
     },
     "3632291f347c42479da742eddb0251c9": {
      "model_module": "@jupyter-widgets/controls",
      "model_module_version": "1.5.0",
      "model_name": "ProgressStyleModel",
      "state": {
       "description_width": ""
      }
     },
     "364780de5e45434187bc36845c8d60a7": {
      "model_module": "@jupyter-widgets/controls",
      "model_module_version": "1.5.0",
      "model_name": "HBoxModel",
      "state": {
       "children": [
        "IPY_MODEL_7010326477064c24b4183273b1cd333d",
        "IPY_MODEL_20f5ec6c7952411ab19d5f8d2c686201",
        "IPY_MODEL_dd4248ca691a43aaa813872567bac25d"
       ],
       "layout": "IPY_MODEL_34be5ea6f04442b1869ea0089ea98440"
      }
     },
     "36519ab05780455389f4e0ea17d16037": {
      "model_module": "@jupyter-widgets/base",
      "model_module_version": "1.2.0",
      "model_name": "LayoutModel",
      "state": {}
     },
     "3651e1e3e89b4a19943f1c2adc7e088b": {
      "model_module": "@jupyter-widgets/controls",
      "model_module_version": "1.5.0",
      "model_name": "HTMLModel",
      "state": {
       "layout": "IPY_MODEL_05535e0d006248559cb1476d51f9e284",
       "style": "IPY_MODEL_0353ecb5a5114e90ba0db7831e0f692b",
       "value": "Folds:   0%"
      }
     },
     "369dc2970ae24bd69557f5811ecc3d96": {
      "model_module": "@jupyter-widgets/controls",
      "model_module_version": "1.5.0",
      "model_name": "FloatProgressModel",
      "state": {
       "bar_style": "success",
       "layout": "IPY_MODEL_c3d16e831210417783c2de4ff664e60d",
       "max": 10000,
       "style": "IPY_MODEL_102b454c52e44eb6807a7644b8979f9c",
       "value": 10000
      }
     },
     "36aa9b6293a9453d9094a4d19a73d952": {
      "model_module": "@jupyter-widgets/controls",
      "model_module_version": "1.5.0",
      "model_name": "HTMLModel",
      "state": {
       "layout": "IPY_MODEL_fc89bcdc89ec47a39fcda47244410dee",
       "style": "IPY_MODEL_93ba3a403cae43fb9c8c49d0d3696b92",
       "value": "Folds: 100%"
      }
     },
     "3727ef5a33054144ab6617fa853de70b": {
      "model_module": "@jupyter-widgets/controls",
      "model_module_version": "1.5.0",
      "model_name": "DescriptionStyleModel",
      "state": {
       "description_width": ""
      }
     },
     "3750d3d77f93453eac00dfcf0b97f9ef": {
      "model_module": "@jupyter-widgets/controls",
      "model_module_version": "1.5.0",
      "model_name": "ProgressStyleModel",
      "state": {
       "description_width": ""
      }
     },
     "37538abdab7f45479457c36b6722717f": {
      "model_module": "@jupyter-widgets/controls",
      "model_module_version": "1.5.0",
      "model_name": "ProgressStyleModel",
      "state": {
       "description_width": ""
      }
     },
     "375a2c3e1d3e4b79bdbb46da9daa7191": {
      "model_module": "@jupyter-widgets/controls",
      "model_module_version": "1.5.0",
      "model_name": "FloatProgressModel",
      "state": {
       "bar_style": "success",
       "layout": "IPY_MODEL_de368f0a4d8f48429ddd5d309bbf5dfb",
       "max": 10000,
       "style": "IPY_MODEL_137f367258784ef9910fad9ea2fcc053",
       "value": 10000
      }
     },
     "380ab5b0c51a401db6f703a3c0941eaa": {
      "model_module": "@jupyter-widgets/base",
      "model_module_version": "1.2.0",
      "model_name": "LayoutModel",
      "state": {}
     },
     "38a82fc7a83e43659ec0faed900c57e2": {
      "model_module": "@jupyter-widgets/controls",
      "model_module_version": "1.5.0",
      "model_name": "FloatProgressModel",
      "state": {
       "bar_style": "success",
       "layout": "IPY_MODEL_96ad6b81fce44690a1419ba7b2d50e49",
       "max": 10000,
       "style": "IPY_MODEL_99afb4aeb15e4dcca5bacdd950747864",
       "value": 10000
      }
     },
     "38aa0e15f45941678a404b5d1bf007f9": {
      "model_module": "@jupyter-widgets/controls",
      "model_module_version": "1.5.0",
      "model_name": "DescriptionStyleModel",
      "state": {
       "description_width": ""
      }
     },
     "38bbb7707c6b475580ff6f6f45165a87": {
      "model_module": "@jupyter-widgets/base",
      "model_module_version": "1.2.0",
      "model_name": "LayoutModel",
      "state": {}
     },
     "38e26fb32fe34893ac313c3d6a07c8a5": {
      "model_module": "@jupyter-widgets/controls",
      "model_module_version": "1.5.0",
      "model_name": "DescriptionStyleModel",
      "state": {
       "description_width": ""
      }
     },
     "390835b664ff429a9ff88d9ef94e2c09": {
      "model_module": "@jupyter-widgets/controls",
      "model_module_version": "1.5.0",
      "model_name": "HBoxModel",
      "state": {
       "children": [
        "IPY_MODEL_b2c99db7a5864d7787c4cd0ab2eb1e1c",
        "IPY_MODEL_369dc2970ae24bd69557f5811ecc3d96",
        "IPY_MODEL_abd12b86911d47ccb91f2bf3aea70b8f"
       ],
       "layout": "IPY_MODEL_72db1f549cd54979aa0b7e88b9965f6e"
      }
     },
     "3912d7093e0845e78803d8e62eccd463": {
      "model_module": "@jupyter-widgets/controls",
      "model_module_version": "1.5.0",
      "model_name": "DescriptionStyleModel",
      "state": {
       "description_width": ""
      }
     },
     "3929e865d1d04a3ebe4ad2985a880bb2": {
      "model_module": "@jupyter-widgets/base",
      "model_module_version": "1.2.0",
      "model_name": "LayoutModel",
      "state": {}
     },
     "395875c754b54cf19f3c9647ad267454": {
      "model_module": "@jupyter-widgets/base",
      "model_module_version": "1.2.0",
      "model_name": "LayoutModel",
      "state": {}
     },
     "397cc3227c7f47be9a234d3cc0448968": {
      "model_module": "@jupyter-widgets/controls",
      "model_module_version": "1.5.0",
      "model_name": "FloatProgressModel",
      "state": {
       "bar_style": "success",
       "layout": "IPY_MODEL_46e58087373640c7ad31f146dc454dc1",
       "max": 10000,
       "style": "IPY_MODEL_44aa97c33de443a6955bc89d729b767e",
       "value": 10000
      }
     },
     "39b23fcc79624598bcd40a79126a5077": {
      "model_module": "@jupyter-widgets/controls",
      "model_module_version": "1.5.0",
      "model_name": "ProgressStyleModel",
      "state": {
       "description_width": ""
      }
     },
     "39b59d1618ec438c93bcf9758afed402": {
      "model_module": "@jupyter-widgets/controls",
      "model_module_version": "1.5.0",
      "model_name": "DescriptionStyleModel",
      "state": {
       "description_width": ""
      }
     },
     "3a40f3812e794e8ab87ec64c9bf80418": {
      "model_module": "@jupyter-widgets/base",
      "model_module_version": "1.2.0",
      "model_name": "LayoutModel",
      "state": {}
     },
     "3a46e6d5e77b425e982e1fefa9ac2ba1": {
      "model_module": "@jupyter-widgets/controls",
      "model_module_version": "1.5.0",
      "model_name": "ProgressStyleModel",
      "state": {
       "description_width": ""
      }
     },
     "3a69907020924777afe701cfd999b66c": {
      "model_module": "@jupyter-widgets/controls",
      "model_module_version": "1.5.0",
      "model_name": "DescriptionStyleModel",
      "state": {
       "description_width": ""
      }
     },
     "3aa69bce2ec64feeb23d4d48d19f9024": {
      "model_module": "@jupyter-widgets/controls",
      "model_module_version": "1.5.0",
      "model_name": "HBoxModel",
      "state": {
       "children": [
        "IPY_MODEL_f43a8135ab1c43c19cbb83a205d884cd",
        "IPY_MODEL_235ec15b3fae4e72a832c99d8a574021",
        "IPY_MODEL_f6c82dfd92584899ad6c0ac7f1037669"
       ],
       "layout": "IPY_MODEL_8b9fa21d190843d1bf9c64c8e7e65ae5"
      }
     },
     "3aaecb3c6c7844b2ad3915a301ab31fb": {
      "model_module": "@jupyter-widgets/base",
      "model_module_version": "1.2.0",
      "model_name": "LayoutModel",
      "state": {}
     },
     "3b4bc34ef1aa4c3c99451276a6bff647": {
      "model_module": "@jupyter-widgets/controls",
      "model_module_version": "1.5.0",
      "model_name": "HBoxModel",
      "state": {
       "children": [
        "IPY_MODEL_660091851d2040bb8f0a672ce8297a81",
        "IPY_MODEL_178c7394300d4ce4b90f13f74ca8f7ff",
        "IPY_MODEL_c96616b17ed04a8faaa9b4213be6fd54"
       ],
       "layout": "IPY_MODEL_f4e1351cbc68440f81e5b5fe22b337c5"
      }
     },
     "3bb0ece8e726445492e2f0ce390302b9": {
      "model_module": "@jupyter-widgets/base",
      "model_module_version": "1.2.0",
      "model_name": "LayoutModel",
      "state": {}
     },
     "3bb57d9416114e7696dccb2adb354c26": {
      "model_module": "@jupyter-widgets/controls",
      "model_module_version": "1.5.0",
      "model_name": "FloatProgressModel",
      "state": {
       "bar_style": "success",
       "layout": "IPY_MODEL_8a81c8afea2a4860994a45a689046b58",
       "max": 10000,
       "style": "IPY_MODEL_092bb493a73b4c78a3c14e8c9235951b",
       "value": 10000
      }
     },
     "3bdefc157df34c3b8d463e7f57ec4fec": {
      "model_module": "@jupyter-widgets/controls",
      "model_module_version": "1.5.0",
      "model_name": "DescriptionStyleModel",
      "state": {
       "description_width": ""
      }
     },
     "3c26495c3be348c1ae2c7c83b23ed8b8": {
      "model_module": "@jupyter-widgets/base",
      "model_module_version": "1.2.0",
      "model_name": "LayoutModel",
      "state": {}
     },
     "3c2d2b211f354cb5a3093a18465cb02c": {
      "model_module": "@jupyter-widgets/controls",
      "model_module_version": "1.5.0",
      "model_name": "HBoxModel",
      "state": {
       "children": [
        "IPY_MODEL_471ea6d0c2a84c55b6cbda3c2a6a8ba2",
        "IPY_MODEL_75cf16476db74c1d8dc52dd8dd7ec8c7",
        "IPY_MODEL_314afe0ad6b24b86926739fbcb5eb6b9"
       ],
       "layout": "IPY_MODEL_266e66ccdc4c4ae89f175fdaf89057ad"
      }
     },
     "3c48df1b2fe54b0d94ce138989277199": {
      "model_module": "@jupyter-widgets/controls",
      "model_module_version": "1.5.0",
      "model_name": "DescriptionStyleModel",
      "state": {
       "description_width": ""
      }
     },
     "3d2c634426fc4c05a595d86478533b77": {
      "model_module": "@jupyter-widgets/controls",
      "model_module_version": "1.5.0",
      "model_name": "DescriptionStyleModel",
      "state": {
       "description_width": ""
      }
     },
     "3d58f9992b7d402b8ddedb3ae0ce02fb": {
      "model_module": "@jupyter-widgets/controls",
      "model_module_version": "1.5.0",
      "model_name": "HBoxModel",
      "state": {
       "children": [
        "IPY_MODEL_94fee35cf3124c39b73aba8b0153bcfe",
        "IPY_MODEL_764c942a27ba4e2392eb0b8dc0027e09",
        "IPY_MODEL_911ad0e4785f4159a25e3641e36039ac"
       ],
       "layout": "IPY_MODEL_5179c2f7617b41dcb26841a5d8a91224"
      }
     },
     "3d6c8aeaf0fc4bc6bb410f8b635462ba": {
      "model_module": "@jupyter-widgets/controls",
      "model_module_version": "1.5.0",
      "model_name": "HBoxModel",
      "state": {
       "children": [
        "IPY_MODEL_4b3f878ac7b14186b59119eaa770272f",
        "IPY_MODEL_c6b110f063b44a63b2f32d51cd6267bc",
        "IPY_MODEL_42607402ed3c492b8742244bb6797cb0"
       ],
       "layout": "IPY_MODEL_34587663cca64e89ad2421233404a7fc"
      }
     },
     "3daf48c868204fd484181d5e69a3c59f": {
      "model_module": "@jupyter-widgets/controls",
      "model_module_version": "1.5.0",
      "model_name": "HBoxModel",
      "state": {
       "children": [
        "IPY_MODEL_f209bd39c3a648219ebc0dcca82a147f",
        "IPY_MODEL_f919f4232ca24250b7efd68fa0d6b68f",
        "IPY_MODEL_1dd29ca583cc4d06993a7f15d2a6d6a2"
       ],
       "layout": "IPY_MODEL_26b9086d0aaa49949827afb1db53580e"
      }
     },
     "3de59fc78a774a01858dc52713eed86a": {
      "model_module": "@jupyter-widgets/controls",
      "model_module_version": "1.5.0",
      "model_name": "ProgressStyleModel",
      "state": {
       "description_width": ""
      }
     },
     "3dff08d435774a9984a4f78356fe36ac": {
      "model_module": "@jupyter-widgets/base",
      "model_module_version": "1.2.0",
      "model_name": "LayoutModel",
      "state": {}
     },
     "3e189377eda54c40836d3310a4513c6e": {
      "model_module": "@jupyter-widgets/base",
      "model_module_version": "1.2.0",
      "model_name": "LayoutModel",
      "state": {}
     },
     "3e28c70975534cd6aeb570fc8775c799": {
      "model_module": "@jupyter-widgets/base",
      "model_module_version": "1.2.0",
      "model_name": "LayoutModel",
      "state": {}
     },
     "3e41a2c568744448afc6e32470ea430c": {
      "model_module": "@jupyter-widgets/controls",
      "model_module_version": "1.5.0",
      "model_name": "DescriptionStyleModel",
      "state": {
       "description_width": ""
      }
     },
     "3e96efd0b08745808bc2eeaef7d14dba": {
      "model_module": "@jupyter-widgets/base",
      "model_module_version": "1.2.0",
      "model_name": "LayoutModel",
      "state": {}
     },
     "3f57d28e60fc499796d13af859052ba2": {
      "model_module": "@jupyter-widgets/controls",
      "model_module_version": "1.5.0",
      "model_name": "HBoxModel",
      "state": {
       "children": [
        "IPY_MODEL_cb566e90ce614ad8820766297ffa8ef9",
        "IPY_MODEL_92987db35010422f8be5850d84611486",
        "IPY_MODEL_e5685a7c485549029d8a79f7685d20a4"
       ],
       "layout": "IPY_MODEL_a3796e37827642cb809b89550aeac63c"
      }
     },
     "3f6319159c3143a691b148c80697d2ba": {
      "model_module": "@jupyter-widgets/controls",
      "model_module_version": "1.5.0",
      "model_name": "ProgressStyleModel",
      "state": {
       "description_width": ""
      }
     },
     "3f806dc6befd4651ac669db7a67c8927": {
      "model_module": "@jupyter-widgets/controls",
      "model_module_version": "1.5.0",
      "model_name": "HTMLModel",
      "state": {
       "layout": "IPY_MODEL_28066a6f50774f32a37da8b090f3e81d",
       "style": "IPY_MODEL_4ce8150561364b008753e17ba100f216",
       "value": "MCMC Iteration: 100%"
      }
     },
     "40377bbc8aa749418eea51aa12834601": {
      "model_module": "@jupyter-widgets/controls",
      "model_module_version": "1.5.0",
      "model_name": "HBoxModel",
      "state": {
       "children": [
        "IPY_MODEL_31fcc9b3e22b4d91bc1548700c31ad6f",
        "IPY_MODEL_fc602ec9d1ec4754bab87a1a696f20c5",
        "IPY_MODEL_0f7e4409887d472aab2eb0db3eada63f"
       ],
       "layout": "IPY_MODEL_e5ab2a6ec5fc4899bb53c9c875050789"
      }
     },
     "4059be453ada4747866672739f04e90f": {
      "model_module": "@jupyter-widgets/base",
      "model_module_version": "1.2.0",
      "model_name": "LayoutModel",
      "state": {}
     },
     "40ab74c8b2e14081be9c62d00a2ae1ce": {
      "model_module": "@jupyter-widgets/controls",
      "model_module_version": "1.5.0",
      "model_name": "DescriptionStyleModel",
      "state": {
       "description_width": ""
      }
     },
     "40b9156ee4da44cf80c33817dbc39c7c": {
      "model_module": "@jupyter-widgets/controls",
      "model_module_version": "1.5.0",
      "model_name": "DescriptionStyleModel",
      "state": {
       "description_width": ""
      }
     },
     "40e76af5bb7b46b692408b44fa75ab69": {
      "model_module": "@jupyter-widgets/controls",
      "model_module_version": "1.5.0",
      "model_name": "DescriptionStyleModel",
      "state": {
       "description_width": ""
      }
     },
     "412ccb22e4944082933351784afb27c9": {
      "model_module": "@jupyter-widgets/base",
      "model_module_version": "1.2.0",
      "model_name": "LayoutModel",
      "state": {}
     },
     "414fc0e7572a43a4b63c17b0fa3777f6": {
      "model_module": "@jupyter-widgets/base",
      "model_module_version": "1.2.0",
      "model_name": "LayoutModel",
      "state": {}
     },
     "4158691d0e86496fa4474ee7308baf2d": {
      "model_module": "@jupyter-widgets/controls",
      "model_module_version": "1.5.0",
      "model_name": "DescriptionStyleModel",
      "state": {
       "description_width": ""
      }
     },
     "4165f94b0f284fa5920744fb2258434b": {
      "model_module": "@jupyter-widgets/base",
      "model_module_version": "1.2.0",
      "model_name": "LayoutModel",
      "state": {}
     },
     "42607402ed3c492b8742244bb6797cb0": {
      "model_module": "@jupyter-widgets/controls",
      "model_module_version": "1.5.0",
      "model_name": "HTMLModel",
      "state": {
       "layout": "IPY_MODEL_d736c0c4a5e7443895663a29ac162c05",
       "style": "IPY_MODEL_9527a307258a4ced92479b196d8777be",
       "value": " 10000/10000 [00:21&lt;00:00, 437.56it/s]"
      }
     },
     "42ccfe7fda4f44549a9f5e6381aff09b": {
      "model_module": "@jupyter-widgets/controls",
      "model_module_version": "1.5.0",
      "model_name": "DescriptionStyleModel",
      "state": {
       "description_width": ""
      }
     },
     "42f267621d25414e9be9f09ab74fae09": {
      "model_module": "@jupyter-widgets/controls",
      "model_module_version": "1.5.0",
      "model_name": "DescriptionStyleModel",
      "state": {
       "description_width": ""
      }
     },
     "43217d3101dc40d2b40147c90572fe92": {
      "model_module": "@jupyter-widgets/controls",
      "model_module_version": "1.5.0",
      "model_name": "HTMLModel",
      "state": {
       "layout": "IPY_MODEL_7637649eead84fa9ad0bea4a32a0731a",
       "style": "IPY_MODEL_3bdefc157df34c3b8d463e7f57ec4fec",
       "value": " 10000/10000 [00:08&lt;00:00, 1290.22it/s]"
      }
     },
     "435651c4279b4bea97dd5ad30b3120b0": {
      "model_module": "@jupyter-widgets/controls",
      "model_module_version": "1.5.0",
      "model_name": "FloatProgressModel",
      "state": {
       "bar_style": "success",
       "layout": "IPY_MODEL_2bb61d1e3a1a472bb4085acfdfd70e7d",
       "max": 10000,
       "style": "IPY_MODEL_d7cf6eb96fb743ca92bbd2e238198a00",
       "value": 10000
      }
     },
     "43e6c8214e2c407889f09a23bf8e7525": {
      "model_module": "@jupyter-widgets/base",
      "model_module_version": "1.2.0",
      "model_name": "LayoutModel",
      "state": {}
     },
     "43eb0c8f3c314f288b0038e0d6effb27": {
      "model_module": "@jupyter-widgets/controls",
      "model_module_version": "1.5.0",
      "model_name": "HTMLModel",
      "state": {
       "layout": "IPY_MODEL_e4ef405189f048579b93a60cca178be4",
       "style": "IPY_MODEL_4fe84bac2d0941f38f027f35eaf44639",
       "value": " 10000/10000 [00:14&lt;00:00, 681.76it/s]"
      }
     },
     "43f0e932ee9c4cbd8bb76857aace40e7": {
      "model_module": "@jupyter-widgets/base",
      "model_module_version": "1.2.0",
      "model_name": "LayoutModel",
      "state": {}
     },
     "4437b159a9b14a1f835ba2e4a870deb5": {
      "model_module": "@jupyter-widgets/base",
      "model_module_version": "1.2.0",
      "model_name": "LayoutModel",
      "state": {}
     },
     "4452f8ccee1244d3b13f6687f309c9d6": {
      "model_module": "@jupyter-widgets/controls",
      "model_module_version": "1.5.0",
      "model_name": "ProgressStyleModel",
      "state": {
       "description_width": ""
      }
     },
     "445706bc13dd45a8be419449917590d4": {
      "model_module": "@jupyter-widgets/base",
      "model_module_version": "1.2.0",
      "model_name": "LayoutModel",
      "state": {}
     },
     "44aa97c33de443a6955bc89d729b767e": {
      "model_module": "@jupyter-widgets/controls",
      "model_module_version": "1.5.0",
      "model_name": "ProgressStyleModel",
      "state": {
       "description_width": ""
      }
     },
     "44b0acf6a31d46e2ba3447092a244015": {
      "model_module": "@jupyter-widgets/base",
      "model_module_version": "1.2.0",
      "model_name": "LayoutModel",
      "state": {}
     },
     "44eaf52ae08a4b2cb065800ab4566859": {
      "model_module": "@jupyter-widgets/controls",
      "model_module_version": "1.5.0",
      "model_name": "HTMLModel",
      "state": {
       "layout": "IPY_MODEL_f02d712e869f4cec98dfe6aab4973560",
       "style": "IPY_MODEL_3e41a2c568744448afc6e32470ea430c",
       "value": " 10000/10000 [00:07&lt;00:00, 1360.56it/s]"
      }
     },
     "4506481f3289479ca7234ad361a38452": {
      "model_module": "@jupyter-widgets/controls",
      "model_module_version": "1.5.0",
      "model_name": "FloatProgressModel",
      "state": {
       "bar_style": "success",
       "layout": "IPY_MODEL_0e7053093afd46a58b3131b992dfd618",
       "max": 10000,
       "style": "IPY_MODEL_3a46e6d5e77b425e982e1fefa9ac2ba1",
       "value": 10000
      }
     },
     "451a84c4b9bc4ae1a7275783437ad30c": {
      "model_module": "@jupyter-widgets/controls",
      "model_module_version": "1.5.0",
      "model_name": "DescriptionStyleModel",
      "state": {
       "description_width": ""
      }
     },
     "4560c0c62e2a4f0b9dd026bf443f6056": {
      "model_module": "@jupyter-widgets/base",
      "model_module_version": "1.2.0",
      "model_name": "LayoutModel",
      "state": {}
     },
     "45a1be128f0b44879f6bf3308333120e": {
      "model_module": "@jupyter-widgets/controls",
      "model_module_version": "1.5.0",
      "model_name": "FloatProgressModel",
      "state": {
       "bar_style": "success",
       "layout": "IPY_MODEL_3e96efd0b08745808bc2eeaef7d14dba",
       "max": 10000,
       "style": "IPY_MODEL_059b93e33df3404282c1778354cae04a",
       "value": 10000
      }
     },
     "45ac63c809e64585a5505bd6f991902f": {
      "model_module": "@jupyter-widgets/controls",
      "model_module_version": "1.5.0",
      "model_name": "HTMLModel",
      "state": {
       "layout": "IPY_MODEL_fe244c9bd65c404595c16aefb619e753",
       "style": "IPY_MODEL_9f9a5d59b7af4d67a4987452eac56606",
       "value": " 10000/10000 [00:16&lt;00:00, 631.46it/s]"
      }
     },
     "468a74bd509d4aa29a390922c8aee912": {
      "model_module": "@jupyter-widgets/base",
      "model_module_version": "1.2.0",
      "model_name": "LayoutModel",
      "state": {}
     },
     "46e58087373640c7ad31f146dc454dc1": {
      "model_module": "@jupyter-widgets/base",
      "model_module_version": "1.2.0",
      "model_name": "LayoutModel",
      "state": {}
     },
     "46eb0f7b5dd643fd80d8acfb3cfc5a2d": {
      "model_module": "@jupyter-widgets/base",
      "model_module_version": "1.2.0",
      "model_name": "LayoutModel",
      "state": {}
     },
     "471ea6d0c2a84c55b6cbda3c2a6a8ba2": {
      "model_module": "@jupyter-widgets/controls",
      "model_module_version": "1.5.0",
      "model_name": "HTMLModel",
      "state": {
       "layout": "IPY_MODEL_a5ae70245cb44a6c96fc1ab285af8eed",
       "style": "IPY_MODEL_8053648f161d4ad5aded1488c8c16bea",
       "value": "MCMC Iteration: 100%"
      }
     },
     "47672d01b2ed41fbab7e0358c55c2e5a": {
      "model_module": "@jupyter-widgets/base",
      "model_module_version": "1.2.0",
      "model_name": "LayoutModel",
      "state": {}
     },
     "4788d82c361a427e841f73c60f1ce055": {
      "model_module": "@jupyter-widgets/controls",
      "model_module_version": "1.5.0",
      "model_name": "HBoxModel",
      "state": {
       "children": [
        "IPY_MODEL_e954c2c4f60d421ba65e08d5c09254dc",
        "IPY_MODEL_e354c7c8aeba4592a614d12fec42fd55",
        "IPY_MODEL_53bb9adc730a453ca8e8225758f799c3"
       ],
       "layout": "IPY_MODEL_07b9dbda9a4c4457b00f05035834738a"
      }
     },
     "479f34df6319475b95b991d06c2f3ecf": {
      "model_module": "@jupyter-widgets/controls",
      "model_module_version": "1.5.0",
      "model_name": "HTMLModel",
      "state": {
       "layout": "IPY_MODEL_f5ed7b79d1704a0291cc373be654fe4c",
       "style": "IPY_MODEL_5bfbfed898f64b2f94942a41ed642b83",
       "value": "MCMC Iteration: 100%"
      }
     },
     "47abc7462fda427d8195dec39b82304a": {
      "model_module": "@jupyter-widgets/controls",
      "model_module_version": "1.5.0",
      "model_name": "DescriptionStyleModel",
      "state": {
       "description_width": ""
      }
     },
     "47bb38439045425b800df8df4caf58a8": {
      "model_module": "@jupyter-widgets/base",
      "model_module_version": "1.2.0",
      "model_name": "LayoutModel",
      "state": {}
     },
     "47c1059603ed4d048f0b5d71bf06c67d": {
      "model_module": "@jupyter-widgets/controls",
      "model_module_version": "1.5.0",
      "model_name": "ProgressStyleModel",
      "state": {
       "description_width": ""
      }
     },
     "47d36a1cc4e446c089b178f8a161abdf": {
      "model_module": "@jupyter-widgets/base",
      "model_module_version": "1.2.0",
      "model_name": "LayoutModel",
      "state": {}
     },
     "47ef5da302ae44429f3f9a93a7d8d9ca": {
      "model_module": "@jupyter-widgets/base",
      "model_module_version": "1.2.0",
      "model_name": "LayoutModel",
      "state": {}
     },
     "4800dfe949f64d41abc0e3565b2d9cc0": {
      "model_module": "@jupyter-widgets/base",
      "model_module_version": "1.2.0",
      "model_name": "LayoutModel",
      "state": {}
     },
     "4819dc941ad54179a60223b328e35e07": {
      "model_module": "@jupyter-widgets/controls",
      "model_module_version": "1.5.0",
      "model_name": "DescriptionStyleModel",
      "state": {
       "description_width": ""
      }
     },
     "482790133e4f4dd7b7fb843c91e665a6": {
      "model_module": "@jupyter-widgets/base",
      "model_module_version": "1.2.0",
      "model_name": "LayoutModel",
      "state": {}
     },
     "484d3730298142ec9189546d69cd6e67": {
      "model_module": "@jupyter-widgets/base",
      "model_module_version": "1.2.0",
      "model_name": "LayoutModel",
      "state": {}
     },
     "48555852a0d1428788a3b65307c0a9a6": {
      "model_module": "@jupyter-widgets/controls",
      "model_module_version": "1.5.0",
      "model_name": "HBoxModel",
      "state": {
       "children": [
        "IPY_MODEL_74d771275b4e495c924ae1ecfa523d82",
        "IPY_MODEL_8a092a5cb2014dbcb93bd0a8f9415344",
        "IPY_MODEL_099dee3154f948159e0fc40e3493d4ee"
       ],
       "layout": "IPY_MODEL_2b9fd8449bea4e2b8f27e4ad2be49c2f"
      }
     },
     "4865ccf1a3324be280de573415da0f90": {
      "model_module": "@jupyter-widgets/base",
      "model_module_version": "1.2.0",
      "model_name": "LayoutModel",
      "state": {}
     },
     "48812997cd0d484e9100c43091677d0c": {
      "model_module": "@jupyter-widgets/controls",
      "model_module_version": "1.5.0",
      "model_name": "HBoxModel",
      "state": {
       "children": [
        "IPY_MODEL_033a28ca3ec74a9d8f44a43e85bc470d",
        "IPY_MODEL_c3e017c6922f417bbb78f5ef72149aab",
        "IPY_MODEL_cf5e11ca4d5f495cbe41ec0e726492ed"
       ],
       "layout": "IPY_MODEL_65441d6155574251a2728c46b704fe8a"
      }
     },
     "48999acbaa234f3086946dcba2f06e1e": {
      "model_module": "@jupyter-widgets/base",
      "model_module_version": "1.2.0",
      "model_name": "LayoutModel",
      "state": {}
     },
     "490c4d9072f74ea0a0848d0f7d95279b": {
      "model_module": "@jupyter-widgets/controls",
      "model_module_version": "1.5.0",
      "model_name": "DescriptionStyleModel",
      "state": {
       "description_width": ""
      }
     },
     "4933cb33a59f41c8b48e32597f233f69": {
      "model_module": "@jupyter-widgets/base",
      "model_module_version": "1.2.0",
      "model_name": "LayoutModel",
      "state": {}
     },
     "499e8c43eb8c4fd3b33c89c0bde8ede7": {
      "model_module": "@jupyter-widgets/controls",
      "model_module_version": "1.5.0",
      "model_name": "DescriptionStyleModel",
      "state": {
       "description_width": ""
      }
     },
     "49d8a29ba419411db49819c2a4dd2aea": {
      "model_module": "@jupyter-widgets/controls",
      "model_module_version": "1.5.0",
      "model_name": "FloatProgressModel",
      "state": {
       "bar_style": "success",
       "layout": "IPY_MODEL_6fe3b14531ad45b0a30c43bfd271ff3a",
       "max": 10000,
       "style": "IPY_MODEL_23216da6faa34d889e1a02e4f33b1686",
       "value": 10000
      }
     },
     "4a486e00c4c3480faac9be309afa676b": {
      "model_module": "@jupyter-widgets/controls",
      "model_module_version": "1.5.0",
      "model_name": "DescriptionStyleModel",
      "state": {
       "description_width": ""
      }
     },
     "4a805dc5b9e1479089433f6e58106abc": {
      "model_module": "@jupyter-widgets/controls",
      "model_module_version": "1.5.0",
      "model_name": "HTMLModel",
      "state": {
       "layout": "IPY_MODEL_98c18f85d3c747b694252b4816e5bc4c",
       "style": "IPY_MODEL_24c0b60cca23418c8bf8cd734ef16786",
       "value": " 10000/10000 [00:07&lt;00:00, 1332.50it/s]"
      }
     },
     "4ac8d8c6aaea4bcbbbbeb84bf0ed3367": {
      "model_module": "@jupyter-widgets/controls",
      "model_module_version": "1.5.0",
      "model_name": "HTMLModel",
      "state": {
       "layout": "IPY_MODEL_395875c754b54cf19f3c9647ad267454",
       "style": "IPY_MODEL_075817bbf9a3486981a8ae9e3efc0716",
       "value": "MCMC Iteration: 100%"
      }
     },
     "4afebdcee4d940a0b04d79d2844c3f03": {
      "model_module": "@jupyter-widgets/controls",
      "model_module_version": "1.5.0",
      "model_name": "DescriptionStyleModel",
      "state": {
       "description_width": ""
      }
     },
     "4b05a8bc5e8d48bdaab9557515eb5225": {
      "model_module": "@jupyter-widgets/controls",
      "model_module_version": "1.5.0",
      "model_name": "DescriptionStyleModel",
      "state": {
       "description_width": ""
      }
     },
     "4b0865e592f4443799f13bdd0055ae1e": {
      "model_module": "@jupyter-widgets/controls",
      "model_module_version": "1.5.0",
      "model_name": "HBoxModel",
      "state": {
       "children": [
        "IPY_MODEL_9dccb5fbadc44c3fb64fd86626f6c645",
        "IPY_MODEL_fe6ca3a0f4e3459f9732509c03b5a875",
        "IPY_MODEL_0f2dd51561fa45e0bcc882608184a3da"
       ],
       "layout": "IPY_MODEL_d03fa56b4e9b4a89bf6d65560c1a930f"
      }
     },
     "4b1f74e2e95f486d843761e65f709c4d": {
      "model_module": "@jupyter-widgets/base",
      "model_module_version": "1.2.0",
      "model_name": "LayoutModel",
      "state": {}
     },
     "4b3f878ac7b14186b59119eaa770272f": {
      "model_module": "@jupyter-widgets/controls",
      "model_module_version": "1.5.0",
      "model_name": "HTMLModel",
      "state": {
       "layout": "IPY_MODEL_9fa670d9b57147ec9c67efa6f8a4b31d",
       "style": "IPY_MODEL_581fa21487ef4e009ab00e20fa6f1791",
       "value": "MCMC Iteration: 100%"
      }
     },
     "4b406a1997624f0cbaca1b862889f805": {
      "model_module": "@jupyter-widgets/base",
      "model_module_version": "1.2.0",
      "model_name": "LayoutModel",
      "state": {}
     },
     "4b5c0cfc7d494ccb9587b861e4ec020e": {
      "model_module": "@jupyter-widgets/controls",
      "model_module_version": "1.5.0",
      "model_name": "ProgressStyleModel",
      "state": {
       "description_width": ""
      }
     },
     "4b7f0abd1b944abb8ec6eda037fafab8": {
      "model_module": "@jupyter-widgets/controls",
      "model_module_version": "1.5.0",
      "model_name": "DescriptionStyleModel",
      "state": {
       "description_width": ""
      }
     },
     "4b9f925f05084a978a10ad01b892b787": {
      "model_module": "@jupyter-widgets/base",
      "model_module_version": "1.2.0",
      "model_name": "LayoutModel",
      "state": {}
     },
     "4bd4cade4ccb4b68b61867bce4f4f801": {
      "model_module": "@jupyter-widgets/controls",
      "model_module_version": "1.5.0",
      "model_name": "DescriptionStyleModel",
      "state": {
       "description_width": ""
      }
     },
     "4bdf4e701b224fd08fbb8b45f2d534ad": {
      "model_module": "@jupyter-widgets/base",
      "model_module_version": "1.2.0",
      "model_name": "LayoutModel",
      "state": {}
     },
     "4becfccde161421e8dad16d0767ab3ef": {
      "model_module": "@jupyter-widgets/controls",
      "model_module_version": "1.5.0",
      "model_name": "HTMLModel",
      "state": {
       "layout": "IPY_MODEL_ade37ef81d7843139ed9aeb85835bacf",
       "style": "IPY_MODEL_fbf76dfaeb6749439a22863fe9c09f9c",
       "value": " 10000/10000 [00:14&lt;00:00, 684.57it/s]"
      }
     },
     "4c315c18bac44374849c74810cdcdc39": {
      "model_module": "@jupyter-widgets/base",
      "model_module_version": "1.2.0",
      "model_name": "LayoutModel",
      "state": {}
     },
     "4c526633f20a43919a8abf2be2bd0ae0": {
      "model_module": "@jupyter-widgets/controls",
      "model_module_version": "1.5.0",
      "model_name": "HBoxModel",
      "state": {
       "children": [
        "IPY_MODEL_4ac8d8c6aaea4bcbbbbeb84bf0ed3367",
        "IPY_MODEL_5d76dd2c27964235957fd8f695d14c62",
        "IPY_MODEL_4becfccde161421e8dad16d0767ab3ef"
       ],
       "layout": "IPY_MODEL_0824f657163e43179eae029c46025da3"
      }
     },
     "4c6d1adf639a4bb4832630f43b9dbdbc": {
      "model_module": "@jupyter-widgets/base",
      "model_module_version": "1.2.0",
      "model_name": "LayoutModel",
      "state": {}
     },
     "4caf2c6eda99419eb89b8445db8cbc8d": {
      "model_module": "@jupyter-widgets/controls",
      "model_module_version": "1.5.0",
      "model_name": "ProgressStyleModel",
      "state": {
       "description_width": ""
      }
     },
     "4ce2dc87a05c47cd877f7efd1255feb2": {
      "model_module": "@jupyter-widgets/controls",
      "model_module_version": "1.5.0",
      "model_name": "DescriptionStyleModel",
      "state": {
       "description_width": ""
      }
     },
     "4ce8150561364b008753e17ba100f216": {
      "model_module": "@jupyter-widgets/controls",
      "model_module_version": "1.5.0",
      "model_name": "DescriptionStyleModel",
      "state": {
       "description_width": ""
      }
     },
     "4d2de46ed31d4798975653b1b69122e5": {
      "model_module": "@jupyter-widgets/controls",
      "model_module_version": "1.5.0",
      "model_name": "DescriptionStyleModel",
      "state": {
       "description_width": ""
      }
     },
     "4d3e723f92f44128be8d4232755d622d": {
      "model_module": "@jupyter-widgets/controls",
      "model_module_version": "1.5.0",
      "model_name": "HBoxModel",
      "state": {
       "children": [
        "IPY_MODEL_23a145ef403d4b3eb1c7bf549584df6d",
        "IPY_MODEL_4506481f3289479ca7234ad361a38452",
        "IPY_MODEL_43217d3101dc40d2b40147c90572fe92"
       ],
       "layout": "IPY_MODEL_088a5b4069a24260b02a28f8323bed7a"
      }
     },
     "4d6d1a7dd7c64239a4d8a238426e2c56": {
      "model_module": "@jupyter-widgets/base",
      "model_module_version": "1.2.0",
      "model_name": "LayoutModel",
      "state": {}
     },
     "4d6d8ef33d2944c1a97fc17b48b90755": {
      "model_module": "@jupyter-widgets/base",
      "model_module_version": "1.2.0",
      "model_name": "LayoutModel",
      "state": {}
     },
     "4e2510c8dfb1493fabfc9100163b0900": {
      "model_module": "@jupyter-widgets/controls",
      "model_module_version": "1.5.0",
      "model_name": "DescriptionStyleModel",
      "state": {
       "description_width": ""
      }
     },
     "4e3c183c3cb74ad09b3dd2bf4299a93e": {
      "model_module": "@jupyter-widgets/base",
      "model_module_version": "1.2.0",
      "model_name": "LayoutModel",
      "state": {}
     },
     "4e4f269d6b464d8ab49e84b9571c1ba2": {
      "model_module": "@jupyter-widgets/controls",
      "model_module_version": "1.5.0",
      "model_name": "DescriptionStyleModel",
      "state": {
       "description_width": ""
      }
     },
     "4e65f4aa13b24928afee1ec16f475aa4": {
      "model_module": "@jupyter-widgets/controls",
      "model_module_version": "1.5.0",
      "model_name": "HBoxModel",
      "state": {
       "children": [
        "IPY_MODEL_ce858fbc4fa6495d8de6b9d8a7abd645",
        "IPY_MODEL_695fa65468434362b41c71d99773db33",
        "IPY_MODEL_725be6af312e461a8c94fc63982f67e5"
       ],
       "layout": "IPY_MODEL_1d4cc273461c438383d5cc5691219437"
      }
     },
     "4ee9fbcba2b74a54b282e38a0f36d67f": {
      "model_module": "@jupyter-widgets/base",
      "model_module_version": "1.2.0",
      "model_name": "LayoutModel",
      "state": {}
     },
     "4eeee0358f714b3e81b99704983a6043": {
      "model_module": "@jupyter-widgets/controls",
      "model_module_version": "1.5.0",
      "model_name": "HBoxModel",
      "state": {
       "children": [
        "IPY_MODEL_7202060fec964c4883bf47279d8b8d25",
        "IPY_MODEL_1d963d4b90624af7a793a933f771b6ab",
        "IPY_MODEL_75347f0e556a4f28b53258941c55390d"
       ],
       "layout": "IPY_MODEL_ba4c1aa520c543628f99d23fb4ab2c0a"
      }
     },
     "4f13eae7d59f42ad8427332c0e7bf796": {
      "model_module": "@jupyter-widgets/base",
      "model_module_version": "1.2.0",
      "model_name": "LayoutModel",
      "state": {}
     },
     "4f45403224b6425795e3af61b90eef5f": {
      "model_module": "@jupyter-widgets/controls",
      "model_module_version": "1.5.0",
      "model_name": "HBoxModel",
      "state": {
       "children": [
        "IPY_MODEL_e4d605eb277a44f0a48320b58cbde4e2",
        "IPY_MODEL_80807964903b48c69f1948526f1df290",
        "IPY_MODEL_a30435426be74efaaad189f5f1095771"
       ],
       "layout": "IPY_MODEL_a6e118bfd8594b7f97980b92eac159b8"
      }
     },
     "4f5d8453eabc41e88ad8e71db59a9592": {
      "model_module": "@jupyter-widgets/controls",
      "model_module_version": "1.5.0",
      "model_name": "DescriptionStyleModel",
      "state": {
       "description_width": ""
      }
     },
     "4f926ffad6dd4d1d8233208bb98c2fc6": {
      "model_module": "@jupyter-widgets/base",
      "model_module_version": "1.2.0",
      "model_name": "LayoutModel",
      "state": {}
     },
     "4fb0a2c69a644b11b329becb5884f2bc": {
      "model_module": "@jupyter-widgets/controls",
      "model_module_version": "1.5.0",
      "model_name": "DescriptionStyleModel",
      "state": {
       "description_width": ""
      }
     },
     "4fe84bac2d0941f38f027f35eaf44639": {
      "model_module": "@jupyter-widgets/controls",
      "model_module_version": "1.5.0",
      "model_name": "DescriptionStyleModel",
      "state": {
       "description_width": ""
      }
     },
     "4ffad62cbdd045e7b4e64ea527321f6a": {
      "model_module": "@jupyter-widgets/controls",
      "model_module_version": "1.5.0",
      "model_name": "HBoxModel",
      "state": {
       "children": [
        "IPY_MODEL_ee73fa2e9df94f1ca895b4b795dcddbe",
        "IPY_MODEL_0ac8632aad344195ab4810b4490d8746",
        "IPY_MODEL_629449bf0df44fdf8c074160442210dc"
       ],
       "layout": "IPY_MODEL_93732195a5464bf4950e4ff15f82f176"
      }
     },
     "502353ec6124499cbaab4e58e945ec0b": {
      "model_module": "@jupyter-widgets/controls",
      "model_module_version": "1.5.0",
      "model_name": "FloatProgressModel",
      "state": {
       "bar_style": "success",
       "layout": "IPY_MODEL_b76ee97c731844d1a284583b751fd3f6",
       "max": 10000,
       "style": "IPY_MODEL_edaa725f5bd04566aad7ccd96e02b78d",
       "value": 10000
      }
     },
     "505b9e1c062c45c185a4d1f76e581fd0": {
      "model_module": "@jupyter-widgets/controls",
      "model_module_version": "1.5.0",
      "model_name": "ProgressStyleModel",
      "state": {
       "description_width": ""
      }
     },
     "506569f33fe44e91b6ac8fefabb4dfc7": {
      "model_module": "@jupyter-widgets/base",
      "model_module_version": "1.2.0",
      "model_name": "LayoutModel",
      "state": {}
     },
     "50af6361f61c45b7b65f09edcc586c67": {
      "model_module": "@jupyter-widgets/base",
      "model_module_version": "1.2.0",
      "model_name": "LayoutModel",
      "state": {}
     },
     "50d63916f04b49e182cd2ea52458c198": {
      "model_module": "@jupyter-widgets/base",
      "model_module_version": "1.2.0",
      "model_name": "LayoutModel",
      "state": {}
     },
     "50f781ba02ba4642bedc9e6243de2c0a": {
      "model_module": "@jupyter-widgets/controls",
      "model_module_version": "1.5.0",
      "model_name": "DescriptionStyleModel",
      "state": {
       "description_width": ""
      }
     },
     "510119e6827241e4835812601b6f68c2": {
      "model_module": "@jupyter-widgets/controls",
      "model_module_version": "1.5.0",
      "model_name": "FloatProgressModel",
      "state": {
       "bar_style": "success",
       "layout": "IPY_MODEL_0c72bf1fd1ac42f8b033fd77514c6d75",
       "max": 10000,
       "style": "IPY_MODEL_39b23fcc79624598bcd40a79126a5077",
       "value": 10000
      }
     },
     "513c767fb382417cb66cb1ab0360a0e0": {
      "model_module": "@jupyter-widgets/controls",
      "model_module_version": "1.5.0",
      "model_name": "FloatProgressModel",
      "state": {
       "bar_style": "success",
       "layout": "IPY_MODEL_1088ac28ee384993a82d2823f651a866",
       "max": 10000,
       "style": "IPY_MODEL_ba17ff9502694001ac054c2b8e1252ab",
       "value": 10000
      }
     },
     "514d10161d1040069a6053a0cf657f1c": {
      "model_module": "@jupyter-widgets/controls",
      "model_module_version": "1.5.0",
      "model_name": "HBoxModel",
      "state": {
       "children": [
        "IPY_MODEL_1a58d55d9ec344c49272b60e49dd96c0",
        "IPY_MODEL_1b9738deddd147b7b6013c3724850f10",
        "IPY_MODEL_7862d8e5124b4a04be9745e2e9dcb2be"
       ],
       "layout": "IPY_MODEL_c8aac56dc2d34454ac512e9ea0e672cf"
      }
     },
     "5160aef8325d4d7aa8a60d3d19737f02": {
      "model_module": "@jupyter-widgets/controls",
      "model_module_version": "1.5.0",
      "model_name": "FloatProgressModel",
      "state": {
       "bar_style": "success",
       "layout": "IPY_MODEL_63fa0f1d564649feaf904eac5185846a",
       "max": 10000,
       "style": "IPY_MODEL_d5073c35c2624a21912b4c6393be923b",
       "value": 10000
      }
     },
     "5164dc8177274f24832f4914f46274bb": {
      "model_module": "@jupyter-widgets/controls",
      "model_module_version": "1.5.0",
      "model_name": "FloatProgressModel",
      "state": {
       "bar_style": "success",
       "layout": "IPY_MODEL_8bda818fde404a3c9db68390b9bdc51b",
       "max": 10000,
       "style": "IPY_MODEL_cdbbc840bc7c46e5beb325c82be19c4b",
       "value": 10000
      }
     },
     "5179c2f7617b41dcb26841a5d8a91224": {
      "model_module": "@jupyter-widgets/base",
      "model_module_version": "1.2.0",
      "model_name": "LayoutModel",
      "state": {}
     },
     "51a21ca4dfc8472d9681dcd1908c5612": {
      "model_module": "@jupyter-widgets/controls",
      "model_module_version": "1.5.0",
      "model_name": "DescriptionStyleModel",
      "state": {
       "description_width": ""
      }
     },
     "51ab6553f82249aeb3d73235efda5278": {
      "model_module": "@jupyter-widgets/controls",
      "model_module_version": "1.5.0",
      "model_name": "DescriptionStyleModel",
      "state": {
       "description_width": ""
      }
     },
     "51deec3169054c1193e709b59c1a488e": {
      "model_module": "@jupyter-widgets/base",
      "model_module_version": "1.2.0",
      "model_name": "LayoutModel",
      "state": {}
     },
     "520bcd383add4468911f63e13d7fd952": {
      "model_module": "@jupyter-widgets/base",
      "model_module_version": "1.2.0",
      "model_name": "LayoutModel",
      "state": {}
     },
     "52197386b22b42b8a9470ffbbf8e1593": {
      "model_module": "@jupyter-widgets/controls",
      "model_module_version": "1.5.0",
      "model_name": "HTMLModel",
      "state": {
       "layout": "IPY_MODEL_de2074b175574b04bb8e0e3c1923a375",
       "style": "IPY_MODEL_0ff4e020da504c4ba4e36e824ea25bb0",
       "value": "MCMC Iteration: 100%"
      }
     },
     "5256b6de60cb45bda996e209fb291e4f": {
      "model_module": "@jupyter-widgets/controls",
      "model_module_version": "1.5.0",
      "model_name": "HTMLModel",
      "state": {
       "layout": "IPY_MODEL_fb0f8d1d1d0249639a56d49d65b84e51",
       "style": "IPY_MODEL_aa33be1bbf984dbc81b67a994045f9a6",
       "value": " 10000/10000 [00:22&lt;00:00, 453.50it/s]"
      }
     },
     "525eaef5dc8f4f9fa8b0ae2e6a90c83b": {
      "model_module": "@jupyter-widgets/base",
      "model_module_version": "1.2.0",
      "model_name": "LayoutModel",
      "state": {}
     },
     "528d806df02b440c8f787c8463c46cda": {
      "model_module": "@jupyter-widgets/base",
      "model_module_version": "1.2.0",
      "model_name": "LayoutModel",
      "state": {}
     },
     "5310ce8ee16047d4a4a364d91bdd67e5": {
      "model_module": "@jupyter-widgets/base",
      "model_module_version": "1.2.0",
      "model_name": "LayoutModel",
      "state": {}
     },
     "533669fb72d2489494b6b5d1627f06b4": {
      "model_module": "@jupyter-widgets/controls",
      "model_module_version": "1.5.0",
      "model_name": "HBoxModel",
      "state": {
       "children": [
        "IPY_MODEL_d8bc9fca823d4217b3b9d790c5147fa8",
        "IPY_MODEL_f285cb12ead9429e8857ba66f6029db7",
        "IPY_MODEL_fef4a67b4960489ca760d11ac92bba1e"
       ],
       "layout": "IPY_MODEL_934cfcc367ea4fd9ac3cc35390068034"
      }
     },
     "534d3da6c2bd4c72880ebf49fcb32b92": {
      "model_module": "@jupyter-widgets/controls",
      "model_module_version": "1.5.0",
      "model_name": "HTMLModel",
      "state": {
       "layout": "IPY_MODEL_1281b012fb7b4de7a2b88a6edd083210",
       "style": "IPY_MODEL_a2035232429049e2bd7b1a250b296650",
       "value": " 10000/10000 [00:27&lt;00:00, 366.78it/s]"
      }
     },
     "536f4085f91f4477951bd6a36824f9eb": {
      "model_module": "@jupyter-widgets/base",
      "model_module_version": "1.2.0",
      "model_name": "LayoutModel",
      "state": {}
     },
     "5388e6e31e4e413d987d5c7b81429a1e": {
      "model_module": "@jupyter-widgets/controls",
      "model_module_version": "1.5.0",
      "model_name": "HBoxModel",
      "state": {
       "children": [
        "IPY_MODEL_a3a13feaa9ec4b789567360f8ee721ff",
        "IPY_MODEL_38a82fc7a83e43659ec0faed900c57e2",
        "IPY_MODEL_a5f8dc8d67464a23b4647ff5a1950cde"
       ],
       "layout": "IPY_MODEL_fc7f4aa9ddb544c78b9dd8fb23a49a48"
      }
     },
     "53bb9adc730a453ca8e8225758f799c3": {
      "model_module": "@jupyter-widgets/controls",
      "model_module_version": "1.5.0",
      "model_name": "HTMLModel",
      "state": {
       "layout": "IPY_MODEL_e6d24d237cd84e0d9ca6d4a9614a80ac",
       "style": "IPY_MODEL_31c6ec2157c64e56a445a45c8160165d",
       "value": " 10000/10000 [00:20&lt;00:00, 475.76it/s]"
      }
     },
     "53c8ec043b284481b9f31582522627de": {
      "model_module": "@jupyter-widgets/controls",
      "model_module_version": "1.5.0",
      "model_name": "FloatProgressModel",
      "state": {
       "bar_style": "success",
       "layout": "IPY_MODEL_f570fb77e8d3492e9ecdd9f69b13156b",
       "max": 10000,
       "style": "IPY_MODEL_3f6319159c3143a691b148c80697d2ba",
       "value": 10000
      }
     },
     "53de7f57571c410abcbf71e3309661dd": {
      "model_module": "@jupyter-widgets/controls",
      "model_module_version": "1.5.0",
      "model_name": "HTMLModel",
      "state": {
       "layout": "IPY_MODEL_e5f441f231354045808ebee27fd6c500",
       "style": "IPY_MODEL_56756ecc507c4d85b0ca514a60fa4f6c",
       "value": " 10000/10000 [00:16&lt;00:00, 608.57it/s]"
      }
     },
     "5463b67a9c974b52812b6607b5f90284": {
      "model_module": "@jupyter-widgets/controls",
      "model_module_version": "1.5.0",
      "model_name": "DescriptionStyleModel",
      "state": {
       "description_width": ""
      }
     },
     "547286cd0e4d4f4686344199d9c3c8d7": {
      "model_module": "@jupyter-widgets/controls",
      "model_module_version": "1.5.0",
      "model_name": "HTMLModel",
      "state": {
       "layout": "IPY_MODEL_14d658fd7e3d4f2981c89432b879eb90",
       "style": "IPY_MODEL_4a486e00c4c3480faac9be309afa676b",
       "value": " 10000/10000 [00:22&lt;00:00, 438.20it/s]"
      }
     },
     "548896295c2b4e2c91acc8faeabac96d": {
      "model_module": "@jupyter-widgets/controls",
      "model_module_version": "1.5.0",
      "model_name": "HBoxModel",
      "state": {
       "children": [
        "IPY_MODEL_25018fc1dde5464b9bdb70fd43e3c02d",
        "IPY_MODEL_81eec647c0dd4f6fa1706616d36b4a60",
        "IPY_MODEL_6ec22bbfc7dc406d9229f9f9c21150cb"
       ],
       "layout": "IPY_MODEL_3e28c70975534cd6aeb570fc8775c799"
      }
     },
     "54afc173782f486a96ce397da78de38b": {
      "model_module": "@jupyter-widgets/controls",
      "model_module_version": "1.5.0",
      "model_name": "HTMLModel",
      "state": {
       "layout": "IPY_MODEL_25835a538b53401781f9c23504395a2a",
       "style": "IPY_MODEL_b857acdee709477d8bebcdcbd4919883",
       "value": "MCMC Iteration: 100%"
      }
     },
     "54b4090c36aa4b23af31ea024090e02a": {
      "model_module": "@jupyter-widgets/controls",
      "model_module_version": "1.5.0",
      "model_name": "HTMLModel",
      "state": {
       "layout": "IPY_MODEL_8495013200af4c84ac03a29d99a70dc3",
       "style": "IPY_MODEL_92e38ad164a8484eadb82e19e473ff11",
       "value": " 10000/10000 [00:22&lt;00:00, 438.18it/s]"
      }
     },
     "5508abbd91494db8b52d03d4a23ae8b1": {
      "model_module": "@jupyter-widgets/controls",
      "model_module_version": "1.5.0",
      "model_name": "FloatProgressModel",
      "state": {
       "bar_style": "danger",
       "layout": "IPY_MODEL_9c1a875d6bc04d6f813d07a1a0238bec",
       "max": 3,
       "style": "IPY_MODEL_2b4b7d060adb482c9fe66a8d8b5b52da"
      }
     },
     "553fc9015fee4c2d9ce8b5fdbcb8d541": {
      "model_module": "@jupyter-widgets/base",
      "model_module_version": "1.2.0",
      "model_name": "LayoutModel",
      "state": {}
     },
     "55910489958a4eb5b28d4bc262e695c5": {
      "model_module": "@jupyter-widgets/controls",
      "model_module_version": "1.5.0",
      "model_name": "HBoxModel",
      "state": {
       "children": [
        "IPY_MODEL_10a946ea511c47be8a28eedb730ddeaa",
        "IPY_MODEL_e9e9c963e1144941a4babdaa0e365e4e",
        "IPY_MODEL_c3f397910b7d48f8a52a0484151ad4b8"
       ],
       "layout": "IPY_MODEL_484d3730298142ec9189546d69cd6e67"
      }
     },
     "56373ece09094df7a50d9239f28122ac": {
      "model_module": "@jupyter-widgets/controls",
      "model_module_version": "1.5.0",
      "model_name": "ProgressStyleModel",
      "state": {
       "description_width": ""
      }
     },
     "564353d93a2541f28f8eb86eb71aa9f1": {
      "model_module": "@jupyter-widgets/controls",
      "model_module_version": "1.5.0",
      "model_name": "HBoxModel",
      "state": {
       "children": [
        "IPY_MODEL_db4e4215208944b296f6ac1993218fb7",
        "IPY_MODEL_5ed308b303714a47ace01ae9902fbcc7",
        "IPY_MODEL_a2650ccfbafe4efa9c4b8ecd1c80532f"
       ],
       "layout": "IPY_MODEL_ce1f6b6a921f4b82b0dad6431bbd298e"
      }
     },
     "566045d9b2474716a0183d4a2ce2bce4": {
      "model_module": "@jupyter-widgets/controls",
      "model_module_version": "1.5.0",
      "model_name": "FloatProgressModel",
      "state": {
       "bar_style": "success",
       "layout": "IPY_MODEL_64bb431fcbc643dba84a158f4cb8abaf",
       "max": 10000,
       "style": "IPY_MODEL_580b48183a224deaa8ca39d356b9de84",
       "value": 10000
      }
     },
     "56756ecc507c4d85b0ca514a60fa4f6c": {
      "model_module": "@jupyter-widgets/controls",
      "model_module_version": "1.5.0",
      "model_name": "DescriptionStyleModel",
      "state": {
       "description_width": ""
      }
     },
     "569872026bae4a77b533278400ba252d": {
      "model_module": "@jupyter-widgets/controls",
      "model_module_version": "1.5.0",
      "model_name": "ProgressStyleModel",
      "state": {
       "description_width": ""
      }
     },
     "56ced48ee85c487b8f8e6c0e31de7ad6": {
      "model_module": "@jupyter-widgets/base",
      "model_module_version": "1.2.0",
      "model_name": "LayoutModel",
      "state": {}
     },
     "56f4867b4bc4410e90629940b413ebdd": {
      "model_module": "@jupyter-widgets/base",
      "model_module_version": "1.2.0",
      "model_name": "LayoutModel",
      "state": {}
     },
     "56fdae8c284a49ba8066dcd8f89882dd": {
      "model_module": "@jupyter-widgets/controls",
      "model_module_version": "1.5.0",
      "model_name": "HTMLModel",
      "state": {
       "layout": "IPY_MODEL_38bbb7707c6b475580ff6f6f45165a87",
       "style": "IPY_MODEL_b894f2557e1943d7b9fd7a202b89960e",
       "value": " 10000/10000 [00:15&lt;00:00, 643.75it/s]"
      }
     },
     "57d668f454b44fa0a281a9cdc97cb6d0": {
      "model_module": "@jupyter-widgets/controls",
      "model_module_version": "1.5.0",
      "model_name": "FloatProgressModel",
      "state": {
       "bar_style": "success",
       "layout": "IPY_MODEL_c194cef23eef4746ba906194b5942870",
       "max": 10000,
       "style": "IPY_MODEL_66702fd0e0d74e689685c60d4fe9453f",
       "value": 10000
      }
     },
     "580a7682fa414e4fbf06a8b7cc220b25": {
      "model_module": "@jupyter-widgets/base",
      "model_module_version": "1.2.0",
      "model_name": "LayoutModel",
      "state": {}
     },
     "580b48183a224deaa8ca39d356b9de84": {
      "model_module": "@jupyter-widgets/controls",
      "model_module_version": "1.5.0",
      "model_name": "ProgressStyleModel",
      "state": {
       "description_width": ""
      }
     },
     "58119c42c3404e3cbfa63181428a5319": {
      "model_module": "@jupyter-widgets/controls",
      "model_module_version": "1.5.0",
      "model_name": "DescriptionStyleModel",
      "state": {
       "description_width": ""
      }
     },
     "581fa21487ef4e009ab00e20fa6f1791": {
      "model_module": "@jupyter-widgets/controls",
      "model_module_version": "1.5.0",
      "model_name": "DescriptionStyleModel",
      "state": {
       "description_width": ""
      }
     },
     "582865c7eead4f039bad2bd33a96b50d": {
      "model_module": "@jupyter-widgets/controls",
      "model_module_version": "1.5.0",
      "model_name": "FloatProgressModel",
      "state": {
       "bar_style": "success",
       "layout": "IPY_MODEL_9b0e48a7994144a6855b95729b014e5e",
       "max": 10000,
       "style": "IPY_MODEL_8ecaf93af0f14bbfab6783a1975baaa1",
       "value": 10000
      }
     },
     "58db8befb2644833b51c94bc9d0a3b42": {
      "model_module": "@jupyter-widgets/controls",
      "model_module_version": "1.5.0",
      "model_name": "HTMLModel",
      "state": {
       "layout": "IPY_MODEL_215319039a0a4702985a9fb6ee5174f3",
       "style": "IPY_MODEL_dd2685f318e543028245e20d981582b0",
       "value": "MCMC Iteration: 100%"
      }
     },
     "58fd903ff1864beda6e8af829e3c627e": {
      "model_module": "@jupyter-widgets/controls",
      "model_module_version": "1.5.0",
      "model_name": "DescriptionStyleModel",
      "state": {
       "description_width": ""
      }
     },
     "594b87719c8f48b2a13715851acc86ec": {
      "model_module": "@jupyter-widgets/base",
      "model_module_version": "1.2.0",
      "model_name": "LayoutModel",
      "state": {}
     },
     "594bcb426263405da433ac92a57d0745": {
      "model_module": "@jupyter-widgets/base",
      "model_module_version": "1.2.0",
      "model_name": "LayoutModel",
      "state": {}
     },
     "59b1922bf50048b1a6840485a9b5479d": {
      "model_module": "@jupyter-widgets/controls",
      "model_module_version": "1.5.0",
      "model_name": "HTMLModel",
      "state": {
       "layout": "IPY_MODEL_9fca3ee8f7b349a79844355faf16b06c",
       "style": "IPY_MODEL_58119c42c3404e3cbfa63181428a5319",
       "value": "MCMC Iteration: 100%"
      }
     },
     "59ddf051ea3a4365afc8ea4cc7851c75": {
      "model_module": "@jupyter-widgets/base",
      "model_module_version": "1.2.0",
      "model_name": "LayoutModel",
      "state": {}
     },
     "59e0c3aa89c14012ad66773ad6699e65": {
      "model_module": "@jupyter-widgets/controls",
      "model_module_version": "1.5.0",
      "model_name": "DescriptionStyleModel",
      "state": {
       "description_width": ""
      }
     },
     "5a191ada3d204b959fd7381d9bca1a03": {
      "model_module": "@jupyter-widgets/base",
      "model_module_version": "1.2.0",
      "model_name": "LayoutModel",
      "state": {}
     },
     "5a3281eade1a409faf9bf53ac5d9599c": {
      "model_module": "@jupyter-widgets/controls",
      "model_module_version": "1.5.0",
      "model_name": "HTMLModel",
      "state": {
       "layout": "IPY_MODEL_9f89ec97ec5648d298dee2841591be74",
       "style": "IPY_MODEL_f2c211d38a7d4c339ac0aa35cdca4311",
       "value": "MCMC Iteration: 100%"
      }
     },
     "5a844f0fabb94db086b495acd9acbc48": {
      "model_module": "@jupyter-widgets/controls",
      "model_module_version": "1.5.0",
      "model_name": "DescriptionStyleModel",
      "state": {
       "description_width": ""
      }
     },
     "5adc8eaa384b41b38744202af88ba0e9": {
      "model_module": "@jupyter-widgets/controls",
      "model_module_version": "1.5.0",
      "model_name": "HTMLModel",
      "state": {
       "layout": "IPY_MODEL_7ae47863dce14121b76f09cd162fbdd0",
       "style": "IPY_MODEL_6cb0f53333854503be033b6f2a570193",
       "value": " 10000/10000 [00:09&lt;00:00, 1109.94it/s]"
      }
     },
     "5af5bd8b290a4b73bceebb593efbe964": {
      "model_module": "@jupyter-widgets/controls",
      "model_module_version": "1.5.0",
      "model_name": "HTMLModel",
      "state": {
       "layout": "IPY_MODEL_16319e50aebb42699a6ddd325f343596",
       "style": "IPY_MODEL_2245e0fa1a1f4e13a1a2ddac1598aaae",
       "value": "MCMC Iteration: 100%"
      }
     },
     "5afaeab36045418ca8d730867234ac1e": {
      "model_module": "@jupyter-widgets/base",
      "model_module_version": "1.2.0",
      "model_name": "LayoutModel",
      "state": {}
     },
     "5b197aebd5ff405db66eaa93ef972995": {
      "model_module": "@jupyter-widgets/base",
      "model_module_version": "1.2.0",
      "model_name": "LayoutModel",
      "state": {}
     },
     "5b522b148a6340b5a231d06e8707b032": {
      "model_module": "@jupyter-widgets/controls",
      "model_module_version": "1.5.0",
      "model_name": "DescriptionStyleModel",
      "state": {
       "description_width": ""
      }
     },
     "5b6a0b69c4d849d784a483c540e937d0": {
      "model_module": "@jupyter-widgets/base",
      "model_module_version": "1.2.0",
      "model_name": "LayoutModel",
      "state": {}
     },
     "5b99d33fd1764afdb52b0e53644760bf": {
      "model_module": "@jupyter-widgets/base",
      "model_module_version": "1.2.0",
      "model_name": "LayoutModel",
      "state": {}
     },
     "5bea1b33b2024ce090dd394509ba9c37": {
      "model_module": "@jupyter-widgets/controls",
      "model_module_version": "1.5.0",
      "model_name": "ProgressStyleModel",
      "state": {
       "description_width": ""
      }
     },
     "5bfbfed898f64b2f94942a41ed642b83": {
      "model_module": "@jupyter-widgets/controls",
      "model_module_version": "1.5.0",
      "model_name": "DescriptionStyleModel",
      "state": {
       "description_width": ""
      }
     },
     "5c15f15b0e1d4135864f6d7505eaec0c": {
      "model_module": "@jupyter-widgets/controls",
      "model_module_version": "1.5.0",
      "model_name": "HBoxModel",
      "state": {
       "children": [
        "IPY_MODEL_1e76c21ac5e745bb85f82d88d44b1678",
        "IPY_MODEL_91f86a05bed747f6b08a8bd8a0c82ba1",
        "IPY_MODEL_27b7c2f0b1204db58b1077cc25a63ec0"
       ],
       "layout": "IPY_MODEL_9e0b9468f0b140abae20e0b67c301f93"
      }
     },
     "5c238d9b7f31427eb798f31718a003a8": {
      "model_module": "@jupyter-widgets/controls",
      "model_module_version": "1.5.0",
      "model_name": "HBoxModel",
      "state": {
       "children": [
        "IPY_MODEL_e97705a69811401fbd5fcfd8fb180f47",
        "IPY_MODEL_2aba5c0dd5b9422495018b818d3ed072",
        "IPY_MODEL_96856c135b6d470085b32114124a9282"
       ],
       "layout": "IPY_MODEL_d3b705f7baad47b79ef5156fbfee2e3c"
      }
     },
     "5cb0e6536f1e4cac99adaabf1a30aaec": {
      "model_module": "@jupyter-widgets/base",
      "model_module_version": "1.2.0",
      "model_name": "LayoutModel",
      "state": {}
     },
     "5cb0fd6e7957461296b4ba4962cd604b": {
      "model_module": "@jupyter-widgets/controls",
      "model_module_version": "1.5.0",
      "model_name": "DescriptionStyleModel",
      "state": {
       "description_width": ""
      }
     },
     "5cd44604ae034570a279d2b20de015e9": {
      "model_module": "@jupyter-widgets/controls",
      "model_module_version": "1.5.0",
      "model_name": "DescriptionStyleModel",
      "state": {
       "description_width": ""
      }
     },
     "5cf5a279e51041b8a7743a825c5f4b80": {
      "model_module": "@jupyter-widgets/base",
      "model_module_version": "1.2.0",
      "model_name": "LayoutModel",
      "state": {}
     },
     "5d64ab3594fb4293bfc9b87fef3ad3a4": {
      "model_module": "@jupyter-widgets/controls",
      "model_module_version": "1.5.0",
      "model_name": "ProgressStyleModel",
      "state": {
       "description_width": ""
      }
     },
     "5d668649135b43a8be8aec382f1eea94": {
      "model_module": "@jupyter-widgets/base",
      "model_module_version": "1.2.0",
      "model_name": "LayoutModel",
      "state": {}
     },
     "5d76dd2c27964235957fd8f695d14c62": {
      "model_module": "@jupyter-widgets/controls",
      "model_module_version": "1.5.0",
      "model_name": "FloatProgressModel",
      "state": {
       "bar_style": "success",
       "layout": "IPY_MODEL_580a7682fa414e4fbf06a8b7cc220b25",
       "max": 10000,
       "style": "IPY_MODEL_be8a036622c246568a3a476dc9718c55",
       "value": 10000
      }
     },
     "5dabb560811e4ca49e3e0a0f17203ddf": {
      "model_module": "@jupyter-widgets/controls",
      "model_module_version": "1.5.0",
      "model_name": "HBoxModel",
      "state": {
       "children": [
        "IPY_MODEL_bb9587bd0b044310a151707ee8743e87",
        "IPY_MODEL_0583eccbd91d484097e34baf87cd6950",
        "IPY_MODEL_7a574a52715941c6bc4aee062f9d5c28"
       ],
       "layout": "IPY_MODEL_ad161350c3c84744821a99b8bdf0f140"
      }
     },
     "5db151505a84498aaf907d03a66f0e8e": {
      "model_module": "@jupyter-widgets/base",
      "model_module_version": "1.2.0",
      "model_name": "LayoutModel",
      "state": {}
     },
     "5dbd0853b2b742a39b6b4136ba9be2db": {
      "model_module": "@jupyter-widgets/controls",
      "model_module_version": "1.5.0",
      "model_name": "DescriptionStyleModel",
      "state": {
       "description_width": ""
      }
     },
     "5dd8025e2292450f8dca87afb095eb98": {
      "model_module": "@jupyter-widgets/controls",
      "model_module_version": "1.5.0",
      "model_name": "HBoxModel",
      "state": {
       "children": [
        "IPY_MODEL_59b1922bf50048b1a6840485a9b5479d",
        "IPY_MODEL_edae2e63ecaa4045be88d743c6927b6d",
        "IPY_MODEL_1262eacfba644971984f23434b5d3e79"
       ],
       "layout": "IPY_MODEL_0f224daf87624735bae027ba5167780f"
      }
     },
     "5e08dbf97d0842d2988982ebe9f9ebc8": {
      "model_module": "@jupyter-widgets/controls",
      "model_module_version": "1.5.0",
      "model_name": "HTMLModel",
      "state": {
       "layout": "IPY_MODEL_85acfdb52ec94e9ab85ec576b5b13b84",
       "style": "IPY_MODEL_227929995c0444e488ca19cb27ff6548",
       "value": " 10000/10000 [00:08&lt;00:00, 1138.29it/s]"
      }
     },
     "5e25c40fb1c24e858deba31ca2e9ef5e": {
      "model_module": "@jupyter-widgets/controls",
      "model_module_version": "1.5.0",
      "model_name": "HBoxModel",
      "state": {
       "children": [
        "IPY_MODEL_7e25bad141484eaf8d7fd470fb9cde9b",
        "IPY_MODEL_513c767fb382417cb66cb1ab0360a0e0",
        "IPY_MODEL_d2cb6985e48d4202854cf91cb32b3ea2"
       ],
       "layout": "IPY_MODEL_fae63040bfb8495ea637c78da2ff80c3"
      }
     },
     "5e5945dc5b7c463f8b7eec5aebfe21a7": {
      "model_module": "@jupyter-widgets/controls",
      "model_module_version": "1.5.0",
      "model_name": "HTMLModel",
      "state": {
       "layout": "IPY_MODEL_ff8a913da1af4848b29c5a73bb1239a9",
       "style": "IPY_MODEL_499e8c43eb8c4fd3b33c89c0bde8ede7",
       "value": "MCMC Iteration: 100%"
      }
     },
     "5eacdb5b58a647f8a826bb4e98a89ab8": {
      "model_module": "@jupyter-widgets/controls",
      "model_module_version": "1.5.0",
      "model_name": "DescriptionStyleModel",
      "state": {
       "description_width": ""
      }
     },
     "5ed308b303714a47ace01ae9902fbcc7": {
      "model_module": "@jupyter-widgets/controls",
      "model_module_version": "1.5.0",
      "model_name": "FloatProgressModel",
      "state": {
       "bar_style": "success",
       "layout": "IPY_MODEL_98345b2634804724befb346aafeead87",
       "max": 10000,
       "style": "IPY_MODEL_7b40b620f479469ebee7b6cdebf1553f",
       "value": 10000
      }
     },
     "5ed725ec1237413ea17d6906cd933da5": {
      "model_module": "@jupyter-widgets/base",
      "model_module_version": "1.2.0",
      "model_name": "LayoutModel",
      "state": {}
     },
     "5ee956f4b091487ba1b1eed8e576b831": {
      "model_module": "@jupyter-widgets/controls",
      "model_module_version": "1.5.0",
      "model_name": "FloatProgressModel",
      "state": {
       "bar_style": "success",
       "layout": "IPY_MODEL_2754620a34094974a7a2fb1dbd4e0d5d",
       "max": 10000,
       "style": "IPY_MODEL_a9a99799b24845b4b96836288e78d576",
       "value": 10000
      }
     },
     "5f15f131694f4620865757b0259d7d72": {
      "model_module": "@jupyter-widgets/base",
      "model_module_version": "1.2.0",
      "model_name": "LayoutModel",
      "state": {}
     },
     "5f51424f1b4b4e4ab1136b6c3a7676b6": {
      "model_module": "@jupyter-widgets/controls",
      "model_module_version": "1.5.0",
      "model_name": "DescriptionStyleModel",
      "state": {
       "description_width": ""
      }
     },
     "5fa0f10a56124a7980c12d1c056a5c12": {
      "model_module": "@jupyter-widgets/controls",
      "model_module_version": "1.5.0",
      "model_name": "HTMLModel",
      "state": {
       "layout": "IPY_MODEL_270ad9161c324a4282a45e7826a06848",
       "style": "IPY_MODEL_7d16cd48e5b24d65b2e24e681f394268",
       "value": " 10000/10000 [00:14&lt;00:00, 713.26it/s]"
      }
     },
     "5fbfe8fb7ad646dcba5db580ac912e1c": {
      "model_module": "@jupyter-widgets/base",
      "model_module_version": "1.2.0",
      "model_name": "LayoutModel",
      "state": {}
     },
     "600f1c73aa7b4694b46648d08f7d1746": {
      "model_module": "@jupyter-widgets/controls",
      "model_module_version": "1.5.0",
      "model_name": "FloatProgressModel",
      "state": {
       "bar_style": "success",
       "layout": "IPY_MODEL_212aea2fb4cf4f9e8d4a9c100b6fb425",
       "max": 10000,
       "style": "IPY_MODEL_940d01ed6aaf4fa1aeb6a238b8301abb",
       "value": 10000
      }
     },
     "6035d263e4314e91b8d4d915cf7cacf6": {
      "model_module": "@jupyter-widgets/controls",
      "model_module_version": "1.5.0",
      "model_name": "HTMLModel",
      "state": {
       "layout": "IPY_MODEL_c6e3c458e38d4d5fb9850f2816f6ee94",
       "style": "IPY_MODEL_700a7e5eb26146a39f4080f3f0da4575",
       "value": "MCMC Iteration: 100%"
      }
     },
     "60d4b540997541fcbe340523e7f3dca4": {
      "model_module": "@jupyter-widgets/base",
      "model_module_version": "1.2.0",
      "model_name": "LayoutModel",
      "state": {}
     },
     "61e5c302e28d438fb994e853ff88bbaf": {
      "model_module": "@jupyter-widgets/controls",
      "model_module_version": "1.5.0",
      "model_name": "HTMLModel",
      "state": {
       "layout": "IPY_MODEL_8822404e47234620a3082473aaf6bc12",
       "style": "IPY_MODEL_4fb0a2c69a644b11b329becb5884f2bc",
       "value": " 10000/10000 [00:21&lt;00:00, 480.35it/s]"
      }
     },
     "61f7f2fde1c4499eaebee358548d2f2d": {
      "model_module": "@jupyter-widgets/base",
      "model_module_version": "1.2.0",
      "model_name": "LayoutModel",
      "state": {}
     },
     "6241814bfc21444ab82c543d65e9d44c": {
      "model_module": "@jupyter-widgets/base",
      "model_module_version": "1.2.0",
      "model_name": "LayoutModel",
      "state": {}
     },
     "629449bf0df44fdf8c074160442210dc": {
      "model_module": "@jupyter-widgets/controls",
      "model_module_version": "1.5.0",
      "model_name": "HTMLModel",
      "state": {
       "layout": "IPY_MODEL_f7f4715b0fd8452f816b5394964838c5",
       "style": "IPY_MODEL_296d98a9d7e14b49a8c9c6ea47d2999d",
       "value": " 10000/10000 [00:09&lt;00:00, 1055.70it/s]"
      }
     },
     "62b6ec00b3224e70a1f2cb08c62c3856": {
      "model_module": "@jupyter-widgets/controls",
      "model_module_version": "1.5.0",
      "model_name": "HBoxModel",
      "state": {
       "children": [
        "IPY_MODEL_06bcbe1649d245589e67d89479cecdc8",
        "IPY_MODEL_1403ba3289824a0a9013df1f101f60c5",
        "IPY_MODEL_0eddaca8058b49f5aff75b503a2064fb"
       ],
       "layout": "IPY_MODEL_fca2a6210ada4aa2962d9d08d9f6cce8"
      }
     },
     "62b8a85ec2634a79ace2955b2749ac4b": {
      "model_module": "@jupyter-widgets/controls",
      "model_module_version": "1.5.0",
      "model_name": "DescriptionStyleModel",
      "state": {
       "description_width": ""
      }
     },
     "62bcc7e129f34727b962b93fb6cae6f1": {
      "model_module": "@jupyter-widgets/controls",
      "model_module_version": "1.5.0",
      "model_name": "HTMLModel",
      "state": {
       "layout": "IPY_MODEL_840c2301809547b7bdf8391a79ff42f1",
       "style": "IPY_MODEL_4b05a8bc5e8d48bdaab9557515eb5225",
       "value": "MCMC Iteration: 100%"
      }
     },
     "62c5deff775f4c6fbbf2e8c07d241601": {
      "model_module": "@jupyter-widgets/controls",
      "model_module_version": "1.5.0",
      "model_name": "ProgressStyleModel",
      "state": {
       "description_width": ""
      }
     },
     "62d4c05d2e7a4f4ea262e5d5709d14c6": {
      "model_module": "@jupyter-widgets/controls",
      "model_module_version": "1.5.0",
      "model_name": "HTMLModel",
      "state": {
       "layout": "IPY_MODEL_0b81d7f474f14ac3abd950979a825b23",
       "style": "IPY_MODEL_71a07d62dd424e21a405bd242a993d0a",
       "value": " 10000/10000 [00:08&lt;00:00, 1304.99it/s]"
      }
     },
     "6306c263d19848c0a689035bdf29029b": {
      "model_module": "@jupyter-widgets/controls",
      "model_module_version": "1.5.0",
      "model_name": "HTMLModel",
      "state": {
       "layout": "IPY_MODEL_17c32571dc014a448bc913c90b3f9a4f",
       "style": "IPY_MODEL_b00c7ba441df48019b70b38e0ba4b227",
       "value": " 8663/10000 [00:13&lt;00:02, 650.58it/s]"
      }
     },
     "63560d384f774ea3a69b7453d06f7023": {
      "model_module": "@jupyter-widgets/base",
      "model_module_version": "1.2.0",
      "model_name": "LayoutModel",
      "state": {}
     },
     "636018a057804c4e919729bca81d21b5": {
      "model_module": "@jupyter-widgets/controls",
      "model_module_version": "1.5.0",
      "model_name": "DescriptionStyleModel",
      "state": {
       "description_width": ""
      }
     },
     "63a78d98247f4631ae0df2c7da146b11": {
      "model_module": "@jupyter-widgets/controls",
      "model_module_version": "1.5.0",
      "model_name": "HTMLModel",
      "state": {
       "layout": "IPY_MODEL_11859bb9a5d74469a577bd12fb961db7",
       "style": "IPY_MODEL_b9b270261c444535af96c801bc864cd6",
       "value": " 10000/10000 [00:15&lt;00:00, 648.27it/s]"
      }
     },
     "63b60dc933684079bcd97f21dc0da498": {
      "model_module": "@jupyter-widgets/controls",
      "model_module_version": "1.5.0",
      "model_name": "HBoxModel",
      "state": {
       "children": [
        "IPY_MODEL_b66331e39d614f1e9a755cf944e6967b",
        "IPY_MODEL_2a5aa45344214ec6955602ae0d6a8e13",
        "IPY_MODEL_996725c3767444d09871b740bf862a94"
       ],
       "layout": "IPY_MODEL_a015b2dd39cb4e80aa599e33faa58cc5"
      }
     },
     "63fa0f1d564649feaf904eac5185846a": {
      "model_module": "@jupyter-widgets/base",
      "model_module_version": "1.2.0",
      "model_name": "LayoutModel",
      "state": {}
     },
     "641977df9cf54dbaa54dd05b047e0ab4": {
      "model_module": "@jupyter-widgets/controls",
      "model_module_version": "1.5.0",
      "model_name": "ProgressStyleModel",
      "state": {
       "description_width": ""
      }
     },
     "643cdd34c3594e67bc1dc9f949e798ad": {
      "model_module": "@jupyter-widgets/base",
      "model_module_version": "1.2.0",
      "model_name": "LayoutModel",
      "state": {}
     },
     "6460a34cd7fd445a8c1eb60b89e9276c": {
      "model_module": "@jupyter-widgets/controls",
      "model_module_version": "1.5.0",
      "model_name": "DescriptionStyleModel",
      "state": {
       "description_width": ""
      }
     },
     "64639cfafa8b4ab1bc37f74e7383cb65": {
      "model_module": "@jupyter-widgets/controls",
      "model_module_version": "1.5.0",
      "model_name": "FloatProgressModel",
      "state": {
       "bar_style": "success",
       "layout": "IPY_MODEL_beadb1a94523494c92117bd52eb3def8",
       "max": 10000,
       "style": "IPY_MODEL_d70afaaa02a841dd967602f615162b23",
       "value": 10000
      }
     },
     "6470ee88fae74b76ac0978da7b95dcba": {
      "model_module": "@jupyter-widgets/controls",
      "model_module_version": "1.5.0",
      "model_name": "HBoxModel",
      "state": {
       "children": [
        "IPY_MODEL_e249fe73e1434b06bc3fd091b47d07f5",
        "IPY_MODEL_cae5507cfc67477f89e08b56d155b8ba",
        "IPY_MODEL_547286cd0e4d4f4686344199d9c3c8d7"
       ],
       "layout": "IPY_MODEL_0edf049169284b998b58946c325bad67"
      }
     },
     "64bb431fcbc643dba84a158f4cb8abaf": {
      "model_module": "@jupyter-widgets/base",
      "model_module_version": "1.2.0",
      "model_name": "LayoutModel",
      "state": {}
     },
     "6503c14ab1b54a52b997de9fa5029ea5": {
      "model_module": "@jupyter-widgets/base",
      "model_module_version": "1.2.0",
      "model_name": "LayoutModel",
      "state": {}
     },
     "65441d6155574251a2728c46b704fe8a": {
      "model_module": "@jupyter-widgets/base",
      "model_module_version": "1.2.0",
      "model_name": "LayoutModel",
      "state": {}
     },
     "65a24b89c2d74d268dd3e7bf94512c33": {
      "model_module": "@jupyter-widgets/controls",
      "model_module_version": "1.5.0",
      "model_name": "ProgressStyleModel",
      "state": {
       "description_width": ""
      }
     },
     "65fb7fcd8ccc4b098e54709b826089bc": {
      "model_module": "@jupyter-widgets/base",
      "model_module_version": "1.2.0",
      "model_name": "LayoutModel",
      "state": {}
     },
     "660091851d2040bb8f0a672ce8297a81": {
      "model_module": "@jupyter-widgets/controls",
      "model_module_version": "1.5.0",
      "model_name": "HTMLModel",
      "state": {
       "layout": "IPY_MODEL_89131a10d8f4486288a5fa34c71b826f",
       "style": "IPY_MODEL_d04f9a219e274ae68fa0fcbdec6c8ede",
       "value": "MCMC Iteration: 100%"
      }
     },
     "66702fd0e0d74e689685c60d4fe9453f": {
      "model_module": "@jupyter-widgets/controls",
      "model_module_version": "1.5.0",
      "model_name": "ProgressStyleModel",
      "state": {
       "description_width": ""
      }
     },
     "66e28d2ab6a64ce297e163987e5236fd": {
      "model_module": "@jupyter-widgets/controls",
      "model_module_version": "1.5.0",
      "model_name": "DescriptionStyleModel",
      "state": {
       "description_width": ""
      }
     },
     "679324035ce04e3babe5d895c4640a7d": {
      "model_module": "@jupyter-widgets/base",
      "model_module_version": "1.2.0",
      "model_name": "LayoutModel",
      "state": {}
     },
     "67db586f073d4a3db66c83a59b15edbd": {
      "model_module": "@jupyter-widgets/controls",
      "model_module_version": "1.5.0",
      "model_name": "HTMLModel",
      "state": {
       "layout": "IPY_MODEL_3287de0ce5ff4241b2f880b23d8318b0",
       "style": "IPY_MODEL_6d57b7f8fff5419a9e37127368b1f293",
       "value": "MCMC Iteration: 100%"
      }
     },
     "681cab684b144cf99771b5896fae99cb": {
      "model_module": "@jupyter-widgets/controls",
      "model_module_version": "1.5.0",
      "model_name": "HTMLModel",
      "state": {
       "layout": "IPY_MODEL_76f9023ea0f74250bc6e879a2e8419b9",
       "style": "IPY_MODEL_9039b94eb6a84bcc88e04e421a3eed81",
       "value": " 10000/10000 [00:07&lt;00:00, 1346.62it/s]"
      }
     },
     "6843b698f73f420a98f286b6799eb06c": {
      "model_module": "@jupyter-widgets/controls",
      "model_module_version": "1.5.0",
      "model_name": "ProgressStyleModel",
      "state": {
       "description_width": ""
      }
     },
     "68604f9e111249f4a7f79f0c5b30e2c4": {
      "model_module": "@jupyter-widgets/controls",
      "model_module_version": "1.5.0",
      "model_name": "ProgressStyleModel",
      "state": {
       "description_width": ""
      }
     },
     "68addc73f2cb456cb56b23563825958a": {
      "model_module": "@jupyter-widgets/controls",
      "model_module_version": "1.5.0",
      "model_name": "DescriptionStyleModel",
      "state": {
       "description_width": ""
      }
     },
     "68b650128ccf418fa806800a6395c8fc": {
      "model_module": "@jupyter-widgets/controls",
      "model_module_version": "1.5.0",
      "model_name": "HTMLModel",
      "state": {
       "layout": "IPY_MODEL_ad704de5001549109933dcbd52d3929e",
       "style": "IPY_MODEL_9041103ca1ef4ba1bb419069906ff773",
       "value": "MCMC Iteration: 100%"
      }
     },
     "68bfefc6d14e474daf4f0ad0c0dbba03": {
      "model_module": "@jupyter-widgets/controls",
      "model_module_version": "1.5.0",
      "model_name": "DescriptionStyleModel",
      "state": {
       "description_width": ""
      }
     },
     "68df9cffbf8743eaa64e45aa473c7958": {
      "model_module": "@jupyter-widgets/controls",
      "model_module_version": "1.5.0",
      "model_name": "HTMLModel",
      "state": {
       "layout": "IPY_MODEL_c17d2d159e5448f189a60f5b510214eb",
       "style": "IPY_MODEL_95b5b43baf2d47afa9078e780fb3a582",
       "value": "MCMC Iteration: 100%"
      }
     },
     "695fa65468434362b41c71d99773db33": {
      "model_module": "@jupyter-widgets/controls",
      "model_module_version": "1.5.0",
      "model_name": "FloatProgressModel",
      "state": {
       "bar_style": "success",
       "layout": "IPY_MODEL_a7a33d8cf2e546c69c1fa881a495d4cc",
       "max": 10000,
       "style": "IPY_MODEL_99f3ec0b05ed4448a56eb3a60c863c79",
       "value": 10000
      }
     },
     "699a6047c15848d1b446a8ec9dfbbdc2": {
      "model_module": "@jupyter-widgets/controls",
      "model_module_version": "1.5.0",
      "model_name": "HBoxModel",
      "state": {
       "children": [
        "IPY_MODEL_95314b1cbf7a4d91ad5373a2e562d4fd",
        "IPY_MODEL_8fbe2d04d85d4247ac59de9f8dabcd6c",
        "IPY_MODEL_681cab684b144cf99771b5896fae99cb"
       ],
       "layout": "IPY_MODEL_b8b12f434bd34cd9aa38af6b9a33d776"
      }
     },
     "69aba67883664fb1a9440371d1aa0c59": {
      "model_module": "@jupyter-widgets/controls",
      "model_module_version": "1.5.0",
      "model_name": "ProgressStyleModel",
      "state": {
       "description_width": ""
      }
     },
     "6a0500b3248e499bbeaed37f3244fffe": {
      "model_module": "@jupyter-widgets/controls",
      "model_module_version": "1.5.0",
      "model_name": "DescriptionStyleModel",
      "state": {
       "description_width": ""
      }
     },
     "6a11e0b1fa7145c4b2d14aa77ad33f4a": {
      "model_module": "@jupyter-widgets/controls",
      "model_module_version": "1.5.0",
      "model_name": "HBoxModel",
      "state": {
       "children": [
        "IPY_MODEL_7753d89e99d94a7193c02e3089f9d405",
        "IPY_MODEL_ca6bc088e39d4022a9b6d946a562f3dd",
        "IPY_MODEL_deeee87334e24a78b5d25a6ccfa7d347"
       ],
       "layout": "IPY_MODEL_d69d1c95353b4289b01cf2f7f70fdc6b"
      }
     },
     "6a768aedaf9544d09858eef82cef3457": {
      "model_module": "@jupyter-widgets/controls",
      "model_module_version": "1.5.0",
      "model_name": "HTMLModel",
      "state": {
       "layout": "IPY_MODEL_bcdce9407cf745b1b0aaa022210d66df",
       "style": "IPY_MODEL_027031087a0641879a1056efb89e8e18",
       "value": "MCMC Iteration: 100%"
      }
     },
     "6aebea4064664705829c9117abb533a5": {
      "model_module": "@jupyter-widgets/base",
      "model_module_version": "1.2.0",
      "model_name": "LayoutModel",
      "state": {}
     },
     "6b13ba2677da4566b207936e0d18dc3c": {
      "model_module": "@jupyter-widgets/base",
      "model_module_version": "1.2.0",
      "model_name": "LayoutModel",
      "state": {}
     },
     "6b1c1d596c4b41ecb41c31a52bdc993b": {
      "model_module": "@jupyter-widgets/controls",
      "model_module_version": "1.5.0",
      "model_name": "HTMLModel",
      "state": {
       "layout": "IPY_MODEL_c2970907485e496fa0c464528b33f026",
       "style": "IPY_MODEL_e4fd04ada08e437b80c0957fb9da9e60",
       "value": " 10000/10000 [00:22&lt;00:00, 434.49it/s]"
      }
     },
     "6b2ee59039ec4b0ab77a8cf2e47b655c": {
      "model_module": "@jupyter-widgets/controls",
      "model_module_version": "1.5.0",
      "model_name": "DescriptionStyleModel",
      "state": {
       "description_width": ""
      }
     },
     "6b54e90c513842df80a45c6bf15182b7": {
      "model_module": "@jupyter-widgets/controls",
      "model_module_version": "1.5.0",
      "model_name": "ProgressStyleModel",
      "state": {
       "description_width": ""
      }
     },
     "6b6042fc4f9641f0b3e3a4e702dfa3a9": {
      "model_module": "@jupyter-widgets/base",
      "model_module_version": "1.2.0",
      "model_name": "LayoutModel",
      "state": {}
     },
     "6b6521e8b8154d2c8c9926f8e1bebf22": {
      "model_module": "@jupyter-widgets/base",
      "model_module_version": "1.2.0",
      "model_name": "LayoutModel",
      "state": {}
     },
     "6ba7772deb844d2f8fe976d008ed1e1e": {
      "model_module": "@jupyter-widgets/controls",
      "model_module_version": "1.5.0",
      "model_name": "HBoxModel",
      "state": {
       "children": [
        "IPY_MODEL_aae709143dd8440ebc1257a94410960f",
        "IPY_MODEL_cb225988d91c4d9eae96a6d3c3accef9",
        "IPY_MODEL_8f83ee8d911b4811b0d9c05aca277320"
       ],
       "layout": "IPY_MODEL_1fd49f8fcd984cc291ec9468b6d407f6"
      }
     },
     "6bec8de1906a418689552b81016e079f": {
      "model_module": "@jupyter-widgets/controls",
      "model_module_version": "1.5.0",
      "model_name": "HBoxModel",
      "state": {
       "children": [
        "IPY_MODEL_00cc76952bdc471484a4a4a6f9039cf3",
        "IPY_MODEL_bc9810488d604232ac1b5d048062a560",
        "IPY_MODEL_5fa0f10a56124a7980c12d1c056a5c12"
       ],
       "layout": "IPY_MODEL_4d6d8ef33d2944c1a97fc17b48b90755"
      }
     },
     "6c55ad36d39343f7bf4295e7463acc5c": {
      "model_module": "@jupyter-widgets/controls",
      "model_module_version": "1.5.0",
      "model_name": "HTMLModel",
      "state": {
       "layout": "IPY_MODEL_95831158a55747e1bcf2855945a0418e",
       "style": "IPY_MODEL_d817a997b00647bab3ce4f63f138f812",
       "value": " 10000/10000 [00:20&lt;00:00, 510.11it/s]"
      }
     },
     "6ca091bc10f94253ae9c7bd206ffd42c": {
      "model_module": "@jupyter-widgets/controls",
      "model_module_version": "1.5.0",
      "model_name": "HTMLModel",
      "state": {
       "layout": "IPY_MODEL_3a40f3812e794e8ab87ec64c9bf80418",
       "style": "IPY_MODEL_4f5d8453eabc41e88ad8e71db59a9592",
       "value": " 10000/10000 [00:07&lt;00:00, 1354.99it/s]"
      }
     },
     "6ca701c95d51414b8ae397a94abac03b": {
      "model_module": "@jupyter-widgets/controls",
      "model_module_version": "1.5.0",
      "model_name": "FloatProgressModel",
      "state": {
       "bar_style": "success",
       "layout": "IPY_MODEL_995353ef7df04b4f908fdd0912f92d79",
       "max": 10000,
       "style": "IPY_MODEL_aec303abd88e4feaa9dcb68747aff743",
       "value": 10000
      }
     },
     "6cb0f53333854503be033b6f2a570193": {
      "model_module": "@jupyter-widgets/controls",
      "model_module_version": "1.5.0",
      "model_name": "DescriptionStyleModel",
      "state": {
       "description_width": ""
      }
     },
     "6cb96cf513aa4444b3192e4213c7b5f8": {
      "model_module": "@jupyter-widgets/base",
      "model_module_version": "1.2.0",
      "model_name": "LayoutModel",
      "state": {}
     },
     "6cc4f9e7aeac49bda84cb731a2df9484": {
      "model_module": "@jupyter-widgets/base",
      "model_module_version": "1.2.0",
      "model_name": "LayoutModel",
      "state": {}
     },
     "6d310459bc6a4f53b2e098d75e5f8dfb": {
      "model_module": "@jupyter-widgets/controls",
      "model_module_version": "1.5.0",
      "model_name": "FloatProgressModel",
      "state": {
       "bar_style": "success",
       "layout": "IPY_MODEL_7f6e6004dc574bb583fb9286d515fa0a",
       "max": 10000,
       "style": "IPY_MODEL_9ab61ace6fa143ab907bcfb78e8a1447",
       "value": 10000
      }
     },
     "6d57b7f8fff5419a9e37127368b1f293": {
      "model_module": "@jupyter-widgets/controls",
      "model_module_version": "1.5.0",
      "model_name": "DescriptionStyleModel",
      "state": {
       "description_width": ""
      }
     },
     "6da30207070e4e25a329fd2d6277b00f": {
      "model_module": "@jupyter-widgets/base",
      "model_module_version": "1.2.0",
      "model_name": "LayoutModel",
      "state": {}
     },
     "6dfc93704e684f17b642887bd2f50219": {
      "model_module": "@jupyter-widgets/base",
      "model_module_version": "1.2.0",
      "model_name": "LayoutModel",
      "state": {}
     },
     "6e0ab2fc60284c43a9072d0ba1d902c5": {
      "model_module": "@jupyter-widgets/controls",
      "model_module_version": "1.5.0",
      "model_name": "HTMLModel",
      "state": {
       "layout": "IPY_MODEL_33a4aaf29f394094bc72ea3a17110957",
       "style": "IPY_MODEL_ee8cae5bf40148a59374eed16b1928b1",
       "value": "MCMC Iteration: 100%"
      }
     },
     "6e9a084cbfcd494e8ef292580c321d6b": {
      "model_module": "@jupyter-widgets/controls",
      "model_module_version": "1.5.0",
      "model_name": "DescriptionStyleModel",
      "state": {
       "description_width": ""
      }
     },
     "6ec22bbfc7dc406d9229f9f9c21150cb": {
      "model_module": "@jupyter-widgets/controls",
      "model_module_version": "1.5.0",
      "model_name": "HTMLModel",
      "state": {
       "layout": "IPY_MODEL_4933cb33a59f41c8b48e32597f233f69",
       "style": "IPY_MODEL_42f267621d25414e9be9f09ab74fae09",
       "value": " 10000/10000 [00:09&lt;00:00, 1085.03it/s]"
      }
     },
     "6ef89a570b794be09f6c81b1560a1274": {
      "model_module": "@jupyter-widgets/controls",
      "model_module_version": "1.5.0",
      "model_name": "FloatProgressModel",
      "state": {
       "bar_style": "success",
       "layout": "IPY_MODEL_412ccb22e4944082933351784afb27c9",
       "max": 10000,
       "style": "IPY_MODEL_95e9ba71b5fe47ad9d51855e5f78cd15",
       "value": 10000
      }
     },
     "6f0c200ac56048038be1e9d4c3c57b66": {
      "model_module": "@jupyter-widgets/controls",
      "model_module_version": "1.5.0",
      "model_name": "DescriptionStyleModel",
      "state": {
       "description_width": ""
      }
     },
     "6fa6fa5924654641b7f3765ff76a160e": {
      "model_module": "@jupyter-widgets/controls",
      "model_module_version": "1.5.0",
      "model_name": "DescriptionStyleModel",
      "state": {
       "description_width": ""
      }
     },
     "6fcd2073875f41ad8a12e5d725c65065": {
      "model_module": "@jupyter-widgets/controls",
      "model_module_version": "1.5.0",
      "model_name": "HTMLModel",
      "state": {
       "layout": "IPY_MODEL_7f6f8e834b7546f6889c0b94d416b201",
       "style": "IPY_MODEL_3139647c74d5449ca36e554b31f1ec70",
       "value": "MCMC Iteration: 100%"
      }
     },
     "6fe3b14531ad45b0a30c43bfd271ff3a": {
      "model_module": "@jupyter-widgets/base",
      "model_module_version": "1.2.0",
      "model_name": "LayoutModel",
      "state": {}
     },
     "700218eee9224abb993ebcdcf660e767": {
      "model_module": "@jupyter-widgets/controls",
      "model_module_version": "1.5.0",
      "model_name": "DescriptionStyleModel",
      "state": {
       "description_width": ""
      }
     },
     "700a7e5eb26146a39f4080f3f0da4575": {
      "model_module": "@jupyter-widgets/controls",
      "model_module_version": "1.5.0",
      "model_name": "DescriptionStyleModel",
      "state": {
       "description_width": ""
      }
     },
     "700a7ecdc9b44f5d9aa220f699a31203": {
      "model_module": "@jupyter-widgets/controls",
      "model_module_version": "1.5.0",
      "model_name": "FloatProgressModel",
      "state": {
       "bar_style": "success",
       "layout": "IPY_MODEL_e503545443b340cc9bb226fe9938af01",
       "max": 10000,
       "style": "IPY_MODEL_705c608dec9f4a1f93cdd9f93dc89b4b",
       "value": 10000
      }
     },
     "7010326477064c24b4183273b1cd333d": {
      "model_module": "@jupyter-widgets/controls",
      "model_module_version": "1.5.0",
      "model_name": "HTMLModel",
      "state": {
       "layout": "IPY_MODEL_7d6f32d1413146acb152a1bef1e90bf0",
       "style": "IPY_MODEL_a28e7023e3644681b998b565b9e19db0",
       "value": "MCMC Iteration: 100%"
      }
     },
     "7053f1f24e574ccdbd8359b30ffd88cc": {
      "model_module": "@jupyter-widgets/base",
      "model_module_version": "1.2.0",
      "model_name": "LayoutModel",
      "state": {}
     },
     "705c608dec9f4a1f93cdd9f93dc89b4b": {
      "model_module": "@jupyter-widgets/controls",
      "model_module_version": "1.5.0",
      "model_name": "ProgressStyleModel",
      "state": {
       "description_width": ""
      }
     },
     "70a8e5bd95544430bb20d59cb5d4fca3": {
      "model_module": "@jupyter-widgets/base",
      "model_module_version": "1.2.0",
      "model_name": "LayoutModel",
      "state": {}
     },
     "70c2b521ece046568ac7d657394d684c": {
      "model_module": "@jupyter-widgets/base",
      "model_module_version": "1.2.0",
      "model_name": "LayoutModel",
      "state": {}
     },
     "70d0ba3240384f6fa43362d7eaf26ab3": {
      "model_module": "@jupyter-widgets/controls",
      "model_module_version": "1.5.0",
      "model_name": "ProgressStyleModel",
      "state": {
       "description_width": ""
      }
     },
     "70e6be71e3be441fbcb436d7c9565b07": {
      "model_module": "@jupyter-widgets/base",
      "model_module_version": "1.2.0",
      "model_name": "LayoutModel",
      "state": {}
     },
     "70fa0f2d14f5494e962b91b94399bbfb": {
      "model_module": "@jupyter-widgets/controls",
      "model_module_version": "1.5.0",
      "model_name": "HTMLModel",
      "state": {
       "layout": "IPY_MODEL_65fb7fcd8ccc4b098e54709b826089bc",
       "style": "IPY_MODEL_aaf76abf2a9648aea8667e396558c54f",
       "value": "MCMC Iteration: 100%"
      }
     },
     "714d73b757504fec8e1856e5d8d03abb": {
      "model_module": "@jupyter-widgets/controls",
      "model_module_version": "1.5.0",
      "model_name": "FloatProgressModel",
      "state": {
       "bar_style": "success",
       "layout": "IPY_MODEL_bc78d1b47da14d4f8df797adda9cf88c",
       "max": 10000,
       "style": "IPY_MODEL_07f48c82d8fc40548e6b66280cd870c4",
       "value": 10000
      }
     },
     "7151c91777e8480aa418bba152180c21": {
      "model_module": "@jupyter-widgets/controls",
      "model_module_version": "1.5.0",
      "model_name": "HTMLModel",
      "state": {
       "layout": "IPY_MODEL_2a5629aba1444393b5cf9cc6df616b6a",
       "style": "IPY_MODEL_700218eee9224abb993ebcdcf660e767",
       "value": "MCMC Iteration: 100%"
      }
     },
     "71a07d62dd424e21a405bd242a993d0a": {
      "model_module": "@jupyter-widgets/controls",
      "model_module_version": "1.5.0",
      "model_name": "DescriptionStyleModel",
      "state": {
       "description_width": ""
      }
     },
     "71a93d5010084468bdf48a9eadacac71": {
      "model_module": "@jupyter-widgets/base",
      "model_module_version": "1.2.0",
      "model_name": "LayoutModel",
      "state": {}
     },
     "71ef13360ef64dc88a74282f79f4506e": {
      "model_module": "@jupyter-widgets/base",
      "model_module_version": "1.2.0",
      "model_name": "LayoutModel",
      "state": {}
     },
     "7202060fec964c4883bf47279d8b8d25": {
      "model_module": "@jupyter-widgets/controls",
      "model_module_version": "1.5.0",
      "model_name": "HTMLModel",
      "state": {
       "layout": "IPY_MODEL_10704904f28147e197afc68512892e28",
       "style": "IPY_MODEL_ea171d61403a409daae67a26cbade889",
       "value": "MCMC Iteration: 100%"
      }
     },
     "725be6af312e461a8c94fc63982f67e5": {
      "model_module": "@jupyter-widgets/controls",
      "model_module_version": "1.5.0",
      "model_name": "HTMLModel",
      "state": {
       "layout": "IPY_MODEL_d82fefb76ba94cb796b82ffe127a0128",
       "style": "IPY_MODEL_280e378e1cd9412ba8221a12ccfe1aca",
       "value": " 10000/10000 [00:24&lt;00:00, 408.45it/s]"
      }
     },
     "7289706ccebc4abe83f31f5db5b94531": {
      "model_module": "@jupyter-widgets/controls",
      "model_module_version": "1.5.0",
      "model_name": "DescriptionStyleModel",
      "state": {
       "description_width": ""
      }
     },
     "72b63885b2634c9e996a8814c7e6e960": {
      "model_module": "@jupyter-widgets/controls",
      "model_module_version": "1.5.0",
      "model_name": "FloatProgressModel",
      "state": {
       "bar_style": "success",
       "layout": "IPY_MODEL_7b1410b0cc604e32bc899c9e3cc76be7",
       "max": 10000,
       "style": "IPY_MODEL_0e2fffb212824a94b6d7e3c2310342e3",
       "value": 10000
      }
     },
     "72db1f549cd54979aa0b7e88b9965f6e": {
      "model_module": "@jupyter-widgets/base",
      "model_module_version": "1.2.0",
      "model_name": "LayoutModel",
      "state": {}
     },
     "72ecfa5b3b06466384cc6dd4745bc24d": {
      "model_module": "@jupyter-widgets/controls",
      "model_module_version": "1.5.0",
      "model_name": "DescriptionStyleModel",
      "state": {
       "description_width": ""
      }
     },
     "7383ad124b804795b59dd03f44460b20": {
      "model_module": "@jupyter-widgets/base",
      "model_module_version": "1.2.0",
      "model_name": "LayoutModel",
      "state": {}
     },
     "73a6351367704641a48b0051686ab4ad": {
      "model_module": "@jupyter-widgets/controls",
      "model_module_version": "1.5.0",
      "model_name": "HTMLModel",
      "state": {
       "layout": "IPY_MODEL_062e820063904721923d7b34e566eaf8",
       "style": "IPY_MODEL_a8506ac90345498c82bc7c237fc2088d",
       "value": " 10000/10000 [00:07&lt;00:00, 1335.02it/s]"
      }
     },
     "73dedb1435394f86a4ed87006acb52e2": {
      "model_module": "@jupyter-widgets/base",
      "model_module_version": "1.2.0",
      "model_name": "LayoutModel",
      "state": {}
     },
     "73fcba8b97f34b45b9e7f1ad869448b5": {
      "model_module": "@jupyter-widgets/controls",
      "model_module_version": "1.5.0",
      "model_name": "HTMLModel",
      "state": {
       "layout": "IPY_MODEL_a089ab08480d48c8a19ad651a3dbdd3c",
       "style": "IPY_MODEL_2764ba9c99204dada756a8163da51080",
       "value": " 10000/10000 [00:20&lt;00:00, 524.36it/s]"
      }
     },
     "740a878968294d2bb233cc16d7ac2a18": {
      "model_module": "@jupyter-widgets/controls",
      "model_module_version": "1.5.0",
      "model_name": "HBoxModel",
      "state": {
       "children": [
        "IPY_MODEL_b1728a1ac0ca4220a31c30e3f5da9296",
        "IPY_MODEL_6ef89a570b794be09f6c81b1560a1274",
        "IPY_MODEL_6b1c1d596c4b41ecb41c31a52bdc993b"
       ],
       "layout": "IPY_MODEL_8567ceea4c72452d9ab08035af787a9b"
      }
     },
     "74524c9172994289b9e45d109f66762a": {
      "model_module": "@jupyter-widgets/controls",
      "model_module_version": "1.5.0",
      "model_name": "DescriptionStyleModel",
      "state": {
       "description_width": ""
      }
     },
     "746863a826f14e47a30ca8a47f505bdb": {
      "model_module": "@jupyter-widgets/base",
      "model_module_version": "1.2.0",
      "model_name": "LayoutModel",
      "state": {}
     },
     "74a229c331ec4a659751eb777ccd64d2": {
      "model_module": "@jupyter-widgets/controls",
      "model_module_version": "1.5.0",
      "model_name": "FloatProgressModel",
      "state": {
       "bar_style": "success",
       "layout": "IPY_MODEL_a820436b245a45cc8432356b0bc9f621",
       "max": 3,
       "style": "IPY_MODEL_1f5e1d177e3c4eb199f47a9f1b337458",
       "value": 3
      }
     },
     "74ab71fbb2674f2fb059ca55e2365084": {
      "model_module": "@jupyter-widgets/controls",
      "model_module_version": "1.5.0",
      "model_name": "HTMLModel",
      "state": {
       "layout": "IPY_MODEL_5cb0e6536f1e4cac99adaabf1a30aaec",
       "style": "IPY_MODEL_f90028f4a910498289d3d72d6991d4d6",
       "value": "MCMC Iteration: 100%"
      }
     },
     "74d771275b4e495c924ae1ecfa523d82": {
      "model_module": "@jupyter-widgets/controls",
      "model_module_version": "1.5.0",
      "model_name": "HTMLModel",
      "state": {
       "layout": "IPY_MODEL_6cb96cf513aa4444b3192e4213c7b5f8",
       "style": "IPY_MODEL_e1d7ae3d0f064eb0b8c11775b72e00af",
       "value": "MCMC Iteration: 100%"
      }
     },
     "74e300af991c4b20a88efde02ea711b8": {
      "model_module": "@jupyter-widgets/controls",
      "model_module_version": "1.5.0",
      "model_name": "HBoxModel",
      "state": {
       "children": [
        "IPY_MODEL_1b561e831eaf4a6f88594c211890bde5",
        "IPY_MODEL_8b0c88ab0d2c44f5b0ba8ed3020a2ff5",
        "IPY_MODEL_75d1f32ffa4646f182efb87223416d9a"
       ],
       "layout": "IPY_MODEL_4165f94b0f284fa5920744fb2258434b"
      }
     },
     "74f5a7e8da784f0dac32f284193e4b3d": {
      "model_module": "@jupyter-widgets/controls",
      "model_module_version": "1.5.0",
      "model_name": "HTMLModel",
      "state": {
       "layout": "IPY_MODEL_344f7e10eca2491ba1663bfb7dc71baa",
       "style": "IPY_MODEL_aefa529208a24ba3bdf3cd0d53132c68",
       "value": "MCMC Iteration: 100%"
      }
     },
     "750de3e4382d49e4b2dfd7f93f8c498a": {
      "model_module": "@jupyter-widgets/controls",
      "model_module_version": "1.5.0",
      "model_name": "HTMLModel",
      "state": {
       "layout": "IPY_MODEL_3e189377eda54c40836d3310a4513c6e",
       "style": "IPY_MODEL_ebb13a0bddf34e32bf03e9d6720a2aa9",
       "value": " 10000/10000 [00:08&lt;00:00, 990.41it/s]"
      }
     },
     "75217de26d564a80b6ae7dac1da5c469": {
      "model_module": "@jupyter-widgets/controls",
      "model_module_version": "1.5.0",
      "model_name": "HTMLModel",
      "state": {
       "layout": "IPY_MODEL_f0981dcc0b4945abba50ec9fdd1bded3",
       "style": "IPY_MODEL_efcefd02c8ac4803917d907d5bd847ce",
       "value": " 10000/10000 [00:21&lt;00:00, 466.22it/s]"
      }
     },
     "75347f0e556a4f28b53258941c55390d": {
      "model_module": "@jupyter-widgets/controls",
      "model_module_version": "1.5.0",
      "model_name": "HTMLModel",
      "state": {
       "layout": "IPY_MODEL_cdeb67942d3649bbb6eef2d5a6a5abae",
       "style": "IPY_MODEL_0e2183fe6c484b3a80b641f8c778ea95",
       "value": " 10000/10000 [00:15&lt;00:00, 639.44it/s]"
      }
     },
     "754538d994f541efaff8c7329a546a8e": {
      "model_module": "@jupyter-widgets/base",
      "model_module_version": "1.2.0",
      "model_name": "LayoutModel",
      "state": {}
     },
     "7545ac080b7e4973aa5e74b336e0e150": {
      "model_module": "@jupyter-widgets/base",
      "model_module_version": "1.2.0",
      "model_name": "LayoutModel",
      "state": {}
     },
     "7575b343a5924742ab6f804d1704264e": {
      "model_module": "@jupyter-widgets/base",
      "model_module_version": "1.2.0",
      "model_name": "LayoutModel",
      "state": {}
     },
     "75cf16476db74c1d8dc52dd8dd7ec8c7": {
      "model_module": "@jupyter-widgets/controls",
      "model_module_version": "1.5.0",
      "model_name": "FloatProgressModel",
      "state": {
       "bar_style": "success",
       "layout": "IPY_MODEL_fb19add66b2e41db867c04ad4edefae5",
       "max": 10000,
       "style": "IPY_MODEL_98f8f037efe5477ebb4d6f7d34878bf4",
       "value": 10000
      }
     },
     "75d1f32ffa4646f182efb87223416d9a": {
      "model_module": "@jupyter-widgets/controls",
      "model_module_version": "1.5.0",
      "model_name": "HTMLModel",
      "state": {
       "layout": "IPY_MODEL_73dedb1435394f86a4ed87006acb52e2",
       "style": "IPY_MODEL_7289706ccebc4abe83f31f5db5b94531",
       "value": " 10000/10000 [00:20&lt;00:00, 489.15it/s]"
      }
     },
     "75e07e3854db43a5a766a2e4819cab3c": {
      "model_module": "@jupyter-widgets/controls",
      "model_module_version": "1.5.0",
      "model_name": "DescriptionStyleModel",
      "state": {
       "description_width": ""
      }
     },
     "7637649eead84fa9ad0bea4a32a0731a": {
      "model_module": "@jupyter-widgets/base",
      "model_module_version": "1.2.0",
      "model_name": "LayoutModel",
      "state": {}
     },
     "764c942a27ba4e2392eb0b8dc0027e09": {
      "model_module": "@jupyter-widgets/controls",
      "model_module_version": "1.5.0",
      "model_name": "FloatProgressModel",
      "state": {
       "bar_style": "success",
       "layout": "IPY_MODEL_44b0acf6a31d46e2ba3447092a244015",
       "max": 10000,
       "style": "IPY_MODEL_56373ece09094df7a50d9239f28122ac",
       "value": 10000
      }
     },
     "765e83a084c94c908f96b56c4964b987": {
      "model_module": "@jupyter-widgets/base",
      "model_module_version": "1.2.0",
      "model_name": "LayoutModel",
      "state": {}
     },
     "7672327be7834472bfeed3c964f8898a": {
      "model_module": "@jupyter-widgets/base",
      "model_module_version": "1.2.0",
      "model_name": "LayoutModel",
      "state": {}
     },
     "76937d60b99c489598d0c407bb4a372c": {
      "model_module": "@jupyter-widgets/base",
      "model_module_version": "1.2.0",
      "model_name": "LayoutModel",
      "state": {}
     },
     "76a12b49d74943ecb8ad2ce81b5c25f8": {
      "model_module": "@jupyter-widgets/controls",
      "model_module_version": "1.5.0",
      "model_name": "DescriptionStyleModel",
      "state": {
       "description_width": ""
      }
     },
     "76f9023ea0f74250bc6e879a2e8419b9": {
      "model_module": "@jupyter-widgets/base",
      "model_module_version": "1.2.0",
      "model_name": "LayoutModel",
      "state": {}
     },
     "76fdaf669f324b1f8510ee05ed7f082a": {
      "model_module": "@jupyter-widgets/controls",
      "model_module_version": "1.5.0",
      "model_name": "FloatProgressModel",
      "state": {
       "bar_style": "success",
       "layout": "IPY_MODEL_931c8dd47f1f440093cae1190c68e3a1",
       "max": 10000,
       "style": "IPY_MODEL_e102508bd6674e7580b4ef4ea3fd599c",
       "value": 10000
      }
     },
     "774cb97003d34270b40f970de410dae4": {
      "model_module": "@jupyter-widgets/base",
      "model_module_version": "1.2.0",
      "model_name": "LayoutModel",
      "state": {}
     },
     "7753d89e99d94a7193c02e3089f9d405": {
      "model_module": "@jupyter-widgets/controls",
      "model_module_version": "1.5.0",
      "model_name": "HTMLModel",
      "state": {
       "layout": "IPY_MODEL_ec21fdc43ec443449c7c476b6858d21c",
       "style": "IPY_MODEL_d162181e92cb4de281e4dff883d6048e",
       "value": "Folds:   0%"
      }
     },
     "77b1b274668942cfbd8229656fe09f4f": {
      "model_module": "@jupyter-widgets/controls",
      "model_module_version": "1.5.0",
      "model_name": "ProgressStyleModel",
      "state": {
       "description_width": ""
      }
     },
     "77b602b839fb467faff6d294cbc94ec9": {
      "model_module": "@jupyter-widgets/base",
      "model_module_version": "1.2.0",
      "model_name": "LayoutModel",
      "state": {}
     },
     "77b7690fa5ce4005bd4ffc33b845d29c": {
      "model_module": "@jupyter-widgets/controls",
      "model_module_version": "1.5.0",
      "model_name": "DescriptionStyleModel",
      "state": {
       "description_width": ""
      }
     },
     "7830a8c57dd6473bb850b954c9fe91cc": {
      "model_module": "@jupyter-widgets/controls",
      "model_module_version": "1.5.0",
      "model_name": "HTMLModel",
      "state": {
       "layout": "IPY_MODEL_525eaef5dc8f4f9fa8b0ae2e6a90c83b",
       "style": "IPY_MODEL_3d2c634426fc4c05a595d86478533b77",
       "value": " 10000/10000 [00:08&lt;00:00, 1237.96it/s]"
      }
     },
     "78328053deda46fd9239e5094c66f9b5": {
      "model_module": "@jupyter-widgets/base",
      "model_module_version": "1.2.0",
      "model_name": "LayoutModel",
      "state": {}
     },
     "7862d8e5124b4a04be9745e2e9dcb2be": {
      "model_module": "@jupyter-widgets/controls",
      "model_module_version": "1.5.0",
      "model_name": "HTMLModel",
      "state": {
       "layout": "IPY_MODEL_cec8e70c4e4a46f68329bd7621a0d6f2",
       "style": "IPY_MODEL_f59a98faba994177a464baba31b65421",
       "value": " 10000/10000 [00:07&lt;00:00, 1356.95it/s]"
      }
     },
     "78a4ff5b80e54e0dac774ba13fac2bf5": {
      "model_module": "@jupyter-widgets/controls",
      "model_module_version": "1.5.0",
      "model_name": "FloatProgressModel",
      "state": {
       "bar_style": "success",
       "layout": "IPY_MODEL_8d8a7903d9d942e783e0c44a4fb54262",
       "max": 10000,
       "style": "IPY_MODEL_fce16fe556154db797c8f79775f31a6f",
       "value": 10000
      }
     },
     "78dd97c4273245c19213706075c02c96": {
      "model_module": "@jupyter-widgets/base",
      "model_module_version": "1.2.0",
      "model_name": "LayoutModel",
      "state": {}
     },
     "79e73eeba3044cb4a670faa05cade9b5": {
      "model_module": "@jupyter-widgets/base",
      "model_module_version": "1.2.0",
      "model_name": "LayoutModel",
      "state": {}
     },
     "79ecc77362a14acca11b38cde4cc9839": {
      "model_module": "@jupyter-widgets/base",
      "model_module_version": "1.2.0",
      "model_name": "LayoutModel",
      "state": {}
     },
     "7a574a52715941c6bc4aee062f9d5c28": {
      "model_module": "@jupyter-widgets/controls",
      "model_module_version": "1.5.0",
      "model_name": "HTMLModel",
      "state": {
       "layout": "IPY_MODEL_3dff08d435774a9984a4f78356fe36ac",
       "style": "IPY_MODEL_b0dae38c74664f58a8b1c33e69b8007b",
       "value": " 10000/10000 [00:22&lt;00:00, 461.44it/s]"
      }
     },
     "7a7a2697a35e4b82b8a6f9120b363eec": {
      "model_module": "@jupyter-widgets/controls",
      "model_module_version": "1.5.0",
      "model_name": "ProgressStyleModel",
      "state": {
       "description_width": ""
      }
     },
     "7a9f4a67e8ce4bbca2cba3264b8c190a": {
      "model_module": "@jupyter-widgets/base",
      "model_module_version": "1.2.0",
      "model_name": "LayoutModel",
      "state": {}
     },
     "7adc4fad99db42648a8a10c9ad5c3f2d": {
      "model_module": "@jupyter-widgets/base",
      "model_module_version": "1.2.0",
      "model_name": "LayoutModel",
      "state": {}
     },
     "7add20ce8ab04bb28636e33bdb2aea99": {
      "model_module": "@jupyter-widgets/base",
      "model_module_version": "1.2.0",
      "model_name": "LayoutModel",
      "state": {}
     },
     "7ae47863dce14121b76f09cd162fbdd0": {
      "model_module": "@jupyter-widgets/base",
      "model_module_version": "1.2.0",
      "model_name": "LayoutModel",
      "state": {}
     },
     "7b1410b0cc604e32bc899c9e3cc76be7": {
      "model_module": "@jupyter-widgets/base",
      "model_module_version": "1.2.0",
      "model_name": "LayoutModel",
      "state": {}
     },
     "7b40b620f479469ebee7b6cdebf1553f": {
      "model_module": "@jupyter-widgets/controls",
      "model_module_version": "1.5.0",
      "model_name": "ProgressStyleModel",
      "state": {
       "description_width": ""
      }
     },
     "7b94e49602ad4582a5b04a879eeb2a2c": {
      "model_module": "@jupyter-widgets/base",
      "model_module_version": "1.2.0",
      "model_name": "LayoutModel",
      "state": {}
     },
     "7bf4f29346f540c59ed0b38d357b4b3d": {
      "model_module": "@jupyter-widgets/base",
      "model_module_version": "1.2.0",
      "model_name": "LayoutModel",
      "state": {}
     },
     "7c1dd73874bf4a1199e4340762d6edb1": {
      "model_module": "@jupyter-widgets/base",
      "model_module_version": "1.2.0",
      "model_name": "LayoutModel",
      "state": {}
     },
     "7c6023e4331e4bd3834dc8b80ce54e84": {
      "model_module": "@jupyter-widgets/controls",
      "model_module_version": "1.5.0",
      "model_name": "DescriptionStyleModel",
      "state": {
       "description_width": ""
      }
     },
     "7cc39a949d994d6aba73082863c03623": {
      "model_module": "@jupyter-widgets/controls",
      "model_module_version": "1.5.0",
      "model_name": "HTMLModel",
      "state": {
       "layout": "IPY_MODEL_88e036c6c95a4b46bbf3d2a789726236",
       "style": "IPY_MODEL_40b9156ee4da44cf80c33817dbc39c7c",
       "value": " 10000/10000 [00:20&lt;00:00, 476.23it/s]"
      }
     },
     "7ce4c7222bb44cdfbd75d25d9ff85970": {
      "model_module": "@jupyter-widgets/controls",
      "model_module_version": "1.5.0",
      "model_name": "ProgressStyleModel",
      "state": {
       "description_width": ""
      }
     },
     "7d08c6e8831b41d2a8c80f31dee00636": {
      "model_module": "@jupyter-widgets/base",
      "model_module_version": "1.2.0",
      "model_name": "LayoutModel",
      "state": {}
     },
     "7d16cd48e5b24d65b2e24e681f394268": {
      "model_module": "@jupyter-widgets/controls",
      "model_module_version": "1.5.0",
      "model_name": "DescriptionStyleModel",
      "state": {
       "description_width": ""
      }
     },
     "7d6f32d1413146acb152a1bef1e90bf0": {
      "model_module": "@jupyter-widgets/base",
      "model_module_version": "1.2.0",
      "model_name": "LayoutModel",
      "state": {}
     },
     "7dcc1ba45a414148a7fb9d785eee3583": {
      "model_module": "@jupyter-widgets/controls",
      "model_module_version": "1.5.0",
      "model_name": "HBoxModel",
      "state": {
       "children": [
        "IPY_MODEL_b0bc901588a043fcbc1973d5bdc4e030",
        "IPY_MODEL_efbe4bc98882465a9991141128c8e551",
        "IPY_MODEL_a120cb2ae3904aad83bd351d1bc94ffb"
       ],
       "layout": "IPY_MODEL_5b99d33fd1764afdb52b0e53644760bf"
      }
     },
     "7dfc6aa9cd794c2e825d4ac1128ef290": {
      "model_module": "@jupyter-widgets/controls",
      "model_module_version": "1.5.0",
      "model_name": "FloatProgressModel",
      "state": {
       "bar_style": "success",
       "layout": "IPY_MODEL_cd88450d20034206912a2eeddc221648",
       "max": 10000,
       "style": "IPY_MODEL_c1c2c5d16686413d870a84d2ccbd25b8",
       "value": 10000
      }
     },
     "7e129109447e4aa4a8ff984bf7707f49": {
      "model_module": "@jupyter-widgets/controls",
      "model_module_version": "1.5.0",
      "model_name": "DescriptionStyleModel",
      "state": {
       "description_width": ""
      }
     },
     "7e25bad141484eaf8d7fd470fb9cde9b": {
      "model_module": "@jupyter-widgets/controls",
      "model_module_version": "1.5.0",
      "model_name": "HTMLModel",
      "state": {
       "layout": "IPY_MODEL_103399ca7c0b4cb5b1d339ec2f7a8021",
       "style": "IPY_MODEL_a73eeb908d274a1a98c893786d853d1d",
       "value": "MCMC Iteration: 100%"
      }
     },
     "7e31a0cc0f4f4d3cb0b7979b94e3893d": {
      "model_module": "@jupyter-widgets/controls",
      "model_module_version": "1.5.0",
      "model_name": "DescriptionStyleModel",
      "state": {
       "description_width": ""
      }
     },
     "7e34cccb62e64ab9917bf6437f006e8d": {
      "model_module": "@jupyter-widgets/controls",
      "model_module_version": "1.5.0",
      "model_name": "DescriptionStyleModel",
      "state": {
       "description_width": ""
      }
     },
     "7e45baa561464860a433511b72a27e25": {
      "model_module": "@jupyter-widgets/base",
      "model_module_version": "1.2.0",
      "model_name": "LayoutModel",
      "state": {}
     },
     "7e5aa57235474d14a345c0fdb9d753b4": {
      "model_module": "@jupyter-widgets/base",
      "model_module_version": "1.2.0",
      "model_name": "LayoutModel",
      "state": {}
     },
     "7e6f7b39501f4a8180cbe67e4270d407": {
      "model_module": "@jupyter-widgets/base",
      "model_module_version": "1.2.0",
      "model_name": "LayoutModel",
      "state": {}
     },
     "7e9edc9fb59f436eafbc3c521605225b": {
      "model_module": "@jupyter-widgets/base",
      "model_module_version": "1.2.0",
      "model_name": "LayoutModel",
      "state": {}
     },
     "7ea8332de0bb439cbee463a60e30795e": {
      "model_module": "@jupyter-widgets/controls",
      "model_module_version": "1.5.0",
      "model_name": "DescriptionStyleModel",
      "state": {
       "description_width": ""
      }
     },
     "7ec4472901df44bf9549f5f72aa42703": {
      "model_module": "@jupyter-widgets/base",
      "model_module_version": "1.2.0",
      "model_name": "LayoutModel",
      "state": {}
     },
     "7edf12c565424577bc643bca009b0fad": {
      "model_module": "@jupyter-widgets/base",
      "model_module_version": "1.2.0",
      "model_name": "LayoutModel",
      "state": {}
     },
     "7f6e6004dc574bb583fb9286d515fa0a": {
      "model_module": "@jupyter-widgets/base",
      "model_module_version": "1.2.0",
      "model_name": "LayoutModel",
      "state": {}
     },
     "7f6f8e834b7546f6889c0b94d416b201": {
      "model_module": "@jupyter-widgets/base",
      "model_module_version": "1.2.0",
      "model_name": "LayoutModel",
      "state": {}
     },
     "7f8fb587399947cfbeab4e0cac4e7056": {
      "model_module": "@jupyter-widgets/controls",
      "model_module_version": "1.5.0",
      "model_name": "DescriptionStyleModel",
      "state": {
       "description_width": ""
      }
     },
     "7fd4c415655e42c283bf3acc4292931f": {
      "model_module": "@jupyter-widgets/base",
      "model_module_version": "1.2.0",
      "model_name": "LayoutModel",
      "state": {}
     },
     "8037f0980f034db3a6e670f641fe3af4": {
      "model_module": "@jupyter-widgets/base",
      "model_module_version": "1.2.0",
      "model_name": "LayoutModel",
      "state": {}
     },
     "8053648f161d4ad5aded1488c8c16bea": {
      "model_module": "@jupyter-widgets/controls",
      "model_module_version": "1.5.0",
      "model_name": "DescriptionStyleModel",
      "state": {
       "description_width": ""
      }
     },
     "80807964903b48c69f1948526f1df290": {
      "model_module": "@jupyter-widgets/controls",
      "model_module_version": "1.5.0",
      "model_name": "FloatProgressModel",
      "state": {
       "bar_style": "success",
       "layout": "IPY_MODEL_8b81ec342ff9465bad10c4c61d972f9d",
       "max": 10000,
       "style": "IPY_MODEL_297aa59ca6884a28807116be6be9caa7",
       "value": 10000
      }
     },
     "80a06042aaaa444da2dc2fbf4573407a": {
      "model_module": "@jupyter-widgets/base",
      "model_module_version": "1.2.0",
      "model_name": "LayoutModel",
      "state": {}
     },
     "80a448ae66234331ae844ae27bc33135": {
      "model_module": "@jupyter-widgets/controls",
      "model_module_version": "1.5.0",
      "model_name": "FloatProgressModel",
      "state": {
       "bar_style": "success",
       "layout": "IPY_MODEL_6b13ba2677da4566b207936e0d18dc3c",
       "max": 10000,
       "style": "IPY_MODEL_fd1627035dab40db97ba42a61d452df7",
       "value": 10000
      }
     },
     "814108ba8f144428862195021f8058e6": {
      "model_module": "@jupyter-widgets/controls",
      "model_module_version": "1.5.0",
      "model_name": "FloatProgressModel",
      "state": {
       "bar_style": "success",
       "layout": "IPY_MODEL_aa868f828d4f4133a812721167f5f348",
       "max": 10000,
       "style": "IPY_MODEL_62c5deff775f4c6fbbf2e8c07d241601",
       "value": 10000
      }
     },
     "81420d88b2124eeca36c83e7564f2fb5": {
      "model_module": "@jupyter-widgets/base",
      "model_module_version": "1.2.0",
      "model_name": "LayoutModel",
      "state": {}
     },
     "8151a719a4764f48b4e7b4fc0c2e3d60": {
      "model_module": "@jupyter-widgets/base",
      "model_module_version": "1.2.0",
      "model_name": "LayoutModel",
      "state": {}
     },
     "818a061225d74e18aa6ad291bb556a8e": {
      "model_module": "@jupyter-widgets/controls",
      "model_module_version": "1.5.0",
      "model_name": "DescriptionStyleModel",
      "state": {
       "description_width": ""
      }
     },
     "81964ba151bf43429a076d398d77124f": {
      "model_module": "@jupyter-widgets/base",
      "model_module_version": "1.2.0",
      "model_name": "LayoutModel",
      "state": {}
     },
     "81a1dd8ab61245afac514e6d374f16a3": {
      "model_module": "@jupyter-widgets/controls",
      "model_module_version": "1.5.0",
      "model_name": "DescriptionStyleModel",
      "state": {
       "description_width": ""
      }
     },
     "81aae3a1eb3f44908f5c661126cbeaf9": {
      "model_module": "@jupyter-widgets/controls",
      "model_module_version": "1.5.0",
      "model_name": "DescriptionStyleModel",
      "state": {
       "description_width": ""
      }
     },
     "81eec647c0dd4f6fa1706616d36b4a60": {
      "model_module": "@jupyter-widgets/controls",
      "model_module_version": "1.5.0",
      "model_name": "FloatProgressModel",
      "state": {
       "bar_style": "success",
       "layout": "IPY_MODEL_536f4085f91f4477951bd6a36824f9eb",
       "max": 10000,
       "style": "IPY_MODEL_fba7b442e9bb4bfc86ce9f942f33ea2a",
       "value": 10000
      }
     },
     "8216e1267d92481ba9f7707ff459cae3": {
      "model_module": "@jupyter-widgets/base",
      "model_module_version": "1.2.0",
      "model_name": "LayoutModel",
      "state": {}
     },
     "8222185bcf6a4a90a113a19c5fab2d08": {
      "model_module": "@jupyter-widgets/base",
      "model_module_version": "1.2.0",
      "model_name": "LayoutModel",
      "state": {}
     },
     "82473750609c425c8bc5a877e2e84c76": {
      "model_module": "@jupyter-widgets/controls",
      "model_module_version": "1.5.0",
      "model_name": "HBoxModel",
      "state": {
       "children": [
        "IPY_MODEL_f7cb0ba52bea43b3a583d3ae2228ff53",
        "IPY_MODEL_72b63885b2634c9e996a8814c7e6e960",
        "IPY_MODEL_84b94990697344a398252f658f9962c6"
       ],
       "layout": "IPY_MODEL_ae2248aa51134b7c85932aa18bba698c"
      }
     },
     "82c80cad8697478da7bbe1c1fcc59173": {
      "model_module": "@jupyter-widgets/controls",
      "model_module_version": "1.5.0",
      "model_name": "HTMLModel",
      "state": {
       "layout": "IPY_MODEL_06467242444540e99c0ee60fd156566d",
       "style": "IPY_MODEL_1b254d66c81a4e2cb667696957401c36",
       "value": " 10000/10000 [00:14&lt;00:00, 676.72it/s]"
      }
     },
     "82f22adb15934a5fa9789edcb1996cc6": {
      "model_module": "@jupyter-widgets/base",
      "model_module_version": "1.2.0",
      "model_name": "LayoutModel",
      "state": {}
     },
     "82fd8c0dda9a4dd8a61931b79b498fcc": {
      "model_module": "@jupyter-widgets/controls",
      "model_module_version": "1.5.0",
      "model_name": "DescriptionStyleModel",
      "state": {
       "description_width": ""
      }
     },
     "8372472408e7449eafd8d96cf1ce467a": {
      "model_module": "@jupyter-widgets/controls",
      "model_module_version": "1.5.0",
      "model_name": "ProgressStyleModel",
      "state": {
       "description_width": ""
      }
     },
     "840c2301809547b7bdf8391a79ff42f1": {
      "model_module": "@jupyter-widgets/base",
      "model_module_version": "1.2.0",
      "model_name": "LayoutModel",
      "state": {}
     },
     "840d1e5650834b98808672fc23d20bda": {
      "model_module": "@jupyter-widgets/controls",
      "model_module_version": "1.5.0",
      "model_name": "FloatProgressModel",
      "state": {
       "bar_style": "success",
       "layout": "IPY_MODEL_cbfa6096d90f4096a6ae0927de8caf79",
       "max": 10000,
       "style": "IPY_MODEL_a133f47b8e994199aaee62dca7316d8d",
       "value": 10000
      }
     },
     "8417f1a5beed42249c62307867ce4db8": {
      "model_module": "@jupyter-widgets/controls",
      "model_module_version": "1.5.0",
      "model_name": "FloatProgressModel",
      "state": {
       "bar_style": "success",
       "layout": "IPY_MODEL_1b761454596749039646b7ba663a70eb",
       "max": 10000,
       "style": "IPY_MODEL_b8a44e3cf7aa472aabdb2ed7481e2d09",
       "value": 10000
      }
     },
     "842ea41b59434c13b284304586620a47": {
      "model_module": "@jupyter-widgets/base",
      "model_module_version": "1.2.0",
      "model_name": "LayoutModel",
      "state": {}
     },
     "843be563cad24c16a84c49bcd4be4d82": {
      "model_module": "@jupyter-widgets/controls",
      "model_module_version": "1.5.0",
      "model_name": "HBoxModel",
      "state": {
       "children": [
        "IPY_MODEL_002f31e485d04ce2a17a1842fac5cc14",
        "IPY_MODEL_2290910ca73e49afa11cb84b2c04c2b6",
        "IPY_MODEL_fca1c54722464d1c8f7fac498eded8bd"
       ],
       "layout": "IPY_MODEL_c552abfe5f794a9eabb4c3c870ae1f63"
      }
     },
     "844ef0e2625143cd8f075177d3e0a064": {
      "model_module": "@jupyter-widgets/base",
      "model_module_version": "1.2.0",
      "model_name": "LayoutModel",
      "state": {}
     },
     "847041d37b7b497596e955fc291930b9": {
      "model_module": "@jupyter-widgets/controls",
      "model_module_version": "1.5.0",
      "model_name": "DescriptionStyleModel",
      "state": {
       "description_width": ""
      }
     },
     "8495013200af4c84ac03a29d99a70dc3": {
      "model_module": "@jupyter-widgets/base",
      "model_module_version": "1.2.0",
      "model_name": "LayoutModel",
      "state": {}
     },
     "84acdcd33890411b9027978723ac6d0e": {
      "model_module": "@jupyter-widgets/controls",
      "model_module_version": "1.5.0",
      "model_name": "HBoxModel",
      "state": {
       "children": [
        "IPY_MODEL_d045517268034a4f8e68b7e888319f19",
        "IPY_MODEL_e3c6bf8cf32349038808ec74fbcea353",
        "IPY_MODEL_a9289b44e41644ef82852cbbc24e4227"
       ],
       "layout": "IPY_MODEL_2481d5e6316b4ac39af947cc2659fe5b"
      }
     },
     "84ace4e5827049f79eea54f514f20b0a": {
      "model_module": "@jupyter-widgets/controls",
      "model_module_version": "1.5.0",
      "model_name": "DescriptionStyleModel",
      "state": {
       "description_width": ""
      }
     },
     "84b4b533a31c4f18a949a164c42a8d29": {
      "model_module": "@jupyter-widgets/controls",
      "model_module_version": "1.5.0",
      "model_name": "HTMLModel",
      "state": {
       "layout": "IPY_MODEL_e0dd5376a5ad4cc19cb5010f0ad1270c",
       "style": "IPY_MODEL_50f781ba02ba4642bedc9e6243de2c0a",
       "value": " 10000/10000 [00:07&lt;00:00, 1304.27it/s]"
      }
     },
     "84b94990697344a398252f658f9962c6": {
      "model_module": "@jupyter-widgets/controls",
      "model_module_version": "1.5.0",
      "model_name": "HTMLModel",
      "state": {
       "layout": "IPY_MODEL_844ef0e2625143cd8f075177d3e0a064",
       "style": "IPY_MODEL_e7cbdd6da09647dea2ff9830f1b533af",
       "value": " 10000/10000 [00:07&lt;00:00, 1330.45it/s]"
      }
     },
     "851236f3e5bf422399023f4d19a02e7f": {
      "model_module": "@jupyter-widgets/controls",
      "model_module_version": "1.5.0",
      "model_name": "HTMLModel",
      "state": {
       "layout": "IPY_MODEL_79e73eeba3044cb4a670faa05cade9b5",
       "style": "IPY_MODEL_3a69907020924777afe701cfd999b66c",
       "value": "MCMC Iteration: 100%"
      }
     },
     "8519ed207bfe423ebfe8d754181c65d8": {
      "model_module": "@jupyter-widgets/controls",
      "model_module_version": "1.5.0",
      "model_name": "DescriptionStyleModel",
      "state": {
       "description_width": ""
      }
     },
     "8523053388514fb18500e21d3186c9db": {
      "model_module": "@jupyter-widgets/base",
      "model_module_version": "1.2.0",
      "model_name": "LayoutModel",
      "state": {}
     },
     "8567ceea4c72452d9ab08035af787a9b": {
      "model_module": "@jupyter-widgets/base",
      "model_module_version": "1.2.0",
      "model_name": "LayoutModel",
      "state": {}
     },
     "8577c614ad3c4d0fabcbe14b0556cfb0": {
      "model_module": "@jupyter-widgets/controls",
      "model_module_version": "1.5.0",
      "model_name": "HTMLModel",
      "state": {
       "layout": "IPY_MODEL_afe3a64a422549678d5c5b7f5a73ed9a",
       "style": "IPY_MODEL_23d854d7bc2747d8bc763d47bb2e82b5",
       "value": " 10000/10000 [00:07&lt;00:00, 1333.70it/s]"
      }
     },
     "858dcdcfc55341fa91632d883e8aa15f": {
      "model_module": "@jupyter-widgets/base",
      "model_module_version": "1.2.0",
      "model_name": "LayoutModel",
      "state": {}
     },
     "859867eae75a47859548f400cb6a1bfb": {
      "model_module": "@jupyter-widgets/controls",
      "model_module_version": "1.5.0",
      "model_name": "HTMLModel",
      "state": {
       "layout": "IPY_MODEL_e9598eb5b46441d98b2c6b7b80462043",
       "style": "IPY_MODEL_1dde227e60944a03ba9f8b1d664c76a2",
       "value": " 3/3 [14:40&lt;00:00, 294.49s/it]"
      }
     },
     "85acfdb52ec94e9ab85ec576b5b13b84": {
      "model_module": "@jupyter-widgets/base",
      "model_module_version": "1.2.0",
      "model_name": "LayoutModel",
      "state": {}
     },
     "85b9e83950a94a868356fa41f5b33262": {
      "model_module": "@jupyter-widgets/controls",
      "model_module_version": "1.5.0",
      "model_name": "FloatProgressModel",
      "state": {
       "bar_style": "success",
       "layout": "IPY_MODEL_1815e99fa81e42a891f1acab5cb3f1e7",
       "max": 10000,
       "style": "IPY_MODEL_c178b97775994de3b832869e3d31e5b2",
       "value": 10000
      }
     },
     "862f29ac9a844425b7cf93f49a2c2c52": {
      "model_module": "@jupyter-widgets/base",
      "model_module_version": "1.2.0",
      "model_name": "LayoutModel",
      "state": {}
     },
     "86393b6d1ee34c94b69bb1d30dfadc5e": {
      "model_module": "@jupyter-widgets/base",
      "model_module_version": "1.2.0",
      "model_name": "LayoutModel",
      "state": {}
     },
     "86780cad45bb46fe8b236961011de356": {
      "model_module": "@jupyter-widgets/base",
      "model_module_version": "1.2.0",
      "model_name": "LayoutModel",
      "state": {}
     },
     "867a631b1fd34124841c841d27a1764e": {
      "model_module": "@jupyter-widgets/base",
      "model_module_version": "1.2.0",
      "model_name": "LayoutModel",
      "state": {}
     },
     "86897c4b2b394677bc89fd0016883754": {
      "model_module": "@jupyter-widgets/controls",
      "model_module_version": "1.5.0",
      "model_name": "DescriptionStyleModel",
      "state": {
       "description_width": ""
      }
     },
     "86e3d4227b5b4882a70bb91e644c9596": {
      "model_module": "@jupyter-widgets/base",
      "model_module_version": "1.2.0",
      "model_name": "LayoutModel",
      "state": {}
     },
     "86ecf73c7c2a405889a5bf7873785325": {
      "model_module": "@jupyter-widgets/controls",
      "model_module_version": "1.5.0",
      "model_name": "DescriptionStyleModel",
      "state": {
       "description_width": ""
      }
     },
     "871e4fe261a041ddb4f81682bef49599": {
      "model_module": "@jupyter-widgets/controls",
      "model_module_version": "1.5.0",
      "model_name": "HTMLModel",
      "state": {
       "layout": "IPY_MODEL_e0b0f9a1c5354ca3b743c0b7973d902d",
       "style": "IPY_MODEL_38aa0e15f45941678a404b5d1bf007f9",
       "value": " 0/3 [01:50&lt;?, ?it/s]"
      }
     },
     "8726e836f0104505893d04c37d1e9e1c": {
      "model_module": "@jupyter-widgets/base",
      "model_module_version": "1.2.0",
      "model_name": "LayoutModel",
      "state": {}
     },
     "875601b2d9224a1fb47e11d55308b6ca": {
      "model_module": "@jupyter-widgets/controls",
      "model_module_version": "1.5.0",
      "model_name": "ProgressStyleModel",
      "state": {
       "description_width": ""
      }
     },
     "87a682779d634eff8b26c34f6f3223f2": {
      "model_module": "@jupyter-widgets/controls",
      "model_module_version": "1.5.0",
      "model_name": "HBoxModel",
      "state": {
       "children": [
        "IPY_MODEL_eecf29c735c243e8b22a9c246186ac89",
        "IPY_MODEL_e34c883a95174ab29c533fdeb5b561ae",
        "IPY_MODEL_014d34851f4e41e586c43a879e673d57"
       ],
       "layout": "IPY_MODEL_8726e836f0104505893d04c37d1e9e1c"
      }
     },
     "87d2832a2c214108a9592ae230f6ea5a": {
      "model_module": "@jupyter-widgets/base",
      "model_module_version": "1.2.0",
      "model_name": "LayoutModel",
      "state": {}
     },
     "881d6626868b49dc9dfddd41b01b468d": {
      "model_module": "@jupyter-widgets/base",
      "model_module_version": "1.2.0",
      "model_name": "LayoutModel",
      "state": {}
     },
     "8822404e47234620a3082473aaf6bc12": {
      "model_module": "@jupyter-widgets/base",
      "model_module_version": "1.2.0",
      "model_name": "LayoutModel",
      "state": {}
     },
     "88435a6125fc417c961febbcd0599d77": {
      "model_module": "@jupyter-widgets/controls",
      "model_module_version": "1.5.0",
      "model_name": "DescriptionStyleModel",
      "state": {
       "description_width": ""
      }
     },
     "8850fc3bc2214f6b9adfe00aed0752d9": {
      "model_module": "@jupyter-widgets/base",
      "model_module_version": "1.2.0",
      "model_name": "LayoutModel",
      "state": {}
     },
     "888fd31e3ec74458a8c39da701f5c57c": {
      "model_module": "@jupyter-widgets/base",
      "model_module_version": "1.2.0",
      "model_name": "LayoutModel",
      "state": {}
     },
     "88c7140dfdce42b7aed932e3a0b814f0": {
      "model_module": "@jupyter-widgets/controls",
      "model_module_version": "1.5.0",
      "model_name": "FloatProgressModel",
      "state": {
       "bar_style": "success",
       "layout": "IPY_MODEL_2643d566136245d39d3b2fef35d5903a",
       "max": 10000,
       "style": "IPY_MODEL_6b54e90c513842df80a45c6bf15182b7",
       "value": 10000
      }
     },
     "88cb1acbee384bd79f228a3adde0ff4e": {
      "model_module": "@jupyter-widgets/controls",
      "model_module_version": "1.5.0",
      "model_name": "HTMLModel",
      "state": {
       "layout": "IPY_MODEL_70e6be71e3be441fbcb436d7c9565b07",
       "style": "IPY_MODEL_2945a3314be744aab7a9e295ac7c1648",
       "value": " 10000/10000 [00:20&lt;00:00, 510.71it/s]"
      }
     },
     "88e036c6c95a4b46bbf3d2a789726236": {
      "model_module": "@jupyter-widgets/base",
      "model_module_version": "1.2.0",
      "model_name": "LayoutModel",
      "state": {}
     },
     "88e4489e3f9d4d50b9242eb82f1bc8fa": {
      "model_module": "@jupyter-widgets/controls",
      "model_module_version": "1.5.0",
      "model_name": "DescriptionStyleModel",
      "state": {
       "description_width": ""
      }
     },
     "88f1a0ab92c24d4f877a6b1e3be46d03": {
      "model_module": "@jupyter-widgets/controls",
      "model_module_version": "1.5.0",
      "model_name": "HTMLModel",
      "state": {
       "layout": "IPY_MODEL_6b6042fc4f9641f0b3e3a4e702dfa3a9",
       "style": "IPY_MODEL_5f51424f1b4b4e4ab1136b6c3a7676b6",
       "value": " 10000/10000 [00:26&lt;00:00, 381.51it/s]"
      }
     },
     "88f722763fe9442ea8a15a236b85358a": {
      "model_module": "@jupyter-widgets/controls",
      "model_module_version": "1.5.0",
      "model_name": "ProgressStyleModel",
      "state": {
       "description_width": ""
      }
     },
     "89131a10d8f4486288a5fa34c71b826f": {
      "model_module": "@jupyter-widgets/base",
      "model_module_version": "1.2.0",
      "model_name": "LayoutModel",
      "state": {}
     },
     "894e2d5b237145468a0962f42bd3a745": {
      "model_module": "@jupyter-widgets/controls",
      "model_module_version": "1.5.0",
      "model_name": "DescriptionStyleModel",
      "state": {
       "description_width": ""
      }
     },
     "895b6e2c3eeb4a3a8f68b62f61557ea7": {
      "model_module": "@jupyter-widgets/base",
      "model_module_version": "1.2.0",
      "model_name": "LayoutModel",
      "state": {}
     },
     "89b211c74b8a496c82ccb2c892db6ee4": {
      "model_module": "@jupyter-widgets/controls",
      "model_module_version": "1.5.0",
      "model_name": "ProgressStyleModel",
      "state": {
       "description_width": ""
      }
     },
     "8a092a5cb2014dbcb93bd0a8f9415344": {
      "model_module": "@jupyter-widgets/controls",
      "model_module_version": "1.5.0",
      "model_name": "FloatProgressModel",
      "state": {
       "bar_style": "success",
       "layout": "IPY_MODEL_fbd5181737164a20b20b2c7fcd860070",
       "max": 10000,
       "style": "IPY_MODEL_19616b5fe21d4f9581ea2754e553558c",
       "value": 10000
      }
     },
     "8a5643b5e14446eab6cb9606a398fc7f": {
      "model_module": "@jupyter-widgets/base",
      "model_module_version": "1.2.0",
      "model_name": "LayoutModel",
      "state": {}
     },
     "8a5d1ea027894c7eb1d492fcd17b1cd8": {
      "model_module": "@jupyter-widgets/controls",
      "model_module_version": "1.5.0",
      "model_name": "DescriptionStyleModel",
      "state": {
       "description_width": ""
      }
     },
     "8a61e7fa07de444fa5b8ce8d3ecc690d": {
      "model_module": "@jupyter-widgets/controls",
      "model_module_version": "1.5.0",
      "model_name": "ProgressStyleModel",
      "state": {
       "description_width": ""
      }
     },
     "8a81c8afea2a4860994a45a689046b58": {
      "model_module": "@jupyter-widgets/base",
      "model_module_version": "1.2.0",
      "model_name": "LayoutModel",
      "state": {}
     },
     "8aab5446a9134b92b2461d70db5e0e84": {
      "model_module": "@jupyter-widgets/controls",
      "model_module_version": "1.5.0",
      "model_name": "DescriptionStyleModel",
      "state": {
       "description_width": ""
      }
     },
     "8b0c88ab0d2c44f5b0ba8ed3020a2ff5": {
      "model_module": "@jupyter-widgets/controls",
      "model_module_version": "1.5.0",
      "model_name": "FloatProgressModel",
      "state": {
       "bar_style": "success",
       "layout": "IPY_MODEL_c58c18d7ccaa4b2b80362f69bae9d5bc",
       "max": 10000,
       "style": "IPY_MODEL_fbef6136f2d74c6b834efd43417d1720",
       "value": 10000
      }
     },
     "8b81ec342ff9465bad10c4c61d972f9d": {
      "model_module": "@jupyter-widgets/base",
      "model_module_version": "1.2.0",
      "model_name": "LayoutModel",
      "state": {}
     },
     "8b84ad5d8e4540d293393e338e5f7b2c": {
      "model_module": "@jupyter-widgets/controls",
      "model_module_version": "1.5.0",
      "model_name": "HTMLModel",
      "state": {
       "layout": "IPY_MODEL_4d6d1a7dd7c64239a4d8a238426e2c56",
       "style": "IPY_MODEL_4ce2dc87a05c47cd877f7efd1255feb2",
       "value": " 10000/10000 [00:08&lt;00:00, 1178.29it/s]"
      }
     },
     "8b9fa21d190843d1bf9c64c8e7e65ae5": {
      "model_module": "@jupyter-widgets/base",
      "model_module_version": "1.2.0",
      "model_name": "LayoutModel",
      "state": {}
     },
     "8bbccec4758345f5990356de9043235e": {
      "model_module": "@jupyter-widgets/controls",
      "model_module_version": "1.5.0",
      "model_name": "HBoxModel",
      "state": {
       "children": [
        "IPY_MODEL_b2a17a59352944e89266f7956e3c9ed9",
        "IPY_MODEL_bf24c20bdfb7454ea615a50b9a1b2316",
        "IPY_MODEL_314529bfaf9548669340a80cc729be85"
       ],
       "layout": "IPY_MODEL_8216e1267d92481ba9f7707ff459cae3"
      }
     },
     "8bd15910348d4724a56e699cb17fffea": {
      "model_module": "@jupyter-widgets/controls",
      "model_module_version": "1.5.0",
      "model_name": "DescriptionStyleModel",
      "state": {
       "description_width": ""
      }
     },
     "8bda818fde404a3c9db68390b9bdc51b": {
      "model_module": "@jupyter-widgets/base",
      "model_module_version": "1.2.0",
      "model_name": "LayoutModel",
      "state": {}
     },
     "8be8a1150cd2403c91572ae1b815aaa9": {
      "model_module": "@jupyter-widgets/base",
      "model_module_version": "1.2.0",
      "model_name": "LayoutModel",
      "state": {}
     },
     "8c85273f6f9e4bfb8ce50e5e084b7391": {
      "model_module": "@jupyter-widgets/controls",
      "model_module_version": "1.5.0",
      "model_name": "DescriptionStyleModel",
      "state": {
       "description_width": ""
      }
     },
     "8c9fa27886e14881ac2b9056255500b4": {
      "model_module": "@jupyter-widgets/controls",
      "model_module_version": "1.5.0",
      "model_name": "HTMLModel",
      "state": {
       "layout": "IPY_MODEL_4f926ffad6dd4d1d8233208bb98c2fc6",
       "style": "IPY_MODEL_b92ab9ce80ad41df9a7c5c15ecf92c21",
       "value": " 10000/10000 [00:08&lt;00:00, 1358.48it/s]"
      }
     },
     "8c9ff4a82e0847318cfc42c6c5d5b62e": {
      "model_module": "@jupyter-widgets/controls",
      "model_module_version": "1.5.0",
      "model_name": "HBoxModel",
      "state": {
       "children": [
        "IPY_MODEL_fc0b9f41e8d64bf8b80ff55f79472811",
        "IPY_MODEL_700a7ecdc9b44f5d9aa220f699a31203",
        "IPY_MODEL_d1b15cd4f73a41f5b02c3dfe06e96a35"
       ],
       "layout": "IPY_MODEL_d9f2528521ed4ea7bd7f0576f9c6506e"
      }
     },
     "8cece0a530b2445281d6da886e931ee0": {
      "model_module": "@jupyter-widgets/controls",
      "model_module_version": "1.5.0",
      "model_name": "DescriptionStyleModel",
      "state": {
       "description_width": ""
      }
     },
     "8cf7310881924fb184cdbba861008009": {
      "model_module": "@jupyter-widgets/controls",
      "model_module_version": "1.5.0",
      "model_name": "DescriptionStyleModel",
      "state": {
       "description_width": ""
      }
     },
     "8d8a7903d9d942e783e0c44a4fb54262": {
      "model_module": "@jupyter-widgets/base",
      "model_module_version": "1.2.0",
      "model_name": "LayoutModel",
      "state": {}
     },
     "8db2491c6fdb4a609f2755e920dc8f27": {
      "model_module": "@jupyter-widgets/controls",
      "model_module_version": "1.5.0",
      "model_name": "HTMLModel",
      "state": {
       "layout": "IPY_MODEL_1622441e68b140b2b1249553a4bd09eb",
       "style": "IPY_MODEL_2f323b97bae24dee8585992afebcd18b",
       "value": " 10000/10000 [00:27&lt;00:00, 370.33it/s]"
      }
     },
     "8db697e31e4349a6b39d9fa4575d17d3": {
      "model_module": "@jupyter-widgets/controls",
      "model_module_version": "1.5.0",
      "model_name": "HTMLModel",
      "state": {
       "layout": "IPY_MODEL_c138dfabffbd454a9275f000d04454ec",
       "style": "IPY_MODEL_fd818ff5d29946cda004a32bcae1d00b",
       "value": "MCMC Iteration: 100%"
      }
     },
     "8df0d8460a764573bc62765452d8a547": {
      "model_module": "@jupyter-widgets/controls",
      "model_module_version": "1.5.0",
      "model_name": "ProgressStyleModel",
      "state": {
       "description_width": ""
      }
     },
     "8e07c3b9ffc74c82869efac8932ce7e7": {
      "model_module": "@jupyter-widgets/controls",
      "model_module_version": "1.5.0",
      "model_name": "HTMLModel",
      "state": {
       "layout": "IPY_MODEL_e5766396b0234d5c878ea4777bc9aba6",
       "style": "IPY_MODEL_b9b3991aa7ef4a879cd95fc01b39f543",
       "value": " 10000/10000 [00:14&lt;00:00, 662.12it/s]"
      }
     },
     "8e441bf84b6e479bb70ab4d3ad5ba8c7": {
      "model_module": "@jupyter-widgets/base",
      "model_module_version": "1.2.0",
      "model_name": "LayoutModel",
      "state": {}
     },
     "8e766575cdb3457a8ae54fd763090a16": {
      "model_module": "@jupyter-widgets/base",
      "model_module_version": "1.2.0",
      "model_name": "LayoutModel",
      "state": {}
     },
     "8ea3a18c30d34e548ee4cf8bdb4522a3": {
      "model_module": "@jupyter-widgets/base",
      "model_module_version": "1.2.0",
      "model_name": "LayoutModel",
      "state": {}
     },
     "8ecaf93af0f14bbfab6783a1975baaa1": {
      "model_module": "@jupyter-widgets/controls",
      "model_module_version": "1.5.0",
      "model_name": "ProgressStyleModel",
      "state": {
       "description_width": ""
      }
     },
     "8f120628a8054871b979999b1b8c8f36": {
      "model_module": "@jupyter-widgets/base",
      "model_module_version": "1.2.0",
      "model_name": "LayoutModel",
      "state": {}
     },
     "8f57417efcc44cb1b78586422b690aec": {
      "model_module": "@jupyter-widgets/base",
      "model_module_version": "1.2.0",
      "model_name": "LayoutModel",
      "state": {}
     },
     "8f83ee8d911b4811b0d9c05aca277320": {
      "model_module": "@jupyter-widgets/controls",
      "model_module_version": "1.5.0",
      "model_name": "HTMLModel",
      "state": {
       "layout": "IPY_MODEL_d285c6de7ef24e44843c57fda77233f1",
       "style": "IPY_MODEL_81a1dd8ab61245afac514e6d374f16a3",
       "value": " 10000/10000 [00:07&lt;00:00, 1366.44it/s]"
      }
     },
     "8fbe0a426cba4c5a86c00c12c557cf95": {
      "model_module": "@jupyter-widgets/base",
      "model_module_version": "1.2.0",
      "model_name": "LayoutModel",
      "state": {}
     },
     "8fbe2d04d85d4247ac59de9f8dabcd6c": {
      "model_module": "@jupyter-widgets/controls",
      "model_module_version": "1.5.0",
      "model_name": "FloatProgressModel",
      "state": {
       "bar_style": "success",
       "layout": "IPY_MODEL_0a1918412f5344cd83e8fd5dbcf8f326",
       "max": 10000,
       "style": "IPY_MODEL_b28d916ebd0d413eb6b6b37a16cd11d6",
       "value": 10000
      }
     },
     "8fc2faf60fc54f65879150bfc8976350": {
      "model_module": "@jupyter-widgets/controls",
      "model_module_version": "1.5.0",
      "model_name": "DescriptionStyleModel",
      "state": {
       "description_width": ""
      }
     },
     "8fde36b3c2914bd5982312150b14da6c": {
      "model_module": "@jupyter-widgets/base",
      "model_module_version": "1.2.0",
      "model_name": "LayoutModel",
      "state": {}
     },
     "9022b57d5b8842179de4d107b743b735": {
      "model_module": "@jupyter-widgets/controls",
      "model_module_version": "1.5.0",
      "model_name": "DescriptionStyleModel",
      "state": {
       "description_width": ""
      }
     },
     "90365837779640309f8b7afecb17b202": {
      "model_module": "@jupyter-widgets/base",
      "model_module_version": "1.2.0",
      "model_name": "LayoutModel",
      "state": {}
     },
     "9039b94eb6a84bcc88e04e421a3eed81": {
      "model_module": "@jupyter-widgets/controls",
      "model_module_version": "1.5.0",
      "model_name": "DescriptionStyleModel",
      "state": {
       "description_width": ""
      }
     },
     "9041103ca1ef4ba1bb419069906ff773": {
      "model_module": "@jupyter-widgets/controls",
      "model_module_version": "1.5.0",
      "model_name": "DescriptionStyleModel",
      "state": {
       "description_width": ""
      }
     },
     "9058af3a2384420c92d548d67aa77d96": {
      "model_module": "@jupyter-widgets/base",
      "model_module_version": "1.2.0",
      "model_name": "LayoutModel",
      "state": {}
     },
     "906031b06dff41e782a7f4d7c9f798e9": {
      "model_module": "@jupyter-widgets/base",
      "model_module_version": "1.2.0",
      "model_name": "LayoutModel",
      "state": {}
     },
     "906909de96c34633b15b8380c2768e62": {
      "model_module": "@jupyter-widgets/base",
      "model_module_version": "1.2.0",
      "model_name": "LayoutModel",
      "state": {}
     },
     "911aad9272f546528935e1b1975fd1ba": {
      "model_module": "@jupyter-widgets/controls",
      "model_module_version": "1.5.0",
      "model_name": "HBoxModel",
      "state": {
       "children": [
        "IPY_MODEL_9346e44ccff0425eb90da80a46727ad2",
        "IPY_MODEL_ddcb2b1727d94a448d4ff200a5fbb1b3",
        "IPY_MODEL_534d3da6c2bd4c72880ebf49fcb32b92"
       ],
       "layout": "IPY_MODEL_ab25a80622184ab6bc09b114f1507fa5"
      }
     },
     "911ad0e4785f4159a25e3641e36039ac": {
      "model_module": "@jupyter-widgets/controls",
      "model_module_version": "1.5.0",
      "model_name": "HTMLModel",
      "state": {
       "layout": "IPY_MODEL_04766dcaba234213b344f1d9ac4d4e47",
       "style": "IPY_MODEL_82fd8c0dda9a4dd8a61931b79b498fcc",
       "value": " 10000/10000 [00:15&lt;00:00, 681.34it/s]"
      }
     },
     "9120e9ea6d6646e789e028e9cf1063cf": {
      "model_module": "@jupyter-widgets/controls",
      "model_module_version": "1.5.0",
      "model_name": "ProgressStyleModel",
      "state": {
       "description_width": ""
      }
     },
     "914c103e722f40cdb3657a39ff30794e": {
      "model_module": "@jupyter-widgets/controls",
      "model_module_version": "1.5.0",
      "model_name": "DescriptionStyleModel",
      "state": {
       "description_width": ""
      }
     },
     "915dc81a443c47fc9b684d6ca4190970": {
      "model_module": "@jupyter-widgets/base",
      "model_module_version": "1.2.0",
      "model_name": "LayoutModel",
      "state": {}
     },
     "9170f48a35984a4b9e23a1b1cb5f220a": {
      "model_module": "@jupyter-widgets/base",
      "model_module_version": "1.2.0",
      "model_name": "LayoutModel",
      "state": {}
     },
     "9192552f88c14a3d92eef31a065d120d": {
      "model_module": "@jupyter-widgets/controls",
      "model_module_version": "1.5.0",
      "model_name": "HBoxModel",
      "state": {
       "children": [
        "IPY_MODEL_c194002c2982439094618767745e499f",
        "IPY_MODEL_e2a6efe9742c407d8d8576e0e16edc32",
        "IPY_MODEL_88cb1acbee384bd79f228a3adde0ff4e"
       ],
       "layout": "IPY_MODEL_05fa7703324e47878bf19a76fc042146"
      }
     },
     "9193a68c0b904ca8a75abd911604de5a": {
      "model_module": "@jupyter-widgets/controls",
      "model_module_version": "1.5.0",
      "model_name": "HBoxModel",
      "state": {
       "children": [
        "IPY_MODEL_5e5945dc5b7c463f8b7eec5aebfe21a7",
        "IPY_MODEL_bce1a5f307c645bc95a957f367615c4c",
        "IPY_MODEL_185a91fe928e4cb59d3618362a560603"
       ],
       "layout": "IPY_MODEL_9c318d5ac3664d368ae5b9918d605426"
      }
     },
     "919967020eaf4d51ace1fb14e6508c98": {
      "model_module": "@jupyter-widgets/controls",
      "model_module_version": "1.5.0",
      "model_name": "FloatProgressModel",
      "state": {
       "bar_style": "success",
       "layout": "IPY_MODEL_2737930f0d934d97abf369a927097bf1",
       "max": 10000,
       "style": "IPY_MODEL_c2a672b06a9f4d29b2d70c7ab1d13414",
       "value": 10000
      }
     },
     "91b9ec897057410cb1863e394afa0b09": {
      "model_module": "@jupyter-widgets/controls",
      "model_module_version": "1.5.0",
      "model_name": "HTMLModel",
      "state": {
       "layout": "IPY_MODEL_915dc81a443c47fc9b684d6ca4190970",
       "style": "IPY_MODEL_d109ed52c7ad485a87cd22446d8081ba",
       "value": "MCMC Iteration: 100%"
      }
     },
     "91f86a05bed747f6b08a8bd8a0c82ba1": {
      "model_module": "@jupyter-widgets/controls",
      "model_module_version": "1.5.0",
      "model_name": "FloatProgressModel",
      "state": {
       "bar_style": "success",
       "layout": "IPY_MODEL_8f57417efcc44cb1b78586422b690aec",
       "max": 10000,
       "style": "IPY_MODEL_9fdef24a5d384b6eaf883ccc16e3d000",
       "value": 10000
      }
     },
     "922c34d81e2c40edb2b0c19e3b644e2e": {
      "model_module": "@jupyter-widgets/base",
      "model_module_version": "1.2.0",
      "model_name": "LayoutModel",
      "state": {}
     },
     "92361488cc6e46f2951623630454d9fb": {
      "model_module": "@jupyter-widgets/controls",
      "model_module_version": "1.5.0",
      "model_name": "HTMLModel",
      "state": {
       "layout": "IPY_MODEL_87d2832a2c214108a9592ae230f6ea5a",
       "style": "IPY_MODEL_01e46e3caba34744b0b85c22c0d58d29",
       "value": "MCMC Iteration: 100%"
      }
     },
     "92987db35010422f8be5850d84611486": {
      "model_module": "@jupyter-widgets/controls",
      "model_module_version": "1.5.0",
      "model_name": "FloatProgressModel",
      "state": {
       "bar_style": "success",
       "layout": "IPY_MODEL_fdb2eaf020a54491a896b62553e24bfd",
       "max": 10000,
       "style": "IPY_MODEL_f8a23fece3514e478426ee444a849a5e",
       "value": 10000
      }
     },
     "92cb05780c8449e4aee1e44988df3be5": {
      "model_module": "@jupyter-widgets/controls",
      "model_module_version": "1.5.0",
      "model_name": "HBoxModel",
      "state": {
       "children": [
        "IPY_MODEL_1450f88519e7477eaac807cf8ecbfdf7",
        "IPY_MODEL_3bb57d9416114e7696dccb2adb354c26",
        "IPY_MODEL_5256b6de60cb45bda996e209fb291e4f"
       ],
       "layout": "IPY_MODEL_23df9443c5074a17bd1c9d90aaa39164"
      }
     },
     "92e38ad164a8484eadb82e19e473ff11": {
      "model_module": "@jupyter-widgets/controls",
      "model_module_version": "1.5.0",
      "model_name": "DescriptionStyleModel",
      "state": {
       "description_width": ""
      }
     },
     "92eaec7efdd14154a8544a94c5cca561": {
      "model_module": "@jupyter-widgets/controls",
      "model_module_version": "1.5.0",
      "model_name": "HBoxModel",
      "state": {
       "children": [
        "IPY_MODEL_0809abe40bee4031a1c2da8ff83104e4",
        "IPY_MODEL_814108ba8f144428862195021f8058e6",
        "IPY_MODEL_d479bbde53f443c6b09543466361a414"
       ],
       "layout": "IPY_MODEL_1235ba36d1684329879f64ed9697c4f9"
      }
     },
     "931c8dd47f1f440093cae1190c68e3a1": {
      "model_module": "@jupyter-widgets/base",
      "model_module_version": "1.2.0",
      "model_name": "LayoutModel",
      "state": {}
     },
     "933037ecfd4f4aa9ae783637d8efb652": {
      "model_module": "@jupyter-widgets/base",
      "model_module_version": "1.2.0",
      "model_name": "LayoutModel",
      "state": {}
     },
     "933d526d8a974abc8e75c828da584a88": {
      "model_module": "@jupyter-widgets/controls",
      "model_module_version": "1.5.0",
      "model_name": "HTMLModel",
      "state": {
       "layout": "IPY_MODEL_289ccabba4164d40b853d37ffb287df9",
       "style": "IPY_MODEL_5cb0fd6e7957461296b4ba4962cd604b",
       "value": " 10000/10000 [00:19&lt;00:00, 515.30it/s]"
      }
     },
     "9346e44ccff0425eb90da80a46727ad2": {
      "model_module": "@jupyter-widgets/controls",
      "model_module_version": "1.5.0",
      "model_name": "HTMLModel",
      "state": {
       "layout": "IPY_MODEL_1a91c54a550c4d96a6de5be49a829477",
       "style": "IPY_MODEL_3c48df1b2fe54b0d94ce138989277199",
       "value": "MCMC Iteration: 100%"
      }
     },
     "934cfcc367ea4fd9ac3cc35390068034": {
      "model_module": "@jupyter-widgets/base",
      "model_module_version": "1.2.0",
      "model_name": "LayoutModel",
      "state": {}
     },
     "93732195a5464bf4950e4ff15f82f176": {
      "model_module": "@jupyter-widgets/base",
      "model_module_version": "1.2.0",
      "model_name": "LayoutModel",
      "state": {}
     },
     "9374c0e20f65482cba1fce69fcd52b1a": {
      "model_module": "@jupyter-widgets/controls",
      "model_module_version": "1.5.0",
      "model_name": "HBoxModel",
      "state": {
       "children": [
        "IPY_MODEL_d5600a6ca7f74cc1bc5182fe5a5e219a",
        "IPY_MODEL_502353ec6124499cbaab4e58e945ec0b",
        "IPY_MODEL_0e605bacdc264a57bcd3174973ffee44"
       ],
       "layout": "IPY_MODEL_15a595ca9a4d4012a8bda221e5d5f7b7"
      }
     },
     "93ba3a403cae43fb9c8c49d0d3696b92": {
      "model_module": "@jupyter-widgets/controls",
      "model_module_version": "1.5.0",
      "model_name": "DescriptionStyleModel",
      "state": {
       "description_width": ""
      }
     },
     "93c16ba8e0d14a6cb01fa4f842a5154e": {
      "model_module": "@jupyter-widgets/controls",
      "model_module_version": "1.5.0",
      "model_name": "HTMLModel",
      "state": {
       "layout": "IPY_MODEL_0b95db70efae49338a625ac8761dbcf6",
       "style": "IPY_MODEL_e898ba95235f4c7897b72a3414bf1ce8",
       "value": " 10000/10000 [00:15&lt;00:00, 634.08it/s]"
      }
     },
     "940d01ed6aaf4fa1aeb6a238b8301abb": {
      "model_module": "@jupyter-widgets/controls",
      "model_module_version": "1.5.0",
      "model_name": "ProgressStyleModel",
      "state": {
       "description_width": ""
      }
     },
     "940f5ba1e0214d41871cbd500481c485": {
      "model_module": "@jupyter-widgets/base",
      "model_module_version": "1.2.0",
      "model_name": "LayoutModel",
      "state": {}
     },
     "9438cb210afc4c74b23abda8a13c4452": {
      "model_module": "@jupyter-widgets/controls",
      "model_module_version": "1.5.0",
      "model_name": "ProgressStyleModel",
      "state": {
       "description_width": ""
      }
     },
     "94ccdd37161d4c0a9078fd856867386b": {
      "model_module": "@jupyter-widgets/controls",
      "model_module_version": "1.5.0",
      "model_name": "FloatProgressModel",
      "state": {
       "bar_style": "success",
       "layout": "IPY_MODEL_7e6f7b39501f4a8180cbe67e4270d407",
       "max": 10000,
       "style": "IPY_MODEL_aa7db54e67504470aa7c54f1b46716a0",
       "value": 10000
      }
     },
     "94d159c6b81745b79fb156796cd34376": {
      "model_module": "@jupyter-widgets/base",
      "model_module_version": "1.2.0",
      "model_name": "LayoutModel",
      "state": {}
     },
     "94fa59347e844310b98cf6603d7a4314": {
      "model_module": "@jupyter-widgets/controls",
      "model_module_version": "1.5.0",
      "model_name": "HBoxModel",
      "state": {
       "children": [
        "IPY_MODEL_3f806dc6befd4651ac669db7a67c8927",
        "IPY_MODEL_600f1c73aa7b4694b46648d08f7d1746",
        "IPY_MODEL_a9e581a4eee245ae8ed3cb097c60f836"
       ],
       "layout": "IPY_MODEL_f4623656432c4a3096911786edcdc1a2"
      }
     },
     "94fee35cf3124c39b73aba8b0153bcfe": {
      "model_module": "@jupyter-widgets/controls",
      "model_module_version": "1.5.0",
      "model_name": "HTMLModel",
      "state": {
       "layout": "IPY_MODEL_8222185bcf6a4a90a113a19c5fab2d08",
       "style": "IPY_MODEL_a1a1941e75d24c8d836161dda2ea4f93",
       "value": "MCMC Iteration: 100%"
      }
     },
     "94ff407185d2489ebfae64cfba1cacd7": {
      "model_module": "@jupyter-widgets/base",
      "model_module_version": "1.2.0",
      "model_name": "LayoutModel",
      "state": {}
     },
     "9527a307258a4ced92479b196d8777be": {
      "model_module": "@jupyter-widgets/controls",
      "model_module_version": "1.5.0",
      "model_name": "DescriptionStyleModel",
      "state": {
       "description_width": ""
      }
     },
     "952cef00d7f940b5a1288d1ed0d800ea": {
      "model_module": "@jupyter-widgets/controls",
      "model_module_version": "1.5.0",
      "model_name": "FloatProgressModel",
      "state": {
       "bar_style": "success",
       "layout": "IPY_MODEL_520bcd383add4468911f63e13d7fd952",
       "max": 10000,
       "style": "IPY_MODEL_0795fc9770cc4bffbc01591a4ec1fb5a",
       "value": 10000
      }
     },
     "95314b1cbf7a4d91ad5373a2e562d4fd": {
      "model_module": "@jupyter-widgets/controls",
      "model_module_version": "1.5.0",
      "model_name": "HTMLModel",
      "state": {
       "layout": "IPY_MODEL_09da826f615446db89b92eb308caeda4",
       "style": "IPY_MODEL_039ac81d3b58436eb509db4272396086",
       "value": "MCMC Iteration: 100%"
      }
     },
     "954df7380a4840e4a616a9dc44473a93": {
      "model_module": "@jupyter-widgets/controls",
      "model_module_version": "1.5.0",
      "model_name": "DescriptionStyleModel",
      "state": {
       "description_width": ""
      }
     },
     "95831158a55747e1bcf2855945a0418e": {
      "model_module": "@jupyter-widgets/base",
      "model_module_version": "1.2.0",
      "model_name": "LayoutModel",
      "state": {}
     },
     "95873c6a86f948b5a7a9dca81372072d": {
      "model_module": "@jupyter-widgets/controls",
      "model_module_version": "1.5.0",
      "model_name": "HBoxModel",
      "state": {
       "children": [
        "IPY_MODEL_d2e6d38b12c14873ad96f5ed85b08326",
        "IPY_MODEL_e4aebadaf1804613bef182505fa2a5e1",
        "IPY_MODEL_ea54cc1feee74b33abd4d2b442d22d43"
       ],
       "layout": "IPY_MODEL_a263aac51e4f4d71a8feb0ed9502f139"
      }
     },
     "95b5b43baf2d47afa9078e780fb3a582": {
      "model_module": "@jupyter-widgets/controls",
      "model_module_version": "1.5.0",
      "model_name": "DescriptionStyleModel",
      "state": {
       "description_width": ""
      }
     },
     "95b65d1707e946deb1e8ee3ee40d0739": {
      "model_module": "@jupyter-widgets/base",
      "model_module_version": "1.2.0",
      "model_name": "LayoutModel",
      "state": {}
     },
     "95dc1fddfd9045ea8c0b757e833888c9": {
      "model_module": "@jupyter-widgets/controls",
      "model_module_version": "1.5.0",
      "model_name": "ProgressStyleModel",
      "state": {
       "description_width": ""
      }
     },
     "95e9ba71b5fe47ad9d51855e5f78cd15": {
      "model_module": "@jupyter-widgets/controls",
      "model_module_version": "1.5.0",
      "model_name": "ProgressStyleModel",
      "state": {
       "description_width": ""
      }
     },
     "96740be4018648a2a6fcf13611d758b6": {
      "model_module": "@jupyter-widgets/base",
      "model_module_version": "1.2.0",
      "model_name": "LayoutModel",
      "state": {}
     },
     "96856c135b6d470085b32114124a9282": {
      "model_module": "@jupyter-widgets/controls",
      "model_module_version": "1.5.0",
      "model_name": "HTMLModel",
      "state": {
       "layout": "IPY_MODEL_d0a4d051566349e3b3d4f25f83a6fa4c",
       "style": "IPY_MODEL_b63ca1fda07840a2a7a638dddee8f5a8",
       "value": " 10000/10000 [00:14&lt;00:00, 683.90it/s]"
      }
     },
     "96ad6b81fce44690a1419ba7b2d50e49": {
      "model_module": "@jupyter-widgets/base",
      "model_module_version": "1.2.0",
      "model_name": "LayoutModel",
      "state": {}
     },
     "96d01cd5f8994a5988c3b23b65f6ebb1": {
      "model_module": "@jupyter-widgets/base",
      "model_module_version": "1.2.0",
      "model_name": "LayoutModel",
      "state": {}
     },
     "96fcd2d2212b4622bad26f9ada9c93ae": {
      "model_module": "@jupyter-widgets/base",
      "model_module_version": "1.2.0",
      "model_name": "LayoutModel",
      "state": {}
     },
     "97024c5de9fb4f0790e983de33f843fc": {
      "model_module": "@jupyter-widgets/base",
      "model_module_version": "1.2.0",
      "model_name": "LayoutModel",
      "state": {}
     },
     "974050a56bf6410abb985120c84332fb": {
      "model_module": "@jupyter-widgets/controls",
      "model_module_version": "1.5.0",
      "model_name": "DescriptionStyleModel",
      "state": {
       "description_width": ""
      }
     },
     "9785ce50c170408e8839a438a0b3014d": {
      "model_module": "@jupyter-widgets/controls",
      "model_module_version": "1.5.0",
      "model_name": "FloatProgressModel",
      "state": {
       "bar_style": "success",
       "layout": "IPY_MODEL_7add20ce8ab04bb28636e33bdb2aea99",
       "max": 10000,
       "style": "IPY_MODEL_641977df9cf54dbaa54dd05b047e0ab4",
       "value": 10000
      }
     },
     "978be0a1e3d84cbcb543bc915c1cc3f0": {
      "model_module": "@jupyter-widgets/controls",
      "model_module_version": "1.5.0",
      "model_name": "DescriptionStyleModel",
      "state": {
       "description_width": ""
      }
     },
     "979aedda5b3b4bca82b3a55cb4642169": {
      "model_module": "@jupyter-widgets/controls",
      "model_module_version": "1.5.0",
      "model_name": "HTMLModel",
      "state": {
       "layout": "IPY_MODEL_bac4afba39b54f3fa06818da78952ab4",
       "style": "IPY_MODEL_3912d7093e0845e78803d8e62eccd463",
       "value": "MCMC Iteration: 100%"
      }
     },
     "97d71f3c05b14602b2152a0def2515d7": {
      "model_module": "@jupyter-widgets/controls",
      "model_module_version": "1.5.0",
      "model_name": "HTMLModel",
      "state": {
       "layout": "IPY_MODEL_d46492a0230b4c688837f96b01f393fa",
       "style": "IPY_MODEL_75e07e3854db43a5a766a2e4819cab3c",
       "value": "MCMC Iteration: 100%"
      }
     },
     "97f2e74bda6d4f6a8a0cd40516abcd01": {
      "model_module": "@jupyter-widgets/controls",
      "model_module_version": "1.5.0",
      "model_name": "DescriptionStyleModel",
      "state": {
       "description_width": ""
      }
     },
     "980145a7b575470d88f9eec631462e8c": {
      "model_module": "@jupyter-widgets/base",
      "model_module_version": "1.2.0",
      "model_name": "LayoutModel",
      "state": {}
     },
     "9832cd5747a144d8b45759458f82a346": {
      "model_module": "@jupyter-widgets/base",
      "model_module_version": "1.2.0",
      "model_name": "LayoutModel",
      "state": {}
     },
     "98345b2634804724befb346aafeead87": {
      "model_module": "@jupyter-widgets/base",
      "model_module_version": "1.2.0",
      "model_name": "LayoutModel",
      "state": {}
     },
     "983877bdadac4a5f834097d57d2a32b9": {
      "model_module": "@jupyter-widgets/controls",
      "model_module_version": "1.5.0",
      "model_name": "HTMLModel",
      "state": {
       "layout": "IPY_MODEL_11c064c494bc4bc495ff175c3c0685c1",
       "style": "IPY_MODEL_6e9a084cbfcd494e8ef292580c321d6b",
       "value": "MCMC Iteration: 100%"
      }
     },
     "9841d2af8aa646a18fd92bb450bd4112": {
      "model_module": "@jupyter-widgets/controls",
      "model_module_version": "1.5.0",
      "model_name": "DescriptionStyleModel",
      "state": {
       "description_width": ""
      }
     },
     "98c18f85d3c747b694252b4816e5bc4c": {
      "model_module": "@jupyter-widgets/base",
      "model_module_version": "1.2.0",
      "model_name": "LayoutModel",
      "state": {}
     },
     "98f8f037efe5477ebb4d6f7d34878bf4": {
      "model_module": "@jupyter-widgets/controls",
      "model_module_version": "1.5.0",
      "model_name": "ProgressStyleModel",
      "state": {
       "description_width": ""
      }
     },
     "99272e0d30d840b39e88ff8c7f133021": {
      "model_module": "@jupyter-widgets/base",
      "model_module_version": "1.2.0",
      "model_name": "LayoutModel",
      "state": {}
     },
     "995353ef7df04b4f908fdd0912f92d79": {
      "model_module": "@jupyter-widgets/base",
      "model_module_version": "1.2.0",
      "model_name": "LayoutModel",
      "state": {}
     },
     "996725c3767444d09871b740bf862a94": {
      "model_module": "@jupyter-widgets/controls",
      "model_module_version": "1.5.0",
      "model_name": "HTMLModel",
      "state": {
       "layout": "IPY_MODEL_50d63916f04b49e182cd2ea52458c198",
       "style": "IPY_MODEL_8cece0a530b2445281d6da886e931ee0",
       "value": " 10000/10000 [00:14&lt;00:00, 670.67it/s]"
      }
     },
     "997af25d035a4b8aa1d49216911a778c": {
      "model_module": "@jupyter-widgets/base",
      "model_module_version": "1.2.0",
      "model_name": "LayoutModel",
      "state": {}
     },
     "99a7539277d44260838a6de7d0109037": {
      "model_module": "@jupyter-widgets/base",
      "model_module_version": "1.2.0",
      "model_name": "LayoutModel",
      "state": {}
     },
     "99afb4aeb15e4dcca5bacdd950747864": {
      "model_module": "@jupyter-widgets/controls",
      "model_module_version": "1.5.0",
      "model_name": "ProgressStyleModel",
      "state": {
       "description_width": ""
      }
     },
     "99bfc154d24646ab885bbdc58805f829": {
      "model_module": "@jupyter-widgets/controls",
      "model_module_version": "1.5.0",
      "model_name": "HTMLModel",
      "state": {
       "layout": "IPY_MODEL_c822547e625a42dd9c2808f3e242758b",
       "style": "IPY_MODEL_88435a6125fc417c961febbcd0599d77",
       "value": "MCMC Iteration: 100%"
      }
     },
     "99f3ec0b05ed4448a56eb3a60c863c79": {
      "model_module": "@jupyter-widgets/controls",
      "model_module_version": "1.5.0",
      "model_name": "ProgressStyleModel",
      "state": {
       "description_width": ""
      }
     },
     "9a2e91546c304dd9890d66bd08684a35": {
      "model_module": "@jupyter-widgets/base",
      "model_module_version": "1.2.0",
      "model_name": "LayoutModel",
      "state": {}
     },
     "9a37cc7db38f46499cd9d37a8fff1a26": {
      "model_module": "@jupyter-widgets/controls",
      "model_module_version": "1.5.0",
      "model_name": "DescriptionStyleModel",
      "state": {
       "description_width": ""
      }
     },
     "9a462ed231634338a26af546e7201872": {
      "model_module": "@jupyter-widgets/controls",
      "model_module_version": "1.5.0",
      "model_name": "HBoxModel",
      "state": {
       "children": [
        "IPY_MODEL_af1bf15633484d42a3dbb939fc85d1e1",
        "IPY_MODEL_b1c8a58aa3ab4d84a8d65b6216c2e54a",
        "IPY_MODEL_db2a16041fe947afbce223406cbfb35e"
       ],
       "layout": "IPY_MODEL_56f4867b4bc4410e90629940b413ebdd"
      }
     },
     "9a9aa9df624f4174a19590ede9338628": {
      "model_module": "@jupyter-widgets/base",
      "model_module_version": "1.2.0",
      "model_name": "LayoutModel",
      "state": {}
     },
     "9ab61ace6fa143ab907bcfb78e8a1447": {
      "model_module": "@jupyter-widgets/controls",
      "model_module_version": "1.5.0",
      "model_name": "ProgressStyleModel",
      "state": {
       "description_width": ""
      }
     },
     "9b0e48a7994144a6855b95729b014e5e": {
      "model_module": "@jupyter-widgets/base",
      "model_module_version": "1.2.0",
      "model_name": "LayoutModel",
      "state": {}
     },
     "9c1a875d6bc04d6f813d07a1a0238bec": {
      "model_module": "@jupyter-widgets/base",
      "model_module_version": "1.2.0",
      "model_name": "LayoutModel",
      "state": {}
     },
     "9c251c67cd6e44a8881c480ae5f4df80": {
      "model_module": "@jupyter-widgets/base",
      "model_module_version": "1.2.0",
      "model_name": "LayoutModel",
      "state": {}
     },
     "9c318d5ac3664d368ae5b9918d605426": {
      "model_module": "@jupyter-widgets/base",
      "model_module_version": "1.2.0",
      "model_name": "LayoutModel",
      "state": {}
     },
     "9c360fbca2f34f27b14373cf96287e92": {
      "model_module": "@jupyter-widgets/controls",
      "model_module_version": "1.5.0",
      "model_name": "DescriptionStyleModel",
      "state": {
       "description_width": ""
      }
     },
     "9c5156d61bc441ff9a1de7f1ca9473c9": {
      "model_module": "@jupyter-widgets/controls",
      "model_module_version": "1.5.0",
      "model_name": "FloatProgressModel",
      "state": {
       "bar_style": "success",
       "layout": "IPY_MODEL_9a2e91546c304dd9890d66bd08684a35",
       "max": 10000,
       "style": "IPY_MODEL_95dc1fddfd9045ea8c0b757e833888c9",
       "value": 10000
      }
     },
     "9c5f1f8f4b574eb289b9036b365b6d61": {
      "model_module": "@jupyter-widgets/controls",
      "model_module_version": "1.5.0",
      "model_name": "FloatProgressModel",
      "state": {
       "bar_style": "success",
       "layout": "IPY_MODEL_96fcd2d2212b4622bad26f9ada9c93ae",
       "max": 10000,
       "style": "IPY_MODEL_11595c177826479ab2308f88aeb90e01",
       "value": 10000
      }
     },
     "9c61ff9c62c4442ca5e45ad5cad7a69f": {
      "model_module": "@jupyter-widgets/controls",
      "model_module_version": "1.5.0",
      "model_name": "HTMLModel",
      "state": {
       "layout": "IPY_MODEL_81964ba151bf43429a076d398d77124f",
       "style": "IPY_MODEL_76a12b49d74943ecb8ad2ce81b5c25f8",
       "value": " 10000/10000 [00:27&lt;00:00, 341.90it/s]"
      }
     },
     "9c6d9572d5ec4e7cbe82700de9e4d5db": {
      "model_module": "@jupyter-widgets/controls",
      "model_module_version": "1.5.0",
      "model_name": "HTMLModel",
      "state": {
       "layout": "IPY_MODEL_4059be453ada4747866672739f04e90f",
       "style": "IPY_MODEL_b017640d90eb4dd59d5f668ffdd83fc1",
       "value": " 10000/10000 [00:09&lt;00:00, 1074.26it/s]"
      }
     },
     "9ce91d8871ff42bcaacb9da2878ee8a4": {
      "model_module": "@jupyter-widgets/controls",
      "model_module_version": "1.5.0",
      "model_name": "DescriptionStyleModel",
      "state": {
       "description_width": ""
      }
     },
     "9d935925feb3434f9f2ada55284cdb26": {
      "model_module": "@jupyter-widgets/base",
      "model_module_version": "1.2.0",
      "model_name": "LayoutModel",
      "state": {}
     },
     "9dccb5fbadc44c3fb64fd86626f6c645": {
      "model_module": "@jupyter-widgets/controls",
      "model_module_version": "1.5.0",
      "model_name": "HTMLModel",
      "state": {
       "layout": "IPY_MODEL_c92499c8dd6747a292872b1ebdf63bf0",
       "style": "IPY_MODEL_b6e1c6cf534948b284bfb9ab3296d834",
       "value": "MCMC Iteration: 100%"
      }
     },
     "9e0b9468f0b140abae20e0b67c301f93": {
      "model_module": "@jupyter-widgets/base",
      "model_module_version": "1.2.0",
      "model_name": "LayoutModel",
      "state": {}
     },
     "9e0da83d7e2c4fefbe6239a5a304e84f": {
      "model_module": "@jupyter-widgets/controls",
      "model_module_version": "1.5.0",
      "model_name": "HBoxModel",
      "state": {
       "children": [
        "IPY_MODEL_851236f3e5bf422399023f4d19a02e7f",
        "IPY_MODEL_5ee956f4b091487ba1b1eed8e576b831",
        "IPY_MODEL_d0eb19a96c83481c8489e58a0768da6b"
       ],
       "layout": "IPY_MODEL_fe81bf1453c04735b814576364fe0c5a"
      }
     },
     "9e2ac815589141168e126e2705f3c7a0": {
      "model_module": "@jupyter-widgets/base",
      "model_module_version": "1.2.0",
      "model_name": "LayoutModel",
      "state": {}
     },
     "9e36c6a2c2dc4d64848f4e59bf8a9f0b": {
      "model_module": "@jupyter-widgets/controls",
      "model_module_version": "1.5.0",
      "model_name": "DescriptionStyleModel",
      "state": {
       "description_width": ""
      }
     },
     "9f0b4642ab4444ba8ecd5abf87bd21b0": {
      "model_module": "@jupyter-widgets/base",
      "model_module_version": "1.2.0",
      "model_name": "LayoutModel",
      "state": {}
     },
     "9f4e1895008e424095699814bc7a9fd9": {
      "model_module": "@jupyter-widgets/controls",
      "model_module_version": "1.5.0",
      "model_name": "FloatProgressModel",
      "state": {
       "bar_style": "success",
       "layout": "IPY_MODEL_f5d148cb90064544b4744fb6355d2ced",
       "max": 10000,
       "style": "IPY_MODEL_0e01d8daddb947afadc504beef7a7660",
       "value": 10000
      }
     },
     "9f73d70e7ca348098f0d7ca77cad42d5": {
      "model_module": "@jupyter-widgets/controls",
      "model_module_version": "1.5.0",
      "model_name": "DescriptionStyleModel",
      "state": {
       "description_width": ""
      }
     },
     "9f89ec97ec5648d298dee2841591be74": {
      "model_module": "@jupyter-widgets/base",
      "model_module_version": "1.2.0",
      "model_name": "LayoutModel",
      "state": {}
     },
     "9f9a5d59b7af4d67a4987452eac56606": {
      "model_module": "@jupyter-widgets/controls",
      "model_module_version": "1.5.0",
      "model_name": "DescriptionStyleModel",
      "state": {
       "description_width": ""
      }
     },
     "9fa670d9b57147ec9c67efa6f8a4b31d": {
      "model_module": "@jupyter-widgets/base",
      "model_module_version": "1.2.0",
      "model_name": "LayoutModel",
      "state": {}
     },
     "9fb8a3785f284483969baeacb77ecd6a": {
      "model_module": "@jupyter-widgets/controls",
      "model_module_version": "1.5.0",
      "model_name": "HTMLModel",
      "state": {
       "layout": "IPY_MODEL_36519ab05780455389f4e0ea17d16037",
       "style": "IPY_MODEL_40e76af5bb7b46b692408b44fa75ab69",
       "value": " 10000/10000 [00:07&lt;00:00, 1360.90it/s]"
      }
     },
     "9fca3ee8f7b349a79844355faf16b06c": {
      "model_module": "@jupyter-widgets/base",
      "model_module_version": "1.2.0",
      "model_name": "LayoutModel",
      "state": {}
     },
     "9fdef24a5d384b6eaf883ccc16e3d000": {
      "model_module": "@jupyter-widgets/controls",
      "model_module_version": "1.5.0",
      "model_name": "ProgressStyleModel",
      "state": {
       "description_width": ""
      }
     },
     "9ffa01c03dbf49769afa65b1ecb3e9e7": {
      "model_module": "@jupyter-widgets/controls",
      "model_module_version": "1.5.0",
      "model_name": "HTMLModel",
      "state": {
       "layout": "IPY_MODEL_d9aaec9983934834b728992e9d657cc3",
       "style": "IPY_MODEL_490c4d9072f74ea0a0848d0f7d95279b",
       "value": " 10000/10000 [00:24&lt;00:00, 406.15it/s]"
      }
     },
     "a015b2dd39cb4e80aa599e33faa58cc5": {
      "model_module": "@jupyter-widgets/base",
      "model_module_version": "1.2.0",
      "model_name": "LayoutModel",
      "state": {}
     },
     "a01c646716d148dd87567944ea5dd47d": {
      "model_module": "@jupyter-widgets/controls",
      "model_module_version": "1.5.0",
      "model_name": "DescriptionStyleModel",
      "state": {
       "description_width": ""
      }
     },
     "a0203374465a42a694ceb8affc4c1762": {
      "model_module": "@jupyter-widgets/controls",
      "model_module_version": "1.5.0",
      "model_name": "HTMLModel",
      "state": {
       "layout": "IPY_MODEL_d82cac34ec1b463287249fdf6caa8ab6",
       "style": "IPY_MODEL_4d2de46ed31d4798975653b1b69122e5",
       "value": " 10000/10000 [00:22&lt;00:00, 454.56it/s]"
      }
     },
     "a022e472468b4c9ca118b1d6226df02a": {
      "model_module": "@jupyter-widgets/controls",
      "model_module_version": "1.5.0",
      "model_name": "DescriptionStyleModel",
      "state": {
       "description_width": ""
      }
     },
     "a07fd33b325a4d8aa333aa34ba554b77": {
      "model_module": "@jupyter-widgets/controls",
      "model_module_version": "1.5.0",
      "model_name": "HTMLModel",
      "state": {
       "layout": "IPY_MODEL_04f47ee5dd8c4de4888ee9b006fc61d6",
       "style": "IPY_MODEL_fcc2fca08dfc447f968fb53fb6402be4",
       "value": "MCMC Iteration: 100%"
      }
     },
     "a089ab08480d48c8a19ad651a3dbdd3c": {
      "model_module": "@jupyter-widgets/base",
      "model_module_version": "1.2.0",
      "model_name": "LayoutModel",
      "state": {}
     },
     "a0e66afd89d84e87922bb4dcad9962b7": {
      "model_module": "@jupyter-widgets/base",
      "model_module_version": "1.2.0",
      "model_name": "LayoutModel",
      "state": {}
     },
     "a120cb2ae3904aad83bd351d1bc94ffb": {
      "model_module": "@jupyter-widgets/controls",
      "model_module_version": "1.5.0",
      "model_name": "HTMLModel",
      "state": {
       "layout": "IPY_MODEL_380ab5b0c51a401db6f703a3c0941eaa",
       "style": "IPY_MODEL_03eb745e61664aa2842478860ef8994c",
       "value": " 10000/10000 [00:07&lt;00:00, 1177.24it/s]"
      }
     },
     "a133f47b8e994199aaee62dca7316d8d": {
      "model_module": "@jupyter-widgets/controls",
      "model_module_version": "1.5.0",
      "model_name": "ProgressStyleModel",
      "state": {
       "description_width": ""
      }
     },
     "a1540ed531ed47688dced3b35047c37f": {
      "model_module": "@jupyter-widgets/base",
      "model_module_version": "1.2.0",
      "model_name": "LayoutModel",
      "state": {}
     },
     "a1a1941e75d24c8d836161dda2ea4f93": {
      "model_module": "@jupyter-widgets/controls",
      "model_module_version": "1.5.0",
      "model_name": "DescriptionStyleModel",
      "state": {
       "description_width": ""
      }
     },
     "a2035232429049e2bd7b1a250b296650": {
      "model_module": "@jupyter-widgets/controls",
      "model_module_version": "1.5.0",
      "model_name": "DescriptionStyleModel",
      "state": {
       "description_width": ""
      }
     },
     "a20d6ed0000f433d9f7632e9b2be947f": {
      "model_module": "@jupyter-widgets/controls",
      "model_module_version": "1.5.0",
      "model_name": "ProgressStyleModel",
      "state": {
       "description_width": ""
      }
     },
     "a216a21553024cc3b47fcb42143d07ce": {
      "model_module": "@jupyter-widgets/base",
      "model_module_version": "1.2.0",
      "model_name": "LayoutModel",
      "state": {}
     },
     "a263aac51e4f4d71a8feb0ed9502f139": {
      "model_module": "@jupyter-widgets/base",
      "model_module_version": "1.2.0",
      "model_name": "LayoutModel",
      "state": {}
     },
     "a2650ccfbafe4efa9c4b8ecd1c80532f": {
      "model_module": "@jupyter-widgets/controls",
      "model_module_version": "1.5.0",
      "model_name": "HTMLModel",
      "state": {
       "layout": "IPY_MODEL_862f29ac9a844425b7cf93f49a2c2c52",
       "style": "IPY_MODEL_a43c9a76efd14628be5959c167e82ae1",
       "value": " 10000/10000 [00:22&lt;00:00, 438.69it/s]"
      }
     },
     "a28e7023e3644681b998b565b9e19db0": {
      "model_module": "@jupyter-widgets/controls",
      "model_module_version": "1.5.0",
      "model_name": "DescriptionStyleModel",
      "state": {
       "description_width": ""
      }
     },
     "a2bdd5982447423ea455fbdd5b396cef": {
      "model_module": "@jupyter-widgets/controls",
      "model_module_version": "1.5.0",
      "model_name": "DescriptionStyleModel",
      "state": {
       "description_width": ""
      }
     },
     "a2cf5b6e601844fdb095fef0e77cec12": {
      "model_module": "@jupyter-widgets/base",
      "model_module_version": "1.2.0",
      "model_name": "LayoutModel",
      "state": {}
     },
     "a2d1859aad334295a71777de6d60356a": {
      "model_module": "@jupyter-widgets/controls",
      "model_module_version": "1.5.0",
      "model_name": "HTMLModel",
      "state": {
       "layout": "IPY_MODEL_8be8a1150cd2403c91572ae1b815aaa9",
       "style": "IPY_MODEL_59e0c3aa89c14012ad66773ad6699e65",
       "value": "MCMC Iteration: 100%"
      }
     },
     "a2f8e3ced9754498aa6f3e839d577456": {
      "model_module": "@jupyter-widgets/controls",
      "model_module_version": "1.5.0",
      "model_name": "HTMLModel",
      "state": {
       "layout": "IPY_MODEL_d8c52308c30e4c549edfa16705fe2444",
       "style": "IPY_MODEL_1efc2e3478c446d9b5ae80763e2a1840",
       "value": " 10000/10000 [00:14&lt;00:00, 557.81it/s]"
      }
     },
     "a30435426be74efaaad189f5f1095771": {
      "model_module": "@jupyter-widgets/controls",
      "model_module_version": "1.5.0",
      "model_name": "HTMLModel",
      "state": {
       "layout": "IPY_MODEL_c46c9c64cc0d4296a07d54bada40ca1f",
       "style": "IPY_MODEL_a9f63bdf88fa40f3bf774ff7cdc5c816",
       "value": " 10000/10000 [00:27&lt;00:00, 360.73it/s]"
      }
     },
     "a32638f8ed08490ba988d30277da31e9": {
      "model_module": "@jupyter-widgets/base",
      "model_module_version": "1.2.0",
      "model_name": "LayoutModel",
      "state": {}
     },
     "a34cee25336746279045f465f2e361ba": {
      "model_module": "@jupyter-widgets/controls",
      "model_module_version": "1.5.0",
      "model_name": "HTMLModel",
      "state": {
       "layout": "IPY_MODEL_f0481985eb8243399e8483fbb82fffb2",
       "style": "IPY_MODEL_81aae3a1eb3f44908f5c661126cbeaf9",
       "value": "MCMC Iteration: 100%"
      }
     },
     "a34e685b226f46fb98b31c8f0c9c266c": {
      "model_module": "@jupyter-widgets/controls",
      "model_module_version": "1.5.0",
      "model_name": "HTMLModel",
      "state": {
       "layout": "IPY_MODEL_8037f0980f034db3a6e670f641fe3af4",
       "style": "IPY_MODEL_9ce91d8871ff42bcaacb9da2878ee8a4",
       "value": " 10000/10000 [00:20&lt;00:00, 477.72it/s]"
      }
     },
     "a376b666ad4a4c7d8015168cdc69710e": {
      "model_module": "@jupyter-widgets/controls",
      "model_module_version": "1.5.0",
      "model_name": "HTMLModel",
      "state": {
       "layout": "IPY_MODEL_4c315c18bac44374849c74810cdcdc39",
       "style": "IPY_MODEL_4bd4cade4ccb4b68b61867bce4f4f801",
       "value": "MCMC Iteration: 100%"
      }
     },
     "a3796e37827642cb809b89550aeac63c": {
      "model_module": "@jupyter-widgets/base",
      "model_module_version": "1.2.0",
      "model_name": "LayoutModel",
      "state": {}
     },
     "a3a13feaa9ec4b789567360f8ee721ff": {
      "model_module": "@jupyter-widgets/controls",
      "model_module_version": "1.5.0",
      "model_name": "HTMLModel",
      "state": {
       "layout": "IPY_MODEL_2168ac1bf71240e1a16a0d1001bd638e",
       "style": "IPY_MODEL_0c998aaac9f7482e801e8ef1cedfa33c",
       "value": "MCMC Iteration: 100%"
      }
     },
     "a4203110996245368b544a6444ce6487": {
      "model_module": "@jupyter-widgets/controls",
      "model_module_version": "1.5.0",
      "model_name": "HBoxModel",
      "state": {
       "children": [
        "IPY_MODEL_c6763c2cbb4741a8af5fcc3591da07e4",
        "IPY_MODEL_3068c95aa9704022a48faf65acffbddb",
        "IPY_MODEL_ec29609a8e3c4802b265dba2ee88111f"
       ],
       "layout": "IPY_MODEL_4865ccf1a3324be280de573415da0f90"
      }
     },
     "a43c9a76efd14628be5959c167e82ae1": {
      "model_module": "@jupyter-widgets/controls",
      "model_module_version": "1.5.0",
      "model_name": "DescriptionStyleModel",
      "state": {
       "description_width": ""
      }
     },
     "a4b27831f43c45c5a8cc8457a42ba1da": {
      "model_module": "@jupyter-widgets/controls",
      "model_module_version": "1.5.0",
      "model_name": "HBoxModel",
      "state": {
       "children": [
        "IPY_MODEL_03ff4e6022f14a34b404aec3eed12ff5",
        "IPY_MODEL_3081e2bc959e4428ac87a06bfaaf9053",
        "IPY_MODEL_62d4c05d2e7a4f4ea262e5d5709d14c6"
       ],
       "layout": "IPY_MODEL_858dcdcfc55341fa91632d883e8aa15f"
      }
     },
     "a4be4faef44244d0877f3fb08322ac6a": {
      "model_module": "@jupyter-widgets/controls",
      "model_module_version": "1.5.0",
      "model_name": "ProgressStyleModel",
      "state": {
       "description_width": ""
      }
     },
     "a4db7a61ce394e17a8cadeefc180c905": {
      "model_module": "@jupyter-widgets/controls",
      "model_module_version": "1.5.0",
      "model_name": "ProgressStyleModel",
      "state": {
       "description_width": ""
      }
     },
     "a514c168de1448eeadccea8fec00d21f": {
      "model_module": "@jupyter-widgets/base",
      "model_module_version": "1.2.0",
      "model_name": "LayoutModel",
      "state": {}
     },
     "a55d9e6b562c4814b964fcb6f35e03e6": {
      "model_module": "@jupyter-widgets/base",
      "model_module_version": "1.2.0",
      "model_name": "LayoutModel",
      "state": {}
     },
     "a57dd46d498549f08ec0dca08e0c1e72": {
      "model_module": "@jupyter-widgets/base",
      "model_module_version": "1.2.0",
      "model_name": "LayoutModel",
      "state": {}
     },
     "a5ae70245cb44a6c96fc1ab285af8eed": {
      "model_module": "@jupyter-widgets/base",
      "model_module_version": "1.2.0",
      "model_name": "LayoutModel",
      "state": {}
     },
     "a5ea0075a41c4339acce8437fddea8cb": {
      "model_module": "@jupyter-widgets/controls",
      "model_module_version": "1.5.0",
      "model_name": "DescriptionStyleModel",
      "state": {
       "description_width": ""
      }
     },
     "a5f05233756846048ee7859cdff996dd": {
      "model_module": "@jupyter-widgets/base",
      "model_module_version": "1.2.0",
      "model_name": "LayoutModel",
      "state": {}
     },
     "a5f8dc8d67464a23b4647ff5a1950cde": {
      "model_module": "@jupyter-widgets/controls",
      "model_module_version": "1.5.0",
      "model_name": "HTMLModel",
      "state": {
       "layout": "IPY_MODEL_7ec4472901df44bf9549f5f72aa42703",
       "style": "IPY_MODEL_dd9a7e456a9843b2851e7334b027328a",
       "value": " 10000/10000 [00:07&lt;00:00, 1343.90it/s]"
      }
     },
     "a6030349ea014569a3fa36f3543e92a5": {
      "model_module": "@jupyter-widgets/controls",
      "model_module_version": "1.5.0",
      "model_name": "HTMLModel",
      "state": {
       "layout": "IPY_MODEL_d77a7a952434409586e0e5db4bb7f608",
       "style": "IPY_MODEL_29b36f4778b846d2b8d806df1e57378c",
       "value": "MCMC Iteration: 100%"
      }
     },
     "a60f6009d2c14e84900a5fe02e698074": {
      "model_module": "@jupyter-widgets/controls",
      "model_module_version": "1.5.0",
      "model_name": "HBoxModel",
      "state": {
       "children": [
        "IPY_MODEL_97d71f3c05b14602b2152a0def2515d7",
        "IPY_MODEL_582865c7eead4f039bad2bd33a96b50d",
        "IPY_MODEL_faa8a777fc83492c807b8a3390f28156"
       ],
       "layout": "IPY_MODEL_bc96f8a207624902a90951eea78b6bd9"
      }
     },
     "a61414d94635436087eadf7010635b5b": {
      "model_module": "@jupyter-widgets/controls",
      "model_module_version": "1.5.0",
      "model_name": "DescriptionStyleModel",
      "state": {
       "description_width": ""
      }
     },
     "a6192af9da9b4052891982942815ac1d": {
      "model_module": "@jupyter-widgets/controls",
      "model_module_version": "1.5.0",
      "model_name": "HBoxModel",
      "state": {
       "children": [
        "IPY_MODEL_d84db003de534dbaafe8d07561b5d82d",
        "IPY_MODEL_f366941aa4e24c8d999f34a23bbf2a8d",
        "IPY_MODEL_859867eae75a47859548f400cb6a1bfb"
       ],
       "layout": "IPY_MODEL_f71c95b45aa048b589ecd6d3076c920c"
      }
     },
     "a6768370a4834832b6b64e0c7759c030": {
      "model_module": "@jupyter-widgets/base",
      "model_module_version": "1.2.0",
      "model_name": "LayoutModel",
      "state": {}
     },
     "a6b9bb32d313441aa7e7cc5a4e52132f": {
      "model_module": "@jupyter-widgets/base",
      "model_module_version": "1.2.0",
      "model_name": "LayoutModel",
      "state": {}
     },
     "a6e118bfd8594b7f97980b92eac159b8": {
      "model_module": "@jupyter-widgets/base",
      "model_module_version": "1.2.0",
      "model_name": "LayoutModel",
      "state": {}
     },
     "a73eeb908d274a1a98c893786d853d1d": {
      "model_module": "@jupyter-widgets/controls",
      "model_module_version": "1.5.0",
      "model_name": "DescriptionStyleModel",
      "state": {
       "description_width": ""
      }
     },
     "a76018e973994c43b2c5aac59df633fc": {
      "model_module": "@jupyter-widgets/controls",
      "model_module_version": "1.5.0",
      "model_name": "HTMLModel",
      "state": {
       "layout": "IPY_MODEL_7c1dd73874bf4a1199e4340762d6edb1",
       "style": "IPY_MODEL_bcf112806ec94fac9c7f856c5bd6475a",
       "value": " 10000/10000 [00:14&lt;00:00, 705.36it/s]"
      }
     },
     "a7a33d8cf2e546c69c1fa881a495d4cc": {
      "model_module": "@jupyter-widgets/base",
      "model_module_version": "1.2.0",
      "model_name": "LayoutModel",
      "state": {}
     },
     "a7aee171a8b441faa3f6a46b419259d6": {
      "model_module": "@jupyter-widgets/controls",
      "model_module_version": "1.5.0",
      "model_name": "HBoxModel",
      "state": {
       "children": [
        "IPY_MODEL_c1ac0385e9cf4629a7af3a7efffe3801",
        "IPY_MODEL_df80ace792e042a196bdf2b40cdc366d",
        "IPY_MODEL_63a78d98247f4631ae0df2c7da146b11"
       ],
       "layout": "IPY_MODEL_e44e8817f9514ce1989bd5ddaade86a1"
      }
     },
     "a8109d704d024756831d535d32657bb0": {
      "model_module": "@jupyter-widgets/controls",
      "model_module_version": "1.5.0",
      "model_name": "DescriptionStyleModel",
      "state": {
       "description_width": ""
      }
     },
     "a8154b7d50014d219bb8958ee3705ea3": {
      "model_module": "@jupyter-widgets/base",
      "model_module_version": "1.2.0",
      "model_name": "LayoutModel",
      "state": {}
     },
     "a820436b245a45cc8432356b0bc9f621": {
      "model_module": "@jupyter-widgets/base",
      "model_module_version": "1.2.0",
      "model_name": "LayoutModel",
      "state": {}
     },
     "a8506ac90345498c82bc7c237fc2088d": {
      "model_module": "@jupyter-widgets/controls",
      "model_module_version": "1.5.0",
      "model_name": "DescriptionStyleModel",
      "state": {
       "description_width": ""
      }
     },
     "a8658542125849678b3aab66cb663e72": {
      "model_module": "@jupyter-widgets/base",
      "model_module_version": "1.2.0",
      "model_name": "LayoutModel",
      "state": {}
     },
     "a8a5e7bafa684f389f7a42aea70b40b9": {
      "model_module": "@jupyter-widgets/controls",
      "model_module_version": "1.5.0",
      "model_name": "ProgressStyleModel",
      "state": {
       "description_width": ""
      }
     },
     "a8ba9881eac74bfe9cfcf36c9646f78c": {
      "model_module": "@jupyter-widgets/base",
      "model_module_version": "1.2.0",
      "model_name": "LayoutModel",
      "state": {}
     },
     "a8ca1448c81c4a2ca193a5c0c7b5cba4": {
      "model_module": "@jupyter-widgets/controls",
      "model_module_version": "1.5.0",
      "model_name": "HTMLModel",
      "state": {
       "layout": "IPY_MODEL_efd8d31168b14cf3b6f47bc7716674fe",
       "style": "IPY_MODEL_db814cc369df44c5b50c09fa71a9dc4e",
       "value": "MCMC Iteration: 100%"
      }
     },
     "a917195cbdf940bb9da0107a215c2970": {
      "model_module": "@jupyter-widgets/controls",
      "model_module_version": "1.5.0",
      "model_name": "HTMLModel",
      "state": {
       "layout": "IPY_MODEL_c93d9faa6dea40838c68f403f3c420d7",
       "style": "IPY_MODEL_6b2ee59039ec4b0ab77a8cf2e47b655c",
       "value": " 10000/10000 [00:19&lt;00:00, 519.79it/s]"
      }
     },
     "a9289b44e41644ef82852cbbc24e4227": {
      "model_module": "@jupyter-widgets/controls",
      "model_module_version": "1.5.0",
      "model_name": "HTMLModel",
      "state": {
       "layout": "IPY_MODEL_d34051e8edf84bb3b11a6e8fc3fd1cac",
       "style": "IPY_MODEL_8aab5446a9134b92b2461d70db5e0e84",
       "value": " 10000/10000 [00:24&lt;00:00, 405.89it/s]"
      }
     },
     "a96912d61499453b8bb5b0a8239dd336": {
      "model_module": "@jupyter-widgets/controls",
      "model_module_version": "1.5.0",
      "model_name": "HBoxModel",
      "state": {
       "children": [
        "IPY_MODEL_229243f1f2744cad8d1ed41df5cb1586",
        "IPY_MODEL_1ff4cf95e2d947b1ae1372fb1cc1e527",
        "IPY_MODEL_45ac63c809e64585a5505bd6f991902f"
       ],
       "layout": "IPY_MODEL_1c6ea5db7bd84a2bbb186208b55bb736"
      }
     },
     "a9a99799b24845b4b96836288e78d576": {
      "model_module": "@jupyter-widgets/controls",
      "model_module_version": "1.5.0",
      "model_name": "ProgressStyleModel",
      "state": {
       "description_width": ""
      }
     },
     "a9e581a4eee245ae8ed3cb097c60f836": {
      "model_module": "@jupyter-widgets/controls",
      "model_module_version": "1.5.0",
      "model_name": "HTMLModel",
      "state": {
       "layout": "IPY_MODEL_47ef5da302ae44429f3f9a93a7d8d9ca",
       "style": "IPY_MODEL_8519ed207bfe423ebfe8d754181c65d8",
       "value": " 10000/10000 [00:15&lt;00:00, 657.25it/s]"
      }
     },
     "a9eaa0b483d7457191a1bce86ea0f4b5": {
      "model_module": "@jupyter-widgets/controls",
      "model_module_version": "1.5.0",
      "model_name": "DescriptionStyleModel",
      "state": {
       "description_width": ""
      }
     },
     "a9f24ac5abab45ecacf5e6706ebbf98f": {
      "model_module": "@jupyter-widgets/base",
      "model_module_version": "1.2.0",
      "model_name": "LayoutModel",
      "state": {}
     },
     "a9f3b9a7168f420984dc104c76d4cda4": {
      "model_module": "@jupyter-widgets/base",
      "model_module_version": "1.2.0",
      "model_name": "LayoutModel",
      "state": {}
     },
     "a9f63bdf88fa40f3bf774ff7cdc5c816": {
      "model_module": "@jupyter-widgets/controls",
      "model_module_version": "1.5.0",
      "model_name": "DescriptionStyleModel",
      "state": {
       "description_width": ""
      }
     },
     "aa0fb8de21c2424c8a96218df2300dba": {
      "model_module": "@jupyter-widgets/controls",
      "model_module_version": "1.5.0",
      "model_name": "DescriptionStyleModel",
      "state": {
       "description_width": ""
      }
     },
     "aa33be1bbf984dbc81b67a994045f9a6": {
      "model_module": "@jupyter-widgets/controls",
      "model_module_version": "1.5.0",
      "model_name": "DescriptionStyleModel",
      "state": {
       "description_width": ""
      }
     },
     "aa7db54e67504470aa7c54f1b46716a0": {
      "model_module": "@jupyter-widgets/controls",
      "model_module_version": "1.5.0",
      "model_name": "ProgressStyleModel",
      "state": {
       "description_width": ""
      }
     },
     "aa868f828d4f4133a812721167f5f348": {
      "model_module": "@jupyter-widgets/base",
      "model_module_version": "1.2.0",
      "model_name": "LayoutModel",
      "state": {}
     },
     "aab31c242f3b4e6d96ba5706c25cfaef": {
      "model_module": "@jupyter-widgets/base",
      "model_module_version": "1.2.0",
      "model_name": "LayoutModel",
      "state": {}
     },
     "aae709143dd8440ebc1257a94410960f": {
      "model_module": "@jupyter-widgets/controls",
      "model_module_version": "1.5.0",
      "model_name": "HTMLModel",
      "state": {
       "layout": "IPY_MODEL_0ad3d0cb3f094b7587038a761c93f43e",
       "style": "IPY_MODEL_0da28547fbdb41168261bc8d42667412",
       "value": "MCMC Iteration: 100%"
      }
     },
     "aaf76abf2a9648aea8667e396558c54f": {
      "model_module": "@jupyter-widgets/controls",
      "model_module_version": "1.5.0",
      "model_name": "DescriptionStyleModel",
      "state": {
       "description_width": ""
      }
     },
     "ab06fc2e792249e491899e5d2d029e42": {
      "model_module": "@jupyter-widgets/controls",
      "model_module_version": "1.5.0",
      "model_name": "FloatProgressModel",
      "state": {
       "bar_style": "success",
       "layout": "IPY_MODEL_3129df2f5eae453080c2155e2f01620e",
       "max": 10000,
       "style": "IPY_MODEL_9438cb210afc4c74b23abda8a13c4452",
       "value": 10000
      }
     },
     "ab15b0f630a6450f88a15eb14b13ea69": {
      "model_module": "@jupyter-widgets/base",
      "model_module_version": "1.2.0",
      "model_name": "LayoutModel",
      "state": {}
     },
     "ab25a80622184ab6bc09b114f1507fa5": {
      "model_module": "@jupyter-widgets/base",
      "model_module_version": "1.2.0",
      "model_name": "LayoutModel",
      "state": {}
     },
     "abb7e18a7b1e4c168409df5017fd484c": {
      "model_module": "@jupyter-widgets/controls",
      "model_module_version": "1.5.0",
      "model_name": "HBoxModel",
      "state": {
       "children": [
        "IPY_MODEL_e8e5c5c3a1ac4677b635d2edcfe15d32",
        "IPY_MODEL_bc61c9efa236401caebb647a7fa14843",
        "IPY_MODEL_dacb7b2bb3f44080abb1b2add831fce3"
       ],
       "layout": "IPY_MODEL_3bb0ece8e726445492e2f0ce390302b9"
      }
     },
     "abd12b86911d47ccb91f2bf3aea70b8f": {
      "model_module": "@jupyter-widgets/controls",
      "model_module_version": "1.5.0",
      "model_name": "HTMLModel",
      "state": {
       "layout": "IPY_MODEL_51deec3169054c1193e709b59c1a488e",
       "style": "IPY_MODEL_7ea8332de0bb439cbee463a60e30795e",
       "value": " 10000/10000 [00:18&lt;00:00, 566.52it/s]"
      }
     },
     "abdae6dc7f534ca595260ff8f343344e": {
      "model_module": "@jupyter-widgets/controls",
      "model_module_version": "1.5.0",
      "model_name": "FloatProgressModel",
      "state": {
       "bar_style": "success",
       "layout": "IPY_MODEL_b452938da31b441a894ad7132477e586",
       "max": 10000,
       "style": "IPY_MODEL_68604f9e111249f4a7f79f0c5b30e2c4",
       "value": 10000
      }
     },
     "ac6f39fbb98044d5acd20b0392432ecb": {
      "model_module": "@jupyter-widgets/controls",
      "model_module_version": "1.5.0",
      "model_name": "HTMLModel",
      "state": {
       "layout": "IPY_MODEL_da063e0663fc4612b3b31126eff22ea6",
       "style": "IPY_MODEL_4e4f269d6b464d8ab49e84b9571c1ba2",
       "value": " 10000/10000 [00:15&lt;00:00, 600.53it/s]"
      }
     },
     "aca2dc0a5eb1498e8feda643a7afb89c": {
      "model_module": "@jupyter-widgets/controls",
      "model_module_version": "1.5.0",
      "model_name": "HBoxModel",
      "state": {
       "children": [
        "IPY_MODEL_c531ea0e756346e3a97d97b358882248",
        "IPY_MODEL_45a1be128f0b44879f6bf3308333120e",
        "IPY_MODEL_43eb0c8f3c314f288b0038e0d6effb27"
       ],
       "layout": "IPY_MODEL_f4ff17cbaa1d40148e2672d80e48ba2c"
      }
     },
     "ad161350c3c84744821a99b8bdf0f140": {
      "model_module": "@jupyter-widgets/base",
      "model_module_version": "1.2.0",
      "model_name": "LayoutModel",
      "state": {}
     },
     "ad1787499f5244bc9835088b13c61aa4": {
      "model_module": "@jupyter-widgets/controls",
      "model_module_version": "1.5.0",
      "model_name": "DescriptionStyleModel",
      "state": {
       "description_width": ""
      }
     },
     "ad234524af1646ad9b708ba933cdfed7": {
      "model_module": "@jupyter-widgets/controls",
      "model_module_version": "1.5.0",
      "model_name": "FloatProgressModel",
      "state": {
       "bar_style": "success",
       "layout": "IPY_MODEL_c8ad6171e68442869cdeab4273c9416f",
       "max": 10000,
       "style": "IPY_MODEL_fb78926d98434408aca21d526e9432cf",
       "value": 10000
      }
     },
     "ad2d0cc9e3604b6094f15fbe01281a48": {
      "model_module": "@jupyter-widgets/base",
      "model_module_version": "1.2.0",
      "model_name": "LayoutModel",
      "state": {}
     },
     "ad704de5001549109933dcbd52d3929e": {
      "model_module": "@jupyter-widgets/base",
      "model_module_version": "1.2.0",
      "model_name": "LayoutModel",
      "state": {}
     },
     "ade37ef81d7843139ed9aeb85835bacf": {
      "model_module": "@jupyter-widgets/base",
      "model_module_version": "1.2.0",
      "model_name": "LayoutModel",
      "state": {}
     },
     "ae02fd5c72a94c8bb1891e178c84eea0": {
      "model_module": "@jupyter-widgets/base",
      "model_module_version": "1.2.0",
      "model_name": "LayoutModel",
      "state": {}
     },
     "ae091236e50646ff9e2262e17927d78f": {
      "model_module": "@jupyter-widgets/controls",
      "model_module_version": "1.5.0",
      "model_name": "HBoxModel",
      "state": {
       "children": [
        "IPY_MODEL_67db586f073d4a3db66c83a59b15edbd",
        "IPY_MODEL_e3ff51cf1280491eaf1f2530072d7258",
        "IPY_MODEL_e0cdebc1158b48398b24218cd077b20b"
       ],
       "layout": "IPY_MODEL_aab31c242f3b4e6d96ba5706c25cfaef"
      }
     },
     "ae2248aa51134b7c85932aa18bba698c": {
      "model_module": "@jupyter-widgets/base",
      "model_module_version": "1.2.0",
      "model_name": "LayoutModel",
      "state": {}
     },
     "aec303abd88e4feaa9dcb68747aff743": {
      "model_module": "@jupyter-widgets/controls",
      "model_module_version": "1.5.0",
      "model_name": "ProgressStyleModel",
      "state": {
       "description_width": ""
      }
     },
     "aecf6318bad34b5a852f8eb8dc04c205": {
      "model_module": "@jupyter-widgets/controls",
      "model_module_version": "1.5.0",
      "model_name": "DescriptionStyleModel",
      "state": {
       "description_width": ""
      }
     },
     "aefa529208a24ba3bdf3cd0d53132c68": {
      "model_module": "@jupyter-widgets/controls",
      "model_module_version": "1.5.0",
      "model_name": "DescriptionStyleModel",
      "state": {
       "description_width": ""
      }
     },
     "af1bf15633484d42a3dbb939fc85d1e1": {
      "model_module": "@jupyter-widgets/controls",
      "model_module_version": "1.5.0",
      "model_name": "HTMLModel",
      "state": {
       "layout": "IPY_MODEL_ebeddf4bc418440192786d98039c2053",
       "style": "IPY_MODEL_58fd903ff1864beda6e8af829e3c627e",
       "value": "MCMC Iteration: 100%"
      }
     },
     "af40eef6f46b4806ae2186251d192747": {
      "model_module": "@jupyter-widgets/controls",
      "model_module_version": "1.5.0",
      "model_name": "HBoxModel",
      "state": {
       "children": [
        "IPY_MODEL_5a3281eade1a409faf9bf53ac5d9599c",
        "IPY_MODEL_e78a7a6afcd3420b883f0bbd85c5de14",
        "IPY_MODEL_5adc8eaa384b41b38744202af88ba0e9"
       ],
       "layout": "IPY_MODEL_895b6e2c3eeb4a3a8f68b62f61557ea7"
      }
     },
     "af5f190c0ee64996be61a02bb5a75cd2": {
      "model_module": "@jupyter-widgets/base",
      "model_module_version": "1.2.0",
      "model_name": "LayoutModel",
      "state": {}
     },
     "af6499e010664ba3adf6dc4ff0e15ed1": {
      "model_module": "@jupyter-widgets/controls",
      "model_module_version": "1.5.0",
      "model_name": "DescriptionStyleModel",
      "state": {
       "description_width": ""
      }
     },
     "afd0e2fdf69444eb8cb2a3656de9dfb9": {
      "model_module": "@jupyter-widgets/controls",
      "model_module_version": "1.5.0",
      "model_name": "ProgressStyleModel",
      "state": {
       "description_width": ""
      }
     },
     "afe3a64a422549678d5c5b7f5a73ed9a": {
      "model_module": "@jupyter-widgets/base",
      "model_module_version": "1.2.0",
      "model_name": "LayoutModel",
      "state": {}
     },
     "b00c7ba441df48019b70b38e0ba4b227": {
      "model_module": "@jupyter-widgets/controls",
      "model_module_version": "1.5.0",
      "model_name": "DescriptionStyleModel",
      "state": {
       "description_width": ""
      }
     },
     "b01566c4ff7641109166c0c9be40807d": {
      "model_module": "@jupyter-widgets/controls",
      "model_module_version": "1.5.0",
      "model_name": "ProgressStyleModel",
      "state": {
       "description_width": ""
      }
     },
     "b017640d90eb4dd59d5f668ffdd83fc1": {
      "model_module": "@jupyter-widgets/controls",
      "model_module_version": "1.5.0",
      "model_name": "DescriptionStyleModel",
      "state": {
       "description_width": ""
      }
     },
     "b047c1ceff294e569899cb8de2a29a48": {
      "model_module": "@jupyter-widgets/base",
      "model_module_version": "1.2.0",
      "model_name": "LayoutModel",
      "state": {}
     },
     "b0ae39bebdee408196f22c5f683eeda3": {
      "model_module": "@jupyter-widgets/base",
      "model_module_version": "1.2.0",
      "model_name": "LayoutModel",
      "state": {}
     },
     "b0bc901588a043fcbc1973d5bdc4e030": {
      "model_module": "@jupyter-widgets/controls",
      "model_module_version": "1.5.0",
      "model_name": "HTMLModel",
      "state": {
       "layout": "IPY_MODEL_867a631b1fd34124841c841d27a1764e",
       "style": "IPY_MODEL_84ace4e5827049f79eea54f514f20b0a",
       "value": "MCMC Iteration: 100%"
      }
     },
     "b0dae38c74664f58a8b1c33e69b8007b": {
      "model_module": "@jupyter-widgets/controls",
      "model_module_version": "1.5.0",
      "model_name": "DescriptionStyleModel",
      "state": {
       "description_width": ""
      }
     },
     "b1728a1ac0ca4220a31c30e3f5da9296": {
      "model_module": "@jupyter-widgets/controls",
      "model_module_version": "1.5.0",
      "model_name": "HTMLModel",
      "state": {
       "layout": "IPY_MODEL_8850fc3bc2214f6b9adfe00aed0752d9",
       "style": "IPY_MODEL_0381b9982a0c48ff9d4c4bd34ba48e9a",
       "value": "MCMC Iteration: 100%"
      }
     },
     "b1c8a58aa3ab4d84a8d65b6216c2e54a": {
      "model_module": "@jupyter-widgets/controls",
      "model_module_version": "1.5.0",
      "model_name": "FloatProgressModel",
      "state": {
       "bar_style": "success",
       "layout": "IPY_MODEL_b5af1bd7fdae40ecbdcbc53b367614a1",
       "max": 10000,
       "style": "IPY_MODEL_190b13a4a7b049e69c856ca35d9cf5fa",
       "value": 10000
      }
     },
     "b1f2ed060c1545f18142124116de402b": {
      "model_module": "@jupyter-widgets/controls",
      "model_module_version": "1.5.0",
      "model_name": "HTMLModel",
      "state": {
       "layout": "IPY_MODEL_77b602b839fb467faff6d294cbc94ec9",
       "style": "IPY_MODEL_66e28d2ab6a64ce297e163987e5236fd",
       "value": "MCMC Iteration: 100%"
      }
     },
     "b200d907153149d386f347b5a4321bd0": {
      "model_module": "@jupyter-widgets/base",
      "model_module_version": "1.2.0",
      "model_name": "LayoutModel",
      "state": {}
     },
     "b2665dc75b09484cb97b626d9d539ddb": {
      "model_module": "@jupyter-widgets/base",
      "model_module_version": "1.2.0",
      "model_name": "LayoutModel",
      "state": {}
     },
     "b28d916ebd0d413eb6b6b37a16cd11d6": {
      "model_module": "@jupyter-widgets/controls",
      "model_module_version": "1.5.0",
      "model_name": "ProgressStyleModel",
      "state": {
       "description_width": ""
      }
     },
     "b29b298c62074265ad5acf5c295ce16c": {
      "model_module": "@jupyter-widgets/controls",
      "model_module_version": "1.5.0",
      "model_name": "DescriptionStyleModel",
      "state": {
       "description_width": ""
      }
     },
     "b2a17a59352944e89266f7956e3c9ed9": {
      "model_module": "@jupyter-widgets/controls",
      "model_module_version": "1.5.0",
      "model_name": "HTMLModel",
      "state": {
       "layout": "IPY_MODEL_2447b91bd85648c39cf812e7559ebcb5",
       "style": "IPY_MODEL_68bfefc6d14e474daf4f0ad0c0dbba03",
       "value": "MCMC Iteration: 100%"
      }
     },
     "b2a3534b663f4062822020b52b71976e": {
      "model_module": "@jupyter-widgets/controls",
      "model_module_version": "1.5.0",
      "model_name": "HBoxModel",
      "state": {
       "children": [
        "IPY_MODEL_6fcd2073875f41ad8a12e5d725c65065",
        "IPY_MODEL_d26c08f92aea4a3d91ce7f4f21125275",
        "IPY_MODEL_a34e685b226f46fb98b31c8f0c9c266c"
       ],
       "layout": "IPY_MODEL_9d935925feb3434f9f2ada55284cdb26"
      }
     },
     "b2c99db7a5864d7787c4cd0ab2eb1e1c": {
      "model_module": "@jupyter-widgets/controls",
      "model_module_version": "1.5.0",
      "model_name": "HTMLModel",
      "state": {
       "layout": "IPY_MODEL_2650ab19f48c4216a23c31ae00be0c6e",
       "style": "IPY_MODEL_77b7690fa5ce4005bd4ffc33b845d29c",
       "value": "MCMC Iteration: 100%"
      }
     },
     "b3d4d8f46a2d4d60ac8307e1e91a7964": {
      "model_module": "@jupyter-widgets/controls",
      "model_module_version": "1.5.0",
      "model_name": "HTMLModel",
      "state": {
       "layout": "IPY_MODEL_643cdd34c3594e67bc1dc9f949e798ad",
       "style": "IPY_MODEL_2dacfa52f9674c5b965381f2ebc5df2a",
       "value": "MCMC Iteration: 100%"
      }
     },
     "b4247f1e7c264f17be3d3879f65241d4": {
      "model_module": "@jupyter-widgets/controls",
      "model_module_version": "1.5.0",
      "model_name": "HBoxModel",
      "state": {
       "children": [
        "IPY_MODEL_e07adfc5b5b449ad83d2d81ab019ce14",
        "IPY_MODEL_5160aef8325d4d7aa8a60d3d19737f02",
        "IPY_MODEL_cd668ee6af724197b4e4fbfcad7427af"
       ],
       "layout": "IPY_MODEL_ee149dd74a4740b89c62dcc0d4082eb5"
      }
     },
     "b424c52b3fa1448ea13a5966887ff9fe": {
      "model_module": "@jupyter-widgets/controls",
      "model_module_version": "1.5.0",
      "model_name": "HBoxModel",
      "state": {
       "children": [
        "IPY_MODEL_1156665bec714f2e9b7a3dd275d9daee",
        "IPY_MODEL_952cef00d7f940b5a1288d1ed0d800ea",
        "IPY_MODEL_a2f8e3ced9754498aa6f3e839d577456"
       ],
       "layout": "IPY_MODEL_be008ab8add843f38b39fae0086439c7"
      }
     },
     "b4494de14623458e97d5e241a1d25737": {
      "model_module": "@jupyter-widgets/base",
      "model_module_version": "1.2.0",
      "model_name": "LayoutModel",
      "state": {}
     },
     "b452938da31b441a894ad7132477e586": {
      "model_module": "@jupyter-widgets/base",
      "model_module_version": "1.2.0",
      "model_name": "LayoutModel",
      "state": {}
     },
     "b4d96ce6c109425b9952d3f167f39848": {
      "model_module": "@jupyter-widgets/controls",
      "model_module_version": "1.5.0",
      "model_name": "HTMLModel",
      "state": {
       "layout": "IPY_MODEL_8fde36b3c2914bd5982312150b14da6c",
       "style": "IPY_MODEL_d980209da12d466d971b2af7ed92ad42",
       "value": "MCMC Iteration: 100%"
      }
     },
     "b525015a3b32444f85acf4080e4fc0d8": {
      "model_module": "@jupyter-widgets/controls",
      "model_module_version": "1.5.0",
      "model_name": "HBoxModel",
      "state": {
       "children": [
        "IPY_MODEL_ee1dfa9459914eccb6ad76f75e5b0c17",
        "IPY_MODEL_c0c0b1fa78b84d7cb2ddd5eea49a448a",
        "IPY_MODEL_1842de4fac884303b15723b9f4d62868"
       ],
       "layout": "IPY_MODEL_933037ecfd4f4aa9ae783637d8efb652"
      }
     },
     "b5af1bd7fdae40ecbdcbc53b367614a1": {
      "model_module": "@jupyter-widgets/base",
      "model_module_version": "1.2.0",
      "model_name": "LayoutModel",
      "state": {}
     },
     "b5b6cd5dbf2849c4ab168ba31ff82c93": {
      "model_module": "@jupyter-widgets/base",
      "model_module_version": "1.2.0",
      "model_name": "LayoutModel",
      "state": {}
     },
     "b5d3f0f65b0b4543a719c7df2eb0207e": {
      "model_module": "@jupyter-widgets/base",
      "model_module_version": "1.2.0",
      "model_name": "LayoutModel",
      "state": {}
     },
     "b5d6ad257ab548af903fff558a3f9ef6": {
      "model_module": "@jupyter-widgets/controls",
      "model_module_version": "1.5.0",
      "model_name": "DescriptionStyleModel",
      "state": {
       "description_width": ""
      }
     },
     "b5facb468ce146c58f0e79461e015261": {
      "model_module": "@jupyter-widgets/controls",
      "model_module_version": "1.5.0",
      "model_name": "DescriptionStyleModel",
      "state": {
       "description_width": ""
      }
     },
     "b605bb5239f443c5ae24801bbd452912": {
      "model_module": "@jupyter-widgets/base",
      "model_module_version": "1.2.0",
      "model_name": "LayoutModel",
      "state": {}
     },
     "b63ca1fda07840a2a7a638dddee8f5a8": {
      "model_module": "@jupyter-widgets/controls",
      "model_module_version": "1.5.0",
      "model_name": "DescriptionStyleModel",
      "state": {
       "description_width": ""
      }
     },
     "b64fdf5c958f48828a75d0ad46e672e2": {
      "model_module": "@jupyter-widgets/base",
      "model_module_version": "1.2.0",
      "model_name": "LayoutModel",
      "state": {}
     },
     "b66331e39d614f1e9a755cf944e6967b": {
      "model_module": "@jupyter-widgets/controls",
      "model_module_version": "1.5.0",
      "model_name": "HTMLModel",
      "state": {
       "layout": "IPY_MODEL_14620aaae29348f6816131ffbea3bcfe",
       "style": "IPY_MODEL_b5d6ad257ab548af903fff558a3f9ef6",
       "value": "MCMC Iteration: 100%"
      }
     },
     "b68f1fc5e0ec4a50b14ef59aac9fef7c": {
      "model_module": "@jupyter-widgets/controls",
      "model_module_version": "1.5.0",
      "model_name": "DescriptionStyleModel",
      "state": {
       "description_width": ""
      }
     },
     "b6e1c6cf534948b284bfb9ab3296d834": {
      "model_module": "@jupyter-widgets/controls",
      "model_module_version": "1.5.0",
      "model_name": "DescriptionStyleModel",
      "state": {
       "description_width": ""
      }
     },
     "b6e394060a8b43e6aaab63bbfa7be746": {
      "model_module": "@jupyter-widgets/controls",
      "model_module_version": "1.5.0",
      "model_name": "FloatProgressModel",
      "state": {
       "bar_style": "success",
       "layout": "IPY_MODEL_5f15f131694f4620865757b0259d7d72",
       "max": 10000,
       "style": "IPY_MODEL_f64ca9154419421f916a41ba126bc700",
       "value": 10000
      }
     },
     "b76ee97c731844d1a284583b751fd3f6": {
      "model_module": "@jupyter-widgets/base",
      "model_module_version": "1.2.0",
      "model_name": "LayoutModel",
      "state": {}
     },
     "b778bf5e25764eeab48a5bd9da665563": {
      "model_module": "@jupyter-widgets/controls",
      "model_module_version": "1.5.0",
      "model_name": "HBoxModel",
      "state": {
       "children": [
        "IPY_MODEL_b4d96ce6c109425b9952d3f167f39848",
        "IPY_MODEL_6d310459bc6a4f53b2e098d75e5f8dfb",
        "IPY_MODEL_8c9fa27886e14881ac2b9056255500b4"
       ],
       "layout": "IPY_MODEL_1e5562f7071248e4b06810378a764d46"
      }
     },
     "b7de6d3ad61242f0b6cf07aa5e396bc6": {
      "model_module": "@jupyter-widgets/base",
      "model_module_version": "1.2.0",
      "model_name": "LayoutModel",
      "state": {}
     },
     "b806c07abee042ddb0eeb85fea1900fd": {
      "model_module": "@jupyter-widgets/controls",
      "model_module_version": "1.5.0",
      "model_name": "FloatProgressModel",
      "state": {
       "bar_style": "success",
       "layout": "IPY_MODEL_a514c168de1448eeadccea8fec00d21f",
       "max": 10000,
       "style": "IPY_MODEL_ce26878725e145b497590950b8ded44f",
       "value": 10000
      }
     },
     "b83cc3f8c0824fa2bcae08aed9560a60": {
      "model_module": "@jupyter-widgets/controls",
      "model_module_version": "1.5.0",
      "model_name": "HTMLModel",
      "state": {
       "layout": "IPY_MODEL_f31bb6fa7cb342abb1c5d6e4f955b2a5",
       "style": "IPY_MODEL_dc20dd1922b84ec59e0864a58f5adc02",
       "value": "MCMC Iteration: 100%"
      }
     },
     "b857acdee709477d8bebcdcbd4919883": {
      "model_module": "@jupyter-widgets/controls",
      "model_module_version": "1.5.0",
      "model_name": "DescriptionStyleModel",
      "state": {
       "description_width": ""
      }
     },
     "b86664ddf9f74f13a24f355339d3766c": {
      "model_module": "@jupyter-widgets/base",
      "model_module_version": "1.2.0",
      "model_name": "LayoutModel",
      "state": {}
     },
     "b894f2557e1943d7b9fd7a202b89960e": {
      "model_module": "@jupyter-widgets/controls",
      "model_module_version": "1.5.0",
      "model_name": "DescriptionStyleModel",
      "state": {
       "description_width": ""
      }
     },
     "b899b487d5e54f17909d99510c7912f2": {
      "model_module": "@jupyter-widgets/controls",
      "model_module_version": "1.5.0",
      "model_name": "HTMLModel",
      "state": {
       "layout": "IPY_MODEL_b5b6cd5dbf2849c4ab168ba31ff82c93",
       "style": "IPY_MODEL_17d9e60e1668428d817fb199dd2ae18b",
       "value": "MCMC Iteration: 100%"
      }
     },
     "b8a44e3cf7aa472aabdb2ed7481e2d09": {
      "model_module": "@jupyter-widgets/controls",
      "model_module_version": "1.5.0",
      "model_name": "ProgressStyleModel",
      "state": {
       "description_width": ""
      }
     },
     "b8b12f434bd34cd9aa38af6b9a33d776": {
      "model_module": "@jupyter-widgets/base",
      "model_module_version": "1.2.0",
      "model_name": "LayoutModel",
      "state": {}
     },
     "b8cbdd6ac41343349baeeade8aa201fd": {
      "model_module": "@jupyter-widgets/base",
      "model_module_version": "1.2.0",
      "model_name": "LayoutModel",
      "state": {}
     },
     "b90b212b4d8847bd9cfcfb8c75e6bd36": {
      "model_module": "@jupyter-widgets/controls",
      "model_module_version": "1.5.0",
      "model_name": "DescriptionStyleModel",
      "state": {
       "description_width": ""
      }
     },
     "b92ab9ce80ad41df9a7c5c15ecf92c21": {
      "model_module": "@jupyter-widgets/controls",
      "model_module_version": "1.5.0",
      "model_name": "DescriptionStyleModel",
      "state": {
       "description_width": ""
      }
     },
     "b93702c0ce534f558d2500e2a6156781": {
      "model_module": "@jupyter-widgets/controls",
      "model_module_version": "1.5.0",
      "model_name": "HTMLModel",
      "state": {
       "layout": "IPY_MODEL_17c7396510394464adec2497226dafea",
       "style": "IPY_MODEL_c49aa9e682074906ac3719235bb71223",
       "value": "MCMC Iteration: 100%"
      }
     },
     "b9a2705d973841e897200c85a3911144": {
      "model_module": "@jupyter-widgets/controls",
      "model_module_version": "1.5.0",
      "model_name": "HBoxModel",
      "state": {
       "children": [
        "IPY_MODEL_b3d4d8f46a2d4d60ac8307e1e91a7964",
        "IPY_MODEL_9c5156d61bc441ff9a1de7f1ca9473c9",
        "IPY_MODEL_54b4090c36aa4b23af31ea024090e02a"
       ],
       "layout": "IPY_MODEL_3aaecb3c6c7844b2ad3915a301ab31fb"
      }
     },
     "b9b270261c444535af96c801bc864cd6": {
      "model_module": "@jupyter-widgets/controls",
      "model_module_version": "1.5.0",
      "model_name": "DescriptionStyleModel",
      "state": {
       "description_width": ""
      }
     },
     "b9b3991aa7ef4a879cd95fc01b39f543": {
      "model_module": "@jupyter-widgets/controls",
      "model_module_version": "1.5.0",
      "model_name": "DescriptionStyleModel",
      "state": {
       "description_width": ""
      }
     },
     "b9dd0c506abd4309b44e51aa6aa8bba8": {
      "model_module": "@jupyter-widgets/controls",
      "model_module_version": "1.5.0",
      "model_name": "FloatProgressModel",
      "state": {
       "bar_style": "success",
       "layout": "IPY_MODEL_f42009e163174f83a658ba6dcc0412e0",
       "max": 10000,
       "style": "IPY_MODEL_a4db7a61ce394e17a8cadeefc180c905",
       "value": 10000
      }
     },
     "b9fca53297b74faf8a34c86e4880f679": {
      "model_module": "@jupyter-widgets/controls",
      "model_module_version": "1.5.0",
      "model_name": "HBoxModel",
      "state": {
       "children": [
        "IPY_MODEL_1eca22761be6449ab7630581f377bb5b",
        "IPY_MODEL_566045d9b2474716a0183d4a2ce2bce4",
        "IPY_MODEL_f834743f127548b4a5a8f7aae3067dec"
       ],
       "layout": "IPY_MODEL_922c34d81e2c40edb2b0c19e3b644e2e"
      }
     },
     "ba17ff9502694001ac054c2b8e1252ab": {
      "model_module": "@jupyter-widgets/controls",
      "model_module_version": "1.5.0",
      "model_name": "ProgressStyleModel",
      "state": {
       "description_width": ""
      }
     },
     "ba40db7c6bc646c29893c1f62865648e": {
      "model_module": "@jupyter-widgets/controls",
      "model_module_version": "1.5.0",
      "model_name": "HBoxModel",
      "state": {
       "children": [
        "IPY_MODEL_30e2d5facd2e454fa9b20ca9e210bed5",
        "IPY_MODEL_f486f7c4aca54d898fa3b71abfeeb617",
        "IPY_MODEL_bbf32fa515b74194b4c4c0d5830600f0"
       ],
       "layout": "IPY_MODEL_5a191ada3d204b959fd7381d9bca1a03"
      }
     },
     "ba4c1aa520c543628f99d23fb4ab2c0a": {
      "model_module": "@jupyter-widgets/base",
      "model_module_version": "1.2.0",
      "model_name": "LayoutModel",
      "state": {}
     },
     "ba8a1e7268b24377a72c2a9006315e1c": {
      "model_module": "@jupyter-widgets/controls",
      "model_module_version": "1.5.0",
      "model_name": "DescriptionStyleModel",
      "state": {
       "description_width": ""
      }
     },
     "ba91591c016145d791d5f06280bc0e2a": {
      "model_module": "@jupyter-widgets/base",
      "model_module_version": "1.2.0",
      "model_name": "LayoutModel",
      "state": {}
     },
     "bac4afba39b54f3fa06818da78952ab4": {
      "model_module": "@jupyter-widgets/base",
      "model_module_version": "1.2.0",
      "model_name": "LayoutModel",
      "state": {}
     },
     "baf9ed3436624579a56752a4cef2f52b": {
      "model_module": "@jupyter-widgets/base",
      "model_module_version": "1.2.0",
      "model_name": "LayoutModel",
      "state": {}
     },
     "bb016256a35b440ba3b04a91f597452f": {
      "model_module": "@jupyter-widgets/controls",
      "model_module_version": "1.5.0",
      "model_name": "FloatProgressModel",
      "state": {
       "bar_style": "danger",
       "layout": "IPY_MODEL_cb5d109447b94930b96b2dd79e405b0f",
       "max": 10000,
       "style": "IPY_MODEL_3548aea75161413b89fd368b7b21da33",
       "value": 8663
      }
     },
     "bb9587bd0b044310a151707ee8743e87": {
      "model_module": "@jupyter-widgets/controls",
      "model_module_version": "1.5.0",
      "model_name": "HTMLModel",
      "state": {
       "layout": "IPY_MODEL_6b6521e8b8154d2c8c9926f8e1bebf22",
       "style": "IPY_MODEL_f38a871f14084e47ab7ecc4a52ddd101",
       "value": "MCMC Iteration: 100%"
      }
     },
     "bbb39e58c43e483aa9e07f5aa51b48f2": {
      "model_module": "@jupyter-widgets/base",
      "model_module_version": "1.2.0",
      "model_name": "LayoutModel",
      "state": {}
     },
     "bbdbbdcc74094b8b80871d4d1d3890cc": {
      "model_module": "@jupyter-widgets/base",
      "model_module_version": "1.2.0",
      "model_name": "LayoutModel",
      "state": {}
     },
     "bbf32fa515b74194b4c4c0d5830600f0": {
      "model_module": "@jupyter-widgets/controls",
      "model_module_version": "1.5.0",
      "model_name": "HTMLModel",
      "state": {
       "layout": "IPY_MODEL_def3795d222f45efa40d310cb27a31f2",
       "style": "IPY_MODEL_4e2510c8dfb1493fabfc9100163b0900",
       "value": " 10000/10000 [00:08&lt;00:00, 1117.17it/s]"
      }
     },
     "bc61c9efa236401caebb647a7fa14843": {
      "model_module": "@jupyter-widgets/controls",
      "model_module_version": "1.5.0",
      "model_name": "FloatProgressModel",
      "state": {
       "bar_style": "success",
       "layout": "IPY_MODEL_506569f33fe44e91b6ac8fefabb4dfc7",
       "max": 10000,
       "style": "IPY_MODEL_e83311abbeae4c15a2575b99fd74eb05",
       "value": 10000
      }
     },
     "bc78d1b47da14d4f8df797adda9cf88c": {
      "model_module": "@jupyter-widgets/base",
      "model_module_version": "1.2.0",
      "model_name": "LayoutModel",
      "state": {}
     },
     "bc8274c90ae844c884aacacf86a85417": {
      "model_module": "@jupyter-widgets/controls",
      "model_module_version": "1.5.0",
      "model_name": "ProgressStyleModel",
      "state": {
       "description_width": ""
      }
     },
     "bc96f8a207624902a90951eea78b6bd9": {
      "model_module": "@jupyter-widgets/base",
      "model_module_version": "1.2.0",
      "model_name": "LayoutModel",
      "state": {}
     },
     "bc9810488d604232ac1b5d048062a560": {
      "model_module": "@jupyter-widgets/controls",
      "model_module_version": "1.5.0",
      "model_name": "FloatProgressModel",
      "state": {
       "bar_style": "success",
       "layout": "IPY_MODEL_317807a1c09046cf88ba45f8c250e5a5",
       "max": 10000,
       "style": "IPY_MODEL_dfc8acf55cbf493c8485162a0b4d8600",
       "value": 10000
      }
     },
     "bcdce9407cf745b1b0aaa022210d66df": {
      "model_module": "@jupyter-widgets/base",
      "model_module_version": "1.2.0",
      "model_name": "LayoutModel",
      "state": {}
     },
     "bce1a5f307c645bc95a957f367615c4c": {
      "model_module": "@jupyter-widgets/controls",
      "model_module_version": "1.5.0",
      "model_name": "FloatProgressModel",
      "state": {
       "bar_style": "success",
       "layout": "IPY_MODEL_7e5aa57235474d14a345c0fdb9d753b4",
       "max": 10000,
       "style": "IPY_MODEL_e7c875343ab64617a333c2bc9b1b9970",
       "value": 10000
      }
     },
     "bcf112806ec94fac9c7f856c5bd6475a": {
      "model_module": "@jupyter-widgets/controls",
      "model_module_version": "1.5.0",
      "model_name": "DescriptionStyleModel",
      "state": {
       "description_width": ""
      }
     },
     "bd4b918e262a41bcacdde1f32dcf2499": {
      "model_module": "@jupyter-widgets/controls",
      "model_module_version": "1.5.0",
      "model_name": "DescriptionStyleModel",
      "state": {
       "description_width": ""
      }
     },
     "bd580a33e12a4f2991448525eab95aa3": {
      "model_module": "@jupyter-widgets/base",
      "model_module_version": "1.2.0",
      "model_name": "LayoutModel",
      "state": {}
     },
     "be008ab8add843f38b39fae0086439c7": {
      "model_module": "@jupyter-widgets/base",
      "model_module_version": "1.2.0",
      "model_name": "LayoutModel",
      "state": {}
     },
     "be06bbedfb904eacb8dfee19618930fd": {
      "model_module": "@jupyter-widgets/controls",
      "model_module_version": "1.5.0",
      "model_name": "HBoxModel",
      "state": {
       "children": [
        "IPY_MODEL_ea164010dd6446bd9d8450200f6d04aa",
        "IPY_MODEL_c24f3faae60848c1a323c9a21034c76b",
        "IPY_MODEL_1006b8e2e36d4c828b1cfb9809de661c"
       ],
       "layout": "IPY_MODEL_1bad87bea6b54abba66f841e693719ee"
      }
     },
     "be46db478a5d4066ad210b8fa39dbc1a": {
      "model_module": "@jupyter-widgets/base",
      "model_module_version": "1.2.0",
      "model_name": "LayoutModel",
      "state": {}
     },
     "be5b146037de4f37b872c5e3d6ab9c68": {
      "model_module": "@jupyter-widgets/controls",
      "model_module_version": "1.5.0",
      "model_name": "HTMLModel",
      "state": {
       "layout": "IPY_MODEL_a8154b7d50014d219bb8958ee3705ea3",
       "style": "IPY_MODEL_1eddedd2d89b492a85d31f9c7d220c97",
       "value": " 10000/10000 [00:07&lt;00:00, 1337.17it/s]"
      }
     },
     "be84401ac75745a8867e8f6ca8e9779d": {
      "model_module": "@jupyter-widgets/controls",
      "model_module_version": "1.5.0",
      "model_name": "HBoxModel",
      "state": {
       "children": [
        "IPY_MODEL_983877bdadac4a5f834097d57d2a32b9",
        "IPY_MODEL_207233594ffa45baaf3087a0478a7eea",
        "IPY_MODEL_8577c614ad3c4d0fabcbe14b0556cfb0"
       ],
       "layout": "IPY_MODEL_4b9f925f05084a978a10ad01b892b787"
      }
     },
     "be8a036622c246568a3a476dc9718c55": {
      "model_module": "@jupyter-widgets/controls",
      "model_module_version": "1.5.0",
      "model_name": "ProgressStyleModel",
      "state": {
       "description_width": ""
      }
     },
     "be9648e2542c4b0891ab7ece89a746dd": {
      "model_module": "@jupyter-widgets/controls",
      "model_module_version": "1.5.0",
      "model_name": "ProgressStyleModel",
      "state": {
       "description_width": ""
      }
     },
     "be9bf39f922e47e8b61120276d27e9e6": {
      "model_module": "@jupyter-widgets/controls",
      "model_module_version": "1.5.0",
      "model_name": "HTMLModel",
      "state": {
       "layout": "IPY_MODEL_96d01cd5f8994a5988c3b23b65f6ebb1",
       "style": "IPY_MODEL_74524c9172994289b9e45d109f66762a",
       "value": "MCMC Iteration: 100%"
      }
     },
     "beadb1a94523494c92117bd52eb3def8": {
      "model_module": "@jupyter-widgets/base",
      "model_module_version": "1.2.0",
      "model_name": "LayoutModel",
      "state": {}
     },
     "beb16d68bd194640be3a07c836335fde": {
      "model_module": "@jupyter-widgets/controls",
      "model_module_version": "1.5.0",
      "model_name": "DescriptionStyleModel",
      "state": {
       "description_width": ""
      }
     },
     "becef7aa0b004f8eaa92c891c46a3a9f": {
      "model_module": "@jupyter-widgets/controls",
      "model_module_version": "1.5.0",
      "model_name": "HBoxModel",
      "state": {
       "children": [
        "IPY_MODEL_cc06723af1ea4f44bf772d2e127b994d",
        "IPY_MODEL_64639cfafa8b4ab1bc37f74e7383cb65",
        "IPY_MODEL_cc2bef1e68de4b60b2513a4f77d99aea"
       ],
       "layout": "IPY_MODEL_2dacf4cecce64d59bbd6390388939db6"
      }
     },
     "bed93642621c40419db92810c87cd797": {
      "model_module": "@jupyter-widgets/controls",
      "model_module_version": "1.5.0",
      "model_name": "HBoxModel",
      "state": {
       "children": [
        "IPY_MODEL_e987562902994d1eb7416ffa97545e82",
        "IPY_MODEL_6ca701c95d51414b8ae397a94abac03b",
        "IPY_MODEL_d21a5fd5b1ae45be866c80c518456bd5"
       ],
       "layout": "IPY_MODEL_ad2d0cc9e3604b6094f15fbe01281a48"
      }
     },
     "bf07594b47ca40f0a5593d5daa52acc4": {
      "model_module": "@jupyter-widgets/controls",
      "model_module_version": "1.5.0",
      "model_name": "DescriptionStyleModel",
      "state": {
       "description_width": ""
      }
     },
     "bf0a875df7da4257becf4383d1391664": {
      "model_module": "@jupyter-widgets/controls",
      "model_module_version": "1.5.0",
      "model_name": "HBoxModel",
      "state": {
       "children": [
        "IPY_MODEL_a2d1859aad334295a71777de6d60356a",
        "IPY_MODEL_c355f7ae01384d87887ca04e797ddebc",
        "IPY_MODEL_750de3e4382d49e4b2dfd7f93f8c498a"
       ],
       "layout": "IPY_MODEL_351c52a329864faabcd46d778e3b19ef"
      }
     },
     "bf24c20bdfb7454ea615a50b9a1b2316": {
      "model_module": "@jupyter-widgets/controls",
      "model_module_version": "1.5.0",
      "model_name": "FloatProgressModel",
      "state": {
       "bar_style": "success",
       "layout": "IPY_MODEL_e31c649ac5024ca6b5b97608207026cf",
       "max": 10000,
       "style": "IPY_MODEL_26b4674731c44ee99069477669857a20",
       "value": 10000
      }
     },
     "bfb348951928448f8ce38cfb20963bbc": {
      "model_module": "@jupyter-widgets/controls",
      "model_module_version": "1.5.0",
      "model_name": "HTMLModel",
      "state": {
       "layout": "IPY_MODEL_7a9f4a67e8ce4bbca2cba3264b8c190a",
       "style": "IPY_MODEL_8a5d1ea027894c7eb1d492fcd17b1cd8",
       "value": "MCMC Iteration: 100%"
      }
     },
     "c067f8e6d25c4f9dbc4daaaee7877ddc": {
      "model_module": "@jupyter-widgets/controls",
      "model_module_version": "1.5.0",
      "model_name": "HTMLModel",
      "state": {
       "layout": "IPY_MODEL_7e9edc9fb59f436eafbc3c521605225b",
       "style": "IPY_MODEL_aecf6318bad34b5a852f8eb8dc04c205",
       "value": " 10000/10000 [00:14&lt;00:00, 665.61it/s]"
      }
     },
     "c089814cc54948048c33739c5800ffc3": {
      "model_module": "@jupyter-widgets/base",
      "model_module_version": "1.2.0",
      "model_name": "LayoutModel",
      "state": {}
     },
     "c0b7b35252694227bfc2d61fb60b2b6e": {
      "model_module": "@jupyter-widgets/controls",
      "model_module_version": "1.5.0",
      "model_name": "ProgressStyleModel",
      "state": {
       "description_width": ""
      }
     },
     "c0c0b1fa78b84d7cb2ddd5eea49a448a": {
      "model_module": "@jupyter-widgets/controls",
      "model_module_version": "1.5.0",
      "model_name": "FloatProgressModel",
      "state": {
       "bar_style": "success",
       "layout": "IPY_MODEL_23c0861779254be495ed7e7b49a4eb0c",
       "max": 10000,
       "style": "IPY_MODEL_1c8fb47a4858409c861cab5c46e5dd99",
       "value": 10000
      }
     },
     "c138dfabffbd454a9275f000d04454ec": {
      "model_module": "@jupyter-widgets/base",
      "model_module_version": "1.2.0",
      "model_name": "LayoutModel",
      "state": {}
     },
     "c178b97775994de3b832869e3d31e5b2": {
      "model_module": "@jupyter-widgets/controls",
      "model_module_version": "1.5.0",
      "model_name": "ProgressStyleModel",
      "state": {
       "description_width": ""
      }
     },
     "c17d2d159e5448f189a60f5b510214eb": {
      "model_module": "@jupyter-widgets/base",
      "model_module_version": "1.2.0",
      "model_name": "LayoutModel",
      "state": {}
     },
     "c194002c2982439094618767745e499f": {
      "model_module": "@jupyter-widgets/controls",
      "model_module_version": "1.5.0",
      "model_name": "HTMLModel",
      "state": {
       "layout": "IPY_MODEL_5cf5a279e51041b8a7743a825c5f4b80",
       "style": "IPY_MODEL_a5ea0075a41c4339acce8437fddea8cb",
       "value": "MCMC Iteration: 100%"
      }
     },
     "c194cef23eef4746ba906194b5942870": {
      "model_module": "@jupyter-widgets/base",
      "model_module_version": "1.2.0",
      "model_name": "LayoutModel",
      "state": {}
     },
     "c1ac0385e9cf4629a7af3a7efffe3801": {
      "model_module": "@jupyter-widgets/controls",
      "model_module_version": "1.5.0",
      "model_name": "HTMLModel",
      "state": {
       "layout": "IPY_MODEL_765e83a084c94c908f96b56c4964b987",
       "style": "IPY_MODEL_a01c646716d148dd87567944ea5dd47d",
       "value": "MCMC Iteration: 100%"
      }
     },
     "c1c2c5d16686413d870a84d2ccbd25b8": {
      "model_module": "@jupyter-widgets/controls",
      "model_module_version": "1.5.0",
      "model_name": "ProgressStyleModel",
      "state": {
       "description_width": ""
      }
     },
     "c24f3faae60848c1a323c9a21034c76b": {
      "model_module": "@jupyter-widgets/controls",
      "model_module_version": "1.5.0",
      "model_name": "FloatProgressModel",
      "state": {
       "bar_style": "success",
       "layout": "IPY_MODEL_50af6361f61c45b7b65f09edcc586c67",
       "max": 10000,
       "style": "IPY_MODEL_5d64ab3594fb4293bfc9b87fef3ad3a4",
       "value": 10000
      }
     },
     "c283578099e0493fbb248d0c9f573eef": {
      "model_module": "@jupyter-widgets/controls",
      "model_module_version": "1.5.0",
      "model_name": "DescriptionStyleModel",
      "state": {
       "description_width": ""
      }
     },
     "c2970907485e496fa0c464528b33f026": {
      "model_module": "@jupyter-widgets/base",
      "model_module_version": "1.2.0",
      "model_name": "LayoutModel",
      "state": {}
     },
     "c2a672b06a9f4d29b2d70c7ab1d13414": {
      "model_module": "@jupyter-widgets/controls",
      "model_module_version": "1.5.0",
      "model_name": "ProgressStyleModel",
      "state": {
       "description_width": ""
      }
     },
     "c2ae39e006cb476ab18810bdeaf9bfaf": {
      "model_module": "@jupyter-widgets/base",
      "model_module_version": "1.2.0",
      "model_name": "LayoutModel",
      "state": {}
     },
     "c355f7ae01384d87887ca04e797ddebc": {
      "model_module": "@jupyter-widgets/controls",
      "model_module_version": "1.5.0",
      "model_name": "FloatProgressModel",
      "state": {
       "bar_style": "success",
       "layout": "IPY_MODEL_d7affb27d1ec462bb9c5e77cf62e385e",
       "max": 10000,
       "style": "IPY_MODEL_69aba67883664fb1a9440371d1aa0c59",
       "value": 10000
      }
     },
     "c35f0fe9d4114d22ab55df24b3c58f97": {
      "model_module": "@jupyter-widgets/base",
      "model_module_version": "1.2.0",
      "model_name": "LayoutModel",
      "state": {}
     },
     "c3d16e831210417783c2de4ff664e60d": {
      "model_module": "@jupyter-widgets/base",
      "model_module_version": "1.2.0",
      "model_name": "LayoutModel",
      "state": {}
     },
     "c3e017c6922f417bbb78f5ef72149aab": {
      "model_module": "@jupyter-widgets/controls",
      "model_module_version": "1.5.0",
      "model_name": "FloatProgressModel",
      "state": {
       "bar_style": "success",
       "layout": "IPY_MODEL_b605bb5239f443c5ae24801bbd452912",
       "max": 10000,
       "style": "IPY_MODEL_afd0e2fdf69444eb8cb2a3656de9dfb9",
       "value": 10000
      }
     },
     "c3f397910b7d48f8a52a0484151ad4b8": {
      "model_module": "@jupyter-widgets/controls",
      "model_module_version": "1.5.0",
      "model_name": "HTMLModel",
      "state": {
       "layout": "IPY_MODEL_35dca6a5f5704258aa4f394237382826",
       "style": "IPY_MODEL_4819dc941ad54179a60223b328e35e07",
       "value": " 10000/10000 [00:15&lt;00:00, 682.72it/s]"
      }
     },
     "c46c9c64cc0d4296a07d54bada40ca1f": {
      "model_module": "@jupyter-widgets/base",
      "model_module_version": "1.2.0",
      "model_name": "LayoutModel",
      "state": {}
     },
     "c49aa9e682074906ac3719235bb71223": {
      "model_module": "@jupyter-widgets/controls",
      "model_module_version": "1.5.0",
      "model_name": "DescriptionStyleModel",
      "state": {
       "description_width": ""
      }
     },
     "c4bca4713dac4716ba4407392eff9292": {
      "model_module": "@jupyter-widgets/controls",
      "model_module_version": "1.5.0",
      "model_name": "HBoxModel",
      "state": {
       "children": [
        "IPY_MODEL_f2a0618cda3544e38b5739a39cb8a903",
        "IPY_MODEL_510119e6827241e4835812601b6f68c2",
        "IPY_MODEL_a0203374465a42a694ceb8affc4c1762"
       ],
       "layout": "IPY_MODEL_774cb97003d34270b40f970de410dae4"
      }
     },
     "c531ea0e756346e3a97d97b358882248": {
      "model_module": "@jupyter-widgets/controls",
      "model_module_version": "1.5.0",
      "model_name": "HTMLModel",
      "state": {
       "layout": "IPY_MODEL_247386f7ea5840ad814e1042f39b9b60",
       "style": "IPY_MODEL_12a51b4717a84e7cbdf3f319e5ce8a96",
       "value": "MCMC Iteration: 100%"
      }
     },
     "c552abfe5f794a9eabb4c3c870ae1f63": {
      "model_module": "@jupyter-widgets/base",
      "model_module_version": "1.2.0",
      "model_name": "LayoutModel",
      "state": {}
     },
     "c55d216d907a40a281e80427cb989019": {
      "model_module": "@jupyter-widgets/base",
      "model_module_version": "1.2.0",
      "model_name": "LayoutModel",
      "state": {}
     },
     "c57b11d7bb554a7cab8aa3c171a2ab5c": {
      "model_module": "@jupyter-widgets/controls",
      "model_module_version": "1.5.0",
      "model_name": "HTMLModel",
      "state": {
       "layout": "IPY_MODEL_8e766575cdb3457a8ae54fd763090a16",
       "style": "IPY_MODEL_2ab9720b0a154f89b42863af0d756bde",
       "value": " 10000/10000 [00:17&lt;00:00, 620.75it/s]"
      }
     },
     "c58c18d7ccaa4b2b80362f69bae9d5bc": {
      "model_module": "@jupyter-widgets/base",
      "model_module_version": "1.2.0",
      "model_name": "LayoutModel",
      "state": {}
     },
     "c599bc4a242a4adf978accf740b1899c": {
      "model_module": "@jupyter-widgets/controls",
      "model_module_version": "1.5.0",
      "model_name": "DescriptionStyleModel",
      "state": {
       "description_width": ""
      }
     },
     "c5cd210f8ef84b5bb3b0f9e04b8f62e4": {
      "model_module": "@jupyter-widgets/controls",
      "model_module_version": "1.5.0",
      "model_name": "FloatProgressModel",
      "state": {
       "bar_style": "success",
       "layout": "IPY_MODEL_90365837779640309f8b7afecb17b202",
       "max": 10000,
       "style": "IPY_MODEL_d2834e211c884fe8bb977cf96a849c6f",
       "value": 10000
      }
     },
     "c619a333d4b04400862211e4047bf0c5": {
      "model_module": "@jupyter-widgets/controls",
      "model_module_version": "1.5.0",
      "model_name": "FloatProgressModel",
      "state": {
       "bar_style": "success",
       "layout": "IPY_MODEL_594bcb426263405da433ac92a57d0745",
       "max": 10000,
       "style": "IPY_MODEL_77b1b274668942cfbd8229656fe09f4f",
       "value": 10000
      }
     },
     "c6315cfa656f4ccb8b40d0a09ed85793": {
      "model_module": "@jupyter-widgets/controls",
      "model_module_version": "1.5.0",
      "model_name": "ProgressStyleModel",
      "state": {
       "description_width": ""
      }
     },
     "c6763c2cbb4741a8af5fcc3591da07e4": {
      "model_module": "@jupyter-widgets/controls",
      "model_module_version": "1.5.0",
      "model_name": "HTMLModel",
      "state": {
       "layout": "IPY_MODEL_ec4e5b35a7d44666916b462ae2230a46",
       "style": "IPY_MODEL_bf07594b47ca40f0a5593d5daa52acc4",
       "value": "MCMC Iteration: 100%"
      }
     },
     "c6afb996d53646929af5bfc3c9c56c0b": {
      "model_module": "@jupyter-widgets/base",
      "model_module_version": "1.2.0",
      "model_name": "LayoutModel",
      "state": {}
     },
     "c6b110f063b44a63b2f32d51cd6267bc": {
      "model_module": "@jupyter-widgets/controls",
      "model_module_version": "1.5.0",
      "model_name": "FloatProgressModel",
      "state": {
       "bar_style": "success",
       "layout": "IPY_MODEL_1abe20e22ed44dd09507087e1d3650fd",
       "max": 10000,
       "style": "IPY_MODEL_19eb6596263e453483c4ddf0b0396a81",
       "value": 10000
      }
     },
     "c6e25002e6c64ea88bb6672e6a63074b": {
      "model_module": "@jupyter-widgets/base",
      "model_module_version": "1.2.0",
      "model_name": "LayoutModel",
      "state": {}
     },
     "c6e3c458e38d4d5fb9850f2816f6ee94": {
      "model_module": "@jupyter-widgets/base",
      "model_module_version": "1.2.0",
      "model_name": "LayoutModel",
      "state": {}
     },
     "c6fbb3306f9c49f2a0e5936d2a264f85": {
      "model_module": "@jupyter-widgets/controls",
      "model_module_version": "1.5.0",
      "model_name": "HBoxModel",
      "state": {
       "children": [
        "IPY_MODEL_07a9955384044016b84211d62b296962",
        "IPY_MODEL_c9ce923308cb430f961df9b07e431f11",
        "IPY_MODEL_6c55ad36d39343f7bf4295e7463acc5c"
       ],
       "layout": "IPY_MODEL_b86664ddf9f74f13a24f355339d3766c"
      }
     },
     "c73580a173ba4b399cc1c05d3d9f9d76": {
      "model_module": "@jupyter-widgets/controls",
      "model_module_version": "1.5.0",
      "model_name": "DescriptionStyleModel",
      "state": {
       "description_width": ""
      }
     },
     "c778aad3ba49478fb036955c40b861cd": {
      "model_module": "@jupyter-widgets/controls",
      "model_module_version": "1.5.0",
      "model_name": "FloatProgressModel",
      "state": {
       "bar_style": "success",
       "layout": "IPY_MODEL_af5f190c0ee64996be61a02bb5a75cd2",
       "max": 10000,
       "style": "IPY_MODEL_2fa3c0fe6cce454097201e5b12eefb48",
       "value": 10000
      }
     },
     "c7882e9084d74ec1a619ff97aa43c511": {
      "model_module": "@jupyter-widgets/controls",
      "model_module_version": "1.5.0",
      "model_name": "HBoxModel",
      "state": {
       "children": [
        "IPY_MODEL_a07fd33b325a4d8aa333aa34ba554b77",
        "IPY_MODEL_80a448ae66234331ae844ae27bc33135",
        "IPY_MODEL_73a6351367704641a48b0051686ab4ad"
       ],
       "layout": "IPY_MODEL_a6b9bb32d313441aa7e7cc5a4e52132f"
      }
     },
     "c789e8cae1444ac983bcd41ee2ed570e": {
      "model_module": "@jupyter-widgets/base",
      "model_module_version": "1.2.0",
      "model_name": "LayoutModel",
      "state": {}
     },
     "c7aefe3e735b4956aa13974a93ebc49e": {
      "model_module": "@jupyter-widgets/controls",
      "model_module_version": "1.5.0",
      "model_name": "HTMLModel",
      "state": {
       "layout": "IPY_MODEL_2918a10f33784688a6438832baf0230c",
       "style": "IPY_MODEL_8cf7310881924fb184cdbba861008009",
       "value": " 10000/10000 [00:07&lt;00:00, 1357.41it/s]"
      }
     },
     "c7da1bf96c5b42639940d34cd1531a26": {
      "model_module": "@jupyter-widgets/controls",
      "model_module_version": "1.5.0",
      "model_name": "DescriptionStyleModel",
      "state": {
       "description_width": ""
      }
     },
     "c822547e625a42dd9c2808f3e242758b": {
      "model_module": "@jupyter-widgets/base",
      "model_module_version": "1.2.0",
      "model_name": "LayoutModel",
      "state": {}
     },
     "c8632e04926c4bf5b4ad2cdc3aa8ec43": {
      "model_module": "@jupyter-widgets/controls",
      "model_module_version": "1.5.0",
      "model_name": "DescriptionStyleModel",
      "state": {
       "description_width": ""
      }
     },
     "c872ce9e0e0f4540b3a40c1ec520dd31": {
      "model_module": "@jupyter-widgets/controls",
      "model_module_version": "1.5.0",
      "model_name": "HBoxModel",
      "state": {
       "children": [
        "IPY_MODEL_979aedda5b3b4bca82b3a55cb4642169",
        "IPY_MODEL_f5ced9348ad642d6a7a3bca7afd93597",
        "IPY_MODEL_73fcba8b97f34b45b9e7f1ad869448b5"
       ],
       "layout": "IPY_MODEL_c8df981505b8463c94dd211d14002705"
      }
     },
     "c8a3df9878db44a59a8a5f70f6386536": {
      "model_module": "@jupyter-widgets/base",
      "model_module_version": "1.2.0",
      "model_name": "LayoutModel",
      "state": {}
     },
     "c8aac56dc2d34454ac512e9ea0e672cf": {
      "model_module": "@jupyter-widgets/base",
      "model_module_version": "1.2.0",
      "model_name": "LayoutModel",
      "state": {}
     },
     "c8ad6171e68442869cdeab4273c9416f": {
      "model_module": "@jupyter-widgets/base",
      "model_module_version": "1.2.0",
      "model_name": "LayoutModel",
      "state": {}
     },
     "c8df981505b8463c94dd211d14002705": {
      "model_module": "@jupyter-widgets/base",
      "model_module_version": "1.2.0",
      "model_name": "LayoutModel",
      "state": {}
     },
     "c92499c8dd6747a292872b1ebdf63bf0": {
      "model_module": "@jupyter-widgets/base",
      "model_module_version": "1.2.0",
      "model_name": "LayoutModel",
      "state": {}
     },
     "c93d9faa6dea40838c68f403f3c420d7": {
      "model_module": "@jupyter-widgets/base",
      "model_module_version": "1.2.0",
      "model_name": "LayoutModel",
      "state": {}
     },
     "c958703567d5445f96ad86147e4a7c44": {
      "model_module": "@jupyter-widgets/controls",
      "model_module_version": "1.5.0",
      "model_name": "DescriptionStyleModel",
      "state": {
       "description_width": ""
      }
     },
     "c96616b17ed04a8faaa9b4213be6fd54": {
      "model_module": "@jupyter-widgets/controls",
      "model_module_version": "1.5.0",
      "model_name": "HTMLModel",
      "state": {
       "layout": "IPY_MODEL_b047c1ceff294e569899cb8de2a29a48",
       "style": "IPY_MODEL_5dbd0853b2b742a39b6b4136ba9be2db",
       "value": " 10000/10000 [00:14&lt;00:00, 671.84it/s]"
      }
     },
     "c980dfe7aed3460baa59ca4480d00306": {
      "model_module": "@jupyter-widgets/controls",
      "model_module_version": "1.5.0",
      "model_name": "HTMLModel",
      "state": {
       "layout": "IPY_MODEL_db7f02086cdc4cbd949bb4418a85cb8d",
       "style": "IPY_MODEL_c8632e04926c4bf5b4ad2cdc3aa8ec43",
       "value": "MCMC Iteration:  87%"
      }
     },
     "c9ce923308cb430f961df9b07e431f11": {
      "model_module": "@jupyter-widgets/controls",
      "model_module_version": "1.5.0",
      "model_name": "FloatProgressModel",
      "state": {
       "bar_style": "success",
       "layout": "IPY_MODEL_96740be4018648a2a6fcf13611d758b6",
       "max": 10000,
       "style": "IPY_MODEL_3de59fc78a774a01858dc52713eed86a",
       "value": 10000
      }
     },
     "c9e7332f7835421c9d3e835c4dfe9d62": {
      "model_module": "@jupyter-widgets/controls",
      "model_module_version": "1.5.0",
      "model_name": "FloatProgressModel",
      "state": {
       "bar_style": "success",
       "layout": "IPY_MODEL_f941ecd35f564876a555f46833842954",
       "max": 10000,
       "style": "IPY_MODEL_230c9afbcca246c1a69e971d8fcde17b",
       "value": 10000
      }
     },
     "ca09c54aadc44ee7b88a17043be76b1b": {
      "model_module": "@jupyter-widgets/controls",
      "model_module_version": "1.5.0",
      "model_name": "HTMLModel",
      "state": {
       "layout": "IPY_MODEL_9058af3a2384420c92d548d67aa77d96",
       "style": "IPY_MODEL_5eacdb5b58a647f8a826bb4e98a89ab8",
       "value": " 10000/10000 [00:21&lt;00:00, 461.29it/s]"
      }
     },
     "ca3ff5dad3cd481f999171d39f4dd0b1": {
      "model_module": "@jupyter-widgets/base",
      "model_module_version": "1.2.0",
      "model_name": "LayoutModel",
      "state": {}
     },
     "ca6bc088e39d4022a9b6d946a562f3dd": {
      "model_module": "@jupyter-widgets/controls",
      "model_module_version": "1.5.0",
      "model_name": "FloatProgressModel",
      "state": {
       "bar_style": "danger",
       "layout": "IPY_MODEL_71ef13360ef64dc88a74282f79f4506e",
       "max": 3,
       "style": "IPY_MODEL_06567f5e3a534f82b14ac7772ef2d783"
      }
     },
     "ca8ebd844fdd4251993321a34a10d8e6": {
      "model_module": "@jupyter-widgets/controls",
      "model_module_version": "1.5.0",
      "model_name": "FloatProgressModel",
      "state": {
       "bar_style": "success",
       "layout": "IPY_MODEL_e6dfa5eaf735401997c18977459480cd",
       "max": 10000,
       "style": "IPY_MODEL_4b5c0cfc7d494ccb9587b861e4ec020e",
       "value": 10000
      }
     },
     "cab36423edcb43eaa39f19043cbb35ba": {
      "model_module": "@jupyter-widgets/controls",
      "model_module_version": "1.5.0",
      "model_name": "HTMLModel",
      "state": {
       "layout": "IPY_MODEL_2d4be8cc5aab44f0b30843378d0460cb",
       "style": "IPY_MODEL_a022e472468b4c9ca118b1d6226df02a",
       "value": " 10000/10000 [00:09&lt;00:00, 1077.17it/s]"
      }
     },
     "cae5507cfc67477f89e08b56d155b8ba": {
      "model_module": "@jupyter-widgets/controls",
      "model_module_version": "1.5.0",
      "model_name": "FloatProgressModel",
      "state": {
       "bar_style": "success",
       "layout": "IPY_MODEL_ef7a5e7d0f6e4b4b92eba969a7c8b9ab",
       "max": 10000,
       "style": "IPY_MODEL_fb1afd9f043345a99a359b217371ee0a",
       "value": 10000
      }
     },
     "cb100b30f2074952898c10dc7c6716aa": {
      "model_module": "@jupyter-widgets/controls",
      "model_module_version": "1.5.0",
      "model_name": "ProgressStyleModel",
      "state": {
       "description_width": ""
      }
     },
     "cb225988d91c4d9eae96a6d3c3accef9": {
      "model_module": "@jupyter-widgets/controls",
      "model_module_version": "1.5.0",
      "model_name": "FloatProgressModel",
      "state": {
       "bar_style": "success",
       "layout": "IPY_MODEL_16bd52e2e5344491a118a583515caade",
       "max": 10000,
       "style": "IPY_MODEL_04112cf2a9434173a1645349362c366b",
       "value": 10000
      }
     },
     "cb566e90ce614ad8820766297ffa8ef9": {
      "model_module": "@jupyter-widgets/controls",
      "model_module_version": "1.5.0",
      "model_name": "HTMLModel",
      "state": {
       "layout": "IPY_MODEL_43f0e932ee9c4cbd8bb76857aace40e7",
       "style": "IPY_MODEL_2eab1f6dee0143339b1f01d2385eabed",
       "value": "MCMC Iteration: 100%"
      }
     },
     "cb5d109447b94930b96b2dd79e405b0f": {
      "model_module": "@jupyter-widgets/base",
      "model_module_version": "1.2.0",
      "model_name": "LayoutModel",
      "state": {}
     },
     "cb7887518800468490c43f18032f077d": {
      "model_module": "@jupyter-widgets/controls",
      "model_module_version": "1.5.0",
      "model_name": "DescriptionStyleModel",
      "state": {
       "description_width": ""
      }
     },
     "cbfa6096d90f4096a6ae0927de8caf79": {
      "model_module": "@jupyter-widgets/base",
      "model_module_version": "1.2.0",
      "model_name": "LayoutModel",
      "state": {}
     },
     "cc06723af1ea4f44bf772d2e127b994d": {
      "model_module": "@jupyter-widgets/controls",
      "model_module_version": "1.5.0",
      "model_name": "HTMLModel",
      "state": {
       "layout": "IPY_MODEL_7bf4f29346f540c59ed0b38d357b4b3d",
       "style": "IPY_MODEL_1ccb61f441e140c8b42e26972be0f23b",
       "value": "MCMC Iteration: 100%"
      }
     },
     "cc090b94248d43f784f8ab130d499594": {
      "model_module": "@jupyter-widgets/controls",
      "model_module_version": "1.5.0",
      "model_name": "HBoxModel",
      "state": {
       "children": [
        "IPY_MODEL_91b9ec897057410cb1863e394afa0b09",
        "IPY_MODEL_714d73b757504fec8e1856e5d8d03abb",
        "IPY_MODEL_44eaf52ae08a4b2cb065800ab4566859"
       ],
       "layout": "IPY_MODEL_a1540ed531ed47688dced3b35047c37f"
      }
     },
     "cc2bef1e68de4b60b2513a4f77d99aea": {
      "model_module": "@jupyter-widgets/controls",
      "model_module_version": "1.5.0",
      "model_name": "HTMLModel",
      "state": {
       "layout": "IPY_MODEL_63560d384f774ea3a69b7453d06f7023",
       "style": "IPY_MODEL_a8109d704d024756831d535d32657bb0",
       "value": " 10000/10000 [00:19&lt;00:00, 521.03it/s]"
      }
     },
     "cc9302b72cca4840b3b2ca37b718eb84": {
      "model_module": "@jupyter-widgets/base",
      "model_module_version": "1.2.0",
      "model_name": "LayoutModel",
      "state": {}
     },
     "ccf1ba3379ba49f69cefb39ade47439f": {
      "model_module": "@jupyter-widgets/base",
      "model_module_version": "1.2.0",
      "model_name": "LayoutModel",
      "state": {}
     },
     "cd30d062a62c49399ada604851c2ff25": {
      "model_module": "@jupyter-widgets/base",
      "model_module_version": "1.2.0",
      "model_name": "LayoutModel",
      "state": {}
     },
     "cd668ee6af724197b4e4fbfcad7427af": {
      "model_module": "@jupyter-widgets/controls",
      "model_module_version": "1.5.0",
      "model_name": "HTMLModel",
      "state": {
       "layout": "IPY_MODEL_9a9aa9df624f4174a19590ede9338628",
       "style": "IPY_MODEL_d541f11ae17b48e6bcbfac94752e1375",
       "value": " 10000/10000 [00:22&lt;00:00, 456.80it/s]"
      }
     },
     "cd88450d20034206912a2eeddc221648": {
      "model_module": "@jupyter-widgets/base",
      "model_module_version": "1.2.0",
      "model_name": "LayoutModel",
      "state": {}
     },
     "cd978add50b34ff591c13bc6d95544e3": {
      "model_module": "@jupyter-widgets/base",
      "model_module_version": "1.2.0",
      "model_name": "LayoutModel",
      "state": {}
     },
     "cdbbc840bc7c46e5beb325c82be19c4b": {
      "model_module": "@jupyter-widgets/controls",
      "model_module_version": "1.5.0",
      "model_name": "ProgressStyleModel",
      "state": {
       "description_width": ""
      }
     },
     "cdeb67942d3649bbb6eef2d5a6a5abae": {
      "model_module": "@jupyter-widgets/base",
      "model_module_version": "1.2.0",
      "model_name": "LayoutModel",
      "state": {}
     },
     "cdf1de9db0b94b94aef064ebe6542469": {
      "model_module": "@jupyter-widgets/base",
      "model_module_version": "1.2.0",
      "model_name": "LayoutModel",
      "state": {}
     },
     "ce1f6b6a921f4b82b0dad6431bbd298e": {
      "model_module": "@jupyter-widgets/base",
      "model_module_version": "1.2.0",
      "model_name": "LayoutModel",
      "state": {}
     },
     "ce26878725e145b497590950b8ded44f": {
      "model_module": "@jupyter-widgets/controls",
      "model_module_version": "1.5.0",
      "model_name": "ProgressStyleModel",
      "state": {
       "description_width": ""
      }
     },
     "ce7a8bdd58f44d879255f7b5a5b754d3": {
      "model_module": "@jupyter-widgets/controls",
      "model_module_version": "1.5.0",
      "model_name": "HTMLModel",
      "state": {
       "layout": "IPY_MODEL_01d7270552d24b2b8f421cf12feb7966",
       "style": "IPY_MODEL_8bd15910348d4724a56e699cb17fffea",
       "value": " 10000/10000 [00:09&lt;00:00, 1052.58it/s]"
      }
     },
     "ce858fbc4fa6495d8de6b9d8a7abd645": {
      "model_module": "@jupyter-widgets/controls",
      "model_module_version": "1.5.0",
      "model_name": "HTMLModel",
      "state": {
       "layout": "IPY_MODEL_f9c40c0a65464fb19f2d71f3f9f182c3",
       "style": "IPY_MODEL_954df7380a4840e4a616a9dc44473a93",
       "value": "MCMC Iteration: 100%"
      }
     },
     "cec8e70c4e4a46f68329bd7621a0d6f2": {
      "model_module": "@jupyter-widgets/base",
      "model_module_version": "1.2.0",
      "model_name": "LayoutModel",
      "state": {}
     },
     "cf5e11ca4d5f495cbe41ec0e726492ed": {
      "model_module": "@jupyter-widgets/controls",
      "model_module_version": "1.5.0",
      "model_name": "HTMLModel",
      "state": {
       "layout": "IPY_MODEL_679324035ce04e3babe5d895c4640a7d",
       "style": "IPY_MODEL_d689c843b3c54402989141831d4d943e",
       "value": " 10000/10000 [00:21&lt;00:00, 476.51it/s]"
      }
     },
     "cfdbae50598646caa957445321be05c6": {
      "model_module": "@jupyter-widgets/base",
      "model_module_version": "1.2.0",
      "model_name": "LayoutModel",
      "state": {}
     },
     "d03fa56b4e9b4a89bf6d65560c1a930f": {
      "model_module": "@jupyter-widgets/base",
      "model_module_version": "1.2.0",
      "model_name": "LayoutModel",
      "state": {}
     },
     "d045517268034a4f8e68b7e888319f19": {
      "model_module": "@jupyter-widgets/controls",
      "model_module_version": "1.5.0",
      "model_name": "HTMLModel",
      "state": {
       "layout": "IPY_MODEL_06fe7074c7ed4355b33647f4cf5e9e83",
       "style": "IPY_MODEL_cb7887518800468490c43f18032f077d",
       "value": "MCMC Iteration: 100%"
      }
     },
     "d04f9a219e274ae68fa0fcbdec6c8ede": {
      "model_module": "@jupyter-widgets/controls",
      "model_module_version": "1.5.0",
      "model_name": "DescriptionStyleModel",
      "state": {
       "description_width": ""
      }
     },
     "d0a4d051566349e3b3d4f25f83a6fa4c": {
      "model_module": "@jupyter-widgets/base",
      "model_module_version": "1.2.0",
      "model_name": "LayoutModel",
      "state": {}
     },
     "d0eb19a96c83481c8489e58a0768da6b": {
      "model_module": "@jupyter-widgets/controls",
      "model_module_version": "1.5.0",
      "model_name": "HTMLModel",
      "state": {
       "layout": "IPY_MODEL_46eb0f7b5dd643fd80d8acfb3cfc5a2d",
       "style": "IPY_MODEL_dfb9a396b63d43e79320ed67624af383",
       "value": " 10000/10000 [00:27&lt;00:00, 375.03it/s]"
      }
     },
     "d109ed52c7ad485a87cd22446d8081ba": {
      "model_module": "@jupyter-widgets/controls",
      "model_module_version": "1.5.0",
      "model_name": "DescriptionStyleModel",
      "state": {
       "description_width": ""
      }
     },
     "d162181e92cb4de281e4dff883d6048e": {
      "model_module": "@jupyter-widgets/controls",
      "model_module_version": "1.5.0",
      "model_name": "DescriptionStyleModel",
      "state": {
       "description_width": ""
      }
     },
     "d1b15cd4f73a41f5b02c3dfe06e96a35": {
      "model_module": "@jupyter-widgets/controls",
      "model_module_version": "1.5.0",
      "model_name": "HTMLModel",
      "state": {
       "layout": "IPY_MODEL_25685473122d40939a83892d59a3ab38",
       "style": "IPY_MODEL_c958703567d5445f96ad86147e4a7c44",
       "value": " 10000/10000 [00:07&lt;00:00, 1263.31it/s]"
      }
     },
     "d21a5fd5b1ae45be866c80c518456bd5": {
      "model_module": "@jupyter-widgets/controls",
      "model_module_version": "1.5.0",
      "model_name": "HTMLModel",
      "state": {
       "layout": "IPY_MODEL_d92b169cf26d422f91296fd568471ff0",
       "style": "IPY_MODEL_355a4104bddd442c8e261b6c917e76c6",
       "value": " 10000/10000 [00:07&lt;00:00, 1293.07it/s]"
      }
     },
     "d23ceb26a3a545c2bc326e42873db4ed": {
      "model_module": "@jupyter-widgets/base",
      "model_module_version": "1.2.0",
      "model_name": "LayoutModel",
      "state": {}
     },
     "d26c08f92aea4a3d91ce7f4f21125275": {
      "model_module": "@jupyter-widgets/controls",
      "model_module_version": "1.5.0",
      "model_name": "FloatProgressModel",
      "state": {
       "bar_style": "success",
       "layout": "IPY_MODEL_94d159c6b81745b79fb156796cd34376",
       "max": 10000,
       "style": "IPY_MODEL_65a24b89c2d74d268dd3e7bf94512c33",
       "value": 10000
      }
     },
     "d2834e211c884fe8bb977cf96a849c6f": {
      "model_module": "@jupyter-widgets/controls",
      "model_module_version": "1.5.0",
      "model_name": "ProgressStyleModel",
      "state": {
       "description_width": ""
      }
     },
     "d285c6de7ef24e44843c57fda77233f1": {
      "model_module": "@jupyter-widgets/base",
      "model_module_version": "1.2.0",
      "model_name": "LayoutModel",
      "state": {}
     },
     "d2cb6985e48d4202854cf91cb32b3ea2": {
      "model_module": "@jupyter-widgets/controls",
      "model_module_version": "1.5.0",
      "model_name": "HTMLModel",
      "state": {
       "layout": "IPY_MODEL_7053f1f24e574ccdbd8359b30ffd88cc",
       "style": "IPY_MODEL_f19886bf90f84ab3b1af91135a46f449",
       "value": " 10000/10000 [00:14&lt;00:00, 682.53it/s]"
      }
     },
     "d2e6d38b12c14873ad96f5ed85b08326": {
      "model_module": "@jupyter-widgets/controls",
      "model_module_version": "1.5.0",
      "model_name": "HTMLModel",
      "state": {
       "layout": "IPY_MODEL_d6a3c6e2df3840b99afb8406b7032c77",
       "style": "IPY_MODEL_ad1787499f5244bc9835088b13c61aa4",
       "value": "MCMC Iteration: 100%"
      }
     },
     "d31479404551471db591eb9acd9b9f1b": {
      "model_module": "@jupyter-widgets/base",
      "model_module_version": "1.2.0",
      "model_name": "LayoutModel",
      "state": {}
     },
     "d34051e8edf84bb3b11a6e8fc3fd1cac": {
      "model_module": "@jupyter-widgets/base",
      "model_module_version": "1.2.0",
      "model_name": "LayoutModel",
      "state": {}
     },
     "d3802923245b4f069496393a81f6b39e": {
      "model_module": "@jupyter-widgets/controls",
      "model_module_version": "1.5.0",
      "model_name": "DescriptionStyleModel",
      "state": {
       "description_width": ""
      }
     },
     "d3932d5fd5a649e798109a9df180666f": {
      "model_module": "@jupyter-widgets/controls",
      "model_module_version": "1.5.0",
      "model_name": "HBoxModel",
      "state": {
       "children": [
        "IPY_MODEL_7151c91777e8480aa418bba152180c21",
        "IPY_MODEL_c9e7332f7835421c9d3e835c4dfe9d62",
        "IPY_MODEL_84b4b533a31c4f18a949a164c42a8d29"
       ],
       "layout": "IPY_MODEL_0b50589027a24a63b3e9e88c57927eb1"
      }
     },
     "d395275234d443d0b501ef69565b79f0": {
      "model_module": "@jupyter-widgets/controls",
      "model_module_version": "1.5.0",
      "model_name": "DescriptionStyleModel",
      "state": {
       "description_width": ""
      }
     },
     "d3b705f7baad47b79ef5156fbfee2e3c": {
      "model_module": "@jupyter-widgets/base",
      "model_module_version": "1.2.0",
      "model_name": "LayoutModel",
      "state": {}
     },
     "d41976392b1a484b91297c8cdb399571": {
      "model_module": "@jupyter-widgets/controls",
      "model_module_version": "1.5.0",
      "model_name": "ProgressStyleModel",
      "state": {
       "description_width": ""
      }
     },
     "d46492a0230b4c688837f96b01f393fa": {
      "model_module": "@jupyter-widgets/base",
      "model_module_version": "1.2.0",
      "model_name": "LayoutModel",
      "state": {}
     },
     "d46c4f9a6bce422ca6dc3787efea0fc6": {
      "model_module": "@jupyter-widgets/base",
      "model_module_version": "1.2.0",
      "model_name": "LayoutModel",
      "state": {}
     },
     "d479bbde53f443c6b09543466361a414": {
      "model_module": "@jupyter-widgets/controls",
      "model_module_version": "1.5.0",
      "model_name": "HTMLModel",
      "state": {
       "layout": "IPY_MODEL_b0ae39bebdee408196f22c5f683eeda3",
       "style": "IPY_MODEL_05f79eafba8d403aafb19ba44bc5d0ad",
       "value": " 10000/10000 [00:27&lt;00:00, 375.00it/s]"
      }
     },
     "d5073c35c2624a21912b4c6393be923b": {
      "model_module": "@jupyter-widgets/controls",
      "model_module_version": "1.5.0",
      "model_name": "ProgressStyleModel",
      "state": {
       "description_width": ""
      }
     },
     "d541f11ae17b48e6bcbfac94752e1375": {
      "model_module": "@jupyter-widgets/controls",
      "model_module_version": "1.5.0",
      "model_name": "DescriptionStyleModel",
      "state": {
       "description_width": ""
      }
     },
     "d5600a6ca7f74cc1bc5182fe5a5e219a": {
      "model_module": "@jupyter-widgets/controls",
      "model_module_version": "1.5.0",
      "model_name": "HTMLModel",
      "state": {
       "layout": "IPY_MODEL_14c9c1cddb52457cb7c56a54947d58bd",
       "style": "IPY_MODEL_39b59d1618ec438c93bcf9758afed402",
       "value": "MCMC Iteration: 100%"
      }
     },
     "d60f2876d7fa4119a81ed8e455b493c3": {
      "model_module": "@jupyter-widgets/base",
      "model_module_version": "1.2.0",
      "model_name": "LayoutModel",
      "state": {}
     },
     "d689c843b3c54402989141831d4d943e": {
      "model_module": "@jupyter-widgets/controls",
      "model_module_version": "1.5.0",
      "model_name": "DescriptionStyleModel",
      "state": {
       "description_width": ""
      }
     },
     "d69d1c95353b4289b01cf2f7f70fdc6b": {
      "model_module": "@jupyter-widgets/base",
      "model_module_version": "1.2.0",
      "model_name": "LayoutModel",
      "state": {}
     },
     "d6a3c6e2df3840b99afb8406b7032c77": {
      "model_module": "@jupyter-widgets/base",
      "model_module_version": "1.2.0",
      "model_name": "LayoutModel",
      "state": {}
     },
     "d6c56bb3523e4efcbcd7c0ced1fefd92": {
      "model_module": "@jupyter-widgets/controls",
      "model_module_version": "1.5.0",
      "model_name": "FloatProgressModel",
      "state": {
       "bar_style": "success",
       "layout": "IPY_MODEL_3c26495c3be348c1ae2c7c83b23ed8b8",
       "max": 10000,
       "style": "IPY_MODEL_bc8274c90ae844c884aacacf86a85417",
       "value": 10000
      }
     },
     "d70afaaa02a841dd967602f615162b23": {
      "model_module": "@jupyter-widgets/controls",
      "model_module_version": "1.5.0",
      "model_name": "ProgressStyleModel",
      "state": {
       "description_width": ""
      }
     },
     "d736c0c4a5e7443895663a29ac162c05": {
      "model_module": "@jupyter-widgets/base",
      "model_module_version": "1.2.0",
      "model_name": "LayoutModel",
      "state": {}
     },
     "d77a7a952434409586e0e5db4bb7f608": {
      "model_module": "@jupyter-widgets/base",
      "model_module_version": "1.2.0",
      "model_name": "LayoutModel",
      "state": {}
     },
     "d7affb27d1ec462bb9c5e77cf62e385e": {
      "model_module": "@jupyter-widgets/base",
      "model_module_version": "1.2.0",
      "model_name": "LayoutModel",
      "state": {}
     },
     "d7cf6eb96fb743ca92bbd2e238198a00": {
      "model_module": "@jupyter-widgets/controls",
      "model_module_version": "1.5.0",
      "model_name": "ProgressStyleModel",
      "state": {
       "description_width": ""
      }
     },
     "d817a997b00647bab3ce4f63f138f812": {
      "model_module": "@jupyter-widgets/controls",
      "model_module_version": "1.5.0",
      "model_name": "DescriptionStyleModel",
      "state": {
       "description_width": ""
      }
     },
     "d82cac34ec1b463287249fdf6caa8ab6": {
      "model_module": "@jupyter-widgets/base",
      "model_module_version": "1.2.0",
      "model_name": "LayoutModel",
      "state": {}
     },
     "d82fefb76ba94cb796b82ffe127a0128": {
      "model_module": "@jupyter-widgets/base",
      "model_module_version": "1.2.0",
      "model_name": "LayoutModel",
      "state": {}
     },
     "d84db003de534dbaafe8d07561b5d82d": {
      "model_module": "@jupyter-widgets/controls",
      "model_module_version": "1.5.0",
      "model_name": "HTMLModel",
      "state": {
       "layout": "IPY_MODEL_5d668649135b43a8be8aec382f1eea94",
       "style": "IPY_MODEL_9841d2af8aa646a18fd92bb450bd4112",
       "value": "Folds: 100%"
      }
     },
     "d88551889eea4777ad00693b71e8d1d0": {
      "model_module": "@jupyter-widgets/controls",
      "model_module_version": "1.5.0",
      "model_name": "DescriptionStyleModel",
      "state": {
       "description_width": ""
      }
     },
     "d8bc9fca823d4217b3b9d790c5147fa8": {
      "model_module": "@jupyter-widgets/controls",
      "model_module_version": "1.5.0",
      "model_name": "HTMLModel",
      "state": {
       "layout": "IPY_MODEL_35f735163f5e4b77b315b128b99bcbdd",
       "style": "IPY_MODEL_a9eaa0b483d7457191a1bce86ea0f4b5",
       "value": "MCMC Iteration: 100%"
      }
     },
     "d8c52308c30e4c549edfa16705fe2444": {
      "model_module": "@jupyter-widgets/base",
      "model_module_version": "1.2.0",
      "model_name": "LayoutModel",
      "state": {}
     },
     "d8e08968d502437bb79d929e919c5ed9": {
      "model_module": "@jupyter-widgets/controls",
      "model_module_version": "1.5.0",
      "model_name": "HBoxModel",
      "state": {
       "children": [
        "IPY_MODEL_c980dfe7aed3460baa59ca4480d00306",
        "IPY_MODEL_bb016256a35b440ba3b04a91f597452f",
        "IPY_MODEL_6306c263d19848c0a689035bdf29029b"
       ],
       "layout": "IPY_MODEL_14547e96e9a14f0b92f41eeedce46bd5"
      }
     },
     "d92b169cf26d422f91296fd568471ff0": {
      "model_module": "@jupyter-widgets/base",
      "model_module_version": "1.2.0",
      "model_name": "LayoutModel",
      "state": {}
     },
     "d92e8ce60e1b4a0d904b7ff820dce03d": {
      "model_module": "@jupyter-widgets/base",
      "model_module_version": "1.2.0",
      "model_name": "LayoutModel",
      "state": {}
     },
     "d96dc533339342d4ab4cd0bd3b38e83c": {
      "model_module": "@jupyter-widgets/controls",
      "model_module_version": "1.5.0",
      "model_name": "FloatProgressModel",
      "state": {
       "bar_style": "success",
       "layout": "IPY_MODEL_940f5ba1e0214d41871cbd500481c485",
       "max": 10000,
       "style": "IPY_MODEL_1d6c7a13314d4d2ab2e85e8a2ae9177f",
       "value": 10000
      }
     },
     "d980209da12d466d971b2af7ed92ad42": {
      "model_module": "@jupyter-widgets/controls",
      "model_module_version": "1.5.0",
      "model_name": "DescriptionStyleModel",
      "state": {
       "description_width": ""
      }
     },
     "d98e1c75946f4e7a9ed718ab308a8488": {
      "model_module": "@jupyter-widgets/controls",
      "model_module_version": "1.5.0",
      "model_name": "HBoxModel",
      "state": {
       "children": [
        "IPY_MODEL_e33f7089b9944843a39b46871d221f97",
        "IPY_MODEL_f6fe550147ec46fcbf85d3a3ae1c2aef",
        "IPY_MODEL_7830a8c57dd6473bb850b954c9fe91cc"
       ],
       "layout": "IPY_MODEL_445706bc13dd45a8be419449917590d4"
      }
     },
     "d9aaec9983934834b728992e9d657cc3": {
      "model_module": "@jupyter-widgets/base",
      "model_module_version": "1.2.0",
      "model_name": "LayoutModel",
      "state": {}
     },
     "d9f2528521ed4ea7bd7f0576f9c6506e": {
      "model_module": "@jupyter-widgets/base",
      "model_module_version": "1.2.0",
      "model_name": "LayoutModel",
      "state": {}
     },
     "da063e0663fc4612b3b31126eff22ea6": {
      "model_module": "@jupyter-widgets/base",
      "model_module_version": "1.2.0",
      "model_name": "LayoutModel",
      "state": {}
     },
     "da33c4b6082f448685986ae9a66ecd14": {
      "model_module": "@jupyter-widgets/controls",
      "model_module_version": "1.5.0",
      "model_name": "HTMLModel",
      "state": {
       "layout": "IPY_MODEL_c2ae39e006cb476ab18810bdeaf9bfaf",
       "style": "IPY_MODEL_5a844f0fabb94db086b495acd9acbc48",
       "value": " 10000/10000 [00:20&lt;00:00, 515.38it/s]"
      }
     },
     "dabcfad035844e4ca7ca4dafbfeb62bb": {
      "model_module": "@jupyter-widgets/controls",
      "model_module_version": "1.5.0",
      "model_name": "HTMLModel",
      "state": {
       "layout": "IPY_MODEL_c789e8cae1444ac983bcd41ee2ed570e",
       "style": "IPY_MODEL_51ab6553f82249aeb3d73235efda5278",
       "value": "MCMC Iteration: 100%"
      }
     },
     "dacb7b2bb3f44080abb1b2add831fce3": {
      "model_module": "@jupyter-widgets/controls",
      "model_module_version": "1.5.0",
      "model_name": "HTMLModel",
      "state": {
       "layout": "IPY_MODEL_78dd97c4273245c19213706075c02c96",
       "style": "IPY_MODEL_30aa82453ca2406f9ef083dd7f816d4a",
       "value": " 10000/10000 [00:08&lt;00:00, 1206.65it/s]"
      }
     },
     "dadd3e608a3d44d2a5d4825c49bd1fca": {
      "model_module": "@jupyter-widgets/controls",
      "model_module_version": "1.5.0",
      "model_name": "HTMLModel",
      "state": {
       "layout": "IPY_MODEL_1fd8a65bd746428e93fe1977f78b26a1",
       "style": "IPY_MODEL_9022b57d5b8842179de4d107b743b735",
       "value": "MCMC Iteration: 100%"
      }
     },
     "db2a16041fe947afbce223406cbfb35e": {
      "model_module": "@jupyter-widgets/controls",
      "model_module_version": "1.5.0",
      "model_name": "HTMLModel",
      "state": {
       "layout": "IPY_MODEL_3929e865d1d04a3ebe4ad2985a880bb2",
       "style": "IPY_MODEL_38e26fb32fe34893ac313c3d6a07c8a5",
       "value": " 10000/10000 [00:22&lt;00:00, 443.80it/s]"
      }
     },
     "db2e5369f0fa4e5e89971b8fcc4eec94": {
      "model_module": "@jupyter-widgets/controls",
      "model_module_version": "1.5.0",
      "model_name": "HBoxModel",
      "state": {
       "children": [
        "IPY_MODEL_dabcfad035844e4ca7ca4dafbfeb62bb",
        "IPY_MODEL_b9dd0c506abd4309b44e51aa6aa8bba8",
        "IPY_MODEL_4a805dc5b9e1479089433f6e58106abc"
       ],
       "layout": "IPY_MODEL_dde43af4e25a41af910c71a69d2c8c6c"
      }
     },
     "db4e4215208944b296f6ac1993218fb7": {
      "model_module": "@jupyter-widgets/controls",
      "model_module_version": "1.5.0",
      "model_name": "HTMLModel",
      "state": {
       "layout": "IPY_MODEL_14274dff6c1e4fa18b2e857dd591fae8",
       "style": "IPY_MODEL_62b8a85ec2634a79ace2955b2749ac4b",
       "value": "MCMC Iteration: 100%"
      }
     },
     "db61bbec816c48c98c5baea44c83da3d": {
      "model_module": "@jupyter-widgets/base",
      "model_module_version": "1.2.0",
      "model_name": "LayoutModel",
      "state": {}
     },
     "db78abc52671439db604d3e58d5c8dbd": {
      "model_module": "@jupyter-widgets/base",
      "model_module_version": "1.2.0",
      "model_name": "LayoutModel",
      "state": {}
     },
     "db7f02086cdc4cbd949bb4418a85cb8d": {
      "model_module": "@jupyter-widgets/base",
      "model_module_version": "1.2.0",
      "model_name": "LayoutModel",
      "state": {}
     },
     "db814cc369df44c5b50c09fa71a9dc4e": {
      "model_module": "@jupyter-widgets/controls",
      "model_module_version": "1.5.0",
      "model_name": "DescriptionStyleModel",
      "state": {
       "description_width": ""
      }
     },
     "db96e8d16cdc4c6dab37b8deb4fba01d": {
      "model_module": "@jupyter-widgets/controls",
      "model_module_version": "1.5.0",
      "model_name": "DescriptionStyleModel",
      "state": {
       "description_width": ""
      }
     },
     "dbcb75a6eb864a6498c18acbeb647415": {
      "model_module": "@jupyter-widgets/controls",
      "model_module_version": "1.5.0",
      "model_name": "DescriptionStyleModel",
      "state": {
       "description_width": ""
      }
     },
     "dbe161f59e15409da4d070c21480bf4a": {
      "model_module": "@jupyter-widgets/base",
      "model_module_version": "1.2.0",
      "model_name": "LayoutModel",
      "state": {}
     },
     "dc20dd1922b84ec59e0864a58f5adc02": {
      "model_module": "@jupyter-widgets/controls",
      "model_module_version": "1.5.0",
      "model_name": "DescriptionStyleModel",
      "state": {
       "description_width": ""
      }
     },
     "dd2685f318e543028245e20d981582b0": {
      "model_module": "@jupyter-widgets/controls",
      "model_module_version": "1.5.0",
      "model_name": "DescriptionStyleModel",
      "state": {
       "description_width": ""
      }
     },
     "dd34e97d794649ada6ff9a6d9a77a89d": {
      "model_module": "@jupyter-widgets/base",
      "model_module_version": "1.2.0",
      "model_name": "LayoutModel",
      "state": {}
     },
     "dd4248ca691a43aaa813872567bac25d": {
      "model_module": "@jupyter-widgets/controls",
      "model_module_version": "1.5.0",
      "model_name": "HTMLModel",
      "state": {
       "layout": "IPY_MODEL_f5db5599272e469e9016b878f668bea1",
       "style": "IPY_MODEL_51a21ca4dfc8472d9681dcd1908c5612",
       "value": " 10000/10000 [00:19&lt;00:00, 481.14it/s]"
      }
     },
     "dd7bb62d22fc457093ae9ff76ca2d8c8": {
      "model_module": "@jupyter-widgets/controls",
      "model_module_version": "1.5.0",
      "model_name": "HBoxModel",
      "state": {
       "children": [
        "IPY_MODEL_58db8befb2644833b51c94bc9d0a3b42",
        "IPY_MODEL_f5f7af4b928744679e4c17a1935d8a39",
        "IPY_MODEL_56fdae8c284a49ba8066dcd8f89882dd"
       ],
       "layout": "IPY_MODEL_d23ceb26a3a545c2bc326e42873db4ed"
      }
     },
     "dd9a7e456a9843b2851e7334b027328a": {
      "model_module": "@jupyter-widgets/controls",
      "model_module_version": "1.5.0",
      "model_name": "DescriptionStyleModel",
      "state": {
       "description_width": ""
      }
     },
     "ddcb2b1727d94a448d4ff200a5fbb1b3": {
      "model_module": "@jupyter-widgets/controls",
      "model_module_version": "1.5.0",
      "model_name": "FloatProgressModel",
      "state": {
       "bar_style": "success",
       "layout": "IPY_MODEL_3420236602c047e2aa6c2a204b63bc76",
       "max": 10000,
       "style": "IPY_MODEL_cb100b30f2074952898c10dc7c6716aa",
       "value": 10000
      }
     },
     "dde43af4e25a41af910c71a69d2c8c6c": {
      "model_module": "@jupyter-widgets/base",
      "model_module_version": "1.2.0",
      "model_name": "LayoutModel",
      "state": {}
     },
     "ddfea90b2125438eadb34219887f3838": {
      "model_module": "@jupyter-widgets/controls",
      "model_module_version": "1.5.0",
      "model_name": "HBoxModel",
      "state": {
       "children": [
        "IPY_MODEL_99bfc154d24646ab885bbdc58805f829",
        "IPY_MODEL_76fdaf669f324b1f8510ee05ed7f082a",
        "IPY_MODEL_8b84ad5d8e4540d293393e338e5f7b2c"
       ],
       "layout": "IPY_MODEL_906909de96c34633b15b8380c2768e62"
      }
     },
     "de07fa154ccc41d296dfb48438a1bed9": {
      "model_module": "@jupyter-widgets/controls",
      "model_module_version": "1.5.0",
      "model_name": "HBoxModel",
      "state": {
       "children": [
        "IPY_MODEL_05333ca29fc04212bc7765a0e108ade2",
        "IPY_MODEL_5164dc8177274f24832f4914f46274bb",
        "IPY_MODEL_f20f85a3fae54a1aa0b4541528f00be6"
       ],
       "layout": "IPY_MODEL_c6afb996d53646929af5bfc3c9c56c0b"
      }
     },
     "de2074b175574b04bb8e0e3c1923a375": {
      "model_module": "@jupyter-widgets/base",
      "model_module_version": "1.2.0",
      "model_name": "LayoutModel",
      "state": {}
     },
     "de368f0a4d8f48429ddd5d309bbf5dfb": {
      "model_module": "@jupyter-widgets/base",
      "model_module_version": "1.2.0",
      "model_name": "LayoutModel",
      "state": {}
     },
     "de8f6f87be554a7d962fcb4b651c999c": {
      "model_module": "@jupyter-widgets/controls",
      "model_module_version": "1.5.0",
      "model_name": "HTMLModel",
      "state": {
       "layout": "IPY_MODEL_b2665dc75b09484cb97b626d9d539ddb",
       "style": "IPY_MODEL_a2bdd5982447423ea455fbdd5b396cef",
       "value": " 10000/10000 [00:24&lt;00:00, 406.45it/s]"
      }
     },
     "deeee87334e24a78b5d25a6ccfa7d347": {
      "model_module": "@jupyter-widgets/controls",
      "model_module_version": "1.5.0",
      "model_name": "HTMLModel",
      "state": {
       "layout": "IPY_MODEL_e80cbe521cb84783bc38d27916a3f37c",
       "style": "IPY_MODEL_8fc2faf60fc54f65879150bfc8976350",
       "value": " 0/3 [00:19&lt;?, ?it/s]"
      }
     },
     "def3795d222f45efa40d310cb27a31f2": {
      "model_module": "@jupyter-widgets/base",
      "model_module_version": "1.2.0",
      "model_name": "LayoutModel",
      "state": {}
     },
     "df2d5f4a4b6b478f8f64486b32eff52b": {
      "model_module": "@jupyter-widgets/controls",
      "model_module_version": "1.5.0",
      "model_name": "HBoxModel",
      "state": {
       "children": [
        "IPY_MODEL_a34cee25336746279045f465f2e361ba",
        "IPY_MODEL_9f4e1895008e424095699814bc7a9fd9",
        "IPY_MODEL_5e08dbf97d0842d2988982ebe9f9ebc8"
       ],
       "layout": "IPY_MODEL_9170f48a35984a4b9e23a1b1cb5f220a"
      }
     },
     "df58333952504c1995b25c5fc206c882": {
      "model_module": "@jupyter-widgets/base",
      "model_module_version": "1.2.0",
      "model_name": "LayoutModel",
      "state": {}
     },
     "df80ace792e042a196bdf2b40cdc366d": {
      "model_module": "@jupyter-widgets/controls",
      "model_module_version": "1.5.0",
      "model_name": "FloatProgressModel",
      "state": {
       "bar_style": "success",
       "layout": "IPY_MODEL_6241814bfc21444ab82c543d65e9d44c",
       "max": 10000,
       "style": "IPY_MODEL_4caf2c6eda99419eb89b8445db8cbc8d",
       "value": 10000
      }
     },
     "dfb9a396b63d43e79320ed67624af383": {
      "model_module": "@jupyter-widgets/controls",
      "model_module_version": "1.5.0",
      "model_name": "DescriptionStyleModel",
      "state": {
       "description_width": ""
      }
     },
     "dfc8acf55cbf493c8485162a0b4d8600": {
      "model_module": "@jupyter-widgets/controls",
      "model_module_version": "1.5.0",
      "model_name": "ProgressStyleModel",
      "state": {
       "description_width": ""
      }
     },
     "e029500baf864033a6126ed898f74132": {
      "model_module": "@jupyter-widgets/base",
      "model_module_version": "1.2.0",
      "model_name": "LayoutModel",
      "state": {}
     },
     "e07adfc5b5b449ad83d2d81ab019ce14": {
      "model_module": "@jupyter-widgets/controls",
      "model_module_version": "1.5.0",
      "model_name": "HTMLModel",
      "state": {
       "layout": "IPY_MODEL_6cc4f9e7aeac49bda84cb731a2df9484",
       "style": "IPY_MODEL_ffc4f6268294471a85d66a62414f2887",
       "value": "MCMC Iteration: 100%"
      }
     },
     "e09b955bbab84972baad5c9540237a08": {
      "model_module": "@jupyter-widgets/base",
      "model_module_version": "1.2.0",
      "model_name": "LayoutModel",
      "state": {}
     },
     "e0b0f9a1c5354ca3b743c0b7973d902d": {
      "model_module": "@jupyter-widgets/base",
      "model_module_version": "1.2.0",
      "model_name": "LayoutModel",
      "state": {}
     },
     "e0cdebc1158b48398b24218cd077b20b": {
      "model_module": "@jupyter-widgets/controls",
      "model_module_version": "1.5.0",
      "model_name": "HTMLModel",
      "state": {
       "layout": "IPY_MODEL_746863a826f14e47a30ca8a47f505bdb",
       "style": "IPY_MODEL_304ce7879af3402f8a1d7c31fb6f2a0d",
       "value": " 10000/10000 [00:22&lt;00:00, 380.88it/s]"
      }
     },
     "e0ce4987608146be8e7a5c19fe3c0852": {
      "model_module": "@jupyter-widgets/controls",
      "model_module_version": "1.5.0",
      "model_name": "ProgressStyleModel",
      "state": {
       "description_width": ""
      }
     },
     "e0dd5376a5ad4cc19cb5010f0ad1270c": {
      "model_module": "@jupyter-widgets/base",
      "model_module_version": "1.2.0",
      "model_name": "LayoutModel",
      "state": {}
     },
     "e0e07786c9604c6a9d1c901181aa33e2": {
      "model_module": "@jupyter-widgets/controls",
      "model_module_version": "1.5.0",
      "model_name": "HBoxModel",
      "state": {
       "children": [
        "IPY_MODEL_68df9cffbf8743eaa64e45aa473c7958",
        "IPY_MODEL_e669505e6b5a4fb8994b200b893b4963",
        "IPY_MODEL_13ab6845b0e34dbeae943a9ee33160ff"
       ],
       "layout": "IPY_MODEL_82f22adb15934a5fa9789edcb1996cc6"
      }
     },
     "e102508bd6674e7580b4ef4ea3fd599c": {
      "model_module": "@jupyter-widgets/controls",
      "model_module_version": "1.5.0",
      "model_name": "ProgressStyleModel",
      "state": {
       "description_width": ""
      }
     },
     "e14b478503ad463aa2736034f5cf90f1": {
      "model_module": "@jupyter-widgets/controls",
      "model_module_version": "1.5.0",
      "model_name": "DescriptionStyleModel",
      "state": {
       "description_width": ""
      }
     },
     "e18dcf4753f448a395a97c53fa8cc03c": {
      "model_module": "@jupyter-widgets/controls",
      "model_module_version": "1.5.0",
      "model_name": "DescriptionStyleModel",
      "state": {
       "description_width": ""
      }
     },
     "e1d7ae3d0f064eb0b8c11775b72e00af": {
      "model_module": "@jupyter-widgets/controls",
      "model_module_version": "1.5.0",
      "model_name": "DescriptionStyleModel",
      "state": {
       "description_width": ""
      }
     },
     "e1f43c59612d479bb6fa007762f697d1": {
      "model_module": "@jupyter-widgets/controls",
      "model_module_version": "1.5.0",
      "model_name": "DescriptionStyleModel",
      "state": {
       "description_width": ""
      }
     },
     "e249fe73e1434b06bc3fd091b47d07f5": {
      "model_module": "@jupyter-widgets/controls",
      "model_module_version": "1.5.0",
      "model_name": "HTMLModel",
      "state": {
       "layout": "IPY_MODEL_1d46691b1f3f40e685a891d0e5b80320",
       "style": "IPY_MODEL_e14b478503ad463aa2736034f5cf90f1",
       "value": "MCMC Iteration: 100%"
      }
     },
     "e2a4fe4c3e09442981ef961f2a0cea70": {
      "model_module": "@jupyter-widgets/controls",
      "model_module_version": "1.5.0",
      "model_name": "ProgressStyleModel",
      "state": {
       "description_width": ""
      }
     },
     "e2a6efe9742c407d8d8576e0e16edc32": {
      "model_module": "@jupyter-widgets/controls",
      "model_module_version": "1.5.0",
      "model_name": "FloatProgressModel",
      "state": {
       "bar_style": "success",
       "layout": "IPY_MODEL_c8a3df9878db44a59a8a5f70f6386536",
       "max": 10000,
       "style": "IPY_MODEL_e69a02a6f09046fea28f2f32ee5d031c",
       "value": 10000
      }
     },
     "e31c649ac5024ca6b5b97608207026cf": {
      "model_module": "@jupyter-widgets/base",
      "model_module_version": "1.2.0",
      "model_name": "LayoutModel",
      "state": {}
     },
     "e33f7089b9944843a39b46871d221f97": {
      "model_module": "@jupyter-widgets/controls",
      "model_module_version": "1.5.0",
      "model_name": "HTMLModel",
      "state": {
       "layout": "IPY_MODEL_305b7c3b241d4c42a199831b342a6082",
       "style": "IPY_MODEL_aa0fb8de21c2424c8a96218df2300dba",
       "value": "MCMC Iteration: 100%"
      }
     },
     "e34ac0404ef344baa640e4dc71ae8d3b": {
      "model_module": "@jupyter-widgets/base",
      "model_module_version": "1.2.0",
      "model_name": "LayoutModel",
      "state": {}
     },
     "e34c883a95174ab29c533fdeb5b561ae": {
      "model_module": "@jupyter-widgets/controls",
      "model_module_version": "1.5.0",
      "model_name": "FloatProgressModel",
      "state": {
       "bar_style": "success",
       "layout": "IPY_MODEL_343f2851686a45fc966cb6721c1a6e5c",
       "max": 10000,
       "style": "IPY_MODEL_3352d8c56052461883ae75d35e71059c",
       "value": 10000
      }
     },
     "e354c7c8aeba4592a614d12fec42fd55": {
      "model_module": "@jupyter-widgets/controls",
      "model_module_version": "1.5.0",
      "model_name": "FloatProgressModel",
      "state": {
       "bar_style": "success",
       "layout": "IPY_MODEL_a216a21553024cc3b47fcb42143d07ce",
       "max": 10000,
       "style": "IPY_MODEL_88f722763fe9442ea8a15a236b85358a",
       "value": 10000
      }
     },
     "e3bb45648ab14f60a79463f3f00875c0": {
      "model_module": "@jupyter-widgets/base",
      "model_module_version": "1.2.0",
      "model_name": "LayoutModel",
      "state": {}
     },
     "e3c6bf8cf32349038808ec74fbcea353": {
      "model_module": "@jupyter-widgets/controls",
      "model_module_version": "1.5.0",
      "model_name": "FloatProgressModel",
      "state": {
       "bar_style": "success",
       "layout": "IPY_MODEL_7fd4c415655e42c283bf3acc4292931f",
       "max": 10000,
       "style": "IPY_MODEL_9120e9ea6d6646e789e028e9cf1063cf",
       "value": 10000
      }
     },
     "e3ff51cf1280491eaf1f2530072d7258": {
      "model_module": "@jupyter-widgets/controls",
      "model_module_version": "1.5.0",
      "model_name": "FloatProgressModel",
      "state": {
       "bar_style": "success",
       "layout": "IPY_MODEL_c55d216d907a40a281e80427cb989019",
       "max": 10000,
       "style": "IPY_MODEL_f22993013a4e49b19656fe69662075f4",
       "value": 10000
      }
     },
     "e44e8817f9514ce1989bd5ddaade86a1": {
      "model_module": "@jupyter-widgets/base",
      "model_module_version": "1.2.0",
      "model_name": "LayoutModel",
      "state": {}
     },
     "e4aebadaf1804613bef182505fa2a5e1": {
      "model_module": "@jupyter-widgets/controls",
      "model_module_version": "1.5.0",
      "model_name": "FloatProgressModel",
      "state": {
       "bar_style": "success",
       "layout": "IPY_MODEL_7383ad124b804795b59dd03f44460b20",
       "max": 10000,
       "style": "IPY_MODEL_89b211c74b8a496c82ccb2c892db6ee4",
       "value": 10000
      }
     },
     "e4d605eb277a44f0a48320b58cbde4e2": {
      "model_module": "@jupyter-widgets/controls",
      "model_module_version": "1.5.0",
      "model_name": "HTMLModel",
      "state": {
       "layout": "IPY_MODEL_5b197aebd5ff405db66eaa93ef972995",
       "style": "IPY_MODEL_e1f43c59612d479bb6fa007762f697d1",
       "value": "MCMC Iteration: 100%"
      }
     },
     "e4ef405189f048579b93a60cca178be4": {
      "model_module": "@jupyter-widgets/base",
      "model_module_version": "1.2.0",
      "model_name": "LayoutModel",
      "state": {}
     },
     "e4fd04ada08e437b80c0957fb9da9e60": {
      "model_module": "@jupyter-widgets/controls",
      "model_module_version": "1.5.0",
      "model_name": "DescriptionStyleModel",
      "state": {
       "description_width": ""
      }
     },
     "e503545443b340cc9bb226fe9938af01": {
      "model_module": "@jupyter-widgets/base",
      "model_module_version": "1.2.0",
      "model_name": "LayoutModel",
      "state": {}
     },
     "e5685a7c485549029d8a79f7685d20a4": {
      "model_module": "@jupyter-widgets/controls",
      "model_module_version": "1.5.0",
      "model_name": "HTMLModel",
      "state": {
       "layout": "IPY_MODEL_fee09d8dbd9c439595392f0212f60978",
       "style": "IPY_MODEL_b29b298c62074265ad5acf5c295ce16c",
       "value": " 10000/10000 [00:22&lt;00:00, 369.80it/s]"
      }
     },
     "e5766396b0234d5c878ea4777bc9aba6": {
      "model_module": "@jupyter-widgets/base",
      "model_module_version": "1.2.0",
      "model_name": "LayoutModel",
      "state": {}
     },
     "e5ab2a6ec5fc4899bb53c9c875050789": {
      "model_module": "@jupyter-widgets/base",
      "model_module_version": "1.2.0",
      "model_name": "LayoutModel",
      "state": {}
     },
     "e5c334f70f434847935cc7ef56d19fb1": {
      "model_module": "@jupyter-widgets/controls",
      "model_module_version": "1.5.0",
      "model_name": "HBoxModel",
      "state": {
       "children": [
        "IPY_MODEL_109ea1601a7443adb534ef25263c6ee2",
        "IPY_MODEL_c5cd210f8ef84b5bb3b0f9e04b8f62e4",
        "IPY_MODEL_6ca091bc10f94253ae9c7bd206ffd42c"
       ],
       "layout": "IPY_MODEL_97024c5de9fb4f0790e983de33f843fc"
      }
     },
     "e5c9efd4c72543518fd43ae939313dc6": {
      "model_module": "@jupyter-widgets/controls",
      "model_module_version": "1.5.0",
      "model_name": "FloatProgressModel",
      "state": {
       "bar_style": "success",
       "layout": "IPY_MODEL_43e6c8214e2c407889f09a23bf8e7525",
       "max": 10000,
       "style": "IPY_MODEL_02b60af8b7ed403c818bd627fcad8d97",
       "value": 10000
      }
     },
     "e5e4638295b34acbb051f9b3a8511384": {
      "model_module": "@jupyter-widgets/base",
      "model_module_version": "1.2.0",
      "model_name": "LayoutModel",
      "state": {}
     },
     "e5f441f231354045808ebee27fd6c500": {
      "model_module": "@jupyter-widgets/base",
      "model_module_version": "1.2.0",
      "model_name": "LayoutModel",
      "state": {}
     },
     "e669505e6b5a4fb8994b200b893b4963": {
      "model_module": "@jupyter-widgets/controls",
      "model_module_version": "1.5.0",
      "model_name": "FloatProgressModel",
      "state": {
       "bar_style": "success",
       "layout": "IPY_MODEL_2520396d0e8148fea3846fa3a879c9d3",
       "max": 10000,
       "style": "IPY_MODEL_37538abdab7f45479457c36b6722717f",
       "value": 10000
      }
     },
     "e69a02a6f09046fea28f2f32ee5d031c": {
      "model_module": "@jupyter-widgets/controls",
      "model_module_version": "1.5.0",
      "model_name": "ProgressStyleModel",
      "state": {
       "description_width": ""
      }
     },
     "e6c3ccf1abdc4f7eb0cbe1eb943526a4": {
      "model_module": "@jupyter-widgets/controls",
      "model_module_version": "1.5.0",
      "model_name": "HTMLModel",
      "state": {
       "layout": "IPY_MODEL_78328053deda46fd9239e5094c66f9b5",
       "style": "IPY_MODEL_5cd44604ae034570a279d2b20de015e9",
       "value": "MCMC Iteration: 100%"
      }
     },
     "e6d24d237cd84e0d9ca6d4a9614a80ac": {
      "model_module": "@jupyter-widgets/base",
      "model_module_version": "1.2.0",
      "model_name": "LayoutModel",
      "state": {}
     },
     "e6dfa5eaf735401997c18977459480cd": {
      "model_module": "@jupyter-widgets/base",
      "model_module_version": "1.2.0",
      "model_name": "LayoutModel",
      "state": {}
     },
     "e76c5bdcfc7d4decb07e3975a10b35cd": {
      "model_module": "@jupyter-widgets/controls",
      "model_module_version": "1.5.0",
      "model_name": "ProgressStyleModel",
      "state": {
       "description_width": ""
      }
     },
     "e78a7a6afcd3420b883f0bbd85c5de14": {
      "model_module": "@jupyter-widgets/controls",
      "model_module_version": "1.5.0",
      "model_name": "FloatProgressModel",
      "state": {
       "bar_style": "success",
       "layout": "IPY_MODEL_c35f0fe9d4114d22ab55df24b3c58f97",
       "max": 10000,
       "style": "IPY_MODEL_33f98ac8d2be48fd8b4efe744e344877",
       "value": 10000
      }
     },
     "e7ab9d4d12b54921b7351678859ab174": {
      "model_module": "@jupyter-widgets/controls",
      "model_module_version": "1.5.0",
      "model_name": "HTMLModel",
      "state": {
       "layout": "IPY_MODEL_4560c0c62e2a4f0b9dd026bf443f6056",
       "style": "IPY_MODEL_6fa6fa5924654641b7f3765ff76a160e",
       "value": "MCMC Iteration: 100%"
      }
     },
     "e7c875343ab64617a333c2bc9b1b9970": {
      "model_module": "@jupyter-widgets/controls",
      "model_module_version": "1.5.0",
      "model_name": "ProgressStyleModel",
      "state": {
       "description_width": ""
      }
     },
     "e7cbdd6da09647dea2ff9830f1b533af": {
      "model_module": "@jupyter-widgets/controls",
      "model_module_version": "1.5.0",
      "model_name": "DescriptionStyleModel",
      "state": {
       "description_width": ""
      }
     },
     "e80cbe521cb84783bc38d27916a3f37c": {
      "model_module": "@jupyter-widgets/base",
      "model_module_version": "1.2.0",
      "model_name": "LayoutModel",
      "state": {}
     },
     "e82360759016442c9115c430739def99": {
      "model_module": "@jupyter-widgets/controls",
      "model_module_version": "1.5.0",
      "model_name": "HBoxModel",
      "state": {
       "children": [
        "IPY_MODEL_105cdbad27b9478cbb25c787bf9db1b9",
        "IPY_MODEL_7dfc6aa9cd794c2e825d4ac1128ef290",
        "IPY_MODEL_1feb3ae5521a412681d5cc69db67b817"
       ],
       "layout": "IPY_MODEL_db61bbec816c48c98c5baea44c83da3d"
      }
     },
     "e83311abbeae4c15a2575b99fd74eb05": {
      "model_module": "@jupyter-widgets/controls",
      "model_module_version": "1.5.0",
      "model_name": "ProgressStyleModel",
      "state": {
       "description_width": ""
      }
     },
     "e8732e88d5ec46f4a370de80acc8785d": {
      "model_module": "@jupyter-widgets/controls",
      "model_module_version": "1.5.0",
      "model_name": "DescriptionStyleModel",
      "state": {
       "description_width": ""
      }
     },
     "e898ba95235f4c7897b72a3414bf1ce8": {
      "model_module": "@jupyter-widgets/controls",
      "model_module_version": "1.5.0",
      "model_name": "DescriptionStyleModel",
      "state": {
       "description_width": ""
      }
     },
     "e8e5c5c3a1ac4677b635d2edcfe15d32": {
      "model_module": "@jupyter-widgets/controls",
      "model_module_version": "1.5.0",
      "model_name": "HTMLModel",
      "state": {
       "layout": "IPY_MODEL_81420d88b2124eeca36c83e7564f2fb5",
       "style": "IPY_MODEL_68addc73f2cb456cb56b23563825958a",
       "value": "MCMC Iteration: 100%"
      }
     },
     "e938e43f98684b0b98a6b2e130e44d1d": {
      "model_module": "@jupyter-widgets/controls",
      "model_module_version": "1.5.0",
      "model_name": "FloatProgressModel",
      "state": {
       "bar_style": "success",
       "layout": "IPY_MODEL_a8ba9881eac74bfe9cfcf36c9646f78c",
       "max": 10000,
       "style": "IPY_MODEL_e76c5bdcfc7d4decb07e3975a10b35cd",
       "value": 10000
      }
     },
     "e954c2c4f60d421ba65e08d5c09254dc": {
      "model_module": "@jupyter-widgets/controls",
      "model_module_version": "1.5.0",
      "model_name": "HTMLModel",
      "state": {
       "layout": "IPY_MODEL_fed8df3696074ef88ef0e9048e7689e2",
       "style": "IPY_MODEL_dbcb75a6eb864a6498c18acbeb647415",
       "value": "MCMC Iteration: 100%"
      }
     },
     "e955eaa9c2c6404e83a20078443c274c": {
      "model_module": "@jupyter-widgets/controls",
      "model_module_version": "1.5.0",
      "model_name": "HBoxModel",
      "state": {
       "children": [
        "IPY_MODEL_b899b487d5e54f17909d99510c7912f2",
        "IPY_MODEL_435651c4279b4bea97dd5ad30b3120b0",
        "IPY_MODEL_0d912b92115142368fb07996079b5151"
       ],
       "layout": "IPY_MODEL_8f120628a8054871b979999b1b8c8f36"
      }
     },
     "e9598eb5b46441d98b2c6b7b80462043": {
      "model_module": "@jupyter-widgets/base",
      "model_module_version": "1.2.0",
      "model_name": "LayoutModel",
      "state": {}
     },
     "e97705a69811401fbd5fcfd8fb180f47": {
      "model_module": "@jupyter-widgets/controls",
      "model_module_version": "1.5.0",
      "model_name": "HTMLModel",
      "state": {
       "layout": "IPY_MODEL_2d5fc699e3e94ffc9b343c61289dddfd",
       "style": "IPY_MODEL_c599bc4a242a4adf978accf740b1899c",
       "value": "MCMC Iteration: 100%"
      }
     },
     "e987562902994d1eb7416ffa97545e82": {
      "model_module": "@jupyter-widgets/controls",
      "model_module_version": "1.5.0",
      "model_name": "HTMLModel",
      "state": {
       "layout": "IPY_MODEL_f0f6e41852bf476bb78b6cb513e250e8",
       "style": "IPY_MODEL_e8732e88d5ec46f4a370de80acc8785d",
       "value": "MCMC Iteration: 100%"
      }
     },
     "e9aab609d602400da4c6ceb069957f76": {
      "model_module": "@jupyter-widgets/base",
      "model_module_version": "1.2.0",
      "model_name": "LayoutModel",
      "state": {}
     },
     "e9e9c963e1144941a4babdaa0e365e4e": {
      "model_module": "@jupyter-widgets/controls",
      "model_module_version": "1.5.0",
      "model_name": "FloatProgressModel",
      "state": {
       "bar_style": "success",
       "layout": "IPY_MODEL_e9aab609d602400da4c6ceb069957f76",
       "max": 10000,
       "style": "IPY_MODEL_be9648e2542c4b0891ab7ece89a746dd",
       "value": 10000
      }
     },
     "ea164010dd6446bd9d8450200f6d04aa": {
      "model_module": "@jupyter-widgets/controls",
      "model_module_version": "1.5.0",
      "model_name": "HTMLModel",
      "state": {
       "layout": "IPY_MODEL_80a06042aaaa444da2dc2fbf4573407a",
       "style": "IPY_MODEL_ff237fc2dbb14ef4acddbad13eb6be95",
       "value": "MCMC Iteration: 100%"
      }
     },
     "ea171d61403a409daae67a26cbade889": {
      "model_module": "@jupyter-widgets/controls",
      "model_module_version": "1.5.0",
      "model_name": "DescriptionStyleModel",
      "state": {
       "description_width": ""
      }
     },
     "ea54cc1feee74b33abd4d2b442d22d43": {
      "model_module": "@jupyter-widgets/controls",
      "model_module_version": "1.5.0",
      "model_name": "HTMLModel",
      "state": {
       "layout": "IPY_MODEL_299a432e8a4b43e0b653ce0484e59b4b",
       "style": "IPY_MODEL_03afc6388a784088b00c106a473a5283",
       "value": " 10000/10000 [00:19&lt;00:00, 477.85it/s]"
      }
     },
     "ea9de88082f34feea8d84bf86de4c76c": {
      "model_module": "@jupyter-widgets/controls",
      "model_module_version": "1.5.0",
      "model_name": "DescriptionStyleModel",
      "state": {
       "description_width": ""
      }
     },
     "eae5fd9218c646e481a8b9de732317c2": {
      "model_module": "@jupyter-widgets/controls",
      "model_module_version": "1.5.0",
      "model_name": "FloatProgressModel",
      "state": {
       "bar_style": "success",
       "layout": "IPY_MODEL_a2cf5b6e601844fdb095fef0e77cec12",
       "max": 10000,
       "style": "IPY_MODEL_a4be4faef44244d0877f3fb08322ac6a",
       "value": 10000
      }
     },
     "eb4d2961317d45c08f5117f8e470974f": {
      "model_module": "@jupyter-widgets/base",
      "model_module_version": "1.2.0",
      "model_name": "LayoutModel",
      "state": {}
     },
     "ebaf56136aea4b12a4a023ed743b9f85": {
      "model_module": "@jupyter-widgets/controls",
      "model_module_version": "1.5.0",
      "model_name": "HBoxModel",
      "state": {
       "children": [
        "IPY_MODEL_6e0ab2fc60284c43a9072d0ba1d902c5",
        "IPY_MODEL_ca8ebd844fdd4251993321a34a10d8e6",
        "IPY_MODEL_61e5c302e28d438fb994e853ff88bbaf"
       ],
       "layout": "IPY_MODEL_1d18857fbe9e4fe9b3341e64a79a794c"
      }
     },
     "ebb13a0bddf34e32bf03e9d6720a2aa9": {
      "model_module": "@jupyter-widgets/controls",
      "model_module_version": "1.5.0",
      "model_name": "DescriptionStyleModel",
      "state": {
       "description_width": ""
      }
     },
     "ebeddf4bc418440192786d98039c2053": {
      "model_module": "@jupyter-widgets/base",
      "model_module_version": "1.2.0",
      "model_name": "LayoutModel",
      "state": {}
     },
     "ec18ba73f04e4cffb3fe3824f0b6eb1c": {
      "model_module": "@jupyter-widgets/base",
      "model_module_version": "1.2.0",
      "model_name": "LayoutModel",
      "state": {}
     },
     "ec21fdc43ec443449c7c476b6858d21c": {
      "model_module": "@jupyter-widgets/base",
      "model_module_version": "1.2.0",
      "model_name": "LayoutModel",
      "state": {}
     },
     "ec29609a8e3c4802b265dba2ee88111f": {
      "model_module": "@jupyter-widgets/controls",
      "model_module_version": "1.5.0",
      "model_name": "HTMLModel",
      "state": {
       "layout": "IPY_MODEL_86393b6d1ee34c94b69bb1d30dfadc5e",
       "style": "IPY_MODEL_9a37cc7db38f46499cd9d37a8fff1a26",
       "value": " 10000/10000 [00:18&lt;00:00, 627.01it/s]"
      }
     },
     "ec2c002f29404fcd9449033d669a769b": {
      "model_module": "@jupyter-widgets/base",
      "model_module_version": "1.2.0",
      "model_name": "LayoutModel",
      "state": {}
     },
     "ec4e5b35a7d44666916b462ae2230a46": {
      "model_module": "@jupyter-widgets/base",
      "model_module_version": "1.2.0",
      "model_name": "LayoutModel",
      "state": {}
     },
     "eca427a8ab6e410da65ccf9fb1731001": {
      "model_module": "@jupyter-widgets/controls",
      "model_module_version": "1.5.0",
      "model_name": "ProgressStyleModel",
      "state": {
       "description_width": ""
      }
     },
     "ed38522480444f6c8ad0be286165a4e8": {
      "model_module": "@jupyter-widgets/base",
      "model_module_version": "1.2.0",
      "model_name": "LayoutModel",
      "state": {}
     },
     "edaa725f5bd04566aad7ccd96e02b78d": {
      "model_module": "@jupyter-widgets/controls",
      "model_module_version": "1.5.0",
      "model_name": "ProgressStyleModel",
      "state": {
       "description_width": ""
      }
     },
     "edae2e63ecaa4045be88d743c6927b6d": {
      "model_module": "@jupyter-widgets/controls",
      "model_module_version": "1.5.0",
      "model_name": "FloatProgressModel",
      "state": {
       "bar_style": "success",
       "layout": "IPY_MODEL_5ed725ec1237413ea17d6906cd933da5",
       "max": 10000,
       "style": "IPY_MODEL_a8a5e7bafa684f389f7a42aea70b40b9",
       "value": 10000
      }
     },
     "ee149dd74a4740b89c62dcc0d4082eb5": {
      "model_module": "@jupyter-widgets/base",
      "model_module_version": "1.2.0",
      "model_name": "LayoutModel",
      "state": {}
     },
     "ee1dfa9459914eccb6ad76f75e5b0c17": {
      "model_module": "@jupyter-widgets/controls",
      "model_module_version": "1.5.0",
      "model_name": "HTMLModel",
      "state": {
       "layout": "IPY_MODEL_cdf1de9db0b94b94aef064ebe6542469",
       "style": "IPY_MODEL_914c103e722f40cdb3657a39ff30794e",
       "value": "MCMC Iteration: 100%"
      }
     },
     "ee73fa2e9df94f1ca895b4b795dcddbe": {
      "model_module": "@jupyter-widgets/controls",
      "model_module_version": "1.5.0",
      "model_name": "HTMLModel",
      "state": {
       "layout": "IPY_MODEL_a0e66afd89d84e87922bb4dcad9962b7",
       "style": "IPY_MODEL_1bd25f50e2b748359edd3eeb08ef2619",
       "value": "MCMC Iteration: 100%"
      }
     },
     "ee8cae5bf40148a59374eed16b1928b1": {
      "model_module": "@jupyter-widgets/controls",
      "model_module_version": "1.5.0",
      "model_name": "DescriptionStyleModel",
      "state": {
       "description_width": ""
      }
     },
     "eecf29c735c243e8b22a9c246186ac89": {
      "model_module": "@jupyter-widgets/controls",
      "model_module_version": "1.5.0",
      "model_name": "HTMLModel",
      "state": {
       "layout": "IPY_MODEL_7d08c6e8831b41d2a8c80f31dee00636",
       "style": "IPY_MODEL_4158691d0e86496fa4474ee7308baf2d",
       "value": "MCMC Iteration: 100%"
      }
     },
     "ef688c7a8bbc43a7b73bef58a69b0674": {
      "model_module": "@jupyter-widgets/controls",
      "model_module_version": "1.5.0",
      "model_name": "HTMLModel",
      "state": {
       "layout": "IPY_MODEL_15ed12adcf284710b4a51b55b60d1932",
       "style": "IPY_MODEL_4b7f0abd1b944abb8ec6eda037fafab8",
       "value": "MCMC Iteration: 100%"
      }
     },
     "ef7a5e7d0f6e4b4b92eba969a7c8b9ab": {
      "model_module": "@jupyter-widgets/base",
      "model_module_version": "1.2.0",
      "model_name": "LayoutModel",
      "state": {}
     },
     "efbe4bc98882465a9991141128c8e551": {
      "model_module": "@jupyter-widgets/controls",
      "model_module_version": "1.5.0",
      "model_name": "FloatProgressModel",
      "state": {
       "bar_style": "success",
       "layout": "IPY_MODEL_5afaeab36045418ca8d730867234ac1e",
       "max": 10000,
       "style": "IPY_MODEL_e0ce4987608146be8e7a5c19fe3c0852",
       "value": 10000
      }
     },
     "efcefd02c8ac4803917d907d5bd847ce": {
      "model_module": "@jupyter-widgets/controls",
      "model_module_version": "1.5.0",
      "model_name": "DescriptionStyleModel",
      "state": {
       "description_width": ""
      }
     },
     "efd8d31168b14cf3b6f47bc7716674fe": {
      "model_module": "@jupyter-widgets/base",
      "model_module_version": "1.2.0",
      "model_name": "LayoutModel",
      "state": {}
     },
     "f02d712e869f4cec98dfe6aab4973560": {
      "model_module": "@jupyter-widgets/base",
      "model_module_version": "1.2.0",
      "model_name": "LayoutModel",
      "state": {}
     },
     "f0481985eb8243399e8483fbb82fffb2": {
      "model_module": "@jupyter-widgets/base",
      "model_module_version": "1.2.0",
      "model_name": "LayoutModel",
      "state": {}
     },
     "f06b4b95d8314ff38f0681340f191f7b": {
      "model_module": "@jupyter-widgets/controls",
      "model_module_version": "1.5.0",
      "model_name": "HBoxModel",
      "state": {
       "children": [
        "IPY_MODEL_54afc173782f486a96ce397da78de38b",
        "IPY_MODEL_e938e43f98684b0b98a6b2e130e44d1d",
        "IPY_MODEL_2133442b0d2c468aafa0aa65d9c51a10"
       ],
       "layout": "IPY_MODEL_f903149020b046b086a89ba71d102c9b"
      }
     },
     "f0981dcc0b4945abba50ec9fdd1bded3": {
      "model_module": "@jupyter-widgets/base",
      "model_module_version": "1.2.0",
      "model_name": "LayoutModel",
      "state": {}
     },
     "f0c4dc1e3e4043ad9952b2dad46bffec": {
      "model_module": "@jupyter-widgets/controls",
      "model_module_version": "1.5.0",
      "model_name": "FloatProgressModel",
      "state": {
       "bar_style": "success",
       "layout": "IPY_MODEL_c089814cc54948048c33739c5800ffc3",
       "max": 10000,
       "style": "IPY_MODEL_2de8806f55854f8c8be1a6e5401019e5",
       "value": 10000
      }
     },
     "f0f6e41852bf476bb78b6cb513e250e8": {
      "model_module": "@jupyter-widgets/base",
      "model_module_version": "1.2.0",
      "model_name": "LayoutModel",
      "state": {}
     },
     "f101dda3641d44a39f3000cee273d759": {
      "model_module": "@jupyter-widgets/controls",
      "model_module_version": "1.5.0",
      "model_name": "HBoxModel",
      "state": {
       "children": [
        "IPY_MODEL_b83cc3f8c0824fa2bcae08aed9560a60",
        "IPY_MODEL_0a0e52036d7240e480fea82c164f52ab",
        "IPY_MODEL_88f1a0ab92c24d4f877a6b1e3be46d03"
       ],
       "layout": "IPY_MODEL_7b94e49602ad4582a5b04a879eeb2a2c"
      }
     },
     "f133ca7423f042adb1ed36743fbaf64c": {
      "model_module": "@jupyter-widgets/base",
      "model_module_version": "1.2.0",
      "model_name": "LayoutModel",
      "state": {}
     },
     "f13fb93cf8454fe29793702696315eb3": {
      "model_module": "@jupyter-widgets/controls",
      "model_module_version": "1.5.0",
      "model_name": "FloatProgressModel",
      "state": {
       "bar_style": "success",
       "layout": "IPY_MODEL_e34ac0404ef344baa640e4dc71ae8d3b",
       "max": 10000,
       "style": "IPY_MODEL_4452f8ccee1244d3b13f6687f309c9d6",
       "value": 10000
      }
     },
     "f19886bf90f84ab3b1af91135a46f449": {
      "model_module": "@jupyter-widgets/controls",
      "model_module_version": "1.5.0",
      "model_name": "DescriptionStyleModel",
      "state": {
       "description_width": ""
      }
     },
     "f19eb426c134491bb74477074416a5cf": {
      "model_module": "@jupyter-widgets/base",
      "model_module_version": "1.2.0",
      "model_name": "LayoutModel",
      "state": {}
     },
     "f1adc02aba7e4166bd5c8c4a9d8b1b00": {
      "model_module": "@jupyter-widgets/controls",
      "model_module_version": "1.5.0",
      "model_name": "DescriptionStyleModel",
      "state": {
       "description_width": ""
      }
     },
     "f209bd39c3a648219ebc0dcca82a147f": {
      "model_module": "@jupyter-widgets/controls",
      "model_module_version": "1.5.0",
      "model_name": "HTMLModel",
      "state": {
       "layout": "IPY_MODEL_a6768370a4834832b6b64e0c7759c030",
       "style": "IPY_MODEL_30bef877d7e4464882fa9772308584c4",
       "value": "MCMC Iteration: 100%"
      }
     },
     "f20f85a3fae54a1aa0b4541528f00be6": {
      "model_module": "@jupyter-widgets/controls",
      "model_module_version": "1.5.0",
      "model_name": "HTMLModel",
      "state": {
       "layout": "IPY_MODEL_bd580a33e12a4f2991448525eab95aa3",
       "style": "IPY_MODEL_7e129109447e4aa4a8ff984bf7707f49",
       "value": " 10000/10000 [00:07&lt;00:00, 1312.07it/s]"
      }
     },
     "f22993013a4e49b19656fe69662075f4": {
      "model_module": "@jupyter-widgets/controls",
      "model_module_version": "1.5.0",
      "model_name": "ProgressStyleModel",
      "state": {
       "description_width": ""
      }
     },
     "f24d073b81784d7a913f0f73611f7664": {
      "model_module": "@jupyter-widgets/controls",
      "model_module_version": "1.5.0",
      "model_name": "HBoxModel",
      "state": {
       "children": [
        "IPY_MODEL_bfb348951928448f8ce38cfb20963bbc",
        "IPY_MODEL_85b9e83950a94a868356fa41f5b33262",
        "IPY_MODEL_3096049b53fc498092844d0939eb56a6"
       ],
       "layout": "IPY_MODEL_fbf25bf9f70846c786a4d609a060b6de"
      }
     },
     "f285cb12ead9429e8857ba66f6029db7": {
      "model_module": "@jupyter-widgets/controls",
      "model_module_version": "1.5.0",
      "model_name": "FloatProgressModel",
      "state": {
       "bar_style": "success",
       "layout": "IPY_MODEL_d92e8ce60e1b4a0d904b7ff820dce03d",
       "max": 10000,
       "style": "IPY_MODEL_8df0d8460a764573bc62765452d8a547",
       "value": 10000
      }
     },
     "f2a0618cda3544e38b5739a39cb8a903": {
      "model_module": "@jupyter-widgets/controls",
      "model_module_version": "1.5.0",
      "model_name": "HTMLModel",
      "state": {
       "layout": "IPY_MODEL_4f13eae7d59f42ad8427332c0e7bf796",
       "style": "IPY_MODEL_5b522b148a6340b5a231d06e8707b032",
       "value": "MCMC Iteration: 100%"
      }
     },
     "f2c211d38a7d4c339ac0aa35cdca4311": {
      "model_module": "@jupyter-widgets/controls",
      "model_module_version": "1.5.0",
      "model_name": "DescriptionStyleModel",
      "state": {
       "description_width": ""
      }
     },
     "f31bb6fa7cb342abb1c5d6e4f955b2a5": {
      "model_module": "@jupyter-widgets/base",
      "model_module_version": "1.2.0",
      "model_name": "LayoutModel",
      "state": {}
     },
     "f366941aa4e24c8d999f34a23bbf2a8d": {
      "model_module": "@jupyter-widgets/controls",
      "model_module_version": "1.5.0",
      "model_name": "FloatProgressModel",
      "state": {
       "bar_style": "success",
       "layout": "IPY_MODEL_79ecc77362a14acca11b38cde4cc9839",
       "max": 3,
       "style": "IPY_MODEL_f4e35c773e0048ebab3bb77d05185d20",
       "value": 3
      }
     },
     "f38a871f14084e47ab7ecc4a52ddd101": {
      "model_module": "@jupyter-widgets/controls",
      "model_module_version": "1.5.0",
      "model_name": "DescriptionStyleModel",
      "state": {
       "description_width": ""
      }
     },
     "f3c617727ce0426880736aa991c7e14c": {
      "model_module": "@jupyter-widgets/base",
      "model_module_version": "1.2.0",
      "model_name": "LayoutModel",
      "state": {}
     },
     "f3e23b84476e4c5ab66787e35a10421e": {
      "model_module": "@jupyter-widgets/controls",
      "model_module_version": "1.5.0",
      "model_name": "HTMLModel",
      "state": {
       "layout": "IPY_MODEL_7edf12c565424577bc643bca009b0fad",
       "style": "IPY_MODEL_1201d2574b58461baa6fa93d2233e9e6",
       "value": " 10000/10000 [00:22&lt;00:00, 442.51it/s]"
      }
     },
     "f42009e163174f83a658ba6dcc0412e0": {
      "model_module": "@jupyter-widgets/base",
      "model_module_version": "1.2.0",
      "model_name": "LayoutModel",
      "state": {}
     },
     "f43a8135ab1c43c19cbb83a205d884cd": {
      "model_module": "@jupyter-widgets/controls",
      "model_module_version": "1.5.0",
      "model_name": "HTMLModel",
      "state": {
       "layout": "IPY_MODEL_a9f24ac5abab45ecacf5e6706ebbf98f",
       "style": "IPY_MODEL_f1adc02aba7e4166bd5c8c4a9d8b1b00",
       "value": "MCMC Iteration: 100%"
      }
     },
     "f43ea7c9fe5a48d7ad156733d809b00e": {
      "model_module": "@jupyter-widgets/controls",
      "model_module_version": "1.5.0",
      "model_name": "DescriptionStyleModel",
      "state": {
       "description_width": ""
      }
     },
     "f44bb9487c764c5c927712fd43d7fdcd": {
      "model_module": "@jupyter-widgets/base",
      "model_module_version": "1.2.0",
      "model_name": "LayoutModel",
      "state": {}
     },
     "f4623656432c4a3096911786edcdc1a2": {
      "model_module": "@jupyter-widgets/base",
      "model_module_version": "1.2.0",
      "model_name": "LayoutModel",
      "state": {}
     },
     "f46a416c4f0f41698508a3fa21923560": {
      "model_module": "@jupyter-widgets/base",
      "model_module_version": "1.2.0",
      "model_name": "LayoutModel",
      "state": {}
     },
     "f486f7c4aca54d898fa3b71abfeeb617": {
      "model_module": "@jupyter-widgets/controls",
      "model_module_version": "1.5.0",
      "model_name": "FloatProgressModel",
      "state": {
       "bar_style": "success",
       "layout": "IPY_MODEL_70c2b521ece046568ac7d657394d684c",
       "max": 10000,
       "style": "IPY_MODEL_2484b9c41a1b4b3785e99098a49852f4",
       "value": 10000
      }
     },
     "f4e1351cbc68440f81e5b5fe22b337c5": {
      "model_module": "@jupyter-widgets/base",
      "model_module_version": "1.2.0",
      "model_name": "LayoutModel",
      "state": {}
     },
     "f4e35c773e0048ebab3bb77d05185d20": {
      "model_module": "@jupyter-widgets/controls",
      "model_module_version": "1.5.0",
      "model_name": "ProgressStyleModel",
      "state": {
       "description_width": ""
      }
     },
     "f4e9571d2c6c4c5cb6ac1fc8c9352123": {
      "model_module": "@jupyter-widgets/controls",
      "model_module_version": "1.5.0",
      "model_name": "HBoxModel",
      "state": {
       "children": [
        "IPY_MODEL_479f34df6319475b95b991d06c2f3ecf",
        "IPY_MODEL_f13fb93cf8454fe29793702696315eb3",
        "IPY_MODEL_53de7f57571c410abcbf71e3309661dd"
       ],
       "layout": "IPY_MODEL_56ced48ee85c487b8f8e6c0e31de7ad6"
      }
     },
     "f4ff17cbaa1d40148e2672d80e48ba2c": {
      "model_module": "@jupyter-widgets/base",
      "model_module_version": "1.2.0",
      "model_name": "LayoutModel",
      "state": {}
     },
     "f550acc5e7bd43b3bbffc422c2201f64": {
      "model_module": "@jupyter-widgets/controls",
      "model_module_version": "1.5.0",
      "model_name": "DescriptionStyleModel",
      "state": {
       "description_width": ""
      }
     },
     "f570fb77e8d3492e9ecdd9f69b13156b": {
      "model_module": "@jupyter-widgets/base",
      "model_module_version": "1.2.0",
      "model_name": "LayoutModel",
      "state": {}
     },
     "f59a98faba994177a464baba31b65421": {
      "model_module": "@jupyter-widgets/controls",
      "model_module_version": "1.5.0",
      "model_name": "DescriptionStyleModel",
      "state": {
       "description_width": ""
      }
     },
     "f5ced9348ad642d6a7a3bca7afd93597": {
      "model_module": "@jupyter-widgets/controls",
      "model_module_version": "1.5.0",
      "model_name": "FloatProgressModel",
      "state": {
       "bar_style": "success",
       "layout": "IPY_MODEL_4437b159a9b14a1f835ba2e4a870deb5",
       "max": 10000,
       "style": "IPY_MODEL_35cff58cd5524957b85a794dbbe8fb6d",
       "value": 10000
      }
     },
     "f5d148cb90064544b4744fb6355d2ced": {
      "model_module": "@jupyter-widgets/base",
      "model_module_version": "1.2.0",
      "model_name": "LayoutModel",
      "state": {}
     },
     "f5db5599272e469e9016b878f668bea1": {
      "model_module": "@jupyter-widgets/base",
      "model_module_version": "1.2.0",
      "model_name": "LayoutModel",
      "state": {}
     },
     "f5e775e4ad254cc2bb5ec946d44b3770": {
      "model_module": "@jupyter-widgets/controls",
      "model_module_version": "1.5.0",
      "model_name": "HBoxModel",
      "state": {
       "children": [
        "IPY_MODEL_b1f2ed060c1545f18142124116de402b",
        "IPY_MODEL_ad234524af1646ad9b708ba933cdfed7",
        "IPY_MODEL_da33c4b6082f448685986ae9a66ecd14"
       ],
       "layout": "IPY_MODEL_61f7f2fde1c4499eaebee358548d2f2d"
      }
     },
     "f5ed7b79d1704a0291cc373be654fe4c": {
      "model_module": "@jupyter-widgets/base",
      "model_module_version": "1.2.0",
      "model_name": "LayoutModel",
      "state": {}
     },
     "f5f7af4b928744679e4c17a1935d8a39": {
      "model_module": "@jupyter-widgets/controls",
      "model_module_version": "1.5.0",
      "model_name": "FloatProgressModel",
      "state": {
       "bar_style": "success",
       "layout": "IPY_MODEL_4bdf4e701b224fd08fbb8b45f2d534ad",
       "max": 10000,
       "style": "IPY_MODEL_47c1059603ed4d048f0b5d71bf06c67d",
       "value": 10000
      }
     },
     "f64ca9154419421f916a41ba126bc700": {
      "model_module": "@jupyter-widgets/controls",
      "model_module_version": "1.5.0",
      "model_name": "ProgressStyleModel",
      "state": {
       "description_width": ""
      }
     },
     "f6c82dfd92584899ad6c0ac7f1037669": {
      "model_module": "@jupyter-widgets/controls",
      "model_module_version": "1.5.0",
      "model_name": "HTMLModel",
      "state": {
       "layout": "IPY_MODEL_e3bb45648ab14f60a79463f3f00875c0",
       "style": "IPY_MODEL_ba8a1e7268b24377a72c2a9006315e1c",
       "value": " 10000/10000 [00:08&lt;00:00, 1280.36it/s]"
      }
     },
     "f6fe550147ec46fcbf85d3a3ae1c2aef": {
      "model_module": "@jupyter-widgets/controls",
      "model_module_version": "1.5.0",
      "model_name": "FloatProgressModel",
      "state": {
       "bar_style": "success",
       "layout": "IPY_MODEL_b200d907153149d386f347b5a4321bd0",
       "max": 10000,
       "style": "IPY_MODEL_3632291f347c42479da742eddb0251c9",
       "value": 10000
      }
     },
     "f71c95b45aa048b589ecd6d3076c920c": {
      "model_module": "@jupyter-widgets/base",
      "model_module_version": "1.2.0",
      "model_name": "LayoutModel",
      "state": {}
     },
     "f71d0601d07a4e0bb0491b5a724e5ca3": {
      "model_module": "@jupyter-widgets/base",
      "model_module_version": "1.2.0",
      "model_name": "LayoutModel",
      "state": {}
     },
     "f74f1f5f0b6b4deeb4427f3995ba6942": {
      "model_module": "@jupyter-widgets/controls",
      "model_module_version": "1.5.0",
      "model_name": "HTMLModel",
      "state": {
       "layout": "IPY_MODEL_baf9ed3436624579a56752a4cef2f52b",
       "style": "IPY_MODEL_42ccfe7fda4f44549a9f5e6381aff09b",
       "value": " 10000/10000 [00:09&lt;00:00, 1031.53it/s]"
      }
     },
     "f755bb14f89a49a88b5cb942a25522f8": {
      "model_module": "@jupyter-widgets/base",
      "model_module_version": "1.2.0",
      "model_name": "LayoutModel",
      "state": {}
     },
     "f7c26df5431d462faee83f8af78f8d76": {
      "model_module": "@jupyter-widgets/controls",
      "model_module_version": "1.5.0",
      "model_name": "HBoxModel",
      "state": {
       "children": [
        "IPY_MODEL_1ed712db8c3245eeacc5c168d545c89d",
        "IPY_MODEL_eae5fd9218c646e481a8b9de732317c2",
        "IPY_MODEL_0de03f7c86234f55aa89695de44913b2"
       ],
       "layout": "IPY_MODEL_a5f05233756846048ee7859cdff996dd"
      }
     },
     "f7cb0ba52bea43b3a583d3ae2228ff53": {
      "model_module": "@jupyter-widgets/controls",
      "model_module_version": "1.5.0",
      "model_name": "HTMLModel",
      "state": {
       "layout": "IPY_MODEL_7adc4fad99db42648a8a10c9ad5c3f2d",
       "style": "IPY_MODEL_7c6023e4331e4bd3834dc8b80ce54e84",
       "value": "MCMC Iteration: 100%"
      }
     },
     "f7cb7dfc29e44855838e2790fe0c74c2": {
      "model_module": "@jupyter-widgets/controls",
      "model_module_version": "1.5.0",
      "model_name": "HTMLModel",
      "state": {
       "layout": "IPY_MODEL_8523053388514fb18500e21d3186c9db",
       "style": "IPY_MODEL_47abc7462fda427d8195dec39b82304a",
       "value": " 10000/10000 [00:15&lt;00:00, 652.31it/s]"
      }
     },
     "f7e442f647f34e1fb2cc706abe799279": {
      "model_module": "@jupyter-widgets/base",
      "model_module_version": "1.2.0",
      "model_name": "LayoutModel",
      "state": {}
     },
     "f7f4715b0fd8452f816b5394964838c5": {
      "model_module": "@jupyter-widgets/base",
      "model_module_version": "1.2.0",
      "model_name": "LayoutModel",
      "state": {}
     },
     "f834743f127548b4a5a8f7aae3067dec": {
      "model_module": "@jupyter-widgets/controls",
      "model_module_version": "1.5.0",
      "model_name": "HTMLModel",
      "state": {
       "layout": "IPY_MODEL_47672d01b2ed41fbab7e0358c55c2e5a",
       "style": "IPY_MODEL_6f0c200ac56048038be1e9d4c3c57b66",
       "value": " 10000/10000 [00:09&lt;00:00, 1089.38it/s]"
      }
     },
     "f88da1c37603436ba69442cd30a9fd06": {
      "model_module": "@jupyter-widgets/base",
      "model_module_version": "1.2.0",
      "model_name": "LayoutModel",
      "state": {}
     },
     "f8a23fece3514e478426ee444a849a5e": {
      "model_module": "@jupyter-widgets/controls",
      "model_module_version": "1.5.0",
      "model_name": "ProgressStyleModel",
      "state": {
       "description_width": ""
      }
     },
     "f90028f4a910498289d3d72d6991d4d6": {
      "model_module": "@jupyter-widgets/controls",
      "model_module_version": "1.5.0",
      "model_name": "DescriptionStyleModel",
      "state": {
       "description_width": ""
      }
     },
     "f903149020b046b086a89ba71d102c9b": {
      "model_module": "@jupyter-widgets/base",
      "model_module_version": "1.2.0",
      "model_name": "LayoutModel",
      "state": {}
     },
     "f919f4232ca24250b7efd68fa0d6b68f": {
      "model_module": "@jupyter-widgets/controls",
      "model_module_version": "1.5.0",
      "model_name": "FloatProgressModel",
      "state": {
       "bar_style": "success",
       "layout": "IPY_MODEL_fb5d32d0e2e040a8abb84564de52cb1b",
       "max": 10000,
       "style": "IPY_MODEL_505b9e1c062c45c185a4d1f76e581fd0",
       "value": 10000
      }
     },
     "f941ecd35f564876a555f46833842954": {
      "model_module": "@jupyter-widgets/base",
      "model_module_version": "1.2.0",
      "model_name": "LayoutModel",
      "state": {}
     },
     "f95ec013db94494fb76e5156d1409bdc": {
      "model_module": "@jupyter-widgets/controls",
      "model_module_version": "1.5.0",
      "model_name": "FloatProgressModel",
      "state": {
       "bar_style": "success",
       "layout": "IPY_MODEL_888fd31e3ec74458a8c39da701f5c57c",
       "max": 10000,
       "style": "IPY_MODEL_1f6c6e012bf34dafbecccd5c4ddef848",
       "value": 10000
      }
     },
     "f9c40c0a65464fb19f2d71f3f9f182c3": {
      "model_module": "@jupyter-widgets/base",
      "model_module_version": "1.2.0",
      "model_name": "LayoutModel",
      "state": {}
     },
     "faa8a777fc83492c807b8a3390f28156": {
      "model_module": "@jupyter-widgets/controls",
      "model_module_version": "1.5.0",
      "model_name": "HTMLModel",
      "state": {
       "layout": "IPY_MODEL_8fbe0a426cba4c5a86c00c12c557cf95",
       "style": "IPY_MODEL_017119ee75dc4d65adb539a9d49f1e43",
       "value": " 10000/10000 [00:20&lt;00:00, 476.46it/s]"
      }
     },
     "fab03abee1194e3383c01a271776715d": {
      "model_module": "@jupyter-widgets/controls",
      "model_module_version": "1.5.0",
      "model_name": "HBoxModel",
      "state": {
       "children": [
        "IPY_MODEL_19e72b2967ee45079815cf5511e5e0d4",
        "IPY_MODEL_18bfd98fd346458f98cc7ef328cfea14",
        "IPY_MODEL_f7cb7dfc29e44855838e2790fe0c74c2"
       ],
       "layout": "IPY_MODEL_414fc0e7572a43a4b63c17b0fa3777f6"
      }
     },
     "fae63040bfb8495ea637c78da2ff80c3": {
      "model_module": "@jupyter-widgets/base",
      "model_module_version": "1.2.0",
      "model_name": "LayoutModel",
      "state": {}
     },
     "fb0f8d1d1d0249639a56d49d65b84e51": {
      "model_module": "@jupyter-widgets/base",
      "model_module_version": "1.2.0",
      "model_name": "LayoutModel",
      "state": {}
     },
     "fb19add66b2e41db867c04ad4edefae5": {
      "model_module": "@jupyter-widgets/base",
      "model_module_version": "1.2.0",
      "model_name": "LayoutModel",
      "state": {}
     },
     "fb1afd9f043345a99a359b217371ee0a": {
      "model_module": "@jupyter-widgets/controls",
      "model_module_version": "1.5.0",
      "model_name": "ProgressStyleModel",
      "state": {
       "description_width": ""
      }
     },
     "fb5d32d0e2e040a8abb84564de52cb1b": {
      "model_module": "@jupyter-widgets/base",
      "model_module_version": "1.2.0",
      "model_name": "LayoutModel",
      "state": {}
     },
     "fb78926d98434408aca21d526e9432cf": {
      "model_module": "@jupyter-widgets/controls",
      "model_module_version": "1.5.0",
      "model_name": "ProgressStyleModel",
      "state": {
       "description_width": ""
      }
     },
     "fba7b442e9bb4bfc86ce9f942f33ea2a": {
      "model_module": "@jupyter-widgets/controls",
      "model_module_version": "1.5.0",
      "model_name": "ProgressStyleModel",
      "state": {
       "description_width": ""
      }
     },
     "fbaaff533b5c4044a10a6e731e2549e4": {
      "model_module": "@jupyter-widgets/controls",
      "model_module_version": "1.5.0",
      "model_name": "DescriptionStyleModel",
      "state": {
       "description_width": ""
      }
     },
     "fbb863f99c334392ac498d4f4b3b6679": {
      "model_module": "@jupyter-widgets/controls",
      "model_module_version": "1.5.0",
      "model_name": "HTMLModel",
      "state": {
       "layout": "IPY_MODEL_99272e0d30d840b39e88ff8c7f133021",
       "style": "IPY_MODEL_c283578099e0493fbb248d0c9f573eef",
       "value": "MCMC Iteration: 100%"
      }
     },
     "fbd5181737164a20b20b2c7fcd860070": {
      "model_module": "@jupyter-widgets/base",
      "model_module_version": "1.2.0",
      "model_name": "LayoutModel",
      "state": {}
     },
     "fbef6136f2d74c6b834efd43417d1720": {
      "model_module": "@jupyter-widgets/controls",
      "model_module_version": "1.5.0",
      "model_name": "ProgressStyleModel",
      "state": {
       "description_width": ""
      }
     },
     "fbf25bf9f70846c786a4d609a060b6de": {
      "model_module": "@jupyter-widgets/base",
      "model_module_version": "1.2.0",
      "model_name": "LayoutModel",
      "state": {}
     },
     "fbf76dfaeb6749439a22863fe9c09f9c": {
      "model_module": "@jupyter-widgets/controls",
      "model_module_version": "1.5.0",
      "model_name": "DescriptionStyleModel",
      "state": {
       "description_width": ""
      }
     },
     "fc0b9f41e8d64bf8b80ff55f79472811": {
      "model_module": "@jupyter-widgets/controls",
      "model_module_version": "1.5.0",
      "model_name": "HTMLModel",
      "state": {
       "layout": "IPY_MODEL_48999acbaa234f3086946dcba2f06e1e",
       "style": "IPY_MODEL_9c360fbca2f34f27b14373cf96287e92",
       "value": "MCMC Iteration: 100%"
      }
     },
     "fc602ec9d1ec4754bab87a1a696f20c5": {
      "model_module": "@jupyter-widgets/controls",
      "model_module_version": "1.5.0",
      "model_name": "FloatProgressModel",
      "state": {
       "bar_style": "success",
       "layout": "IPY_MODEL_f88da1c37603436ba69442cd30a9fd06",
       "max": 10000,
       "style": "IPY_MODEL_eca427a8ab6e410da65ccf9fb1731001",
       "value": 10000
      }
     },
     "fc7f4aa9ddb544c78b9dd8fb23a49a48": {
      "model_module": "@jupyter-widgets/base",
      "model_module_version": "1.2.0",
      "model_name": "LayoutModel",
      "state": {}
     },
     "fc80f8c0d2e54ce4b5a1bf9ac4e6665c": {
      "model_module": "@jupyter-widgets/controls",
      "model_module_version": "1.5.0",
      "model_name": "DescriptionStyleModel",
      "state": {
       "description_width": ""
      }
     },
     "fc89bcdc89ec47a39fcda47244410dee": {
      "model_module": "@jupyter-widgets/base",
      "model_module_version": "1.2.0",
      "model_name": "LayoutModel",
      "state": {}
     },
     "fc9285149c5d4c2da0d3343728ef9ba7": {
      "model_module": "@jupyter-widgets/controls",
      "model_module_version": "1.5.0",
      "model_name": "HTMLModel",
      "state": {
       "layout": "IPY_MODEL_7e45baa561464860a433511b72a27e25",
       "style": "IPY_MODEL_818a061225d74e18aa6ad291bb556a8e",
       "value": " 10000/10000 [00:09&lt;00:00, 1065.48it/s]"
      }
     },
     "fca1c54722464d1c8f7fac498eded8bd": {
      "model_module": "@jupyter-widgets/controls",
      "model_module_version": "1.5.0",
      "model_name": "HTMLModel",
      "state": {
       "layout": "IPY_MODEL_24f7e7d2bd6c4034a4c08cd418c57951",
       "style": "IPY_MODEL_0f6cc33c747b403baf42197546469197",
       "value": " 10000/10000 [00:21&lt;00:00, 473.92it/s]"
      }
     },
     "fca2a6210ada4aa2962d9d08d9f6cce8": {
      "model_module": "@jupyter-widgets/base",
      "model_module_version": "1.2.0",
      "model_name": "LayoutModel",
      "state": {}
     },
     "fcc2fca08dfc447f968fb53fb6402be4": {
      "model_module": "@jupyter-widgets/controls",
      "model_module_version": "1.5.0",
      "model_name": "DescriptionStyleModel",
      "state": {
       "description_width": ""
      }
     },
     "fce16fe556154db797c8f79775f31a6f": {
      "model_module": "@jupyter-widgets/controls",
      "model_module_version": "1.5.0",
      "model_name": "ProgressStyleModel",
      "state": {
       "description_width": ""
      }
     },
     "fd1627035dab40db97ba42a61d452df7": {
      "model_module": "@jupyter-widgets/controls",
      "model_module_version": "1.5.0",
      "model_name": "ProgressStyleModel",
      "state": {
       "description_width": ""
      }
     },
     "fd55341600c24729bf8663030e7d3875": {
      "model_module": "@jupyter-widgets/controls",
      "model_module_version": "1.5.0",
      "model_name": "HTMLModel",
      "state": {
       "layout": "IPY_MODEL_c6e25002e6c64ea88bb6672e6a63074b",
       "style": "IPY_MODEL_b5facb468ce146c58f0e79461e015261",
       "value": " 10000/10000 [00:15&lt;00:00, 634.76it/s]"
      }
     },
     "fd818ff5d29946cda004a32bcae1d00b": {
      "model_module": "@jupyter-widgets/controls",
      "model_module_version": "1.5.0",
      "model_name": "DescriptionStyleModel",
      "state": {
       "description_width": ""
      }
     },
     "fdb2eaf020a54491a896b62553e24bfd": {
      "model_module": "@jupyter-widgets/base",
      "model_module_version": "1.2.0",
      "model_name": "LayoutModel",
      "state": {}
     },
     "fe244c9bd65c404595c16aefb619e753": {
      "model_module": "@jupyter-widgets/base",
      "model_module_version": "1.2.0",
      "model_name": "LayoutModel",
      "state": {}
     },
     "fe6686ada73c4ec78a9cb3454b07ae06": {
      "model_module": "@jupyter-widgets/controls",
      "model_module_version": "1.5.0",
      "model_name": "ProgressStyleModel",
      "state": {
       "description_width": ""
      }
     },
     "fe6ca3a0f4e3459f9732509c03b5a875": {
      "model_module": "@jupyter-widgets/controls",
      "model_module_version": "1.5.0",
      "model_name": "FloatProgressModel",
      "state": {
       "bar_style": "success",
       "layout": "IPY_MODEL_6503c14ab1b54a52b997de9fa5029ea5",
       "max": 10000,
       "style": "IPY_MODEL_569872026bae4a77b533278400ba252d",
       "value": 10000
      }
     },
     "fe81bf1453c04735b814576364fe0c5a": {
      "model_module": "@jupyter-widgets/base",
      "model_module_version": "1.2.0",
      "model_name": "LayoutModel",
      "state": {}
     },
     "fed8df3696074ef88ef0e9048e7689e2": {
      "model_module": "@jupyter-widgets/base",
      "model_module_version": "1.2.0",
      "model_name": "LayoutModel",
      "state": {}
     },
     "fee09d8dbd9c439595392f0212f60978": {
      "model_module": "@jupyter-widgets/base",
      "model_module_version": "1.2.0",
      "model_name": "LayoutModel",
      "state": {}
     },
     "fef1b3e6e51b49b299cc1301090554a4": {
      "model_module": "@jupyter-widgets/controls",
      "model_module_version": "1.5.0",
      "model_name": "HBoxModel",
      "state": {
       "children": [
        "IPY_MODEL_e6c3ccf1abdc4f7eb0cbe1eb943526a4",
        "IPY_MODEL_840d1e5650834b98808672fc23d20bda",
        "IPY_MODEL_c7aefe3e735b4956aa13974a93ebc49e"
       ],
       "layout": "IPY_MODEL_256ca6cf72894fd3b590895a2be99049"
      }
     },
     "fef4a67b4960489ca760d11ac92bba1e": {
      "model_module": "@jupyter-widgets/controls",
      "model_module_version": "1.5.0",
      "model_name": "HTMLModel",
      "state": {
       "layout": "IPY_MODEL_881d6626868b49dc9dfddd41b01b468d",
       "style": "IPY_MODEL_beb16d68bd194640be3a07c836335fde",
       "value": " 10000/10000 [00:07&lt;00:00, 1362.56it/s]"
      }
     },
     "ff237fc2dbb14ef4acddbad13eb6be95": {
      "model_module": "@jupyter-widgets/controls",
      "model_module_version": "1.5.0",
      "model_name": "DescriptionStyleModel",
      "state": {
       "description_width": ""
      }
     },
     "ff8a913da1af4848b29c5a73bb1239a9": {
      "model_module": "@jupyter-widgets/base",
      "model_module_version": "1.2.0",
      "model_name": "LayoutModel",
      "state": {}
     },
     "ffc4f6268294471a85d66a62414f2887": {
      "model_module": "@jupyter-widgets/controls",
      "model_module_version": "1.5.0",
      "model_name": "DescriptionStyleModel",
      "state": {
       "description_width": ""
      }
     }
    },
    "version_major": 2,
    "version_minor": 0
   }
  }
 },
 "nbformat": 4,
 "nbformat_minor": 5
}
